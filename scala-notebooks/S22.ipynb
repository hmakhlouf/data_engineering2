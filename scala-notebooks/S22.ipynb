{
 "cells": [
  {
   "cell_type": "code",
   "execution_count": 5,
   "id": "636a8ac8-f4ce-4d1b-8242-f46c4e20d9e3",
   "metadata": {},
   "outputs": [
    {
     "name": "stdout",
     "output_type": "stream",
     "text": [
      "root\n",
      " |-- movieId: integer (nullable = true)\n",
      " |-- title: string (nullable = true)\n",
      " |-- genres: string (nullable = true)\n",
      "\n",
      "+-------+----------------+--------------------+\n",
      "|movieId|           title|              genres|\n",
      "+-------+----------------+--------------------+\n",
      "|      1|Toy Story (1995)|Adventure|Animati...|\n",
      "|      2|  Jumanji (1995)|Adventure|Childre...|\n",
      "+-------+----------------+--------------------+\n",
      "only showing top 2 rows\n",
      "\n"
     ]
    },
    {
     "data": {
      "text/plain": [
       "movieDf: org.apache.spark.sql.DataFrame = [movieId: int, title: string ... 1 more field]\n"
      ]
     },
     "execution_count": 5,
     "metadata": {},
     "output_type": "execute_result"
    }
   ],
   "source": [
    "val movieDf = spark.read.format(\"csv\")\n",
    "                    .option(\"header\", true)\n",
    "                    .option(\"inferSchema\", true)\n",
    "                    .option(\"delimitter\", \",\")\n",
    "                    .load(\"hdfs://localhost:9000/ml-latest-small/movies.csv\")\n",
    "\n",
    "movieDf.printSchema()\n",
    "movieDf.show(2)"
   ]
  },
  {
   "cell_type": "code",
   "execution_count": 72,
   "id": "7e156dd7-d126-47f9-ad53-ffbfbee41714",
   "metadata": {},
   "outputs": [
    {
     "data": {
      "text/plain": [
       "import org.apache.spark.sql.types.{StringType, StructType, DoubleType, IntegerType, LongType, StructField}\n",
       "RatingSchema: org.apache.spark.sql.types.StructType = StructType(StructField(userId,IntegerType,true), StructField(movieId,IntegerType,true), StructField(rating,DoubleType,true), StructField(timestamp,LongType,true))\n"
      ]
     },
     "execution_count": 72,
     "metadata": {},
     "output_type": "execute_result"
    }
   ],
   "source": [
    "// create schema\n",
    "import org.apache.spark.sql.types.{StringType, StructType, DoubleType, IntegerType, LongType, StructField }\n",
    "\n",
    "val RatingSchema = StructType (\n",
    "                                List(\n",
    "                                    StructField(\"userId\", IntegerType, true),\n",
    "                                    StructField(\"movieId\", IntegerType, true),\n",
    "                                      StructField(\"rating\", DoubleType, true),\n",
    "                                      StructField(\"timestamp\", LongType, true)\n",
    "                                    )\n",
    "                    )"
   ]
  },
  {
   "cell_type": "code",
   "execution_count": 7,
   "id": "89921e28-8774-4fa5-aaae-67ac8357be95",
   "metadata": {},
   "outputs": [
    {
     "name": "stdout",
     "output_type": "stream",
     "text": [
      "root\n",
      " |-- userId: integer (nullable = true)\n",
      " |-- movieId: integer (nullable = true)\n",
      " |-- rating: double (nullable = true)\n",
      " |-- timestamp: long (nullable = true)\n",
      "\n",
      "+------+-------+------+---------+\n",
      "|userId|movieId|rating|timestamp|\n",
      "+------+-------+------+---------+\n",
      "|     1|      1|   4.0|964982703|\n",
      "|     1|      3|   4.0|964981247|\n",
      "+------+-------+------+---------+\n",
      "only showing top 2 rows\n",
      "\n"
     ]
    },
    {
     "data": {
      "text/plain": [
       "ratingDf: org.apache.spark.sql.DataFrame = [userId: int, movieId: int ... 2 more fields]\n"
      ]
     },
     "execution_count": 7,
     "metadata": {},
     "output_type": "execute_result"
    }
   ],
   "source": [
    "val ratingDf = spark.read.format(\"csv\")\n",
    "                    .option(\"header\", true)\n",
    "                    .option(\"delimitter\", \",\")\n",
    "                    .schema(RatingSchema)\n",
    "                    .load(\"hdfs://localhost:9000/ml-latest-small/ratings.csv\")\n",
    "\n",
    "ratingDf.printSchema()\n",
    "ratingDf.show(2)\n"
   ]
  },
  {
   "cell_type": "code",
   "execution_count": 9,
   "id": "e00fe294-c45c-484c-a0cb-dcc8ac8d372d",
   "metadata": {},
   "outputs": [],
   "source": [
    "// Spark SQL, temp view/temp table created with in spark session\n",
    "// we can expose the dataframe as table/temp table/view\n",
    "// no table space, row space created by spark, instaed it is same dataframe and rdd behind sql\n",
    "movieDf.createOrReplaceTempView(\"movies\")"
   ]
  },
  {
   "cell_type": "code",
   "execution_count": 10,
   "id": "f219fbd9-b88a-4bd2-afc5-a773cb00d2b1",
   "metadata": {},
   "outputs": [
    {
     "name": "stdout",
     "output_type": "stream",
     "text": [
      "root\n",
      " |-- movieId: integer (nullable = true)\n",
      " |-- title: string (nullable = true)\n",
      " |-- genres: string (nullable = true)\n",
      "\n",
      "+-------+----------------+--------------------+\n",
      "|movieId|           title|              genres|\n",
      "+-------+----------------+--------------------+\n",
      "|      1|Toy Story (1995)|Adventure|Animati...|\n",
      "|      2|  Jumanji (1995)|Adventure|Childre...|\n",
      "+-------+----------------+--------------------+\n",
      "only showing top 2 rows\n",
      "\n",
      "== Physical Plan ==\n",
      "FileScan csv [movieId#27,title#28,genres#29] Batched: false, DataFilters: [], Format: CSV, Location: InMemoryFileIndex[hdfs://localhost:9000/ml-latest-small/movies.csv], PartitionFilters: [], PushedFilters: [], ReadSchema: struct<movieId:int,title:string,genres:string>\n",
      "\n",
      "\n"
     ]
    },
    {
     "data": {
      "text/plain": [
       "df: org.apache.spark.sql.DataFrame = [movieId: int, title: string ... 1 more field]\n"
      ]
     },
     "execution_count": 10,
     "metadata": {},
     "output_type": "execute_result"
    }
   ],
   "source": [
    "// now we can use sql queries on movies\n",
    "// when we execute sql, we get dataframe\n",
    "val df = spark.sql(\"SELECT * FROM movies\")\n",
    "df.printSchema()\n",
    "df.show(2)\n",
    "df.explain()"
   ]
  },
  {
   "cell_type": "code",
   "execution_count": 11,
   "id": "dad1c5b4-10d8-49f4-88d3-a86ebd136534",
   "metadata": {},
   "outputs": [],
   "source": [
    "ratingDf.createOrReplaceTempView(\"ratings\")"
   ]
  },
  {
   "cell_type": "code",
   "execution_count": 12,
   "id": "1ba41c2c-f648-4979-a6d3-468392020cf8",
   "metadata": {},
   "outputs": [
    {
     "name": "stdout",
     "output_type": "stream",
     "text": [
      "root\n",
      " |-- userId: integer (nullable = true)\n",
      " |-- movieId: integer (nullable = true)\n",
      " |-- rating: double (nullable = true)\n",
      " |-- timestamp: long (nullable = true)\n",
      "\n",
      "+------+-------+------+---------+\n",
      "|userId|movieId|rating|timestamp|\n",
      "+------+-------+------+---------+\n",
      "|     1|      1|   4.0|964982703|\n",
      "|     1|      3|   4.0|964981247|\n",
      "+------+-------+------+---------+\n",
      "only showing top 2 rows\n",
      "\n",
      "== Physical Plan ==\n",
      "FileScan csv [userId#49,movieId#50,rating#51,timestamp#52L] Batched: false, DataFilters: [], Format: CSV, Location: InMemoryFileIndex[hdfs://localhost:9000/ml-latest-small/ratings.csv], PartitionFilters: [], PushedFilters: [], ReadSchema: struct<userId:int,movieId:int,rating:double,timestamp:bigint>\n",
      "\n",
      "\n"
     ]
    },
    {
     "data": {
      "text/plain": [
       "df: org.apache.spark.sql.DataFrame = [userId: int, movieId: int ... 2 more fields]\n"
      ]
     },
     "execution_count": 12,
     "metadata": {},
     "output_type": "execute_result"
    }
   ],
   "source": [
    "val df = spark.sql(\"SELECT * FROM ratings\")\n",
    "df.printSchema()\n",
    "df.show(2)\n",
    "df.explain()"
   ]
  },
  {
   "cell_type": "code",
   "execution_count": 13,
   "id": "99975c20-e7e2-4082-b1d7-4227aa5482ec",
   "metadata": {},
   "outputs": [
    {
     "name": "stdout",
     "output_type": "stream",
     "text": [
      "+-------+--------------------+--------------------+\n",
      "|movieId|        upper(title)|              genres|\n",
      "+-------+--------------------+--------------------+\n",
      "|      1|    TOY STORY (1995)|Adventure|Animati...|\n",
      "|      2|      JUMANJI (1995)|Adventure|Childre...|\n",
      "|      3|GRUMPIER OLD MEN ...|      Comedy|Romance|\n",
      "|      4|WAITING TO EXHALE...|Comedy|Drama|Romance|\n",
      "|      5|FATHER OF THE BRI...|              Comedy|\n",
      "+-------+--------------------+--------------------+\n",
      "\n",
      "+------+\n",
      "|rating|\n",
      "+------+\n",
      "|   0.5|\n",
      "|   1.0|\n",
      "|   1.5|\n",
      "|   2.0|\n",
      "|   2.5|\n",
      "|   3.0|\n",
      "|   3.5|\n",
      "|   4.0|\n",
      "|   4.5|\n",
      "|   5.0|\n",
      "+------+\n",
      "\n",
      "+------+\n",
      "|rating|\n",
      "+------+\n",
      "|   5.0|\n",
      "|   4.5|\n",
      "|   4.0|\n",
      "|   3.5|\n",
      "|   3.0|\n",
      "|   2.5|\n",
      "|   2.0|\n",
      "|   1.5|\n",
      "|   1.0|\n",
      "|   0.5|\n",
      "+------+\n",
      "\n"
     ]
    },
    {
     "data": {
      "text/plain": [
       "df2: org.apache.spark.sql.DataFrame = [movieId: int, upper(title): string ... 1 more field]\n",
       "df3: org.apache.spark.sql.DataFrame = [rating: double]\n",
       "df4: org.apache.spark.sql.DataFrame = [rating: double]\n"
      ]
     },
     "execution_count": 13,
     "metadata": {},
     "output_type": "execute_result"
    }
   ],
   "source": [
    "// DIY spark sql\n",
    "// select 5 reocrds from movies where convert  movie title  in upper case\n",
    "// select distinct rating from ratings and sort the rating\n",
    "val df2 = spark.sql(\"SELECT movieId, upper(title), genres from movies LIMIT 5\")\n",
    "df2.show()\n",
    "// asc\n",
    "val df3 = spark.sql(\"SELECT DISTINCT(rating) FROM ratings ORDER BY rating\")\n",
    "df3.show()\n",
    "\n",
    "// desc\n",
    "val df4 = spark.sql(\"SELECT DISTINCT(rating) FROM ratings ORDER BY rating DESC\")\n",
    "df4.show()"
   ]
  },
  {
   "cell_type": "code",
   "execution_count": 18,
   "id": "6f10a02d-6651-45c9-9e15-ccaeeb0789bc",
   "metadata": {},
   "outputs": [
    {
     "name": "stdout",
     "output_type": "stream",
     "text": [
      "+------+-------+------+---------+\n",
      "|userId|movieId|rating|timestamp|\n",
      "+------+-------+------+---------+\n",
      "|     1|      1|   4.0|964982703|\n",
      "|     1|      3|   4.0|964981247|\n",
      "+------+-------+------+---------+\n",
      "only showing top 2 rows\n",
      "\n"
     ]
    },
    {
     "data": {
      "text/plain": [
       "df5: org.apache.spark.sql.DataFrame = [userId: int, movieId: int ... 2 more fields]\n"
      ]
     },
     "execution_count": 18,
     "metadata": {},
     "output_type": "execute_result"
    }
   ],
   "source": [
    "val df5 = spark.sql(\"SELECT * FROM ratings WHERE rating >=4 AND rating <=5\")\n",
    "df5.show(2)"
   ]
  },
  {
   "cell_type": "code",
   "execution_count": 57,
   "id": "1c92020d-72b0-48cd-82e8-69a2066d20b1",
   "metadata": {},
   "outputs": [
    {
     "name": "stdout",
     "output_type": "stream",
     "text": [
      "+-------+-----------------+-------------+\n",
      "|movieId|       avg_rating|total_ratings|\n",
      "+-------+-----------------+-------------+\n",
      "|    318|4.429022082018927|          317|\n",
      "|    858|        4.2890625|          192|\n",
      "|   2959|4.272935779816514|          218|\n",
      "|   1221| 4.25968992248062|          129|\n",
      "|  48516|4.252336448598131|          107|\n",
      "+-------+-----------------+-------------+\n",
      "only showing top 5 rows\n",
      "\n"
     ]
    },
    {
     "data": {
      "text/plain": [
       "mostPopularMovies: org.apache.spark.sql.DataFrame = [movieId: int, avg_rating: double ... 1 more field]\n"
      ]
     },
     "execution_count": 57,
     "metadata": {},
     "output_type": "execute_result"
    }
   ],
   "source": [
    "val mostPopularMovies = spark.sql(\"\"\"\n",
    "                    SELECT movieId, AVG(rating) as avg_rating, COUNT(userId) as total_ratings \n",
    "                    FROM ratings\n",
    "                    GROUP BY(movieId) \n",
    "             \n",
    "                    HAVING avg_rating >= 3.5 AND total_ratings >=100\n",
    "                    ORDER BY avg_rating DESC\n",
    "                    \"\"\")\n",
    "mostPopularMovies.show(5)\n",
    "\n",
    "\n"
   ]
  },
  {
   "cell_type": "code",
   "execution_count": 58,
   "id": "5d121178-f553-48ec-98e8-f432d7f211f8",
   "metadata": {},
   "outputs": [],
   "source": [
    "mostPopularMovies.createOrReplaceTempView(\"most_popular_movies\")"
   ]
  },
  {
   "cell_type": "code",
   "execution_count": 60,
   "id": "f59f5187-0080-46c9-8c9c-ce5d40d24ac5",
   "metadata": {},
   "outputs": [
    {
     "name": "stdout",
     "output_type": "stream",
     "text": [
      "+-------+--------------------+------------------+-------------+\n",
      "|movieId|               title|        avg_rating|total_ratings|\n",
      "+-------+--------------------+------------------+-------------+\n",
      "|    356| Forrest Gump (1994)| 4.164133738601824|          329|\n",
      "|    318|Shawshank Redempt...| 4.429022082018927|          317|\n",
      "|    296| Pulp Fiction (1994)| 4.197068403908795|          307|\n",
      "|    593|Silence of the La...| 4.161290322580645|          279|\n",
      "|   2571|  Matrix, The (1999)| 4.192446043165468|          278|\n",
      "|    260|Star Wars: Episod...| 4.231075697211155|          251|\n",
      "|    480|Jurassic Park (1993)|              3.75|          238|\n",
      "|    110|   Braveheart (1995)| 4.031645569620253|          237|\n",
      "|    589|Terminator 2: Jud...| 3.970982142857143|          224|\n",
      "|    527|Schindler's List ...|             4.225|          220|\n",
      "|   2959|   Fight Club (1999)| 4.272935779816514|          218|\n",
      "|      1|    Toy Story (1995)|3.9209302325581397|          215|\n",
      "|   1196|Star Wars: Episod...|4.2156398104265405|          211|\n",
      "|   2858|American Beauty (...| 4.056372549019608|          204|\n",
      "|     50|Usual Suspects, T...| 4.237745098039215|          204|\n",
      "|     47|Seven (a.k.a. Se7...|3.9753694581280787|          203|\n",
      "|    150|    Apollo 13 (1995)| 3.845771144278607|          201|\n",
      "|   1198|Raiders of the Lo...|            4.2075|          200|\n",
      "|   4993|Lord of the Rings...| 4.106060606060606|          198|\n",
      "|   1210|Star Wars: Episod...| 4.137755102040816|          196|\n",
      "+-------+--------------------+------------------+-------------+\n",
      "only showing top 20 rows\n",
      "\n"
     ]
    },
    {
     "data": {
      "text/plain": [
       "df: org.apache.spark.sql.DataFrame = [movieId: int, title: string ... 2 more fields]\n"
      ]
     },
     "execution_count": 60,
     "metadata": {},
     "output_type": "execute_result"
    }
   ],
   "source": [
    "val df = spark.sql(\"\"\"SELECT most_popular_movies.movieId, title, avg_rating, total_ratings\n",
    "        FROM most_popular_movies\n",
    "        INNER JOIN movies ON most_popular_movies.movieId = movies.movieId\n",
    "        ORDER BY total_ratings DESC\n",
    "        \"\"\")\n",
    "df.show()"
   ]
  },
  {
   "cell_type": "code",
   "execution_count": 74,
   "id": "4e25ac81-4a12-4f57-b8be-78b47a5f987b",
   "metadata": {},
   "outputs": [
    {
     "name": "stdout",
     "output_type": "stream",
     "text": [
      "+-------+--------------------+------------------+-------------+\n",
      "|movieId|               title|        avg_rating|total_ratings|\n",
      "+-------+--------------------+------------------+-------------+\n",
      "|    356| Forrest Gump (1994)| 4.164133738601824|          329|\n",
      "|    318|Shawshank Redempt...| 4.429022082018927|          317|\n",
      "|    296| Pulp Fiction (1994)| 4.197068403908795|          307|\n",
      "|    593|Silence of the La...| 4.161290322580645|          279|\n",
      "|   2571|  Matrix, The (1999)| 4.192446043165468|          278|\n",
      "|    260|Star Wars: Episod...| 4.231075697211155|          251|\n",
      "|    480|Jurassic Park (1993)|              3.75|          238|\n",
      "|    110|   Braveheart (1995)| 4.031645569620253|          237|\n",
      "|    589|Terminator 2: Jud...| 3.970982142857143|          224|\n",
      "|    527|Schindler's List ...|             4.225|          220|\n",
      "|   2959|   Fight Club (1999)| 4.272935779816514|          218|\n",
      "|      1|    Toy Story (1995)|3.9209302325581397|          215|\n",
      "|   1196|Star Wars: Episod...|4.2156398104265405|          211|\n",
      "|     50|Usual Suspects, T...| 4.237745098039215|          204|\n",
      "|   2858|American Beauty (...| 4.056372549019608|          204|\n",
      "|     47|Seven (a.k.a. Se7...|3.9753694581280787|          203|\n",
      "|    150|    Apollo 13 (1995)| 3.845771144278607|          201|\n",
      "|   1198|Raiders of the Lo...|            4.2075|          200|\n",
      "|   4993|Lord of the Rings...| 4.106060606060606|          198|\n",
      "|   1210|Star Wars: Episod...| 4.137755102040816|          196|\n",
      "+-------+--------------------+------------------+-------------+\n",
      "only showing top 20 rows\n",
      "\n"
     ]
    },
    {
     "data": {
      "text/plain": [
       "popularMoviesDf: org.apache.spark.sql.DataFrame = [movieId: int, title: string ... 2 more fields]\n"
      ]
     },
     "execution_count": 74,
     "metadata": {},
     "output_type": "execute_result"
    }
   ],
   "source": [
    "val popularMoviesDf = spark.sql(\"\"\"SELECT mpm.movieId, title, avg_rating, total_ratings\n",
    "        FROM most_popular_movies mpm\n",
    "        INNER JOIN movies m ON mpm.movieId = m.movieId\n",
    "        ORDER BY total_ratings DESC\n",
    "        \"\"\")\n",
    "popularMoviesDf.show()"
   ]
  },
  {
   "cell_type": "code",
   "execution_count": 75,
   "id": "609031b0-b062-42fd-96be-39fc16f9cfdc",
   "metadata": {},
   "outputs": [
    {
     "data": {
      "text/plain": [
       "res60: org.apache.spark.sql.DataFrame = []\n"
      ]
     },
     "execution_count": 75,
     "metadata": {},
     "output_type": "execute_result"
    }
   ],
   "source": [
    "spark.sql(\"\"\"CREATE OR REPLACE TEMP VIEW most_popular_temp_table AS \n",
    "                    SELECT movieId, avg(rating) as avg_ratings, \n",
    "                                    count(userId) as total_ratings\n",
    "                        from ratings \n",
    "                        WHERE rating > 1.0\n",
    "                        group by movieId \n",
    "                        having avg_ratings >= 3.5 and total_ratings >= 100\n",
    "                        order by avg_ratings desc\n",
    "                    \"\"\")\n"
   ]
  },
  {
   "cell_type": "code",
   "execution_count": 76,
   "id": "09763b79-fd82-49f1-ab55-1c1938201313",
   "metadata": {},
   "outputs": [
    {
     "name": "stdout",
     "output_type": "stream",
     "text": [
      "+-------+-----------------+-------------+\n",
      "|movieId|      avg_ratings|total_ratings|\n",
      "+-------+-----------------+-------------+\n",
      "|    318|4.450793650793651|          315|\n",
      "|    527|4.335680751173709|          213|\n",
      "|   2959|4.325581395348837|          215|\n",
      "|   1221|4.311023622047244|          127|\n",
      "+-------+-----------------+-------------+\n",
      "only showing top 4 rows\n",
      "\n"
     ]
    }
   ],
   "source": [
    "spark.sql(\"SELECT * FROM most_popular_temp_table\").show(4)"
   ]
  },
  {
   "cell_type": "code",
   "execution_count": 77,
   "id": "930fc3a0-487a-4dfb-8b10-8ed4e0c8dca5",
   "metadata": {},
   "outputs": [
    {
     "name": "stdout",
     "output_type": "stream",
     "text": [
      "root\n",
      " |-- movieId: integer (nullable = true)\n",
      " |-- avg_ratings: double (nullable = true)\n",
      " |-- total_ratings: long (nullable = false)\n",
      "\n",
      "+-------+------------------+-------------+\n",
      "|movieId|       avg_ratings|total_ratings|\n",
      "+-------+------------------+-------------+\n",
      "|    318| 4.450793650793651|          315|\n",
      "|    527| 4.335680751173709|          213|\n",
      "|   2959| 4.325581395348837|          215|\n",
      "|   1221| 4.311023622047244|          127|\n",
      "|   2571| 4.308550185873606|          269|\n",
      "|    858| 4.306282722513089|          191|\n",
      "|    296| 4.285953177257525|          299|\n",
      "|  48516| 4.283018867924528|          106|\n",
      "|     50|  4.26980198019802|          202|\n",
      "|    260| 4.259036144578313|          249|\n",
      "|   1198| 4.258883248730965|          197|\n",
      "|   1213|              4.25|          126|\n",
      "|   4973| 4.241525423728813|          118|\n",
      "|  58559| 4.238255033557047|          149|\n",
      "|   1196| 4.233333333333333|          210|\n",
      "|   1197| 4.232394366197183|          142|\n",
      "|   1193|4.2272727272727275|          132|\n",
      "|   1089| 4.226923076923077|          130|\n",
      "|   1208| 4.219626168224299|          107|\n",
      "|   2329| 4.217054263565892|          129|\n",
      "+-------+------------------+-------------+\n",
      "only showing top 20 rows\n",
      "\n"
     ]
    },
    {
     "data": {
      "text/plain": [
       "df: org.apache.spark.sql.DataFrame = [movieId: int, avg_ratings: double ... 1 more field]\n"
      ]
     },
     "execution_count": 77,
     "metadata": {},
     "output_type": "execute_result"
    }
   ],
   "source": [
    "// Get DataFrame from a table\n",
    "val df = spark.table(\"most_popular_temp_table\")\n",
    "df.printSchema()\n",
    "df.show()\n"
   ]
  },
  {
   "cell_type": "code",
   "execution_count": 78,
   "id": "55db4f54-5c59-47f3-b921-960f9f53b804",
   "metadata": {},
   "outputs": [],
   "source": [
    "// DIY\n",
    "// cache popularMoviesDf\n",
    "// check and print numver of partitions\n",
    "// use coalesce to reuce to 1\n",
    "// write to csv file in hadoop in directory /sql-popular-movies\n",
    "// write to json file in hadoop in a directory /sql-popular-movies-json\n",
    "// read sql-popular-movies from hadoop using inferSchema\n",
    "// read sql-popular-movies-json using inferSchema\n",
    "// explain popularMoviesDf with extended, go through plans.."
   ]
  },
  {
   "cell_type": "code",
   "execution_count": 67,
   "id": "2352518a-bdbf-4e22-a84a-1be47004786c",
   "metadata": {},
   "outputs": [
    {
     "name": "stdout",
     "output_type": "stream",
     "text": [
      "+-------+--------------------+-----------------+-------------+\n",
      "|movieId|               title|       avg_rating|total_ratings|\n",
      "+-------+--------------------+-----------------+-------------+\n",
      "|    356| Forrest Gump (1994)|4.164133738601824|          329|\n",
      "|    318|Shawshank Redempt...|4.429022082018927|          317|\n",
      "|    296| Pulp Fiction (1994)|4.197068403908795|          307|\n",
      "|    593|Silence of the La...|4.161290322580645|          279|\n",
      "|   2571|  Matrix, The (1999)|4.192446043165468|          278|\n",
      "+-------+--------------------+-----------------+-------------+\n",
      "only showing top 5 rows\n",
      "\n"
     ]
    },
    {
     "data": {
      "text/plain": [
       "popularMoviesCache: popularMoviesDf.type = [movieId: int, title: string ... 2 more fields]\n"
      ]
     },
     "execution_count": 67,
     "metadata": {},
     "output_type": "execute_result"
    }
   ],
   "source": [
    "val popularMoviesCache = popularMoviesDf.cache()\n",
    "popularMoviesCache.show(5)"
   ]
  },
  {
   "cell_type": "code",
   "execution_count": 73,
   "id": "930ef8ab-3276-4463-998e-0d2387e791df",
   "metadata": {},
   "outputs": [
    {
     "data": {
      "text/plain": [
       "res58: Int = 72\n"
      ]
     },
     "execution_count": 73,
     "metadata": {},
     "output_type": "execute_result"
    }
   ],
   "source": [
    " popularMoviesDf.rdd.getNumPartitions\n"
   ]
  },
  {
   "cell_type": "code",
   "execution_count": null,
   "id": "6c6e2465-1b0b-4af8-b803-315fb4054760",
   "metadata": {},
   "outputs": [],
   "source": []
  }
 ],
 "metadata": {
  "kernelspec": {
   "display_name": "spylon-kernel",
   "language": "scala",
   "name": "spylon-kernel"
  },
  "language_info": {
   "codemirror_mode": "text/x-scala",
   "file_extension": ".scala",
   "help_links": [
    {
     "text": "MetaKernel Magics",
     "url": "https://metakernel.readthedocs.io/en/latest/source/README.html"
    }
   ],
   "mimetype": "text/x-scala",
   "name": "scala",
   "pygments_lexer": "scala",
   "version": "0.4.1"
  }
 },
 "nbformat": 4,
 "nbformat_minor": 5
}
