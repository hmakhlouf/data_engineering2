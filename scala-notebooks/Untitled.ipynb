{
 "cells": [
  {
   "cell_type": "code",
   "execution_count": 7,
   "id": "2e4262d6-2ffb-4844-9744-d1d46f6b25ed",
   "metadata": {},
   "outputs": [
    {
     "ename": "<console>",
     "evalue": "31: error: not found: value powerUdf",
     "output_type": "error",
     "traceback": [
      "<console>:31: error: not found: value powerUdf",
      "       powerUdf = udf(power)",
      "       ^",
      "<console>:34: error: not found: value powerUdf",
      "       spark.udf.register(\"pwr\", powerUdf)",
      "                                 ^",
      "<console>:37: error: not found: value powerUdf",
      "       val $ires5 = powerUdf",
      "                    ^",
      ""
     ]
    }
   ],
   "source": [
    "\n",
    "val power = (n: Long) => {\n",
    "  n * n\n",
    "}\n",
    "\n",
    " // import pyspark.sql.functions  \n",
    "//from pyspark.sql.types import Long\n",
    "\n",
    "powerUdf = udf(power)\n",
    "spark.udf.register(\"pwr\", powerUdf)"
   ]
  },
  {
   "cell_type": "code",
   "execution_count": null,
   "id": "dd9d623b-e209-40be-a125-1ee1078fee07",
   "metadata": {},
   "outputs": [],
   "source": [
    "spark.sql(\"SELECT pwr(5)\").show()\n",
    "\n"
   ]
  },
  {
   "cell_type": "code",
   "execution_count": null,
   "id": "54010fde-8284-4cad-b052-09ae071957f7",
   "metadata": {},
   "outputs": [],
   "source": []
  },
  {
   "cell_type": "code",
   "execution_count": null,
   "id": "e6efb501-c97b-48a3-95f4-957cd697f2f0",
   "metadata": {},
   "outputs": [],
   "source": []
  }
 ],
 "metadata": {
  "kernelspec": {
   "display_name": "spylon-kernel",
   "language": "scala",
   "name": "spylon-kernel"
  },
  "language_info": {
   "codemirror_mode": "text/x-scala",
   "file_extension": ".scala",
   "help_links": [
    {
     "text": "MetaKernel Magics",
     "url": "https://metakernel.readthedocs.io/en/latest/source/README.html"
    }
   ],
   "mimetype": "text/x-scala",
   "name": "scala",
   "pygments_lexer": "scala",
   "version": "0.4.1"
  }
 },
 "nbformat": 4,
 "nbformat_minor": 5
}
