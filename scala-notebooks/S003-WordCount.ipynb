{
 "cells": [
  {
   "cell_type": "code",
   "execution_count": 1,
   "id": "5dc65b62-99d0-4c6d-831e-1214c0a5c27f",
   "metadata": {},
   "outputs": [
    {
     "data": {
      "text/plain": [
       "Intitializing Scala interpreter ..."
      ]
     },
     "metadata": {},
     "output_type": "display_data"
    },
    {
     "data": {
      "text/plain": [
       "Spark Web UI available at http://192.168.174.129:4046\n",
       "SparkContext available as 'sc' (version = 3.1.3, master = local[*], app id = local-1651851138373)\n",
       "SparkSession available as 'spark'\n"
      ]
     },
     "metadata": {},
     "output_type": "display_data"
    },
    {
     "data": {
      "text/plain": [
       "textFile: org.apache.spark.rdd.RDD[String] = hdfs://localhost:9000/books/book-war-and-peace.txt MapPartitionsRDD[1] at textFile at <console>:25\n",
       "res0: Long = 63845\n"
      ]
     },
     "execution_count": 1,
     "metadata": {},
     "output_type": "execute_result"
    }
   ],
   "source": [
    "val textFile = sc.textFile(\"hdfs://localhost:9000/books/book-war-and-peace.txt\")\n",
    "textFile.count()"
   ]
  },
  {
   "cell_type": "code",
   "execution_count": 2,
   "id": "27363e64-0be9-4e31-b1a3-3a31caddd179",
   "metadata": {},
   "outputs": [
    {
     "data": {
      "text/plain": [
       "res1: Array[String] = Array(CHAPTER I, \"\", \"Well, Prince, so Genoa and Lucca are now just family estates of the, Buonapartes. But I warn you, if you don't tell me that this means war,, if you still try to defend the infamies and horrors perpetrated by that)\n"
      ]
     },
     "execution_count": 2,
     "metadata": {},
     "output_type": "execute_result"
    }
   ],
   "source": [
    "textFile.take(5)"
   ]
  },
  {
   "cell_type": "code",
   "execution_count": 4,
   "id": "fce3519a-b3b1-46bc-bcb5-cd2e03dc6a4c",
   "metadata": {},
   "outputs": [
    {
     "data": {
      "text/plain": [
       "lowerCaseRdd: org.apache.spark.rdd.RDD[String] = MapPartitionsRDD[3] at map at <console>:28\n",
       "res3: Array[String] = Array(chapter i, \"\", \"well, prince, so genoa and lucca are now just family estates of the, buonapartes. but i warn you, if you don't tell me that this means war,, if you still try to defend the infamies and horrors perpetrated by that)\n"
      ]
     },
     "execution_count": 4,
     "metadata": {},
     "output_type": "execute_result"
    }
   ],
   "source": [
    "val lowerCaseRdd = textFile.map (line => line.trim().toLowerCase())\n",
    "lowerCaseRdd.take(5)"
   ]
  },
  {
   "cell_type": "code",
   "execution_count": 6,
   "id": "52d81205-15e4-4091-8bcd-a491a44ec7d8",
   "metadata": {},
   "outputs": [
    {
     "data": {
      "text/plain": [
       "wordArrayRdd: org.apache.spark.rdd.RDD[Array[String]] = MapPartitionsRDD[5] at map at <console>:28\n",
       "res5: Array[Array[String]] = Array(Array(chapter, i), Array(\"\"), Array(\"well,, prince,, so, genoa, and, lucca, are, now, just, family, estates, of, the), Array(buonapartes., but, i, warn, you,, if, you, don't, tell, me, that, this, means, war,))\n"
      ]
     },
     "execution_count": 6,
     "metadata": {},
     "output_type": "execute_result"
    }
   ],
   "source": [
    "val wordArrayRdd = lowerCaseRdd.map (line => line.split(\" \"))\n",
    "wordArrayRdd.take(4)"
   ]
  },
  {
   "cell_type": "code",
   "execution_count": 9,
   "id": "523d0e20-58c6-4865-84e8-d545271b4743",
   "metadata": {},
   "outputs": [
    {
     "data": {
      "text/plain": [
       "wordRdd: org.apache.spark.rdd.RDD[String] = MapPartitionsRDD[7] at flatMap at <console>:28\n",
       "res8: Array[String] = Array(chapter, i, \"\", \"well,, prince,)\n"
      ]
     },
     "execution_count": 9,
     "metadata": {},
     "output_type": "execute_result"
    }
   ],
   "source": [
    "val wordRdd = wordArrayRdd.flatMap(arr => arr)\n",
    "wordRdd.take(5)"
   ]
  },
  {
   "cell_type": "code",
   "execution_count": 11,
   "id": "e4ffd5b4-f5c3-47e8-917d-16239bfb4ab8",
   "metadata": {},
   "outputs": [
    {
     "data": {
      "text/plain": [
       "wordPairRdd: org.apache.spark.rdd.RDD[(String, Int)] = MapPartitionsRDD[11] at map at <console>:31\n",
       "res10: Array[(String, Int)] = Array((chapter,1), (i,1), (\"well,,1), (prince,,1), (so,1))\n"
      ]
     },
     "execution_count": 11,
     "metadata": {},
     "output_type": "execute_result"
    }
   ],
   "source": [
    "// Tuple 2\n",
    "val wordPairRdd = wordRdd\n",
    "                        .filter (word =>  !word.isEmpty())\n",
    "                        .map ( word => (word, 1) )\n",
    "\n",
    "wordPairRdd.take(5)"
   ]
  },
  {
   "cell_type": "code",
   "execution_count": 13,
   "id": "08b379f8-d961-4996-a637-77e6c073251b",
   "metadata": {},
   "outputs": [
    {
     "data": {
      "text/plain": [
       "wordCountRdd: org.apache.spark.rdd.RDD[(String, Int)] = ShuffledRDD[13] at reduceByKey at <console>:28\n",
       "res12: Array[(String, Int)] = Array((mattered,2), (\"vile,1), (bolkonski,71), (reunion,2), (denied?\",1))\n"
      ]
     },
     "execution_count": 13,
     "metadata": {},
     "output_type": "execute_result"
    }
   ],
   "source": [
    "val wordCountRdd = wordPairRdd.reduceByKey( (acc, value) => acc + value )\n",
    "wordCountRdd.take(5)"
   ]
  },
  {
   "cell_type": "code",
   "execution_count": null,
   "id": "3a1a746a-cf29-4608-8b13-cd113fa43fe3",
   "metadata": {},
   "outputs": [],
   "source": []
  },
  {
   "cell_type": "code",
   "execution_count": null,
   "id": "f0cd05ab-3111-4210-9032-32bb2730ab46",
   "metadata": {},
   "outputs": [],
   "source": []
  },
  {
   "cell_type": "code",
   "execution_count": null,
   "id": "96b6c173-d5ef-4b45-9421-70751fcad6d1",
   "metadata": {},
   "outputs": [],
   "source": []
  },
  {
   "cell_type": "code",
   "execution_count": null,
   "id": "42b36e27-28cb-4e9f-bc16-bac0fc031193",
   "metadata": {},
   "outputs": [],
   "source": []
  }
 ],
 "metadata": {
  "kernelspec": {
   "display_name": "spylon-kernel",
   "language": "scala",
   "name": "spylon-kernel"
  },
  "language_info": {
   "codemirror_mode": "text/x-scala",
   "file_extension": ".scala",
   "help_links": [
    {
     "text": "MetaKernel Magics",
     "url": "https://metakernel.readthedocs.io/en/latest/source/README.html"
    }
   ],
   "mimetype": "text/x-scala",
   "name": "scala",
   "pygments_lexer": "scala",
   "version": "0.4.1"
  }
 },
 "nbformat": 4,
 "nbformat_minor": 5
}
