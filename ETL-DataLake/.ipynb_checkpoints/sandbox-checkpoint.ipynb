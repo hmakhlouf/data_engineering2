{
 "cells": [
  {
   "cell_type": "code",
   "execution_count": 1,
   "id": "a13c2a6d-6370-491b-8092-4d126583b0d7",
   "metadata": {},
   "outputs": [],
   "source": [
    "import findspark\n",
    "findspark.init()"
   ]
  },
  {
   "cell_type": "code",
   "execution_count": 2,
   "id": "93978c2f-049c-4e18-a1eb-46c344b5cb8f",
   "metadata": {},
   "outputs": [
    {
     "name": "stderr",
     "output_type": "stream",
     "text": [
      "22/05/19 00:55:01 WARN Utils: Your hostname, ubuntu-virtual-machine resolves to a loopback address: 127.0.1.1; using 192.168.174.129 instead (on interface ens33)\n",
      "22/05/19 00:55:01 WARN Utils: Set SPARK_LOCAL_IP if you need to bind to another address\n",
      "22/05/19 00:55:02 WARN NativeCodeLoader: Unable to load native-hadoop library for your platform... using builtin-java classes where applicable\n",
      "Using Spark's default log4j profile: org/apache/spark/log4j-defaults.properties\n",
      "Setting default log level to \"WARN\".\n",
      "To adjust logging level use sc.setLogLevel(newLevel). For SparkR, use setLogLevel(newLevel).\n",
      "22/05/19 00:55:06 WARN Utils: Service 'SparkUI' could not bind on port 4040. Attempting port 4041.\n",
      "22/05/19 00:55:06 WARN Utils: Service 'SparkUI' could not bind on port 4041. Attempting port 4042.\n",
      "22/05/19 00:55:06 WARN Utils: Service 'SparkUI' could not bind on port 4042. Attempting port 4043.\n",
      "22/05/19 00:55:06 WARN Utils: Service 'SparkUI' could not bind on port 4043. Attempting port 4044.\n",
      "22/05/19 00:55:06 WARN Utils: Service 'SparkUI' could not bind on port 4044. Attempting port 4045.\n",
      "22/05/19 00:55:06 WARN Utils: Service 'SparkUI' could not bind on port 4045. Attempting port 4046.\n"
     ]
    }
   ],
   "source": [
    "from pyspark.conf import SparkConf\n",
    "config = SparkConf()\n",
    "# config.set(\"property\", \"value\")\n",
    "config.setMaster(\"local\").setAppName(\"sandbox\")\n",
    "\n",
    "from pyspark.sql import SparkSession\n",
    "# spark Session, entry point for Spark SQL, DataFrame\n",
    "spark = SparkSession.builder\\\n",
    "                    .config(conf=config)\\\n",
    "                    .getOrCreate()\n",
    "\n",
    "sc = spark.sparkContext"
   ]
  },
  {
   "cell_type": "code",
   "execution_count": 4,
   "id": "80b82203-2137-4624-a7de-5cf77bbae821",
   "metadata": {},
   "outputs": [
    {
     "name": "stderr",
     "output_type": "stream",
     "text": [
      "                                                                                \r"
     ]
    },
    {
     "name": "stdout",
     "output_type": "stream",
     "text": [
      "+-------+--------------------+--------------------+\n",
      "|movieId|               title|              genres|\n",
      "+-------+--------------------+--------------------+\n",
      "|      1|    Toy Story (1995)|Adventure|Animati...|\n",
      "|      2|      Jumanji (1995)|Adventure|Childre...|\n",
      "|      3|Grumpier Old Men ...|      Comedy|Romance|\n",
      "|      4|Waiting to Exhale...|Comedy|Drama|Romance|\n",
      "|      5|Father of the Bri...|              Comedy|\n",
      "+-------+--------------------+--------------------+\n",
      "only showing top 5 rows\n",
      "\n"
     ]
    }
   ],
   "source": [
    "# READ movie Parquet  FILE into DataFrame\n",
    "\n",
    "moviesParquetDf = spark.read.format(\"parquet\")\\\n",
    "                .load(\"hdfs://localhost:9000/application/movies\")\n",
    "\n",
    "\n",
    "moviesParquetDf.show(5)"
   ]
  },
  {
   "cell_type": "code",
   "execution_count": 5,
   "id": "93c66da4-1e31-4e12-bf7c-ccfd4e48b8f2",
   "metadata": {},
   "outputs": [
    {
     "name": "stdout",
     "output_type": "stream",
     "text": [
      "+------+-------+------+---------+\n",
      "|userId|movieId|rating|timestamp|\n",
      "+------+-------+------+---------+\n",
      "|     1|      1|   4.0|964982703|\n",
      "|     1|      3|   4.0|964981247|\n",
      "|     1|      6|   4.0|964982224|\n",
      "|     1|     47|   5.0|964983815|\n",
      "|     1|     50|   5.0|964982931|\n",
      "+------+-------+------+---------+\n",
      "only showing top 5 rows\n",
      "\n"
     ]
    }
   ],
   "source": [
    "# READ Parquet FILE into DataFrame\n",
    "\n",
    "ratingsParquetDf = spark.read.format(\"parquet\")\\\n",
    "                .load(\"hdfs://localhost:9000/application/ratings\")\n",
    "\n",
    "\n",
    "ratingsParquetDf.show(5)"
   ]
  },
  {
   "cell_type": "code",
   "execution_count": 6,
   "id": "282d369e-ff0b-4ac6-918f-88fc505d5267",
   "metadata": {},
   "outputs": [
    {
     "name": "stderr",
     "output_type": "stream",
     "text": [
      "[Stage 6:===========================================>           (158 + 1) / 200]\r"
     ]
    },
    {
     "name": "stdout",
     "output_type": "stream",
     "text": [
      "+-------+------------------+-------------+\n",
      "|movieId|        avg_rating|total_ratings|\n",
      "+-------+------------------+-------------+\n",
      "|    356| 4.175304878048781|          328|\n",
      "|    318| 4.429022082018927|          317|\n",
      "|    296| 4.221311475409836|          305|\n",
      "|    593| 4.201086956521739|          276|\n",
      "|   2571|  4.26007326007326|          273|\n",
      "|    260|             4.246|          250|\n",
      "|    480|3.7637130801687766|          237|\n",
      "|    110| 4.046610169491525|          236|\n",
      "|    589| 4.018099547511312|          221|\n",
      "|    527| 4.259174311926605|          218|\n",
      "+-------+------------------+-------------+\n",
      "only showing top 10 rows\n",
      "\n"
     ]
    },
    {
     "name": "stderr",
     "output_type": "stream",
     "text": [
      "                                                                                \r"
     ]
    }
   ],
   "source": [
    "\n",
    "from pyspark.sql.functions import col, desc, avg, count\n",
    "\n",
    "# find  the most popular movies, where as rated by many users, at least movies should be rated by 100 users\n",
    "# and the average rating should be at least 3.5 and above\n",
    "# and sort the movies by total_ratings\n",
    "mostPopularMoviesDf = ratingsParquetDf\\\n",
    "     .groupBy(\"movieId\")\\\n",
    "     .agg(avg(\"rating\").alias(\"avg_rating\"), count(\"userId\").alias(\"total_ratings\") )\\\n",
    "     .sort(desc(\"total_ratings\"))\\\n",
    "     .filter( (col(\"total_ratings\") >= 100) & (col(\"avg_rating\") >=3.5) )\\\n",
    "\n",
    "\n",
    "mostPopularMoviesDf.show(10)"
   ]
  },
  {
   "cell_type": "code",
   "execution_count": 10,
   "id": "94f4cab3-d0d8-40e7-840f-817a2ac5fc6f",
   "metadata": {},
   "outputs": [
    {
     "name": "stderr",
     "output_type": "stream",
     "text": [
      "[Stage 9:=============================================>         (165 + 1) / 200]\r"
     ]
    },
    {
     "name": "stdout",
     "output_type": "stream",
     "text": [
      "+-------+--------------------+------------------+-------------+\n",
      "|movieId|               title|        avg_rating|total_ratings|\n",
      "+-------+--------------------+------------------+-------------+\n",
      "|    356| Forrest Gump (1994)| 4.175304878048781|          328|\n",
      "|    318|Shawshank Redempt...| 4.429022082018927|          317|\n",
      "|    296| Pulp Fiction (1994)| 4.221311475409836|          305|\n",
      "|    593|Silence of the La...| 4.201086956521739|          276|\n",
      "|   2571|  Matrix, The (1999)|  4.26007326007326|          273|\n",
      "|    260|Star Wars: Episod...|             4.246|          250|\n",
      "|    480|Jurassic Park (1993)|3.7637130801687766|          237|\n",
      "|    110|   Braveheart (1995)| 4.046610169491525|          236|\n",
      "|    589|Terminator 2: Jud...| 4.018099547511312|          221|\n",
      "|    527|Schindler's List ...| 4.259174311926605|          218|\n",
      "|   2959|   Fight Club (1999)| 4.325581395348837|          215|\n",
      "|      1|    Toy Story (1995)|3.9369158878504673|          214|\n",
      "|   1196|Star Wars: Episod...| 4.233333333333333|          210|\n",
      "|     50|Usual Suspects, T...| 4.237745098039215|          204|\n",
      "|   2858|American Beauty (...| 4.073891625615763|          203|\n",
      "|    150|    Apollo 13 (1995)| 3.845771144278607|          201|\n",
      "|     47|Seven (a.k.a. Se7...| 4.009950248756219|          201|\n",
      "|   1198|Raiders of the Lo...| 4.226130653266332|          199|\n",
      "|   1210|Star Wars: Episod...| 4.137755102040816|          196|\n",
      "|   4993|Lord of the Rings...| 4.142857142857143|          196|\n",
      "+-------+--------------------+------------------+-------------+\n",
      "only showing top 20 rows\n",
      "\n"
     ]
    },
    {
     "name": "stderr",
     "output_type": "stream",
     "text": [
      "                                                                                \r"
     ]
    }
   ],
   "source": [
    "\n",
    "# get the movie title for the mostPopularMoviesDf\n",
    "# join mostPopularMoviesDf with movieDf based on condition that mostPopularMoviesDf.movieId == movieDf.movieId\n",
    "\n",
    "popularMoviesDf = mostPopularMoviesDf.join(moviesParquetDf, mostPopularMoviesDf.movieId == moviesParquetDf.movieId)\\\n",
    "                                     .select(moviesParquetDf.movieId, \"title\", \"avg_rating\", \"total_ratings\")\\\n",
    "                                     .sort(desc(\"total_ratings\"))\n",
    "\n",
    "\n",
    "\n",
    "popularMoviesDf.show(20)"
   ]
  },
  {
   "cell_type": "code",
   "execution_count": 11,
   "id": "9ef2f1be-f8a7-4aa2-93be-5609e86cfaae",
   "metadata": {},
   "outputs": [
    {
     "name": "stderr",
     "output_type": "stream",
     "text": [
      "                                                                                \r"
     ]
    }
   ],
   "source": [
    "popularMoviesDf.write.mode(\"overwrite\")\\\n",
    "                .option(\"header\", True)\\\n",
    "                .parquet(\"hdfs://localhost:9000/sandbox/most-popular-movies\")\n"
   ]
  },
  {
   "cell_type": "code",
   "execution_count": null,
   "id": "e9182f8f-64a5-47f5-afa8-2abcb7c35e87",
   "metadata": {},
   "outputs": [],
   "source": []
  }
 ],
 "metadata": {
  "kernelspec": {
   "display_name": "Python 3 (ipykernel)",
   "language": "python",
   "name": "python3"
  },
  "language_info": {
   "codemirror_mode": {
    "name": "ipython",
    "version": 3
   },
   "file_extension": ".py",
   "mimetype": "text/x-python",
   "name": "python",
   "nbconvert_exporter": "python",
   "pygments_lexer": "ipython3",
   "version": "3.8.12"
  }
 },
 "nbformat": 4,
 "nbformat_minor": 5
}
