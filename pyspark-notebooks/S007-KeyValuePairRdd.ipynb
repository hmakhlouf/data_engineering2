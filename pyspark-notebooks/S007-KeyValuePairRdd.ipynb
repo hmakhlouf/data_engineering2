{
 "cells": [
  {
   "cell_type": "code",
   "execution_count": 1,
   "id": "d7ad200d-5bf7-4216-9e30-7cf38501e4fc",
   "metadata": {},
   "outputs": [],
   "source": [
    "import findspark\n",
    "findspark.init()"
   ]
  },
  {
   "cell_type": "code",
   "execution_count": 2,
   "id": "d17aea4f-b0a3-4f42-ae92-557856fffc2d",
   "metadata": {},
   "outputs": [
    {
     "name": "stderr",
     "output_type": "stream",
     "text": [
      "22/05/05 19:38:29 WARN Utils: Your hostname, ubuntu-virtual-machine resolves to a loopback address: 127.0.1.1; using 192.168.174.129 instead (on interface ens33)\n",
      "22/05/05 19:38:29 WARN Utils: Set SPARK_LOCAL_IP if you need to bind to another address\n",
      "22/05/05 19:38:30 WARN NativeCodeLoader: Unable to load native-hadoop library for your platform... using builtin-java classes where applicable\n",
      "Using Spark's default log4j profile: org/apache/spark/log4j-defaults.properties\n",
      "Setting default log level to \"WARN\".\n",
      "To adjust logging level use sc.setLogLevel(newLevel). For SparkR, use setLogLevel(newLevel).\n",
      "22/05/05 19:38:34 WARN Utils: Service 'SparkUI' could not bind on port 4040. Attempting port 4041.\n",
      "22/05/05 19:38:34 WARN Utils: Service 'SparkUI' could not bind on port 4041. Attempting port 4042.\n",
      "22/05/05 19:38:34 WARN Utils: Service 'SparkUI' could not bind on port 4042. Attempting port 4043.\n",
      "22/05/05 19:38:34 WARN Utils: Service 'SparkUI' could not bind on port 4043. Attempting port 4044.\n",
      "22/05/05 19:38:34 WARN Utils: Service 'SparkUI' could not bind on port 4044. Attempting port 4045.\n",
      "22/05/05 19:38:34 WARN Utils: Service 'SparkUI' could not bind on port 4045. Attempting port 4046.\n",
      "22/05/05 19:38:34 WARN Utils: Service 'SparkUI' could not bind on port 4046. Attempting port 4047.\n"
     ]
    }
   ],
   "source": [
    "from pyspark import SparkContext\n",
    "sc = SparkContext(\"local\", \"KeyValuePairRDD\")"
   ]
  },
  {
   "cell_type": "code",
   "execution_count": 5,
   "id": "eed1af89-ebce-4f21-b9fe-8ef33848d005",
   "metadata": {},
   "outputs": [],
   "source": [
    "# Key Value pair formed from tuple, where as first element in tuple is known as key\n",
    "# second element known as value\n",
    "# (key, value)\n",
    "# apple is key, 20 is value\n",
    "data = [\n",
    "    ('apple', 20),\n",
    "    ('orange', 30),\n",
    "    ('apple', 10),\n",
    "    ('mango', 50),\n",
    "    ('orange', 15),\n",
    "    ('apple', 5),\n",
    "    ('mango', 10)\n",
    "]\n",
    "\n",
    "rdd = sc.parallelize(data)"
   ]
  },
  {
   "cell_type": "code",
   "execution_count": 6,
   "id": "8fd6ac16-daf7-4f6f-978a-191684fb05f2",
   "metadata": {},
   "outputs": [
    {
     "data": {
      "text/plain": [
       "defaultdict(int, {'apple': 3, 'orange': 2, 'mango': 2})"
      ]
     },
     "execution_count": 6,
     "metadata": {},
     "output_type": "execute_result"
    }
   ],
   "source": [
    "# find the count keys\n",
    "# for rdd functions with \"Key\" can use this dataset\n",
    "\n",
    "result = rdd.countByKey() # action\n",
    "result # result is dictionary, it returns count of keys"
   ]
  },
  {
   "cell_type": "code",
   "execution_count": 7,
   "id": "669f066c-0897-43a6-b061-273dd43a387b",
   "metadata": {},
   "outputs": [
    {
     "name": "stderr",
     "output_type": "stream",
     "text": [
      "                                                                                \r"
     ]
    },
    {
     "data": {
      "text/plain": [
       "[('apple', 35), ('orange', 45), ('mango', 60)]"
      ]
     },
     "execution_count": 7,
     "metadata": {},
     "output_type": "execute_result"
    }
   ],
   "source": [
    "# reduce refers to aggregation \n",
    "# find the total kilogram of fruits sold (apple - 30, orange - 30, mongo - 50), some of kelograms of fruits sold \n",
    "# reduceByKey , useful for sum or custom code\n",
    "# lambda function here woun't be called first time when key found\n",
    "# the first time key value pare is isued for intialization \n",
    "\"\"\"\n",
    "Input\n",
    "('apple', 20) <- apple is first time, this value directly placed in table, lambda not called\n",
    "('orange', 30) <- orange is first time, this value directly placed in table, lambda not called\n",
    "('apple', 10) <- apple is second time, lambda shall be called\n",
    "                 lambda has two params, acc, value\n",
    "                 acc value taken from table shown below, value from record \n",
    "                 acc = 20, value  10\n",
    "                 (20, 10) => acc + value = (20 + 10) = 30, this value updated in table\n",
    "('mango', 50)<- first time, lambda not called, values directly placed\n",
    "\n",
    "assume there\n",
    "\n",
    "Virtaually there is table\n",
    "\n",
    "Key       acc\n",
    "apple     30\n",
    "orange    30\n",
    "mango     50\n",
    "\"\"\"\n",
    "# acc is just variable, called accumulator\n",
    "# value is from rdd, 20, 30, 10 ,50\n",
    "# lambda takes two arguments, acc is accumulator based key, value is from record/tuple \n",
    "result = rdd.reduceByKey(lambda acc, value: acc + value)\n",
    "result.collect()"
   ]
  },
  {
   "cell_type": "code",
   "execution_count": 12,
   "id": "2262c97f-5a83-4db0-8168-390e9160d4e4",
   "metadata": {},
   "outputs": [
    {
     "name": "stdout",
     "output_type": "stream",
     "text": [
      "Group  apple <pyspark.resultiterable.ResultIterable object at 0x7efc741c2f40>\n",
      "\tVAlue  20\n",
      "\tVAlue  10\n",
      "\tVAlue  5\n",
      "Group  orange <pyspark.resultiterable.ResultIterable object at 0x7efc7432c550>\n",
      "\tVAlue  30\n",
      "\tVAlue  15\n",
      "Group  mango <pyspark.resultiterable.ResultIterable object at 0x7efc7432cf70>\n",
      "\tVAlue  50\n",
      "\tVAlue  10\n"
     ]
    }
   ],
   "source": [
    "resultRdd = rdd.groupByKey() # trasformatiom, group the values \n",
    "\n",
    "results = resultRdd.collect()\n",
    "# result is a list of tuple \n",
    "# result = [ (0, iterator), (1, iterator) ]\n",
    "# 0 - even number group\n",
    "# 1 - odd number group\n",
    "for key, valueItr in results:\n",
    "    print(\"Group \", key, valueItr)\n",
    "    # iterator the result to get the actual data\n",
    "    for value in valueItr:\n",
    "        print (\"\\tVAlue \", value)\n"
   ]
  },
  {
   "cell_type": "code",
   "execution_count": null,
   "id": "71d0bf99-d2d7-48da-b912-27bad77ddd0d",
   "metadata": {},
   "outputs": [],
   "source": []
  }
 ],
 "metadata": {
  "kernelspec": {
   "display_name": "Python 3 (ipykernel)",
   "language": "python",
   "name": "python3"
  },
  "language_info": {
   "codemirror_mode": {
    "name": "ipython",
    "version": 3
   },
   "file_extension": ".py",
   "mimetype": "text/x-python",
   "name": "python",
   "nbconvert_exporter": "python",
   "pygments_lexer": "ipython3",
   "version": "3.8.12"
  }
 },
 "nbformat": 4,
 "nbformat_minor": 5
}
