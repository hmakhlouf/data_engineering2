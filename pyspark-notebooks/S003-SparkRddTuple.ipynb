{
 "cells": [
  {
   "cell_type": "code",
   "execution_count": 1,
   "id": "296c63ec-12a1-44b7-9766-0ed441d20737",
   "metadata": {},
   "outputs": [],
   "source": [
    "import findspark\n",
    "findspark.init()"
   ]
  },
  {
   "cell_type": "code",
   "execution_count": 2,
   "id": "8903cb33-b2a1-4424-9cb0-96f3f1f7711b",
   "metadata": {},
   "outputs": [
    {
     "name": "stderr",
     "output_type": "stream",
     "text": [
      "22/05/05 00:33:48 WARN Utils: Your hostname, ubuntu-virtual-machine resolves to a loopback address: 127.0.1.1; using 192.168.174.129 instead (on interface ens33)\n",
      "22/05/05 00:33:48 WARN Utils: Set SPARK_LOCAL_IP if you need to bind to another address\n",
      "22/05/05 00:33:49 WARN NativeCodeLoader: Unable to load native-hadoop library for your platform... using builtin-java classes where applicable\n",
      "Using Spark's default log4j profile: org/apache/spark/log4j-defaults.properties\n",
      "Setting default log level to \"WARN\".\n",
      "To adjust logging level use sc.setLogLevel(newLevel). For SparkR, use setLogLevel(newLevel).\n",
      "22/05/05 00:33:52 WARN Utils: Service 'SparkUI' could not bind on port 4040. Attempting port 4041.\n",
      "22/05/05 00:33:52 WARN Utils: Service 'SparkUI' could not bind on port 4041. Attempting port 4042.\n"
     ]
    }
   ],
   "source": [
    "from pyspark import SparkContext\n",
    "sc = SparkContext(\"local\", \"SparkRddTuple\")"
   ]
  },
  {
   "cell_type": "code",
   "execution_count": 3,
   "id": "8e6fee4b-01de-4b09-bf78-2dbe3ffea1d2",
   "metadata": {},
   "outputs": [],
   "source": [
    "stocks = [ # LIST\n",
    "    # Tuple (symbol, open, low, high, close)\n",
    "    ('MSFT', 50, 48, 51, 50.5),\n",
    "     ('FB', 200, 198, 204, 202.3),\n",
    "    ('AMD', 90, 88, 92, 91),\n",
    "    ('TSLA', 100, 90, 90, 100)\n",
    "]\n",
    "rdd = sc.parallelize(stocks)"
   ]
  },
  {
   "cell_type": "code",
   "execution_count": 4,
   "id": "e6486796-bc11-42c8-855e-8cc78a5ced32",
   "metadata": {},
   "outputs": [
    {
     "name": "stderr",
     "output_type": "stream",
     "text": [
      "                                                                                \r"
     ]
    },
    {
     "data": {
      "text/plain": [
       "[('MSFT', 50, 48, 51, 50.5),\n",
       " ('AMD', 90, 88, 92, 91),\n",
       " ('TSLA', 100, 90, 90, 100)]"
      ]
     },
     "execution_count": 4,
     "metadata": {},
     "output_type": "execute_result"
    }
   ],
   "source": [
    "# Pick stocks where close price is less than or equal to 100 , stock[4] is close price\n",
    "# stock is tuple\n",
    "# 2 - action (  \n",
    "rdd2 = rdd.filter (lambda stock: stock[4] <= 100)\n",
    "# 3 - results \n",
    "rdd2.collect()"
   ]
  },
  {
   "cell_type": "code",
   "execution_count": 5,
   "id": "230d3b16-804e-4fbf-8de5-cc6bdb5a7997",
   "metadata": {},
   "outputs": [
    {
     "data": {
      "text/plain": [
       "[0.5, 2.3000000000000114, 1, 0]"
      ]
     },
     "execution_count": 5,
     "metadata": {},
     "output_type": "execute_result"
    }
   ],
   "source": [
    "# find gain for the data\n",
    "# take close price - open price\n",
    "rdd3 = rdd.map (lambda stock: stock[4] - stock[1])\n",
    "rdd3.collect()"
   ]
  },
  {
   "cell_type": "code",
   "execution_count": 7,
   "id": "9332bde2-4135-4417-abdb-f7855c0847dc",
   "metadata": {},
   "outputs": [
    {
     "data": {
      "text/plain": [
       "[50.5, 202.3, 91, 100]"
      ]
     },
     "execution_count": 7,
     "metadata": {},
     "output_type": "execute_result"
    }
   ],
   "source": [
    "rdd3 = rdd.map (lambda stock: stock[4])\n",
    "rdd3.collect()"
   ]
  },
  {
   "cell_type": "code",
   "execution_count": 6,
   "id": "0bfcfe07-5ee1-4b6d-a0b8-fbe3a6828402",
   "metadata": {},
   "outputs": [
    {
     "data": {
      "text/plain": [
       "[('MSFT', 50, 48, 51, 50.5, 0.5),\n",
       " ('FB', 200, 198, 204, 202.3, 2.3000000000000114),\n",
       " ('AMD', 90, 88, 92, 91, 1),\n",
       " ('TSLA', 100, 90, 90, 100, 0)]"
      ]
     },
     "execution_count": 6,
     "metadata": {},
     "output_type": "execute_result"
    }
   ],
   "source": [
    "# find gain for the data, but include all the results, \n",
    "# also include gain as one element\n",
    "# tuple doesn't support mutation\n",
    "# we have to create new tuple and include diff\n",
    "\n",
    "\n",
    "#method 1 :\n",
    "    \n",
    "    \n",
    "rdd4 = rdd.map (lambda stock: (stock[0], stock[1], stock[2], \n",
    "                               stock[3], stock[4], \n",
    "                               stock[4] - stock[1] # diff\n",
    "                              ))\n",
    "                \n",
    "rdd4.collect()"
   ]
  },
  {
   "cell_type": "code",
   "execution_count": 9,
   "id": "52675a89-06c6-40ff-b72c-732c7df888f0",
   "metadata": {},
   "outputs": [
    {
     "data": {
      "text/plain": [
       "(1, 2, 3, 'a', 'b', 'c')"
      ]
     },
     "execution_count": 9,
     "metadata": {},
     "output_type": "execute_result"
    }
   ],
   "source": [
    "# Tuple - pair of elements\n",
    "# represent a fact, event, related information\n",
    "# like record\n",
    "# Tuple is immutable - once created, it cannot be changed\n",
    "# used a lot of in Spark, big data\n",
    "# tuple elements stored in index order\n",
    "\n",
    "\n",
    "\n",
    "# add two tuples possible, it will create new tuple\n",
    "(1,2,3) + ('a', 'b', 'c')"
   ]
  },
  {
   "cell_type": "code",
   "execution_count": 11,
   "id": "08c307fa-905f-43ae-9c1a-b0c8a5b755c7",
   "metadata": {},
   "outputs": [
    {
     "data": {
      "text/plain": [
       "[('MSFT', 50, 48, 51, 50.5, 0.5),\n",
       " ('FB', 200, 198, 204, 202.3, 2.3000000000000114),\n",
       " ('AMD', 90, 88, 92, 91, 1),\n",
       " ('TSLA', 100, 90, 90, 100, 0)]"
      ]
     },
     "execution_count": 11,
     "metadata": {},
     "output_type": "execute_result"
    }
   ],
   "source": [
    "# method 2 : \n",
    "\n",
    "# find gain for the data, but include all the results, \n",
    "# also include gain as one element\n",
    "# tuple doesn't support mutation\n",
    "# we have to create new tuple and include diff\n",
    "# refactor\n",
    "# COMMA , is MUST if we make tuple with 1 element in Python\n",
    "rdd4 = rdd.map (lambda stock: stock + (stock[4] - stock[1],))\n",
    "                \n",
    "rdd4.collect()"
   ]
  },
  {
   "cell_type": "code",
   "execution_count": 15,
   "id": "546afe43-7e4f-4ddf-9009-defeb2280592",
   "metadata": {},
   "outputs": [
    {
     "name": "stdout",
     "output_type": "stream",
     "text": [
      "4\n",
      "(4,)\n"
     ]
    }
   ],
   "source": [
    "#check this, why we adding camma at the end \n",
    "\n",
    "x = (1+3)\n",
    "print(x)\n",
    "\n",
    "y = (1+3),\n",
    "print(y)"
   ]
  },
  {
   "cell_type": "code",
   "execution_count": null,
   "id": "fe05ad3e-1621-420f-93e3-4444d4e7ebd2",
   "metadata": {},
   "outputs": [],
   "source": []
  }
 ],
 "metadata": {
  "kernelspec": {
   "display_name": "Python 3 (ipykernel)",
   "language": "python",
   "name": "python3"
  },
  "language_info": {
   "codemirror_mode": {
    "name": "ipython",
    "version": 3
   },
   "file_extension": ".py",
   "mimetype": "text/x-python",
   "name": "python",
   "nbconvert_exporter": "python",
   "pygments_lexer": "ipython3",
   "version": "3.8.12"
  }
 },
 "nbformat": 4,
 "nbformat_minor": 5
}
