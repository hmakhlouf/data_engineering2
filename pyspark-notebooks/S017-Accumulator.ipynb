{
 "cells": [
  {
   "cell_type": "code",
   "execution_count": 1,
   "id": "9d6ad216-7e46-4bbf-91c3-4340e2007052",
   "metadata": {},
   "outputs": [],
   "source": [
    "import findspark\n",
    "findspark.init()"
   ]
  },
  {
   "cell_type": "code",
   "execution_count": 2,
   "id": "fe779e27-f664-4a17-9e41-6d7dfa994b4c",
   "metadata": {},
   "outputs": [
    {
     "name": "stderr",
     "output_type": "stream",
     "text": [
      "22/05/07 00:35:56 WARN Utils: Your hostname, ubuntu-virtual-machine resolves to a loopback address: 127.0.1.1; using 192.168.174.129 instead (on interface ens33)\n",
      "22/05/07 00:35:56 WARN Utils: Set SPARK_LOCAL_IP if you need to bind to another address\n",
      "22/05/07 00:35:58 WARN NativeCodeLoader: Unable to load native-hadoop library for your platform... using builtin-java classes where applicable\n",
      "Using Spark's default log4j profile: org/apache/spark/log4j-defaults.properties\n",
      "Setting default log level to \"WARN\".\n",
      "To adjust logging level use sc.setLogLevel(newLevel). For SparkR, use setLogLevel(newLevel).\n",
      "22/05/07 00:36:02 WARN Utils: Service 'SparkUI' could not bind on port 4040. Attempting port 4041.\n",
      "22/05/07 00:36:02 WARN Utils: Service 'SparkUI' could not bind on port 4041. Attempting port 4042.\n",
      "22/05/07 00:36:02 WARN Utils: Service 'SparkUI' could not bind on port 4042. Attempting port 4043.\n",
      "22/05/07 00:36:02 WARN Utils: Service 'SparkUI' could not bind on port 4043. Attempting port 4044.\n",
      "22/05/07 00:36:02 WARN Utils: Service 'SparkUI' could not bind on port 4044. Attempting port 4045.\n",
      "22/05/07 00:36:02 WARN Utils: Service 'SparkUI' could not bind on port 4045. Attempting port 4046.\n",
      "22/05/07 00:36:02 WARN Utils: Service 'SparkUI' could not bind on port 4046. Attempting port 4047.\n",
      "22/05/07 00:36:02 WARN Utils: Service 'SparkUI' could not bind on port 4047. Attempting port 4048.\n",
      "22/05/07 00:36:02 WARN Utils: Service 'SparkUI' could not bind on port 4048. Attempting port 4049.\n"
     ]
    }
   ],
   "source": [
    "from pyspark import SparkContext\n",
    "sc = SparkContext(\"local\", \"Acumulator\")"
   ]
  },
  {
   "cell_type": "code",
   "execution_count": 10,
   "id": "505b469a-ec43-42c8-a893-32aae8955f5f",
   "metadata": {},
   "outputs": [
    {
     "name": "stdout",
     "output_type": "stream",
     "text": [
      "[[0, 1, 2, 3, 4], [5, 6, 7, 8, 9], [10, 11, 12, 13, 14], [15, 16, 17, 18, 19]]\n",
      "Acc value is  190\n"
     ]
    }
   ],
   "source": [
    "# Databricks notebook source\n",
    "# accumulator designed to fetch data from executor to notebook\n",
    "# Databricks notebook source\n",
    "# accumulator useful to collect data from executor to driver program\n",
    "rdd = sc.parallelize(range(0, 20), 4)\n",
    "\n",
    "print(rdd.glom().collect())\n",
    "\n",
    "sumAccum = sc.accumulator(0)\n",
    "\n",
    "rdd.foreach(lambda n: sumAccum.add(n))  # run inside executor\n",
    "\n",
    "print(\"Acc value is \", sumAccum.value) # driver"
   ]
  },
  {
   "cell_type": "code",
   "execution_count": 6,
   "id": "23babf40-1dab-4629-b78c-4acf02023c8c",
   "metadata": {},
   "outputs": [
    {
     "name": "stdout",
     "output_type": "stream",
     "text": [
      "sum of first elements  30\n"
     ]
    }
   ],
   "source": [
    "sumFirstValueInPartitionAccum = sc.accumulator(0)\n",
    "\n",
    "# write a accumulator that picks first element in each partition and sum them up\n",
    "def sumFirstElement(partitionItr):\n",
    "  global sumFirstValueInPartitionAccum\n",
    "  for n in partitionItr: \n",
    "    sumFirstValueInPartitionAccum.add(n)\n",
    "    break # we process only 1st element in the partition and end the loop\n",
    "    \n",
    "rdd.foreachPartition(lambda itr: sumFirstElement(itr))\n",
    "\n",
    "print (\"sum of first elements \", sumFirstValueInPartitionAccum.value)\n"
   ]
  },
  {
   "cell_type": "code",
   "execution_count": 11,
   "id": "e57477d4-a943-47e3-8ae7-bfbc8338c8a3",
   "metadata": {},
   "outputs": [],
   "source": [
    "# custom accumulator\n",
    "# collect first element in each parition [not to sum/count]\n",
    "# zero, addInPlace are default functions will be invoked by accumulator \n",
    "from  pyspark.accumulators import AccumulatorParam\n",
    "class ListItemParamAccumulator(AccumulatorParam):\n",
    "  def zero(self, v):\n",
    "    return [] # return list, empty list used when no seed value given initially\n",
    "  # variable is list, value is the arg we pass via add function\n",
    "  # acc.add(value) ==> calls addInPlace()\n",
    "  def addInPlace(self, variable, value):\n",
    "    variable.append(value)\n",
    "    return variable\n",
    "  "
   ]
  },
  {
   "cell_type": "code",
   "execution_count": null,
   "id": "f187ff88-7bbf-4ac2-a570-e6ca393ff6c7",
   "metadata": {},
   "outputs": [],
   "source": []
  },
  {
   "cell_type": "code",
   "execution_count": 12,
   "id": "cbbddab1-20ea-4bd5-ab09-2599a3956694",
   "metadata": {},
   "outputs": [
    {
     "name": "stdout",
     "output_type": "stream",
     "text": [
      " first elements in each partition  [[0], [5], [10], [15]]\n"
     ]
    }
   ],
   "source": [
    "# create accumulator\n",
    "# [] is empty list\n",
    "# ListItemParamAccumulator is custom accumulator defiend above\n",
    "firstValueAccum = sc.accumulator([], ListItemParamAccumulator())\n",
    "\n",
    "\n",
    "# write a accumulator that picks first element in each partition and sum them up\n",
    "def sampleFirstElement(partitionItr):\n",
    "  global firstValueAccum\n",
    "  for n in partitionItr: \n",
    "    # n is passed as value to addInPlace function\n",
    "    firstValueAccum.add(n) # this will call ListItemParamAccumulator addInPlace function\n",
    "    break\n",
    "    \n",
    "rdd.foreachPartition(lambda itr: sampleFirstElement(itr))\n",
    "\n",
    "print (\" first elements in each partition \", firstValueAccum.value)\n"
   ]
  },
  {
   "cell_type": "code",
   "execution_count": null,
   "id": "d1ff3ce2-0211-4ae0-abb5-aa3b31d15bae",
   "metadata": {},
   "outputs": [],
   "source": []
  }
 ],
 "metadata": {
  "kernelspec": {
   "display_name": "Python 3 (ipykernel)",
   "language": "python",
   "name": "python3"
  },
  "language_info": {
   "codemirror_mode": {
    "name": "ipython",
    "version": 3
   },
   "file_extension": ".py",
   "mimetype": "text/x-python",
   "name": "python",
   "nbconvert_exporter": "python",
   "pygments_lexer": "ipython3",
   "version": "3.8.12"
  }
 },
 "nbformat": 4,
 "nbformat_minor": 5
}
