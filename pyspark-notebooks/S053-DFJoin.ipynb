{
 "cells": [
  {
   "cell_type": "code",
   "execution_count": 1,
   "id": "86a5b7cf-2f6d-4988-9493-0b1129e1fc74",
   "metadata": {},
   "outputs": [],
   "source": [
    "import findspark \n",
    "findspark.init()"
   ]
  },
  {
   "cell_type": "code",
   "execution_count": 2,
   "id": "7f906f3e-81e2-420b-ac70-e560f7040c0e",
   "metadata": {},
   "outputs": [
    {
     "name": "stderr",
     "output_type": "stream",
     "text": [
      "22/05/09 22:08:15 WARN Utils: Your hostname, ubuntu-virtual-machine resolves to a loopback address: 127.0.1.1; using 192.168.174.129 instead (on interface ens33)\n",
      "22/05/09 22:08:15 WARN Utils: Set SPARK_LOCAL_IP if you need to bind to another address\n",
      "22/05/09 22:08:16 WARN NativeCodeLoader: Unable to load native-hadoop library for your platform... using builtin-java classes where applicable\n",
      "Using Spark's default log4j profile: org/apache/spark/log4j-defaults.properties\n",
      "Setting default log level to \"WARN\".\n",
      "To adjust logging level use sc.setLogLevel(newLevel). For SparkR, use setLogLevel(newLevel).\n",
      "22/05/09 22:08:19 WARN Utils: Service 'SparkUI' could not bind on port 4040. Attempting port 4041.\n",
      "22/05/09 22:08:19 WARN Utils: Service 'SparkUI' could not bind on port 4041. Attempting port 4042.\n",
      "22/05/09 22:08:19 WARN Utils: Service 'SparkUI' could not bind on port 4042. Attempting port 4043.\n",
      "22/05/09 22:08:19 WARN Utils: Service 'SparkUI' could not bind on port 4043. Attempting port 4044.\n",
      "22/05/09 22:08:19 WARN Utils: Service 'SparkUI' could not bind on port 4044. Attempting port 4045.\n",
      "22/05/09 22:08:19 WARN Utils: Service 'SparkUI' could not bind on port 4045. Attempting port 4046.\n",
      "22/05/09 22:08:19 WARN Utils: Service 'SparkUI' could not bind on port 4046. Attempting port 4047.\n",
      "22/05/09 22:08:19 WARN Utils: Service 'SparkUI' could not bind on port 4047. Attempting port 4048.\n",
      "22/05/09 22:08:19 WARN Utils: Service 'SparkUI' could not bind on port 4048. Attempting port 4049.\n",
      "22/05/09 22:08:19 WARN Utils: Service 'SparkUI' could not bind on port 4049. Attempting port 4050.\n",
      "22/05/09 22:08:19 WARN Utils: Service 'SparkUI' could not bind on port 4050. Attempting port 4051.\n",
      "22/05/09 22:08:19 WARN Utils: Service 'SparkUI' could not bind on port 4051. Attempting port 4052.\n",
      "22/05/09 22:08:19 WARN Utils: Service 'SparkUI' could not bind on port 4052. Attempting port 4053.\n"
     ]
    }
   ],
   "source": [
    "from pyspark.conf import SparkConf\n",
    "config = SparkConf()\n",
    "config.setMaster(\"local\").setAppName(\"DFJoin\")\n",
    "\n",
    "\n",
    "from pyspark.sql import SparkSession\n",
    "spark = SparkSession.builder.config(conf=config).getOrCreate()"
   ]
  },
  {
   "cell_type": "code",
   "execution_count": 3,
   "id": "e1b15959-d2e2-482d-ade9-faa0ca0aec9b",
   "metadata": {},
   "outputs": [
    {
     "name": "stderr",
     "output_type": "stream",
     "text": [
      "                                                                                \r"
     ]
    },
    {
     "name": "stdout",
     "output_type": "stream",
     "text": [
      "+----------+------------+--------+\n",
      "|product_id|product_name|brand_id|\n",
      "+----------+------------+--------+\n",
      "|         1|      iPhone|     100|\n",
      "|         2|      Galaxy|     200|\n",
      "|         3|       Redme|     300|\n",
      "|         4|       Pixel|     400|\n",
      "+----------+------------+--------+\n",
      "\n",
      "+--------+----------+\n",
      "|brand_id|brand_name|\n",
      "+--------+----------+\n",
      "|     100|     Apple|\n",
      "|     200|   Samsung|\n",
      "|     400|    Google|\n",
      "|     500|      Sony|\n",
      "+--------+----------+\n",
      "\n"
     ]
    }
   ],
   "source": [
    "products = [ \n",
    "          # (product_id, product_name, brand_id)  \n",
    "         (1, 'iPhone', 100),\n",
    "         (2, 'Galaxy', 200),\n",
    "         (3, 'Redme', 300), # orphan record, no matching brand\n",
    "         (4, 'Pixel', 400),\n",
    "]\n",
    "\n",
    "brands = [\n",
    "    #(brand_id, brand_name)\n",
    "    (100, \"Apple\"),\n",
    "    (200, \"Samsung\"),\n",
    "    (400, \"Google\"),\n",
    "    (500, \"Sony\"), # no matching products\n",
    "]\n",
    " \n",
    "productDf = spark.createDataFrame(data=products, schema=[\"product_id\", \"product_name\", \"brand_id\"])\n",
    "brandDf = spark.createDataFrame(data=brands, schema=[\"brand_id\", \"brand_name\"])\n",
    "productDf.show()\n",
    "brandDf.show()"
   ]
  },
  {
   "cell_type": "code",
   "execution_count": 4,
   "id": "5730130a-51d5-4a48-be64-b530d0ce4e85",
   "metadata": {},
   "outputs": [
    {
     "name": "stderr",
     "output_type": "stream",
     "text": [
      "                                                                                \r"
     ]
    },
    {
     "name": "stdout",
     "output_type": "stream",
     "text": [
      "+----------+------------+--------+--------+----------+\n",
      "|product_id|product_name|brand_id|brand_id|brand_name|\n",
      "+----------+------------+--------+--------+----------+\n",
      "|         1|      iPhone|     100|     100|     Apple|\n",
      "|         2|      Galaxy|     200|     200|   Samsung|\n",
      "|         4|       Pixel|     400|     400|    Google|\n",
      "+----------+------------+--------+--------+----------+\n",
      "\n"
     ]
    }
   ],
   "source": [
    "# Inner Join\n",
    "# productDf is left\n",
    "# brandDf is right\n",
    "# select/pick only matching record, discord if no matches found\n",
    "productDf.join(brandDf, productDf[\"brand_id\"] ==  brandDf[\"brand_id\"], \"inner\").show()"
   ]
  },
  {
   "cell_type": "code",
   "execution_count": 5,
   "id": "24982495-1d62-45f3-9dc7-44c933d67c80",
   "metadata": {},
   "outputs": [
    {
     "name": "stderr",
     "output_type": "stream",
     "text": [
      "                                                                                \r"
     ]
    },
    {
     "name": "stdout",
     "output_type": "stream",
     "text": [
      "+----------+------------+--------+--------+----------+\n",
      "|product_id|product_name|brand_id|brand_id|brand_name|\n",
      "+----------+------------+--------+--------+----------+\n",
      "|      null|        null|    null|     500|      Sony|\n",
      "|         1|      iPhone|     100|     100|     Apple|\n",
      "|         2|      Galaxy|     200|     200|   Samsung|\n",
      "|         4|       Pixel|     400|     400|    Google|\n",
      "|         3|       Redme|     300|    null|      null|\n",
      "+----------+------------+--------+--------+----------+\n",
      "\n"
     ]
    },
    {
     "name": "stderr",
     "output_type": "stream",
     "text": [
      "                                                                                \r"
     ]
    }
   ],
   "source": [
    "# Outer Join, Full Outer Outer, [Left outer + Right outer]\n",
    "# pick all records from left dataframe, and also right dataframe\n",
    "# if no matches found, it fills null data for not matched records\n",
    "productDf.join(brandDf, productDf[\"brand_id\"] ==  brandDf[\"brand_id\"], \"outer\").show()"
   ]
  },
  {
   "cell_type": "code",
   "execution_count": 6,
   "id": "e63941a9-f273-47d9-9441-004b8cb88933",
   "metadata": {},
   "outputs": [
    {
     "name": "stderr",
     "output_type": "stream",
     "text": [
      "                                                                                \r"
     ]
    },
    {
     "name": "stdout",
     "output_type": "stream",
     "text": [
      "+----------+------------+--------+--------+----------+\n",
      "|product_id|product_name|brand_id|brand_id|brand_name|\n",
      "+----------+------------+--------+--------+----------+\n",
      "|         1|      iPhone|     100|     100|     Apple|\n",
      "|         2|      Galaxy|     200|     200|   Samsung|\n",
      "|         4|       Pixel|     400|     400|    Google|\n",
      "|         3|       Redme|     300|    null|      null|\n",
      "+----------+------------+--------+--------+----------+\n",
      "\n"
     ]
    }
   ],
   "source": [
    "# Left, Left Outer join \n",
    "# picks all records from left, if no matches found, it fills null for right data\n",
    "productDf.join(brandDf, productDf[\"brand_id\"] ==  brandDf[\"brand_id\"], \"leftouter\").show()"
   ]
  },
  {
   "cell_type": "code",
   "execution_count": 7,
   "id": "4f5bc278-8ad1-45fb-8dbb-7e4f34b93e0b",
   "metadata": {},
   "outputs": [
    {
     "name": "stderr",
     "output_type": "stream",
     "text": [
      "                                                                                \r"
     ]
    },
    {
     "name": "stdout",
     "output_type": "stream",
     "text": [
      "+----------+------------+--------+--------+----------+\n",
      "|product_id|product_name|brand_id|brand_id|brand_name|\n",
      "+----------+------------+--------+--------+----------+\n",
      "|      null|        null|    null|     500|      Sony|\n",
      "|         1|      iPhone|     100|     100|     Apple|\n",
      "|         2|      Galaxy|     200|     200|   Samsung|\n",
      "|         4|       Pixel|     400|     400|    Google|\n",
      "+----------+------------+--------+--------+----------+\n",
      "\n"
     ]
    }
   ],
   "source": [
    "# Right, Right outer Join\n",
    "# picks all the records from right, if no matches found, fills left data with null\n",
    "productDf.join(brandDf, productDf[\"brand_id\"] ==  brandDf[\"brand_id\"], \"rightouter\").show()"
   ]
  },
  {
   "cell_type": "code",
   "execution_count": 9,
   "id": "b955afd5-efeb-4959-87be-c01a8c1770d4",
   "metadata": {},
   "outputs": [
    {
     "name": "stdout",
     "output_type": "stream",
     "text": [
      "+--------+----------+\n",
      "|store_id|store_name|\n",
      "+--------+----------+\n",
      "|    1000|  Poorvika|\n",
      "|    2000| Sangeetha|\n",
      "|    4000|    Amazon|\n",
      "|    5000|  FlipKart|\n",
      "+--------+----------+\n",
      "\n"
     ]
    }
   ],
   "source": [
    "store = [\n",
    "    #(store_id, store_name)\n",
    "    (1000, \"Poorvika\"),\n",
    "    (2000, \"Sangeetha\"),\n",
    "    (4000, \"Amazon\"),\n",
    "    (5000, \"FlipKart\"), \n",
    "]\n",
    " \n",
    "storeDf = spark.createDataFrame(data=store, schema=[\"store_id\", \"store_name\"])\n",
    "storeDf.show()"
   ]
  },
  {
   "cell_type": "code",
   "execution_count": 10,
   "id": "0d27bc22-3ac2-44e3-8ff2-d03ef9f3aa8f",
   "metadata": {},
   "outputs": [
    {
     "name": "stdout",
     "output_type": "stream",
     "text": [
      "+----------+------------+--------+--------+----------+\n",
      "|product_id|product_name|brand_id|store_id|store_name|\n",
      "+----------+------------+--------+--------+----------+\n",
      "|         1|      iPhone|     100|    1000|  Poorvika|\n",
      "|         1|      iPhone|     100|    2000| Sangeetha|\n",
      "|         1|      iPhone|     100|    4000|    Amazon|\n",
      "|         1|      iPhone|     100|    5000|  FlipKart|\n",
      "|         2|      Galaxy|     200|    1000|  Poorvika|\n",
      "|         2|      Galaxy|     200|    2000| Sangeetha|\n",
      "|         2|      Galaxy|     200|    4000|    Amazon|\n",
      "|         2|      Galaxy|     200|    5000|  FlipKart|\n",
      "|         3|       Redme|     300|    1000|  Poorvika|\n",
      "|         3|       Redme|     300|    2000| Sangeetha|\n",
      "|         3|       Redme|     300|    4000|    Amazon|\n",
      "|         3|       Redme|     300|    5000|  FlipKart|\n",
      "|         4|       Pixel|     400|    1000|  Poorvika|\n",
      "|         4|       Pixel|     400|    2000| Sangeetha|\n",
      "|         4|       Pixel|     400|    4000|    Amazon|\n",
      "|         4|       Pixel|     400|    5000|  FlipKart|\n",
      "+----------+------------+--------+--------+----------+\n",
      "\n"
     ]
    }
   ],
   "source": [
    "# cartesian , take row from left side, pair with all from right side\n",
    "productDf.crossJoin(storeDf).show()\n"
   ]
  },
  {
   "cell_type": "code",
   "execution_count": null,
   "id": "d62161aa-d672-424f-a7a6-fe6b60a8454e",
   "metadata": {},
   "outputs": [],
   "source": []
  }
 ],
 "metadata": {
  "kernelspec": {
   "display_name": "Python 3 (ipykernel)",
   "language": "python",
   "name": "python3"
  },
  "language_info": {
   "codemirror_mode": {
    "name": "ipython",
    "version": 3
   },
   "file_extension": ".py",
   "mimetype": "text/x-python",
   "name": "python",
   "nbconvert_exporter": "python",
   "pygments_lexer": "ipython3",
   "version": "3.8.12"
  }
 },
 "nbformat": 4,
 "nbformat_minor": 5
}
