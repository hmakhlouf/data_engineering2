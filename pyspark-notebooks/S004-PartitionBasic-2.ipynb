{
 "cells": [
  {
   "cell_type": "code",
   "execution_count": 3,
   "id": "6b16f303-6f58-4cce-96bf-aaca6c942c37",
   "metadata": {},
   "outputs": [],
   "source": [
    "import findspark\n",
    "findspark.init()\n"
   ]
  },
  {
   "cell_type": "code",
   "execution_count": 4,
   "id": "c4512636-8deb-4259-950f-3f0e930970e5",
   "metadata": {},
   "outputs": [
    {
     "name": "stderr",
     "output_type": "stream",
     "text": [
      "22/05/05 01:57:47 WARN Utils: Your hostname, ubuntu-virtual-machine resolves to a loopback address: 127.0.1.1; using 192.168.174.129 instead (on interface ens33)\n",
      "22/05/05 01:57:47 WARN Utils: Set SPARK_LOCAL_IP if you need to bind to another address\n",
      "22/05/05 01:57:48 WARN NativeCodeLoader: Unable to load native-hadoop library for your platform... using builtin-java classes where applicable\n",
      "Using Spark's default log4j profile: org/apache/spark/log4j-defaults.properties\n",
      "Setting default log level to \"WARN\".\n",
      "To adjust logging level use sc.setLogLevel(newLevel). For SparkR, use setLogLevel(newLevel).\n",
      "22/05/05 01:57:51 WARN Utils: Service 'SparkUI' could not bind on port 4040. Attempting port 4041.\n",
      "22/05/05 01:57:51 WARN Utils: Service 'SparkUI' could not bind on port 4041. Attempting port 4042.\n",
      "22/05/05 01:57:51 WARN Utils: Service 'SparkUI' could not bind on port 4042. Attempting port 4043.\n",
      "22/05/05 01:57:51 WARN Utils: Service 'SparkUI' could not bind on port 4043. Attempting port 4044.\n"
     ]
    }
   ],
   "source": [
    "from pyspark import SparkContext\n",
    "# local is a mode, embed spark driver and executor in single JVM\n",
    "# Local - means 1 parallelism by default, 1 parallel task at a time \n",
    "# local[4] - 4 parallel task at a time \n",
    "# local[*] - * based on numbers of CPU'S in VM \n",
    "sc = SparkContext(\"local[4]\", \"PartitionBasic2\")\n"
   ]
  },
  {
   "cell_type": "code",
   "execution_count": 5,
   "id": "35937965-8dcf-4f72-8376-ebbb7a603ca2",
   "metadata": {},
   "outputs": [],
   "source": [
    "data = range(1, 10)\n",
    "\n",
    "rdd = sc.parallelize(data)"
   ]
  },
  {
   "cell_type": "code",
   "execution_count": 6,
   "id": "133f6bcf-8b51-4a93-900b-0585383cdb4d",
   "metadata": {},
   "outputs": [
    {
     "data": {
      "text/plain": [
       "4"
      ]
     },
     "execution_count": 6,
     "metadata": {},
     "output_type": "execute_result"
    }
   ],
   "source": [
    "# to get number of partitions planned for rdd \n",
    "# we used \"local\" for master, mean single or 1 parallel tasks by default\n",
    "rdd.getNumPartitions()"
   ]
  },
  {
   "cell_type": "code",
   "execution_count": 7,
   "id": "3c669ca4-a844-4774-aa48-3a8a916789e8",
   "metadata": {},
   "outputs": [
    {
     "name": "stdout",
     "output_type": "stream",
     "text": [
      "default parallelism 4\n",
      "default min partions 2\n"
     ]
    }
   ],
   "source": [
    "# used by parallise function to create numer of partitions \n",
    "print(\"default parallelism\", sc.defaultParallelism)\n",
    "\n",
    "#used by hadoop to create partitions for read file \n",
    "print(\"default min partions\", sc.defaultMinPartitions)"
   ]
  },
  {
   "cell_type": "code",
   "execution_count": 8,
   "id": "e4298f92-3895-4714-aecf-c1976cd622fe",
   "metadata": {},
   "outputs": [
    {
     "name": "stderr",
     "output_type": "stream",
     "text": [
      "[Stage 0:>                                                          (0 + 4) / 4]\r"
     ]
    },
    {
     "name": "stdout",
     "output_type": "stream",
     "text": [
      "[1, 2, 3, 4, 5, 6, 7, 8, 9]\n"
     ]
    },
    {
     "name": "stderr",
     "output_type": "stream",
     "text": [
      "                                                                                \r"
     ]
    }
   ],
   "source": [
    "# to collect data from all partitions\n",
    "# return a list of all elements\n",
    "result = rdd.collect()\n",
    "print(result)"
   ]
  },
  {
   "cell_type": "code",
   "execution_count": 9,
   "id": "173016a1-95f8-4310-932f-dc8fe2f7df9a",
   "metadata": {},
   "outputs": [
    {
     "data": {
      "text/plain": [
       "[[1, 2], [3, 4], [5, 6], [7, 8, 9]]"
      ]
     },
     "execution_count": 9,
     "metadata": {},
     "output_type": "execute_result"
    }
   ],
   "source": [
    "# glom() is also action function \n",
    "# collect data from each partitions, doesn't merge data into single \n",
    "rdd.glom().collect()"
   ]
  },
  {
   "cell_type": "code",
   "execution_count": 10,
   "id": "6b5bbb9d-7381-4bcf-ade3-ff51e97f79d4",
   "metadata": {},
   "outputs": [
    {
     "name": "stderr",
     "output_type": "stream",
     "text": [
      "                                                                                \r"
     ]
    },
    {
     "name": "stdout",
     "output_type": "stream",
     "text": [
      "[1, 2, 3, 4, 5]\n"
     ]
    },
    {
     "name": "stderr",
     "output_type": "stream",
     "text": [
      "                                                                                \r"
     ]
    }
   ],
   "source": [
    "# to collect data from first partitions based on limit number of items\n",
    "# try to read from first partition if it has 3 elements, otherwise\n",
    "# remaining items it will\n",
    "# fetch from other partitions, first, second, third partitions\n",
    "# take is action method\n",
    "result = rdd.take(5) \n",
    "print(result)"
   ]
  },
  {
   "cell_type": "code",
   "execution_count": 17,
   "id": "839a2f18-9ac1-46bd-a03c-546784374602",
   "metadata": {},
   "outputs": [],
   "source": [
    "# Use parallelize function to create explicit patitions \n",
    "rdd2 = sc.parallelize(range(1,50),10) # 10 partitions "
   ]
  },
  {
   "cell_type": "code",
   "execution_count": 18,
   "id": "89b77390-daa8-485a-8c36-63c983c9c1bf",
   "metadata": {},
   "outputs": [
    {
     "data": {
      "text/plain": [
       "10"
      ]
     },
     "execution_count": 18,
     "metadata": {},
     "output_type": "execute_result"
    }
   ],
   "source": [
    "rdd2.getNumPartitions()"
   ]
  },
  {
   "cell_type": "code",
   "execution_count": 19,
   "id": "713eb32d-7bdd-41c6-9711-3fed1f6ab9c7",
   "metadata": {},
   "outputs": [
    {
     "data": {
      "text/plain": [
       "[[1, 2, 3, 4],\n",
       " [5, 6, 7, 8, 9],\n",
       " [10, 11, 12, 13, 14],\n",
       " [15, 16, 17, 18, 19],\n",
       " [20, 21, 22, 23, 24],\n",
       " [25, 26, 27, 28, 29],\n",
       " [30, 31, 32, 33, 34],\n",
       " [35, 36, 37, 38, 39],\n",
       " [40, 41, 42, 43, 44],\n",
       " [45, 46, 47, 48, 49]]"
      ]
     },
     "execution_count": 19,
     "metadata": {},
     "output_type": "execute_result"
    }
   ],
   "source": [
    "rdd2.glom().collect()"
   ]
  },
  {
   "cell_type": "code",
   "execution_count": null,
   "id": "78b1a0ec-69d1-4b61-b4b2-5c4861050e75",
   "metadata": {},
   "outputs": [],
   "source": []
  },
  {
   "cell_type": "code",
   "execution_count": 22,
   "id": "0b79e801-06ae-4497-a7a6-e9a53feda916",
   "metadata": {},
   "outputs": [
    {
     "data": {
      "text/plain": [
       "4"
      ]
     },
     "execution_count": 22,
     "metadata": {},
     "output_type": "execute_result"
    }
   ],
   "source": [
    "# compare with this one \n",
    "rdd3 = sc.parallelize(range(1,50))\n",
    "rdd3.getNumPartitions()\n"
   ]
  },
  {
   "cell_type": "code",
   "execution_count": 23,
   "id": "1c28d1f3-3021-4eb2-8621-535fd9f68143",
   "metadata": {},
   "outputs": [
    {
     "data": {
      "text/plain": [
       "[[1, 2, 3, 4, 5, 6, 7, 8, 9, 10, 11, 12],\n",
       " [13, 14, 15, 16, 17, 18, 19, 20, 21, 22, 23, 24],\n",
       " [25, 26, 27, 28, 29, 30, 31, 32, 33, 34, 35, 36],\n",
       " [37, 38, 39, 40, 41, 42, 43, 44, 45, 46, 47, 48, 49]]"
      ]
     },
     "execution_count": 23,
     "metadata": {},
     "output_type": "execute_result"
    }
   ],
   "source": [
    "rdd3.glom().collect()"
   ]
  },
  {
   "cell_type": "code",
   "execution_count": null,
   "id": "79363f31-28d0-4935-8433-d241727b5564",
   "metadata": {},
   "outputs": [],
   "source": []
  }
 ],
 "metadata": {
  "kernelspec": {
   "display_name": "Python 3 (ipykernel)",
   "language": "python",
   "name": "python3"
  },
  "language_info": {
   "codemirror_mode": {
    "name": "ipython",
    "version": 3
   },
   "file_extension": ".py",
   "mimetype": "text/x-python",
   "name": "python",
   "nbconvert_exporter": "python",
   "pygments_lexer": "ipython3",
   "version": "3.8.12"
  }
 },
 "nbformat": 4,
 "nbformat_minor": 5
}
