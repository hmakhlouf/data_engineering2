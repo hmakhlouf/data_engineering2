{
 "cells": [
  {
   "cell_type": "code",
   "execution_count": 1,
   "id": "9ff4656f-0f8e-48b2-a6d3-9dfa5e6c8d42",
   "metadata": {},
   "outputs": [],
   "source": [
    "import findspark\n",
    "findspark.init()"
   ]
  },
  {
   "cell_type": "code",
   "execution_count": 2,
   "id": "97e032e2-423c-4ac9-baf5-af1e18b3d2c0",
   "metadata": {},
   "outputs": [
    {
     "name": "stderr",
     "output_type": "stream",
     "text": [
      "22/05/06 22:20:58 WARN Utils: Your hostname, ubuntu-virtual-machine resolves to a loopback address: 127.0.1.1; using 192.168.174.129 instead (on interface ens33)\n",
      "22/05/06 22:20:58 WARN Utils: Set SPARK_LOCAL_IP if you need to bind to another address\n",
      "22/05/06 22:20:59 WARN NativeCodeLoader: Unable to load native-hadoop library for your platform... using builtin-java classes where applicable\n",
      "Using Spark's default log4j profile: org/apache/spark/log4j-defaults.properties\n",
      "Setting default log level to \"WARN\".\n",
      "To adjust logging level use sc.setLogLevel(newLevel). For SparkR, use setLogLevel(newLevel).\n",
      "22/05/06 22:21:00 WARN Utils: Service 'SparkUI' could not bind on port 4040. Attempting port 4041.\n",
      "22/05/06 22:21:00 WARN Utils: Service 'SparkUI' could not bind on port 4041. Attempting port 4042.\n",
      "22/05/06 22:21:00 WARN Utils: Service 'SparkUI' could not bind on port 4042. Attempting port 4043.\n",
      "22/05/06 22:21:00 WARN Utils: Service 'SparkUI' could not bind on port 4043. Attempting port 4044.\n",
      "22/05/06 22:21:00 WARN Utils: Service 'SparkUI' could not bind on port 4044. Attempting port 4045.\n",
      "22/05/06 22:21:00 WARN Utils: Service 'SparkUI' could not bind on port 4045. Attempting port 4046.\n",
      "22/05/06 22:21:00 WARN Utils: Service 'SparkUI' could not bind on port 4046. Attempting port 4047.\n",
      "22/05/06 22:21:00 WARN Utils: Service 'SparkUI' could not bind on port 4047. Attempting port 4048.\n"
     ]
    }
   ],
   "source": [
    "from pyspark import SparkContext\n",
    "sc = SparkContext(\"local\", \"ForEach\")"
   ]
  },
  {
   "cell_type": "code",
   "execution_count": 3,
   "id": "50b8b774-4a5f-4197-9397-70e4b08c1aaa",
   "metadata": {},
   "outputs": [
    {
     "name": "stderr",
     "output_type": "stream",
     "text": [
      "acc 0 value 200 output 200                                          (0 + 1) / 2]\n",
      "acc 0 value 50 output 50\n",
      "acc 0 value 20 output 20\n",
      "acc 0 value 100 output 100\n",
      "acc 0 value 25 output 25\n",
      "acc 200 value 100 output 300                                        (0 + 1) / 2]\n",
      "acc 50 value 25 output 75=============>                             (1 + 1) / 2]\n",
      "                                                                                \r"
     ]
    },
    {
     "data": {
      "text/plain": [
       "[('INFY', 300), ('EMR', 20), ('TSLA', 75)]"
      ]
     },
     "execution_count": 3,
     "metadata": {},
     "output_type": "execute_result"
    }
   ],
   "source": [
    "# foreach \n",
    "# apply a function to each element in the rdd [all partitions]\n",
    "# write any custom functions that deal with db, datastore, cache etc\n",
    "\n",
    "\n",
    "orders = [\n",
    "    # symbol, qty\n",
    "    ('INFY', 200),\n",
    "    ('TSLA', 50),\n",
    "    ('EMR', 20),\n",
    "    ('INFY', 100),\n",
    "    ('TSLA', 25)\n",
    "]\n",
    "\n",
    "def add(acc, value):\n",
    "    output = acc + value\n",
    "    print(\"acc\", acc, \"value\", value, \"output\", output)\n",
    "    return output\n",
    "\n",
    "orderRdd = sc.parallelize(orders, 2)\n",
    "# refer S015-Fold for example,\n",
    "resultRdd = orderRdd.foldByKey(0, add)\n",
    "resultRdd.collect()"
   ]
  },
  {
   "cell_type": "code",
   "execution_count": 4,
   "id": "6424cee1-815a-4c00-99c4-97223f7b3373",
   "metadata": {},
   "outputs": [
    {
     "name": "stderr",
     "output_type": "stream",
     "text": [
      "acc 200 value 100 output 300\n",
      "Saving  ('INFY', 300)  to db \n",
      "Saving  ('EMR', 20)  to db \n",
      "acc 50 value 25 output 75\n",
      "Saving  ('TSLA', 75)  to db \n"
     ]
    }
   ],
   "source": [
    "# resultRdd has result, now we apply foreach, it may store data to data store\n",
    "# good for processing ONE RESULT at a time\n",
    "# foreach executed in executor process, not in driver\n",
    "def updateDB(stock):\n",
    "    #Todo, update, insert, delete record\n",
    "    print(\"Saving \", str(stock), \" to db \")\n",
    "    \n",
    "# foreach is ACTION method\n",
    "resultRdd.foreach(updateDB)"
   ]
  },
  {
   "cell_type": "code",
   "execution_count": 5,
   "id": "fecdb939-7107-4388-9316-f398211ff6cd",
   "metadata": {},
   "outputs": [
    {
     "name": "stderr",
     "output_type": "stream",
     "text": [
      "acc 200 value 100 output 300\n",
      "Process data called \n",
      "Processing  ('INFY', 300)\n",
      "Processing  ('EMR', 20)\n",
      "------------------------------\n",
      "acc 50 value 25 output 75\n",
      "Process data called \n",
      "Processing  ('TSLA', 75)\n",
      "------------------------------\n"
     ]
    }
   ],
   "source": [
    "# foreachPartition\n",
    "# custom logic to handle data in the partitions\n",
    "# runs inside executors\n",
    "# foreach process 1 element at a time, \n",
    "# where as foreachPartition can process all \n",
    "# partition data as bulk\n",
    "# bulk insert/update/delete\n",
    "\n",
    "# iterator will have each partition data as whole\n",
    "# part0 - 5 records, then iterator shall have 5 records\n",
    "# processData is called by foreachPartition on executor for each partition\n",
    "# iterator passed for foreachPartition\n",
    "def processData(iterator):\n",
    "    print(\"Process data called \")\n",
    "    for record in iterator:\n",
    "        print (\"Processing \", str(record))\n",
    "        \n",
    "    print ('-' * 30)\n",
    "# Action method\n",
    "resultRdd.foreachPartition(processData)"
   ]
  },
  {
   "cell_type": "code",
   "execution_count": null,
   "id": "4efe6c29-be24-4890-ab52-ed96ae286356",
   "metadata": {},
   "outputs": [],
   "source": []
  },
  {
   "cell_type": "code",
   "execution_count": null,
   "id": "845a53c3-949e-4a6b-8c86-14f38aebc38a",
   "metadata": {},
   "outputs": [],
   "source": []
  }
 ],
 "metadata": {
  "kernelspec": {
   "display_name": "Python 3 (ipykernel)",
   "language": "python",
   "name": "python3"
  },
  "language_info": {
   "codemirror_mode": {
    "name": "ipython",
    "version": 3
   },
   "file_extension": ".py",
   "mimetype": "text/x-python",
   "name": "python",
   "nbconvert_exporter": "python",
   "pygments_lexer": "ipython3",
   "version": "3.8.12"
  }
 },
 "nbformat": 4,
 "nbformat_minor": 5
}
