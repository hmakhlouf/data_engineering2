{
 "cells": [
  {
   "cell_type": "code",
   "execution_count": 1,
   "id": "069b72e7-ec1d-4a19-9bff-dc04f0a982d8",
   "metadata": {},
   "outputs": [],
   "source": [
    "import findspark\n",
    "findspark.init()"
   ]
  },
  {
   "cell_type": "code",
   "execution_count": 2,
   "id": "861cf8c4-7284-4a6b-80fe-9b2dd354691f",
   "metadata": {},
   "outputs": [
    {
     "name": "stderr",
     "output_type": "stream",
     "text": [
      "22/05/05 19:22:46 WARN Utils: Your hostname, ubuntu-virtual-machine resolves to a loopback address: 127.0.1.1; using 192.168.174.129 instead (on interface ens33)\n",
      "22/05/05 19:22:46 WARN Utils: Set SPARK_LOCAL_IP if you need to bind to another address\n",
      "22/05/05 19:22:47 WARN NativeCodeLoader: Unable to load native-hadoop library for your platform... using builtin-java classes where applicable\n",
      "Using Spark's default log4j profile: org/apache/spark/log4j-defaults.properties\n",
      "Setting default log level to \"WARN\".\n",
      "To adjust logging level use sc.setLogLevel(newLevel). For SparkR, use setLogLevel(newLevel).\n",
      "22/05/05 19:22:51 WARN Utils: Service 'SparkUI' could not bind on port 4040. Attempting port 4041.\n",
      "22/05/05 19:22:51 WARN Utils: Service 'SparkUI' could not bind on port 4041. Attempting port 4042.\n",
      "22/05/05 19:22:51 WARN Utils: Service 'SparkUI' could not bind on port 4042. Attempting port 4043.\n",
      "22/05/05 19:22:51 WARN Utils: Service 'SparkUI' could not bind on port 4043. Attempting port 4044.\n",
      "22/05/05 19:22:51 WARN Utils: Service 'SparkUI' could not bind on port 4044. Attempting port 4045.\n",
      "22/05/05 19:22:51 WARN Utils: Service 'SparkUI' could not bind on port 4045. Attempting port 4046.\n"
     ]
    }
   ],
   "source": [
    "from pyspark import SparkContext\n",
    "sc = SparkContext(\"local\", \"FlatMap\")"
   ]
  },
  {
   "cell_type": "code",
   "execution_count": 9,
   "id": "243582f6-5001-4fb3-8041-9ecf07b14532",
   "metadata": {},
   "outputs": [],
   "source": [
    "# List of List of elementsm\n",
    "#m data has 3 elements, each element is a list \n",
    "data = [\n",
    "    [1,2,3],\n",
    "    [4,5,6],\n",
    "    [7,8,9]\n",
    "]\n",
    "\n",
    "rdd = sc.parallelize(data) # 1 partition, local"
   ]
  },
  {
   "cell_type": "code",
   "execution_count": 10,
   "id": "3403e7de-48bf-405f-bde9-75646838c3ae",
   "metadata": {},
   "outputs": [
    {
     "data": {
      "text/plain": [
       "[[1, 2, 3], [4, 5, 6], [7, 8, 9]]"
      ]
     },
     "execution_count": 10,
     "metadata": {},
     "output_type": "execute_result"
    }
   ],
   "source": [
    "rdd.collect()"
   ]
  },
  {
   "cell_type": "code",
   "execution_count": 7,
   "id": "f5713c79-4a68-464b-8265-ed718d51c2b9",
   "metadata": {},
   "outputs": [
    {
     "name": "stdout",
     "output_type": "stream",
     "text": [
      "Count  3\n"
     ]
    },
    {
     "data": {
      "text/plain": [
       "[[1, 2, 3], [4, 5, 6], [7, 8, 9]]"
      ]
     },
     "execution_count": 7,
     "metadata": {},
     "output_type": "execute_result"
    }
   ],
   "source": [
    "rddMap = rdd.map ( lambda r: r ) # return list as is [1,2,3]\n",
    "# let us see output of map \n",
    "# List of List of elements\n",
    "print(\"Count \", rddMap.count()) # 3\n",
    "rddMap.collect()\n",
    "# we can say map doesn't do anything \n"
   ]
  },
  {
   "cell_type": "code",
   "execution_count": 6,
   "id": "d6cad91d-6212-4925-b51a-e7406a76e25b",
   "metadata": {},
   "outputs": [
    {
     "name": "stdout",
     "output_type": "stream",
     "text": [
      "Count  9\n"
     ]
    },
    {
     "data": {
      "text/plain": [
       "[1, 2, 3, 4, 5, 6, 7, 8, 9]"
      ]
     },
     "execution_count": 6,
     "metadata": {},
     "output_type": "execute_result"
    }
   ],
   "source": [
    "# flatMap\n",
    "# flatten elements inside array into elements\n",
    "# remove the list, project elements are records\n",
    "# each element in the list will be 1 record\n",
    "rddFlatMap = rdd.flatMap (lambda r: r) \n",
    "print (\"Count \", rddFlatMap.count())\n",
    "rddFlatMap.collect()"
   ]
  },
  {
   "cell_type": "code",
   "execution_count": null,
   "id": "da502e4d-db8e-497e-83b0-f03814863c61",
   "metadata": {},
   "outputs": [],
   "source": []
  }
 ],
 "metadata": {
  "kernelspec": {
   "display_name": "Python 3 (ipykernel)",
   "language": "python",
   "name": "python3"
  },
  "language_info": {
   "codemirror_mode": {
    "name": "ipython",
    "version": 3
   },
   "file_extension": ".py",
   "mimetype": "text/x-python",
   "name": "python",
   "nbconvert_exporter": "python",
   "pygments_lexer": "ipython3",
   "version": "3.8.12"
  }
 },
 "nbformat": 4,
 "nbformat_minor": 5
}
