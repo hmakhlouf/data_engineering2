{
 "cells": [
  {
   "cell_type": "code",
   "execution_count": 1,
   "id": "bdf59fbc-00c2-4e58-a0ef-5915f6e089bc",
   "metadata": {},
   "outputs": [],
   "source": [
    "import findspark\n",
    "findspark.init()"
   ]
  },
  {
   "cell_type": "code",
   "execution_count": 2,
   "id": "f4cecc30-8ee2-4545-be37-ffbd7d8a34b8",
   "metadata": {},
   "outputs": [
    {
     "name": "stderr",
     "output_type": "stream",
     "text": [
      "22/05/17 22:05:14 WARN Utils: Your hostname, ubuntu-virtual-machine resolves to a loopback address: 127.0.1.1; using 192.168.174.129 instead (on interface ens33)\n",
      "22/05/17 22:05:14 WARN Utils: Set SPARK_LOCAL_IP if you need to bind to another address\n",
      "22/05/17 22:05:15 WARN NativeCodeLoader: Unable to load native-hadoop library for your platform... using builtin-java classes where applicable\n",
      "Using Spark's default log4j profile: org/apache/spark/log4j-defaults.properties\n",
      "Setting default log level to \"WARN\".\n",
      "To adjust logging level use sc.setLogLevel(newLevel). For SparkR, use setLogLevel(newLevel).\n"
     ]
    }
   ],
   "source": [
    "from pyspark.conf import SparkConf\n",
    "config = SparkConf()\n",
    "# config.set(\"property\", \"value\")\n",
    "config.setMaster(\"local\").setAppName(\"HelloSparkSession\")\n",
    "\n",
    "from pyspark.sql import SparkSession\n",
    "# spark Session, entry point for Spark SQL, DataFrame\n",
    "# in single spark driver/note book/spark application,\n",
    "# there can be many spark sessions, and \n",
    "# only one spark context\n",
    "spark = SparkSession.builder\\\n",
    "                    .config(conf=config)\\\n",
    "                    .getOrCreate()\n",
    "# spark core operations, like rdd, partitions, actions etc\n",
    "# spark session shall use catalyst engine, which will use spark context for low level\n",
    "# code execution\n",
    "sc = spark.sparkContext"
   ]
  },
  {
   "cell_type": "code",
   "execution_count": 3,
   "id": "e3e20670-ebea-401c-9bd8-cea60017be2c",
   "metadata": {},
   "outputs": [
    {
     "name": "stderr",
     "output_type": "stream",
     "text": [
      "                                                                                \r"
     ]
    },
    {
     "name": "stdout",
     "output_type": "stream",
     "text": [
      "+----------+------------+--------+\n",
      "|product_id|product_name|brand_id|\n",
      "+----------+------------+--------+\n",
      "|         1|      iPhone|     100|\n",
      "|         2|      Galaxy|     200|\n",
      "|         3|       Redme|     300|\n",
      "|         4|       Pixel|     400|\n",
      "+----------+------------+--------+\n",
      "\n",
      "+--------+----------+\n",
      "|brand_id|brand_name|\n",
      "+--------+----------+\n",
      "|     100|     Apple|\n",
      "|     200|   Samsung|\n",
      "|     400|    Google|\n",
      "|     500|      Sony|\n",
      "+--------+----------+\n",
      "\n",
      "+--------+----------+\n",
      "|store_id|store_name|\n",
      "+--------+----------+\n",
      "|    1000|  Poorvika|\n",
      "|    2000| Sangeetha|\n",
      "|    4000|    Amazon|\n",
      "|    5000|  FlipKart|\n",
      "+--------+----------+\n",
      "\n"
     ]
    }
   ],
   "source": [
    "# Databricks notebook source\n",
    "# Databricks notebook source\n",
    "products = [ \n",
    "          # (product_id, product_name, brand_id)  \n",
    "         (1, 'iPhone', 100),\n",
    "         (2, 'Galaxy', 200),\n",
    "         (3, 'Redme', 300), #   no matching brand\n",
    "         (4, 'Pixel', 400),\n",
    "]\n",
    "\n",
    "brands = [\n",
    "    #(brand_id, brand_name)\n",
    "    (100, \"Apple\"),\n",
    "    (200, \"Samsung\"),\n",
    "    (400, \"Google\"),\n",
    "    (500, \"Sony\"), # no matching products\n",
    "]\n",
    "\n",
    "\n",
    "\n",
    "productDf = spark.createDataFrame(data=products, schema=[\"product_id\", \"product_name\", \"brand_id\"])\n",
    "productDf.show()\n",
    "\n",
    "brandDf = spark.createDataFrame(data=brands, schema=[\"brand_id\", \"brand_name\"])\n",
    "\n",
    "brandDf.show()\n",
    "\n",
    "store = [\n",
    "    #(store_id, store_name)\n",
    "    (1000, \"Poorvika\"),\n",
    "    (2000, \"Sangeetha\"),\n",
    "    (4000, \"Amazon\"),\n",
    "    (5000, \"FlipKart\"), \n",
    "]\n",
    " \n",
    "storeDf = spark.createDataFrame(data=store, schema=[\"store_id\", \"store_name\"])\n",
    "storeDf.show()"
   ]
  },
  {
   "cell_type": "code",
   "execution_count": 4,
   "id": "11d7b8a9-0d09-4c29-b21c-d9bc30837089",
   "metadata": {},
   "outputs": [],
   "source": [
    "# in any spark application, there will be ONLY ONE spark context\n",
    "# and as many spark sessions allowed\n",
    "\n",
    "\n",
    "spark2 = spark.newSession()"
   ]
  },
  {
   "cell_type": "code",
   "execution_count": 5,
   "id": "d8d2708a-26eb-4602-8713-be0f6590ce02",
   "metadata": {},
   "outputs": [
    {
     "data": {
      "text/html": [
       "\n",
       "            <div>\n",
       "                <p><b>SparkSession - in-memory</b></p>\n",
       "                \n",
       "        <div>\n",
       "            <p><b>SparkContext</b></p>\n",
       "\n",
       "            <p><a href=\"http://192.168.174.129:4040\">Spark UI</a></p>\n",
       "\n",
       "            <dl>\n",
       "              <dt>Version</dt>\n",
       "                <dd><code>v3.1.3</code></dd>\n",
       "              <dt>Master</dt>\n",
       "                <dd><code>local</code></dd>\n",
       "              <dt>AppName</dt>\n",
       "                <dd><code>HelloSparkSession</code></dd>\n",
       "            </dl>\n",
       "        </div>\n",
       "        \n",
       "            </div>\n",
       "        "
      ],
      "text/plain": [
       "<pyspark.sql.session.SparkSession at 0x7f4e9c0a6850>"
      ]
     },
     "execution_count": 5,
     "metadata": {},
     "output_type": "execute_result"
    }
   ],
   "source": [
    "spark  "
   ]
  },
  {
   "cell_type": "code",
   "execution_count": 6,
   "id": "25abba8f-ffac-4206-95d3-84d05efddc4d",
   "metadata": {},
   "outputs": [
    {
     "data": {
      "text/html": [
       "\n",
       "            <div>\n",
       "                <p><b>SparkSession - in-memory</b></p>\n",
       "                \n",
       "        <div>\n",
       "            <p><b>SparkContext</b></p>\n",
       "\n",
       "            <p><a href=\"http://192.168.174.129:4040\">Spark UI</a></p>\n",
       "\n",
       "            <dl>\n",
       "              <dt>Version</dt>\n",
       "                <dd><code>v3.1.3</code></dd>\n",
       "              <dt>Master</dt>\n",
       "                <dd><code>local</code></dd>\n",
       "              <dt>AppName</dt>\n",
       "                <dd><code>HelloSparkSession</code></dd>\n",
       "            </dl>\n",
       "        </div>\n",
       "        \n",
       "            </div>\n",
       "        "
      ],
      "text/plain": [
       "<pyspark.sql.session.SparkSession at 0x7f4e9c0a6b80>"
      ]
     },
     "execution_count": 6,
     "metadata": {},
     "output_type": "execute_result"
    }
   ],
   "source": [
    "spark2"
   ]
  },
  {
   "cell_type": "code",
   "execution_count": 7,
   "id": "5fd24c43-93ca-4728-8b02-9568a39a6b8a",
   "metadata": {},
   "outputs": [],
   "source": [
    "# create product temp table in spark session\n",
    "productDf.createOrReplaceTempView(\"products\")\n"
   ]
  },
  {
   "cell_type": "code",
   "execution_count": 8,
   "id": "e1c06537-2461-4204-b3db-e734a787e9b5",
   "metadata": {},
   "outputs": [
    {
     "name": "stdout",
     "output_type": "stream",
     "text": [
      "+----------+------------+--------+\n",
      "|product_id|product_name|brand_id|\n",
      "+----------+------------+--------+\n",
      "|         1|      iPhone|     100|\n",
      "|         2|      Galaxy|     200|\n",
      "|         3|       Redme|     300|\n",
      "|         4|       Pixel|     400|\n",
      "+----------+------------+--------+\n",
      "\n"
     ]
    }
   ],
   "source": [
    "# now access products from session /knew it will work\n",
    "spark.sql(\"SELECT * FROM products\").show()"
   ]
  },
  {
   "cell_type": "code",
   "execution_count": 9,
   "id": "ae6acc72-2b04-4bf4-a113-67d7e602d4db",
   "metadata": {},
   "outputs": [
    {
     "ename": "AnalysisException",
     "evalue": "Table or view not found: products; line 1 pos 14;\n'Project [*]\n+- 'UnresolvedRelation [products], [], false\n",
     "output_type": "error",
     "traceback": [
      "\u001b[0;31m---------------------------------------------------------------------------\u001b[0m",
      "\u001b[0;31mAnalysisException\u001b[0m                         Traceback (most recent call last)",
      "Input \u001b[0;32mIn [9]\u001b[0m, in \u001b[0;36m<cell line: 2>\u001b[0;34m()\u001b[0m\n\u001b[1;32m      1\u001b[0m \u001b[38;5;66;03m# now try to access products from spark2, IT WILL FAIL, as products table private to spark session\u001b[39;00m\n\u001b[0;32m----> 2\u001b[0m \u001b[43mspark2\u001b[49m\u001b[38;5;241;43m.\u001b[39;49m\u001b[43msql\u001b[49m\u001b[43m(\u001b[49m\u001b[38;5;124;43m\"\u001b[39;49m\u001b[38;5;124;43mSELECT * FROM products\u001b[39;49m\u001b[38;5;124;43m\"\u001b[39;49m\u001b[43m)\u001b[49m\u001b[38;5;241m.\u001b[39mshow()\n",
      "File \u001b[0;32m/opt/spark-3.1.3-bin-hadoop2.7/python/pyspark/sql/session.py:723\u001b[0m, in \u001b[0;36mSparkSession.sql\u001b[0;34m(self, sqlQuery)\u001b[0m\n\u001b[1;32m    707\u001b[0m \u001b[38;5;28;01mdef\u001b[39;00m \u001b[38;5;21msql\u001b[39m(\u001b[38;5;28mself\u001b[39m, sqlQuery):\n\u001b[1;32m    708\u001b[0m     \u001b[38;5;124;03m\"\"\"Returns a :class:`DataFrame` representing the result of the given query.\u001b[39;00m\n\u001b[1;32m    709\u001b[0m \n\u001b[1;32m    710\u001b[0m \u001b[38;5;124;03m    .. versionadded:: 2.0.0\u001b[39;00m\n\u001b[0;32m   (...)\u001b[0m\n\u001b[1;32m    721\u001b[0m \u001b[38;5;124;03m    [Row(f1=1, f2='row1'), Row(f1=2, f2='row2'), Row(f1=3, f2='row3')]\u001b[39;00m\n\u001b[1;32m    722\u001b[0m \u001b[38;5;124;03m    \"\"\"\u001b[39;00m\n\u001b[0;32m--> 723\u001b[0m     \u001b[38;5;28;01mreturn\u001b[39;00m DataFrame(\u001b[38;5;28;43mself\u001b[39;49m\u001b[38;5;241;43m.\u001b[39;49m\u001b[43m_jsparkSession\u001b[49m\u001b[38;5;241;43m.\u001b[39;49m\u001b[43msql\u001b[49m\u001b[43m(\u001b[49m\u001b[43msqlQuery\u001b[49m\u001b[43m)\u001b[49m, \u001b[38;5;28mself\u001b[39m\u001b[38;5;241m.\u001b[39m_wrapped)\n",
      "File \u001b[0;32m/opt/spark-3.1.3-bin-hadoop2.7/python/lib/py4j-0.10.9-src.zip/py4j/java_gateway.py:1304\u001b[0m, in \u001b[0;36mJavaMember.__call__\u001b[0;34m(self, *args)\u001b[0m\n\u001b[1;32m   1298\u001b[0m command \u001b[38;5;241m=\u001b[39m proto\u001b[38;5;241m.\u001b[39mCALL_COMMAND_NAME \u001b[38;5;241m+\u001b[39m\\\n\u001b[1;32m   1299\u001b[0m     \u001b[38;5;28mself\u001b[39m\u001b[38;5;241m.\u001b[39mcommand_header \u001b[38;5;241m+\u001b[39m\\\n\u001b[1;32m   1300\u001b[0m     args_command \u001b[38;5;241m+\u001b[39m\\\n\u001b[1;32m   1301\u001b[0m     proto\u001b[38;5;241m.\u001b[39mEND_COMMAND_PART\n\u001b[1;32m   1303\u001b[0m answer \u001b[38;5;241m=\u001b[39m \u001b[38;5;28mself\u001b[39m\u001b[38;5;241m.\u001b[39mgateway_client\u001b[38;5;241m.\u001b[39msend_command(command)\n\u001b[0;32m-> 1304\u001b[0m return_value \u001b[38;5;241m=\u001b[39m \u001b[43mget_return_value\u001b[49m\u001b[43m(\u001b[49m\n\u001b[1;32m   1305\u001b[0m \u001b[43m    \u001b[49m\u001b[43manswer\u001b[49m\u001b[43m,\u001b[49m\u001b[43m \u001b[49m\u001b[38;5;28;43mself\u001b[39;49m\u001b[38;5;241;43m.\u001b[39;49m\u001b[43mgateway_client\u001b[49m\u001b[43m,\u001b[49m\u001b[43m \u001b[49m\u001b[38;5;28;43mself\u001b[39;49m\u001b[38;5;241;43m.\u001b[39;49m\u001b[43mtarget_id\u001b[49m\u001b[43m,\u001b[49m\u001b[43m \u001b[49m\u001b[38;5;28;43mself\u001b[39;49m\u001b[38;5;241;43m.\u001b[39;49m\u001b[43mname\u001b[49m\u001b[43m)\u001b[49m\n\u001b[1;32m   1307\u001b[0m \u001b[38;5;28;01mfor\u001b[39;00m temp_arg \u001b[38;5;129;01min\u001b[39;00m temp_args:\n\u001b[1;32m   1308\u001b[0m     temp_arg\u001b[38;5;241m.\u001b[39m_detach()\n",
      "File \u001b[0;32m/opt/spark-3.1.3-bin-hadoop2.7/python/pyspark/sql/utils.py:117\u001b[0m, in \u001b[0;36mcapture_sql_exception.<locals>.deco\u001b[0;34m(*a, **kw)\u001b[0m\n\u001b[1;32m    113\u001b[0m converted \u001b[38;5;241m=\u001b[39m convert_exception(e\u001b[38;5;241m.\u001b[39mjava_exception)\n\u001b[1;32m    114\u001b[0m \u001b[38;5;28;01mif\u001b[39;00m \u001b[38;5;129;01mnot\u001b[39;00m \u001b[38;5;28misinstance\u001b[39m(converted, UnknownException):\n\u001b[1;32m    115\u001b[0m     \u001b[38;5;66;03m# Hide where the exception came from that shows a non-Pythonic\u001b[39;00m\n\u001b[1;32m    116\u001b[0m     \u001b[38;5;66;03m# JVM exception message.\u001b[39;00m\n\u001b[0;32m--> 117\u001b[0m     \u001b[38;5;28;01mraise\u001b[39;00m converted \u001b[38;5;28;01mfrom\u001b[39;00m \u001b[38;5;28mNone\u001b[39m\n\u001b[1;32m    118\u001b[0m \u001b[38;5;28;01melse\u001b[39;00m:\n\u001b[1;32m    119\u001b[0m     \u001b[38;5;28;01mraise\u001b[39;00m\n",
      "\u001b[0;31mAnalysisException\u001b[0m: Table or view not found: products; line 1 pos 14;\n'Project [*]\n+- 'UnresolvedRelation [products], [], false\n"
     ]
    }
   ],
   "source": [
    "# now try to access products from spark2, IT WILL FAIL, as products table private to spark session\n",
    "spark2.sql(\"SELECT * FROM products\").show() # error  AnalysisException: Table or view not found: products; "
   ]
  },
  {
   "cell_type": "code",
   "execution_count": 10,
   "id": "d0b16c7e-a3d6-42da-9274-de4ab8cfc4b2",
   "metadata": {},
   "outputs": [
    {
     "name": "stdout",
     "output_type": "stream",
     "text": [
      "+-----------+---------+-----------+\n",
      "|   database|tableName|isTemporary|\n",
      "+-----------+---------+-----------+\n",
      "|global_temp|   brands|       true|\n",
      "|           | products|       true|\n",
      "+-----------+---------+-----------+\n",
      "\n"
     ]
    }
   ],
   "source": [
    "# now create global temp view global_temp that can be shared across multiple sessions on same notebook\n",
    "\n",
    "brandDf.createOrReplaceGlobalTempView (\"brands\")\n",
    "\n",
    "spark.sql(\"SHOW TABLES IN global_temp\").show()"
   ]
  },
  {
   "cell_type": "code",
   "execution_count": 11,
   "id": "a9c7b290-3b92-47f4-84e5-e881c97797b9",
   "metadata": {},
   "outputs": [
    {
     "name": "stdout",
     "output_type": "stream",
     "text": [
      "+--------+----------+\n",
      "|brand_id|brand_name|\n",
      "+--------+----------+\n",
      "|     100|     Apple|\n",
      "|     200|   Samsung|\n",
      "|     400|    Google|\n",
      "|     500|      Sony|\n",
      "+--------+----------+\n",
      "\n"
     ]
    }
   ],
   "source": [
    "spark.sql(\"SELECT * FROM global_temp.brands\").show()"
   ]
  },
  {
   "cell_type": "code",
   "execution_count": null,
   "id": "57c422e8-8754-42cf-8abc-b6ec90c583fa",
   "metadata": {},
   "outputs": [],
   "source": []
  }
 ],
 "metadata": {
  "kernelspec": {
   "display_name": "Python 3 (ipykernel)",
   "language": "python",
   "name": "python3"
  },
  "language_info": {
   "codemirror_mode": {
    "name": "ipython",
    "version": 3
   },
   "file_extension": ".py",
   "mimetype": "text/x-python",
   "name": "python",
   "nbconvert_exporter": "python",
   "pygments_lexer": "ipython3",
   "version": "3.8.12"
  }
 },
 "nbformat": 4,
 "nbformat_minor": 5
}
