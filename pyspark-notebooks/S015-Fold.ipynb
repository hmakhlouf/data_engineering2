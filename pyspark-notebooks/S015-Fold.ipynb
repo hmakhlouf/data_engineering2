{
 "cells": [
  {
   "cell_type": "code",
   "execution_count": 1,
   "id": "d73adf67-72ea-4c38-87cb-3f8aa8ac6502",
   "metadata": {},
   "outputs": [],
   "source": [
    "import findspark\n",
    "findspark.init()"
   ]
  },
  {
   "cell_type": "code",
   "execution_count": 2,
   "id": "4beedf53-9d09-41a2-8f86-b9336443a0b8",
   "metadata": {},
   "outputs": [
    {
     "name": "stderr",
     "output_type": "stream",
     "text": [
      "22/05/06 21:39:25 WARN Utils: Your hostname, ubuntu-virtual-machine resolves to a loopback address: 127.0.1.1; using 192.168.174.129 instead (on interface ens33)\n",
      "22/05/06 21:39:25 WARN Utils: Set SPARK_LOCAL_IP if you need to bind to another address\n",
      "22/05/06 21:39:26 WARN NativeCodeLoader: Unable to load native-hadoop library for your platform... using builtin-java classes where applicable\n",
      "Using Spark's default log4j profile: org/apache/spark/log4j-defaults.properties\n",
      "Setting default log level to \"WARN\".\n",
      "To adjust logging level use sc.setLogLevel(newLevel). For SparkR, use setLogLevel(newLevel).\n",
      "22/05/06 21:39:28 WARN Utils: Service 'SparkUI' could not bind on port 4040. Attempting port 4041.\n",
      "22/05/06 21:39:28 WARN Utils: Service 'SparkUI' could not bind on port 4041. Attempting port 4042.\n",
      "22/05/06 21:39:28 WARN Utils: Service 'SparkUI' could not bind on port 4042. Attempting port 4043.\n",
      "22/05/06 21:39:28 WARN Utils: Service 'SparkUI' could not bind on port 4043. Attempting port 4044.\n",
      "22/05/06 21:39:28 WARN Utils: Service 'SparkUI' could not bind on port 4044. Attempting port 4045.\n",
      "22/05/06 21:39:28 WARN Utils: Service 'SparkUI' could not bind on port 4045. Attempting port 4046.\n",
      "22/05/06 21:39:28 WARN Utils: Service 'SparkUI' could not bind on port 4046. Attempting port 4047.\n"
     ]
    }
   ],
   "source": [
    "from pyspark import SparkContext\n",
    "sc = SparkContext(\"local\", \"Fold\")"
   ]
  },
  {
   "cell_type": "code",
   "execution_count": 3,
   "id": "c868efc3-5fb6-4061-a3c5-3eab9e97118c",
   "metadata": {},
   "outputs": [],
   "source": [
    "# fold is useful for aggregate\n",
    "# fold has initial value to start with where as reduce will  take first value as reduce\n",
    "\n",
    "def add(acc, value):\n",
    "    result = acc + value\n",
    "    print(\"acc\", acc, \"value\", value, \"output\", result)\n",
    "    return result"
   ]
  },
  {
   "cell_type": "code",
   "execution_count": 4,
   "id": "58c5ab5f-4c54-445d-a73b-72330ec01656",
   "metadata": {},
   "outputs": [],
   "source": [
    "rdd = sc.parallelize([10,20,30,40,50])"
   ]
  },
  {
   "cell_type": "code",
   "execution_count": 5,
   "id": "a9cef0fd-7626-45f8-9516-b309c0b045ce",
   "metadata": {},
   "outputs": [
    {
     "name": "stderr",
     "output_type": "stream",
     "text": [
      "[Stage 0:>                                                          (0 + 1) / 1]\r"
     ]
    },
    {
     "name": "stdout",
     "output_type": "stream",
     "text": [
      "acc 0 value 150 output 150\n"
     ]
    },
    {
     "name": "stderr",
     "output_type": "stream",
     "text": [
      "acc 0 value 10 output 10\n",
      "acc 10 value 20 output 30\n",
      "acc 30 value 30 output 60\n",
      "acc 60 value 40 output 100\n",
      "acc 100 value 50 output 150\n",
      "                                                                                \r"
     ]
    },
    {
     "data": {
      "text/plain": [
       "150"
      ]
     },
     "execution_count": 5,
     "metadata": {},
     "output_type": "execute_result"
    }
   ],
   "source": [
    "# fold with aggregate with start value 0\n",
    "# fold is action method\n",
    "# fold works with each partition first, calculate add function on each partition\n",
    "# + it will apply result of all paritions into again another folder\n",
    "# return value of add is passed as input with next number in seq\n",
    "\n",
    "# after processing data from partition 0, it got result 150\n",
    "# then it will apply add function across partition result  acc 0 value 150\n",
    "rdd.fold (0, add) # output shall be 150 = 10 + 20 + 30 + 40 + 50"
   ]
  },
  {
   "cell_type": "code",
   "execution_count": 9,
   "id": "3e3b3a3c-0caf-4e46-9d1a-87c8d9753d9f",
   "metadata": {},
   "outputs": [
    {
     "name": "stdout",
     "output_type": "stream",
     "text": [
      "results 150\n"
     ]
    }
   ],
   "source": [
    "# reduce function, agregation \n",
    "# the fisrt instance/value used as initial/sed values \n",
    "result = rdd.reduce(lambda ac, val: ac + val)\n",
    "print(\"results\", result)\n"
   ]
  },
  {
   "cell_type": "code",
   "execution_count": 10,
   "id": "189564ae-927b-42c0-84ef-d213391b30da",
   "metadata": {},
   "outputs": [
    {
     "name": "stdout",
     "output_type": "stream",
     "text": [
      "results 50\n"
     ]
    }
   ],
   "source": [
    "result = rdd.reduce(lambda ac, val: max(ac , val))\n",
    "print(\"results\", result)"
   ]
  },
  {
   "cell_type": "code",
   "execution_count": 12,
   "id": "99cd30c7-b214-45bf-9732-430275747685",
   "metadata": {},
   "outputs": [
    {
     "data": {
      "text/plain": [
       "50"
      ]
     },
     "execution_count": 12,
     "metadata": {},
     "output_type": "execute_result"
    }
   ],
   "source": [
    "# in build rd\n",
    "rdd.max()"
   ]
  },
  {
   "cell_type": "raw",
   "id": "e3172a2f-116c-4610-b0b6-c721a07561ae",
   "metadata": {},
   "source": [
    "# ?\n",
    "rdd.min()"
   ]
  },
  {
   "cell_type": "code",
   "execution_count": null,
   "id": "25f4318c-93a9-4692-90d8-14981b681d77",
   "metadata": {},
   "outputs": [],
   "source": []
  },
  {
   "cell_type": "code",
   "execution_count": 6,
   "id": "2f461051-0cc6-4b6d-9640-dd66712234e5",
   "metadata": {},
   "outputs": [
    {
     "name": "stderr",
     "output_type": "stream",
     "text": [
      "acc 0 value 200 output 200\n",
      "acc 0 value 50 output 50\n",
      "acc 0 value 20 output 20\n",
      "acc 200 value 100 output 300\n",
      "acc 50 value 25 output 75\n",
      "                                                                                \r"
     ]
    },
    {
     "data": {
      "text/plain": [
       "[('INFY', 300), ('TSLA', 75), ('EMR', 20)]"
      ]
     },
     "execution_count": 6,
     "metadata": {},
     "output_type": "execute_result"
    }
   ],
   "source": [
    "# FoldByKey\n",
    "# similar to fold, where as fold is applied on all the values in RDD in partition\n",
    "# foldByKey is used against (Key,Value) paired rdd, key/value rdd\n",
    "# fold work based on key\n",
    "\n",
    "orders = [\n",
    "    # symbol, qty\n",
    "    ('INFY', 200),\n",
    "    ('TSLA', 50),\n",
    "    ('EMR', 20),\n",
    "    ('INFY', 100),\n",
    "    ('TSLA', 25)\n",
    "]\n",
    "\n",
    "def add(acc, value):\n",
    "    output = acc + value\n",
    "    print(\"acc\", acc, \"value\", value, \"output\", output)\n",
    "    return output\n",
    "\n",
    "orderRdd = sc.parallelize(orders)\n",
    "# fold by Key, return rdd\n",
    "# When key appear first, it starts with 0, and value\n",
    "# second appearance key, include previous output as input\n",
    "orderRdd.foldByKey(0, add).collect()"
   ]
  },
  {
   "cell_type": "code",
   "execution_count": null,
   "id": "cda09247-7fb5-4187-a74e-286f189aec30",
   "metadata": {},
   "outputs": [],
   "source": []
  }
 ],
 "metadata": {
  "kernelspec": {
   "display_name": "Python 3 (ipykernel)",
   "language": "python",
   "name": "python3"
  },
  "language_info": {
   "codemirror_mode": {
    "name": "ipython",
    "version": 3
   },
   "file_extension": ".py",
   "mimetype": "text/x-python",
   "name": "python",
   "nbconvert_exporter": "python",
   "pygments_lexer": "ipython3",
   "version": "3.8.12"
  }
 },
 "nbformat": 4,
 "nbformat_minor": 5
}
