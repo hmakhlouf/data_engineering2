{
 "cells": [
  {
   "cell_type": "code",
   "execution_count": 1,
   "id": "db21e56c-bff9-4f4d-81cd-c4d3fecf9ca3",
   "metadata": {},
   "outputs": [],
   "source": [
    "import findspark\n",
    "findspark.init()"
   ]
  },
  {
   "cell_type": "code",
   "execution_count": 2,
   "id": "8d7acd6d-b3d2-4f71-83da-2d06c07f7b3d",
   "metadata": {},
   "outputs": [
    {
     "name": "stderr",
     "output_type": "stream",
     "text": [
      "Warning: Ignoring non-Spark config property: hive.metastore.uris\n",
      "Warning: Ignoring non-Spark config property: hive.metastore.warehouse.dir\n",
      "22/05/16 21:03:50 WARN Utils: Your hostname, ubuntu-virtual-machine resolves to a loopback address: 127.0.1.1; using 192.168.174.129 instead (on interface ens33)\n",
      "22/05/16 21:03:50 WARN Utils: Set SPARK_LOCAL_IP if you need to bind to another address\n",
      "22/05/16 21:03:51 WARN NativeCodeLoader: Unable to load native-hadoop library for your platform... using builtin-java classes where applicable\n",
      "Using Spark's default log4j profile: org/apache/spark/log4j-defaults.properties\n",
      "Setting default log level to \"WARN\".\n",
      "To adjust logging level use sc.setLogLevel(newLevel). For SparkR, use setLogLevel(newLevel).\n",
      "22/05/16 21:03:51 WARN SparkConf: Note that spark.local.dir will be overridden by the value set by the cluster manager (via SPARK_LOCAL_DIRS in mesos/standalone/kubernetes and LOCAL_DIRS in YARN).\n",
      "22/05/16 21:03:52 WARN Utils: Service 'SparkUI' could not bind on port 4040. Attempting port 4041.\n"
     ]
    }
   ],
   "source": [
    "from pyspark.conf import SparkConf\n",
    "config = SparkConf()\n",
    "# config.set(\"property\", \"value\")\n",
    "config.setMaster(\"local\").setAppName(\"SparkHiveDatabase\")\n",
    "\n",
    "# centarlized hive meta server\n",
    "# hdfs hive for data warehouse\n",
    "# enable hive support must for sql database\n",
    " \n",
    "config.set(\"spark.local.dir\", \"/home/ubuntu/spark-temp\")\n",
    "\n",
    "# while using hive.metastore.warehouse.dir, we should not use spark warehouse dir\n",
    "\n",
    "config.set(\"hive.metastore.uris\", \"thrift://localhost:9083\")\n",
    "config.set(\"hive.metastore.warehouse.dir\", \"hdfs://localhost:9000/user/hive/warehouse\")\n",
    "\n",
    "\n",
    "from pyspark.sql import SparkSession\n",
    "# spark Session, entry point for Spark SQL, DataFrame\n",
    "\n",
    "# enableHiveSupport() now using hive meta server running as server\n",
    "# multiple notebooks can share hive meta server, work in parallel\n",
    "# we use hive warehouse directory for spark too, this way hive and spark can co-exists\n",
    "# metastore shall have meta data: database, tables, columns, data types, where exactly\n",
    "# data located in hdfs or file system or s3\n",
    "\n",
    "spark = SparkSession.builder\\\n",
    "                    .config(conf=config)\\\n",
    "                    .enableHiveSupport()\\\n",
    "                    .getOrCreate()\n",
    "\n",
    "sc = spark.sparkContext"
   ]
  },
  {
   "cell_type": "code",
   "execution_count": 3,
   "id": "b318dbb5-002f-4900-b75c-70c0acf2a558",
   "metadata": {},
   "outputs": [
    {
     "data": {
      "text/html": [
       "\n",
       "            <div>\n",
       "                <p><b>SparkSession - hive</b></p>\n",
       "                \n",
       "        <div>\n",
       "            <p><b>SparkContext</b></p>\n",
       "\n",
       "            <p><a href=\"http://192.168.174.129:4041\">Spark UI</a></p>\n",
       "\n",
       "            <dl>\n",
       "              <dt>Version</dt>\n",
       "                <dd><code>v3.1.3</code></dd>\n",
       "              <dt>Master</dt>\n",
       "                <dd><code>local</code></dd>\n",
       "              <dt>AppName</dt>\n",
       "                <dd><code>SparkHiveDatabase</code></dd>\n",
       "            </dl>\n",
       "        </div>\n",
       "        \n",
       "            </div>\n",
       "        "
      ],
      "text/plain": [
       "<pyspark.sql.session.SparkSession at 0x7fe14042c6d0>"
      ]
     },
     "execution_count": 3,
     "metadata": {},
     "output_type": "execute_result"
    }
   ],
   "source": [
    "spark"
   ]
  },
  {
   "cell_type": "code",
   "execution_count": 5,
   "id": "d0e4c8e7-a930-4ab7-9f82-8bca34a56153",
   "metadata": {},
   "outputs": [
    {
     "name": "stdout",
     "output_type": "stream",
     "text": [
      "+----------+\n",
      "| namespace|\n",
      "+----------+\n",
      "|   default|\n",
      "|   moviedb|\n",
      "|  ordersdb|\n",
      "|productsdb|\n",
      "+----------+\n",
      "\n"
     ]
    }
   ],
   "source": [
    "spark.sql(\"SHOW DATABASES\").show()"
   ]
  },
  {
   "cell_type": "code",
   "execution_count": 6,
   "id": "f421ee91-9ccd-4dac-9d39-a2deca11eb77",
   "metadata": {},
   "outputs": [
    {
     "name": "stdout",
     "output_type": "stream",
     "text": [
      "+--------+---------+-----------+\n",
      "|database|tableName|isTemporary|\n",
      "+--------+---------+-----------+\n",
      "| moviedb|   movies|      false|\n",
      "| moviedb|  ratings|      false|\n",
      "+--------+---------+-----------+\n",
      "\n"
     ]
    }
   ],
   "source": [
    "spark.sql(\"SHOW TABLES IN moviedb\").show()"
   ]
  },
  {
   "cell_type": "code",
   "execution_count": 11,
   "id": "dcc99aa7-3d85-4d03-9582-233d7d0f6e98",
   "metadata": {},
   "outputs": [
    {
     "name": "stdout",
     "output_type": "stream",
     "text": [
      "+--------+--------------------+--------------------+\n",
      "|movie_id|               title|              genres|\n",
      "+--------+--------------------+--------------------+\n",
      "|    null|               title|              genres|\n",
      "|       1|    Toy Story (1995)|Adventure|Animati...|\n",
      "|       2|      Jumanji (1995)|Adventure|Childre...|\n",
      "|       3|Grumpier Old Men ...|      Comedy|Romance|\n",
      "|       4|Waiting to Exhale...|Comedy|Drama|Romance|\n",
      "|       5|Father of the Bri...|              Comedy|\n",
      "|       6|         Heat (1995)|Action|Crime|Thri...|\n",
      "|       7|      Sabrina (1995)|      Comedy|Romance|\n",
      "|       8| Tom and Huck (1995)|  Adventure|Children|\n",
      "|       9| Sudden Death (1995)|              Action|\n",
      "+--------+--------------------+--------------------+\n",
      "\n"
     ]
    }
   ],
   "source": [
    "# select 10 movies and show\n",
    "spark.sql(\"select * from moviedb.movies limit 10\").show() "
   ]
  },
  {
   "cell_type": "code",
   "execution_count": 12,
   "id": "0c044632-accf-42fc-9534-026b8053b2e4",
   "metadata": {},
   "outputs": [
    {
     "name": "stdout",
     "output_type": "stream",
     "text": [
      "+-------+--------+------+----------------+\n",
      "|user_id|movie_id|rating|rating_timestamp|\n",
      "+-------+--------+------+----------------+\n",
      "|   null|    null|  null|            null|\n",
      "|      1|       1|     4|       964982703|\n",
      "|      1|       3|     4|       964981247|\n",
      "|      1|       6|     4|       964982224|\n",
      "|      1|      47|     5|       964983815|\n",
      "|      1|      50|     5|       964982931|\n",
      "|      1|      70|     3|       964982400|\n",
      "|      1|     101|     5|       964980868|\n",
      "|      1|     110|     4|       964982176|\n",
      "|      1|     151|     5|       964984041|\n",
      "+-------+--------+------+----------------+\n",
      "\n"
     ]
    }
   ],
   "source": [
    "# select 10 ratings and show\n",
    "spark.sql(\"select * from moviedb.ratings limit 10\").show() "
   ]
  },
  {
   "cell_type": "code",
   "execution_count": null,
   "id": "ddf49ac3-5d8a-485a-8d52-c7ef669a0893",
   "metadata": {},
   "outputs": [],
   "source": []
  },
  {
   "cell_type": "code",
   "execution_count": null,
   "id": "4bae0c37-b86f-4804-9d68-8347e119549c",
   "metadata": {},
   "outputs": [],
   "source": []
  },
  {
   "cell_type": "code",
   "execution_count": 25,
   "id": "abc8d904-7fdd-44b9-be73-af10ace50b7e",
   "metadata": {},
   "outputs": [
    {
     "name": "stdout",
     "output_type": "stream",
     "text": [
      "+--------+-----------+------------+\n",
      "|movie_id|avg_ratings|count_rating|\n",
      "+--------+-----------+------------+\n",
      "|    1580|     3.6364|         165|\n",
      "|    2366|     3.7200|          25|\n",
      "|    3175|     3.6933|          75|\n",
      "|    1088|     3.5714|          42|\n",
      "|   32460|     4.5000|           4|\n",
      "|   44022|     3.4783|          23|\n",
      "|   96488|     4.5000|           4|\n",
      "|    1238|     4.1111|           9|\n",
      "|    1342|     2.6364|          11|\n",
      "|    1591|     2.7692|          26|\n",
      "|    1645|     3.5490|          51|\n",
      "|    4519|     3.4444|           9|\n",
      "|    2142|     2.8000|          10|\n",
      "|     471|     3.6500|          40|\n",
      "|    3997|     2.0000|          12|\n",
      "|     833|     2.1667|           6|\n",
      "|    3918|     3.3333|           9|\n",
      "|    7982|     3.7500|           4|\n",
      "|    1959|     3.8000|          15|\n",
      "|   68135|     3.9000|          10|\n",
      "+--------+-----------+------------+\n",
      "only showing top 20 rows\n",
      "\n"
     ]
    }
   ],
   "source": [
    "spark.sql(\"\"\"\n",
    "        SELECT movie_id, avg(rating) as avg_ratings, count(user_id) as count_rating \n",
    "        FROM moviedb.ratings\n",
    "        group by movie_id\n",
    "        \"\"\").show()"
   ]
  },
  {
   "cell_type": "code",
   "execution_count": 29,
   "id": "8b5786d2-e846-455c-bbdd-39f1674ad45d",
   "metadata": {},
   "outputs": [
    {
     "data": {
      "text/plain": [
       "DataFrame[]"
      ]
     },
     "execution_count": 29,
     "metadata": {},
     "output_type": "execute_result"
    }
   ],
   "source": [
    "spark.sql(\"\"\" CREATE OR REPLACE TEMP VIEW most_popular_temp_table AS\n",
    "        SELECT movie_id, avg(rating) as avg_ratings, count(user_id) as total_ratings FROM moviedb.ratings\n",
    "        group by movie_id\n",
    "        HAVING avg_ratings >= 3.5 and total_ratings > 100\n",
    "        \"\"\")\n"
   ]
  },
  {
   "cell_type": "code",
   "execution_count": 30,
   "id": "3675f5b0-0e11-49c9-bc6b-6b70aab7358d",
   "metadata": {},
   "outputs": [
    {
     "name": "stdout",
     "output_type": "stream",
     "text": [
      "+--------+--------------------+-----------+\n",
      "|database|           tableName|isTemporary|\n",
      "+--------+--------------------+-----------+\n",
      "| default|              brands|      false|\n",
      "| default|           employees|      false|\n",
      "|        |most_popular_temp...|       true|\n",
      "+--------+--------------------+-----------+\n",
      "\n"
     ]
    }
   ],
   "source": [
    "spark.sql(\"SHOW TABLES\").show(10)"
   ]
  },
  {
   "cell_type": "code",
   "execution_count": 31,
   "id": "3fb9fcc2-d0a2-4a33-bae7-609d5a1fda41",
   "metadata": {},
   "outputs": [
    {
     "name": "stdout",
     "output_type": "stream",
     "text": [
      "+--------+-----------+-------------+\n",
      "|movie_id|avg_ratings|total_ratings|\n",
      "+--------+-----------+-------------+\n",
      "|    1580|     3.6364|          165|\n",
      "|    1721|     3.5571|          140|\n",
      "|     858|     4.3958|          192|\n",
      "|    1270|     4.1696|          171|\n",
      "|    1265|     4.0699|          143|\n",
      "|     588|     3.8689|          183|\n",
      "|     296|     4.2964|          307|\n",
      "|   68954|     4.1810|          105|\n",
      "|   58559|     4.4295|          149|\n",
      "|     593|     4.2688|          279|\n",
      "+--------+-----------+-------------+\n",
      "only showing top 10 rows\n",
      "\n"
     ]
    }
   ],
   "source": [
    "spark.sql(\"SELECT * FROM most_popular_temp_table\").show(10)"
   ]
  },
  {
   "cell_type": "code",
   "execution_count": null,
   "id": "a685da7b-29a7-4068-a8d3-bfe0578751e0",
   "metadata": {},
   "outputs": [],
   "source": []
  }
 ],
 "metadata": {
  "kernelspec": {
   "display_name": "Python 3 (ipykernel)",
   "language": "python",
   "name": "python3"
  },
  "language_info": {
   "codemirror_mode": {
    "name": "ipython",
    "version": 3
   },
   "file_extension": ".py",
   "mimetype": "text/x-python",
   "name": "python",
   "nbconvert_exporter": "python",
   "pygments_lexer": "ipython3",
   "version": "3.8.12"
  }
 },
 "nbformat": 4,
 "nbformat_minor": 5
}
