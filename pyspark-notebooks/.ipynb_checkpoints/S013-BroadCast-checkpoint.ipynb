{
 "cells": [
  {
   "cell_type": "code",
   "execution_count": 1,
   "id": "f0f69f19-f92f-4b1b-95a5-74817ea75636",
   "metadata": {},
   "outputs": [],
   "source": [
    "import findspark\n",
    "findspark.init()"
   ]
  },
  {
   "cell_type": "code",
   "execution_count": 2,
   "id": "eccd2958-2fa8-48bb-9ce4-935e352f289a",
   "metadata": {},
   "outputs": [
    {
     "name": "stderr",
     "output_type": "stream",
     "text": [
      "22/05/06 01:57:03 WARN Utils: Your hostname, ubuntu-virtual-machine resolves to a loopback address: 127.0.1.1; using 192.168.174.129 instead (on interface ens33)\n",
      "22/05/06 01:57:03 WARN Utils: Set SPARK_LOCAL_IP if you need to bind to another address\n",
      "22/05/06 01:57:04 WARN NativeCodeLoader: Unable to load native-hadoop library for your platform... using builtin-java classes where applicable\n",
      "Using Spark's default log4j profile: org/apache/spark/log4j-defaults.properties\n",
      "Setting default log level to \"WARN\".\n",
      "To adjust logging level use sc.setLogLevel(newLevel). For SparkR, use setLogLevel(newLevel).\n",
      "22/05/06 01:57:05 WARN Utils: Service 'SparkUI' could not bind on port 4040. Attempting port 4041.\n",
      "22/05/06 01:57:05 WARN Utils: Service 'SparkUI' could not bind on port 4041. Attempting port 4042.\n",
      "22/05/06 01:57:05 WARN Utils: Service 'SparkUI' could not bind on port 4042. Attempting port 4043.\n",
      "22/05/06 01:57:05 WARN Utils: Service 'SparkUI' could not bind on port 4043. Attempting port 4044.\n"
     ]
    }
   ],
   "source": [
    "from pyspark import SparkContext\n",
    "sc = SparkContext(\"local\", \"BroadCast\")"
   ]
  },
  {
   "cell_type": "code",
   "execution_count": 3,
   "id": "31beee8a-3528-42cc-aa60-823c37d838de",
   "metadata": {},
   "outputs": [],
   "source": [
    "# check notes s013\n",
    "# python object located in driver/ notebook program memory \n",
    "sector_dict = {\n",
    "        \"MSFT\": \"TECH\",\n",
    "        \"TSLA\": \"AUTO\",\n",
    "        \"EMR\": \"INDUSTRIAL\"\n",
    "}\n",
    "\n",
    "stocks = [\n",
    "    (\"EMR\", 52.0),\n",
    "    (\"TSLA\", 300.0),\n",
    "    (\"MSFT\", 100.0)\n",
    "]"
   ]
  },
  {
   "cell_type": "code",
   "execution_count": 4,
   "id": "976dd07e-889c-4048-940a-2d94c6bc0e51",
   "metadata": {},
   "outputs": [],
   "source": [
    "stocksRdd = sc.parallelize(stocks)"
   ]
  },
  {
   "cell_type": "code",
   "execution_count": 7,
   "id": "22ec3115-28c3-4d04-86ed-56a4a60e1c41",
   "metadata": {},
   "outputs": [
    {
     "name": "stderr",
     "output_type": "stream",
     "text": [
      "                                                                                \r"
     ]
    },
    {
     "data": {
      "text/plain": [
       "[('EMR', 52.0, 'INDUSTRIAL'), ('TSLA', 300.0, 'AUTO'), ('MSFT', 100.0, 'TECH')]"
      ]
     },
     "execution_count": 7,
     "metadata": {},
     "output_type": "execute_result"
    }
   ],
   "source": [
    "#     without boadcast  check notes \n",
    "# code below shall be executed in executor, where as we refer sector_dict in code\n",
    "# how come sector_dict located into driver shall be available in executor?\n",
    "def enrichStockWithSectorWithoutBroadCast(stock):\n",
    "    return stock + (sector_dict[stock[0]] ,)\n",
    "\n",
    "# code marshalling - Python copy the lamnda code to executor system/processor\n",
    "# now enrichStockWithSectorWithoutBroadCast also shipped to executor on every task\n",
    "# sector_dict is copied into executor along with every task\n",
    "# if we have 100 partitions, then we will have 100 tasks, then sector_dict is copied 100 times into exeuctor\n",
    "enrichedRdd = stocksRdd.map (lambda stock: enrichStockWithSectorWithoutBroadCast(stock))\n",
    "enrichedRdd.take(5)\n",
    "\n",
    "\n",
    "\n"
   ]
  },
  {
   "cell_type": "code",
   "execution_count": 9,
   "id": "4ee93655-6f14-45ec-bef5-9ffb4b9e9fd5",
   "metadata": {},
   "outputs": [
    {
     "data": {
      "text/plain": [
       "[('EMR', 52.0, 'INDUSTRIAL'), ('TSLA', 300.0, 'AUTO'), ('MSFT', 100.0, 'TECH')]"
      ]
     },
     "execution_count": 9,
     "metadata": {},
     "output_type": "execute_result"
    }
   ],
   "source": [
    "#      with boadcast  check notes \n",
    "\n",
    "# create broadcasted variabel using Spark Context\n",
    "# this will ensure that sector_dict is kept in every executor \n",
    "# where task shall be running\n",
    "# lazy evaluation, data shall be copied to executors when we run the job\n",
    "broadCastSectorDict = sc.broadcast(sector_dict)\n",
    "\n",
    "# Pyspark see this code, this has reference to broadCastSectorDict\n",
    "# which is broardcast data, pyspark place the broadCastSectorDict in every executor only \n",
    "# 1 time instead of every job\n",
    "# without broadCast, sector_dict shall be copied to executor for every task\n",
    "# add sector code with stock at executor level when task running\n",
    "def enrichStockWithSector(stock):\n",
    "    return stock + (broadCastSectorDict.value[stock[0]] ,)\n",
    "\n",
    "# code marshalling - Python copy the lamnda code to executor system/processor\n",
    "# now enrichStockWithSector also shipped to executor on every task\n",
    "enrichedRdd = stocksRdd.map (lambda stock: enrichStockWithSector(stock))\n",
    "\n",
    "enrichedRdd.take(5)"
   ]
  },
  {
   "cell_type": "code",
   "execution_count": null,
   "id": "af9e7881-c9a1-4ee1-82f4-bc7b7dbc8f6a",
   "metadata": {},
   "outputs": [],
   "source": []
  }
 ],
 "metadata": {
  "kernelspec": {
   "display_name": "Python 3 (ipykernel)",
   "language": "python",
   "name": "python3"
  },
  "language_info": {
   "codemirror_mode": {
    "name": "ipython",
    "version": 3
   },
   "file_extension": ".py",
   "mimetype": "text/x-python",
   "name": "python",
   "nbconvert_exporter": "python",
   "pygments_lexer": "ipython3",
   "version": "3.8.12"
  }
 },
 "nbformat": 4,
 "nbformat_minor": 5
}
