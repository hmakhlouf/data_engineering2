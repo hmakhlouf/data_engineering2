{
 "cells": [
  {
   "cell_type": "code",
   "execution_count": 30,
   "metadata": {},
   "outputs": [],
   "source": [
    "import findspark\n",
    "findspark.init()\n"
   ]
  },
  {
   "cell_type": "code",
   "execution_count": 31,
   "metadata": {},
   "outputs": [],
   "source": [
    "from pyspark.conf import SparkConf\n",
    "config = SparkConf()\n",
    "# config.set(\"property\", \"value\")\n",
    "config.setMaster(\"local\").setAppName(\"Stocks\")\n",
    "\n",
    "from pyspark.sql import SparkSession\n",
    "# spark Session, entry point for Spark SQL, DataFrame\n",
    "spark = SparkSession.builder\\\n",
    "                    .config(conf=config)\\\n",
    "                    .getOrCreate()\n",
    "\n",
    "sc = spark.sparkContext"
   ]
  },
  {
   "cell_type": "code",
   "execution_count": 38,
   "metadata": {},
   "outputs": [],
   "source": [
    "from pyspark.sql.types import StructType, LongType, StringType, IntegerType, DoubleType\n",
    "\n",
    "dailySchema = StructType()\\\n",
    "                .add(\"symbol\", StringType(), True)\\\n",
    "                .add(\"series\", StringType(), True)\\\n",
    "                .add(\"open\", IntegerType(), True)\\\n",
    "                .add(\"high\", IntegerType(), True)\\\n",
    "                .add(\"low\", IntegerType(), True)\\\n",
    "                .add(\"close\", IntegerType(), True)\\\n",
    "                .add(\"last\", IntegerType(), True)\\\n",
    "                .add(\"prev_close\", IntegerType(), True)\\\n",
    "                .add(\"time\", IntegerType(), True)\\\n",
    "                .add(\"total_trades\", IntegerType(), True)\\\n",
    "                .add(\"isin\", IntegerType(), True)\\\n",
    "                .add(\"c_13\", IntegerType(), True)"
   ]
  },
  {
   "cell_type": "code",
   "execution_count": 39,
   "metadata": {},
   "outputs": [
    {
     "name": "stdout",
     "output_type": "stream",
     "text": [
      "root\n",
      " |-- symbol: string (nullable = true)\n",
      " |-- series: string (nullable = true)\n",
      " |-- open: integer (nullable = true)\n",
      " |-- high: integer (nullable = true)\n",
      " |-- low: integer (nullable = true)\n",
      " |-- close: integer (nullable = true)\n",
      " |-- last: integer (nullable = true)\n",
      " |-- prev_close: integer (nullable = true)\n",
      " |-- time: integer (nullable = true)\n",
      " |-- total_trades: integer (nullable = true)\n",
      " |-- isin: integer (nullable = true)\n",
      " |-- c_13: integer (nullable = true)\n",
      "\n",
      "+----------+------+-----+-----+-----+-----+-----+----------+--------+------------+----+------+\n",
      "|    symbol|series| open| high|  low|close| last|prev_close|    time|total_trades|isin|  c_13|\n",
      "+----------+------+-----+-----+-----+-----+-----+----------+--------+------------+----+------+\n",
      "| 20MICRONS|    EQ| null| null| null| null| null|      null|  219912|        null|null|  2642|\n",
      "|21STCENMGM|    EQ| null| null| null| null| null|      null|    1209|        null|null|    45|\n",
      "| 3IINFOLTD|    EQ| null| null| null| null| null|      null| 1092731|        null|null|  7273|\n",
      "|   3MINDIA|    EQ|21480|21480|20730| null|20925|      null|    1823|        null|null|  1120|\n",
      "|    3PLAND|    BE| null| null| null| null| null|      null|    8318|      128580|null|    70|\n",
      "|    5PAISA|    EQ| null| null|  323| null|  325|      null|   26781|        null|null|   753|\n",
      "|   63MOONS|    BE|  205| null| null| null|  207|      null|   56165|        null|null|  1048|\n",
      "| 667GS2050|    GS| null| null|   97|   97|   97|      null|    6795|        null|null|     8|\n",
      "| 676GS2061|    GS| null|  100| null|  100|  100|      null|     210|       20310|null|     2|\n",
      "| 699GS2051|    GS| null|  101| null|  101|  101|      null|     101|       10051|null|     2|\n",
      "| 717GS2028|    GS| null| null| null| null| null|       103|    3000|      309600|null|     1|\n",
      "| 726GS2029|    GS| null| null| null| null| null|      null|      50|        null|null|     1|\n",
      "| 737GS2023|    GS| null| null| null|   96|   96|      null|     150|        null|null|     4|\n",
      "| 772GS2055|    GS| null| null| null| null| null|       115|       2|         229|null|     1|\n",
      "| 795GS2032|    GS|  117|  117|  117|  117|  117|       116|       2|         234|null|     1|\n",
      "| 817GS2044|    GS|  115| null|  115| null| null|       113|       8|        null|null|     2|\n",
      "| 824GS2027|    GS|  104| null|  104| null| null|       109|     100|        null|null|     2|\n",
      "|  A2ZINFRA|    EQ| null| null| null| null| null|      null|  555528|        null|null|   758|\n",
      "|   AAATECH|    SM|   66|   71|   66| null|   71|        67|    9000|      615000|null|     3|\n",
      "|    AAKASH|    BE| null| null| null| null| null|      null|   76613|        null|null|   290|\n",
      "|AAREYDRUGS|    EQ|   43| null| null| null| null|      null|   72654|        null|null|  1482|\n",
      "|     AARON|    EQ| null| null| null| null| null|      null|    4134|      451733|null|   177|\n",
      "|AARTIDRUGS|    EQ|  450| null|  450| null|  460|      null|  100856|        null|null|  6080|\n",
      "|  AARTIIND|    EQ|  915| null| null| null| null|      null|  669553|        null|null| 29192|\n",
      "| AARTISURF|    EQ|  787|  805|  767| null| null|      null|   81193|        null|null|  1390|\n",
      "| AARVEEDEN|    EQ| null| null| null| null| null|      null|   17467|        null|null|   235|\n",
      "|     AARVI|    EQ| null| null| null| null| null|      null|   12944|        null|null|   241|\n",
      "|     AAVAS|    EQ| null| null| 2765| null| 2800|      null|   69702|        null|null| 15023|\n",
      "|      ABAN|    EQ|   43| null|   43| null| null|      null|  235933|        null|null|  2875|\n",
      "|       ABB|    EQ| 2153| null| 2153| null| 2181|      null|  157039|        null|null| 14962|\n",
      "|ABBOTINDIA|    EQ|17500|17500| null| null| null|      null|   29193|        null|null| 10804|\n",
      "| ABCAPITAL|    EQ| null| null| null| null|  105|      null| 3371279|        null|null| 19259|\n",
      "|    ABCOTS|    SM| null|   53| null| null| null|      null|   24000|     1254400|null|     6|\n",
      "|     ABFRL|    EQ| null| null| null| null|  273|      null| 2757606|        null|null| 39457|\n",
      "|   ABINFRA|    SM| null| null| null| null| null|      null|   16000|      161600|null|     4|\n",
      "|ABMINTLLTD|    EQ| null| null| null| null| null|      null|     127|        null|null|    18|\n",
      "|   ABSLAMC|    EQ| null| null| null| null| null|      null|  332073|        null|null| 10970|\n",
      "|ABSLBANETF|    EQ| null| null| null| null| null|      null|   22467|        null|null|   348|\n",
      "|ABSLNN50ET|    EQ| null| null| null| null| null|      null|    2585|        null|null|   113|\n",
      "|       ACC|    EQ| null| null| 2043| null| null|      null|  494931|        null|null| 31949|\n",
      "|   ACCELYA|    EQ|  910| null| null| null|  903|      null|   23341|        null|null|  1695|\n",
      "|  ACCURACY|    EQ| null| null|  226| null|  231|       231|   29189|        null|null|   427|\n",
      "|       ACE|    EQ|  212| null|  212| null| null|      null|  173979|        null|null|  4580|\n",
      "|   ACRYSIL|    EQ|  670|  687| null| null| null|      null|   45518|        null|null|  3707|\n",
      "|  ADANIENT|    EQ| 1638| null| null| null| 1647|      null| 1249817|        null|null| 30797|\n",
      "|ADANIGREEN|    EQ| 1806| 1899| null| null| null|      null|  977410|        null|null| 49266|\n",
      "|ADANIPORTS|    EQ| null| null| null| null| null|      null| 4448558|        null|null| 68822|\n",
      "|ADANIPOWER|    EQ| null| null| null| null| null|      null|37990829|        null|null|122161|\n",
      "|ADANITRANS|    EQ| 2111| null| 2111| null| null|      null|  395273|        null|null| 13638|\n",
      "|  ADFFOODS|    EQ| null| null| null| null|  725|      null|   61392|        null|null|  1299|\n",
      "+----------+------+-----+-----+-----+-----+-----+----------+--------+------------+----+------+\n",
      "only showing top 50 rows\n",
      "\n"
     ]
    },
    {
     "name": "stderr",
     "output_type": "stream",
     "text": [
      "22/05/12 00:10:17 WARN CSVHeaderChecker: Number of column in CSV header is not equal to number of fields in the schema:\n",
      " Header length: 14, schema size: 12\n",
      "CSV file: hdfs://localhost:9000/stocks/daily/cm02MAR2022bhav.csv\n"
     ]
    }
   ],
   "source": [
    "stockDailyDf = spark.read.format(\"csv\")\\\n",
    "                .option(\"header\", True)\\\n",
    "                .schema(dailySchema)\\\n",
    "                .load(\"hdfs://localhost:9000/stocks/daily\")\n",
    "\n",
    "stockDailyDf.printSchema()\n",
    "stockDailyDf.show(50)\n",
    "            "
   ]
  },
  {
   "cell_type": "code",
   "execution_count": 13,
   "metadata": {},
   "outputs": [
    {
     "name": "stdout",
     "output_type": "stream",
     "text": [
      "+--------------------+------------------+----------+------+------------+\n",
      "|        Company Name|          Industry|    Symbol|Series|   ISIN Code|\n",
      "+--------------------+------------------+----------+------+------------+\n",
      "|      Axis Bank Ltd.|FINANCIAL SERVICES|  AXISBANK|    EQ|INE238A01034|\n",
      "|  Bajaj Finance Ltd.|FINANCIAL SERVICES|BAJFINANCE|    EQ|INE296A01024|\n",
      "|  Bajaj Finserv Ltd.|FINANCIAL SERVICES|BAJAJFINSV|    EQ|INE918I01018|\n",
      "|Cholamandalam Inv...|FINANCIAL SERVICES|  CHOLAFIN|    EQ|INE121A01024|\n",
      "+--------------------+------------------+----------+------+------------+\n",
      "only showing top 4 rows\n",
      "\n"
     ]
    }
   ],
   "source": [
    "stockSectorsDf = spark.read.format(\"csv\")\\\n",
    "                .option(\"header\", True)\\\n",
    "                .option(\"inferSchema\", True)\\\n",
    "                .load(\"hdfs://localhost:9000/stocks/sectors\")\n",
    "\n",
    "#stockSectorsDf.printSchema()\n",
    "\n",
    "stockSectorsDf.show(4)"
   ]
  },
  {
   "cell_type": "code",
   "execution_count": 27,
   "metadata": {},
   "outputs": [
    {
     "name": "stdout",
     "output_type": "stream",
     "text": [
      "+----------+-------+----------+\n",
      "|    SYMBOL|   OPEN|  Industry|\n",
      "+----------+-------+----------+\n",
      "|ABBOTINDIA|17500.0|    PHARMA|\n",
      "|  ADANIENT| 1638.0|    METALS|\n",
      "|     ALKEM| 3239.0|    PHARMA|\n",
      "|     ALKEM| 3239.0|    PHARMA|\n",
      "|AMARAJABAT|  560.0|AUTOMOBILE|\n",
      "+----------+-------+----------+\n",
      "only showing top 5 rows\n",
      "\n"
     ]
    }
   ],
   "source": [
    "stocksDf = stockSectorsDf.join(stockDailyDf, stockSectorsDf.Symbol == stockDailyDf.SYMBOL)\\\n",
    "                         .select(stockDailyDf.SYMBOL, \"OPEN\",  \"Industry\")\n",
    "                         #.sort(desc(\"OPEN\"))\n",
    "stocksDf.show(5)"
   ]
  },
  {
   "cell_type": "code",
   "execution_count": null,
   "metadata": {},
   "outputs": [],
   "source": []
  }
 ],
 "metadata": {
  "kernelspec": {
   "display_name": "Python 3 (ipykernel)",
   "language": "python",
   "name": "python3"
  },
  "language_info": {
   "codemirror_mode": {
    "name": "ipython",
    "version": 3
   },
   "file_extension": ".py",
   "mimetype": "text/x-python",
   "name": "python",
   "nbconvert_exporter": "python",
   "pygments_lexer": "ipython3",
   "version": "3.7.4"
  }
 },
 "nbformat": 4,
 "nbformat_minor": 5
}
