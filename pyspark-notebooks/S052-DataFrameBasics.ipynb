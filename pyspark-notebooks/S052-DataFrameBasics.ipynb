{
 "cells": [
  {
   "cell_type": "code",
   "execution_count": 1,
   "id": "8d8b497a-3348-42c6-bf21-abd237730955",
   "metadata": {},
   "outputs": [],
   "source": [
    "import findspark\n",
    "findspark.init()"
   ]
  },
  {
   "cell_type": "code",
   "execution_count": 2,
   "id": "4c3ea033-b797-4fdd-9c9a-393477c8d672",
   "metadata": {},
   "outputs": [
    {
     "name": "stderr",
     "output_type": "stream",
     "text": [
      "22/05/09 20:12:53 WARN Utils: Your hostname, ubuntu-virtual-machine resolves to a loopback address: 127.0.1.1; using 192.168.174.129 instead (on interface ens33)\n",
      "22/05/09 20:12:53 WARN Utils: Set SPARK_LOCAL_IP if you need to bind to another address\n",
      "22/05/09 20:12:54 WARN NativeCodeLoader: Unable to load native-hadoop library for your platform... using builtin-java classes where applicable\n",
      "Using Spark's default log4j profile: org/apache/spark/log4j-defaults.properties\n",
      "Setting default log level to \"WARN\".\n",
      "To adjust logging level use sc.setLogLevel(newLevel). For SparkR, use setLogLevel(newLevel).\n",
      "22/05/09 20:12:58 WARN Utils: Service 'SparkUI' could not bind on port 4040. Attempting port 4041.\n",
      "22/05/09 20:12:58 WARN Utils: Service 'SparkUI' could not bind on port 4041. Attempting port 4042.\n",
      "22/05/09 20:12:58 WARN Utils: Service 'SparkUI' could not bind on port 4042. Attempting port 4043.\n",
      "22/05/09 20:12:58 WARN Utils: Service 'SparkUI' could not bind on port 4043. Attempting port 4044.\n",
      "22/05/09 20:12:58 WARN Utils: Service 'SparkUI' could not bind on port 4044. Attempting port 4045.\n",
      "22/05/09 20:12:58 WARN Utils: Service 'SparkUI' could not bind on port 4045. Attempting port 4046.\n",
      "22/05/09 20:12:58 WARN Utils: Service 'SparkUI' could not bind on port 4046. Attempting port 4047.\n",
      "22/05/09 20:12:58 WARN Utils: Service 'SparkUI' could not bind on port 4047. Attempting port 4048.\n",
      "22/05/09 20:12:58 WARN Utils: Service 'SparkUI' could not bind on port 4048. Attempting port 4049.\n",
      "22/05/09 20:12:58 WARN Utils: Service 'SparkUI' could not bind on port 4049. Attempting port 4050.\n",
      "22/05/09 20:12:58 WARN Utils: Service 'SparkUI' could not bind on port 4050. Attempting port 4051.\n",
      "22/05/09 20:12:58 WARN Utils: Service 'SparkUI' could not bind on port 4051. Attempting port 4052.\n"
     ]
    }
   ],
   "source": [
    "from pyspark.conf import SparkConf\n",
    "config = SparkConf()\n",
    "# config.set(\"property\", \"value\")\n",
    "config.setMaster(\"local\").setAppName(\"DataFrameBasic\")\n",
    "\n",
    "from pyspark.sql import SparkSession\n",
    "# spark Session, entry point for Spark SQL, DataFrame\n",
    "spark = SparkSession.builder\\\n",
    "                    .config(conf=config)\\\n",
    "                    .getOrCreate()\n",
    "\n",
    "sc = spark.sparkContext"
   ]
  },
  {
   "cell_type": "code",
   "execution_count": 3,
   "id": "4f59cc18-7d07-4304-8526-9e40ece4f9a9",
   "metadata": {},
   "outputs": [],
   "source": [
    "# spark dataframe\n",
    "# Structured Data\n",
    "# data + schema\n",
    "# schema will contain columns and data types\n",
    "# data - rows with columns as per schema\n",
    "# DataFrame Core Engine, Spark SQL Core are same\n",
    "# DataFRame internally has RDD,, Rdd[Row]\n",
    "# DataFrame is as alias, the actual data still on RDD only\n",
    "# Data Frame is API, when we call the API, internally API is converted into \n",
    "# various plans [logical, optimized, physical plans] and finally physical plan\n",
    "# used to create Java Byte using Scala\n",
    "# When it comes to execution, it is Still RDD, transformation, action only"
   ]
  },
  {
   "cell_type": "code",
   "execution_count": 4,
   "id": "bce64bce-92d6-474b-b4cd-8fbdf6acdb67",
   "metadata": {},
   "outputs": [
    {
     "name": "stdout",
     "output_type": "stream",
     "text": [
      "root\n",
      " |-- product_id: long (nullable = true)\n",
      " |-- product_name: string (nullable = true)\n",
      " |-- price: double (nullable = true)\n",
      " |-- brand_id: long (nullable = true)\n",
      " |-- offer: long (nullable = true)\n",
      "\n"
     ]
    },
    {
     "name": "stderr",
     "output_type": "stream",
     "text": [
      "[Stage 0:>                                                          (0 + 1) / 1]\r"
     ]
    },
    {
     "name": "stdout",
     "output_type": "stream",
     "text": [
      "+----------+------------+------+--------+-----+\n",
      "|product_id|product_name| price|brand_id|offer|\n",
      "+----------+------------+------+--------+-----+\n",
      "|         1|      iPhone|1000.0|     100|    0|\n",
      "|         2|      Galaxy| 545.5|     101| null|\n",
      "|         3|       Pixel|645.99|     101| null|\n",
      "+----------+------------+------+--------+-----+\n",
      "\n"
     ]
    },
    {
     "name": "stderr",
     "output_type": "stream",
     "text": [
      "                                                                                \r"
     ]
    }
   ],
   "source": [
    "products = [\n",
    "    # (product_id, product_name, price, brand_id, offer)\n",
    "    (1, 'iPhone', 1000.0, 100, 0),\n",
    "    (2, 'Galaxy', 545.50, 101, None),\n",
    "    (3, 'Pixel', 645.99, 101, None)\n",
    "]\n",
    "\n",
    "# no data type mentioned, however we will let spark to infer schema by reading data\n",
    "schema = ['product_id', 'product_name', 'price', 'brand_id', 'offer']\n",
    "\n",
    "productDf = spark.createDataFrame(data=products, schema=schema)\n",
    "\n",
    "# every data frame has schema, we can print it\n",
    "productDf.printSchema()\n",
    "# ASCII FORMAT\n",
    "productDf.show() # 20 records"
   ]
  },
  {
   "cell_type": "code",
   "execution_count": 5,
   "id": "8d1f3192-b23b-40ea-ae16-d59a975f3c4d",
   "metadata": {},
   "outputs": [
    {
     "data": {
      "text/plain": [
       "[Row(product_id=1, product_name='iPhone', price=1000.0, brand_id=100, offer=0),\n",
       " Row(product_id=2, product_name='Galaxy', price=545.5, brand_id=101, offer=None),\n",
       " Row(product_id=3, product_name='Pixel', price=645.99, brand_id=101, offer=None)]"
      ]
     },
     "execution_count": 5,
     "metadata": {},
     "output_type": "execute_result"
    }
   ],
   "source": [
    "productDf.rdd.collect()"
   ]
  },
  {
   "cell_type": "code",
   "execution_count": null,
   "id": "da55ae65-9283-4692-b1f6-97b222473cd0",
   "metadata": {},
   "outputs": [],
   "source": []
  }
 ],
 "metadata": {
  "kernelspec": {
   "display_name": "Python 3 (ipykernel)",
   "language": "python",
   "name": "python3"
  },
  "language_info": {
   "codemirror_mode": {
    "name": "ipython",
    "version": 3
   },
   "file_extension": ".py",
   "mimetype": "text/x-python",
   "name": "python",
   "nbconvert_exporter": "python",
   "pygments_lexer": "ipython3",
   "version": "3.8.12"
  }
 },
 "nbformat": 4,
 "nbformat_minor": 5
}
