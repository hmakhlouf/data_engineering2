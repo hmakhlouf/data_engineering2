{
 "cells": [
  {
   "cell_type": "code",
   "execution_count": 1,
   "metadata": {},
   "outputs": [],
   "source": [
    "import findspark \n",
    "findspark.init()"
   ]
  },
  {
   "cell_type": "code",
   "execution_count": 2,
   "metadata": {},
   "outputs": [
    {
     "name": "stderr",
     "output_type": "stream",
     "text": [
      "22/05/16 15:34:51 WARN Utils: Your hostname, Hocines-MacBook-Pro.local resolves to a loopback address: 127.0.0.1; using 10.0.0.164 instead (on interface en0)\n",
      "22/05/16 15:34:51 WARN Utils: Set SPARK_LOCAL_IP if you need to bind to another address\n",
      "Using Spark's default log4j profile: org/apache/spark/log4j-defaults.properties\n",
      "Setting default log level to \"WARN\".\n",
      "To adjust logging level use sc.setLogLevel(newLevel). For SparkR, use setLogLevel(newLevel).\n",
      "22/05/16 15:34:52 WARN NativeCodeLoader: Unable to load native-hadoop library for your platform... using builtin-java classes where applicable\n"
     ]
    }
   ],
   "source": [
    "from pyspark.conf import SparkConf\n",
    "config = SparkConf()\n",
    "config.setMaster(\"spark://10.0.0.164:7077\").setAppName(\"ClusterConfig\")\n",
    "config.set(\"spark.executor.memory\", \"4g\")\n",
    "config.set(\"spark.executor.cores\", 2)\n",
    "config.set(\"spark.cores.max\", 4)\n",
    "config.set(\"spark.driver.memory\", \"4g\")\n",
    "\n",
    "from pyspark.sql import SparkSession\n",
    "spark = SparkSession.builder.config(conf=config).getOrCreate()"
   ]
  },
  {
   "cell_type": "code",
   "execution_count": null,
   "metadata": {},
   "outputs": [],
   "source": [
    "products = [ \n",
    "          # (product_id, product_name, brand_id)  \n",
    "         (1, 'iPhone', 100),\n",
    "         (2, 'Galaxy', 200),\n",
    "         (3, 'Redme', 300), # orphan record, no matching brand\n",
    "         (4, 'Pixel', 400),\n",
    "]\n",
    "\n",
    "brands = [\n",
    "    #(brand_id, brand_name)\n",
    "    (100, \"Apple\"),\n",
    "    (200, \"Samsung\"),\n",
    "    (400, \"Google\"),\n",
    "    (500, \"Sony\"), # no matching products\n",
    "]\n",
    " \n",
    "productDf = spark.createDataFrame(data=products, schema=[\"product_id\", \"product_name\", \"brand_id\"])\n",
    "brandDf = spark.createDataFrame(data=brands, schema=[\"brand_id\", \"brand_name\"])\n",
    "productDf.show()\n",
    "brandDf.show()"
   ]
  },
  {
   "cell_type": "code",
   "execution_count": 3,
   "metadata": {},
   "outputs": [
    {
     "data": {
      "text/html": [
       "\n",
       "            <div>\n",
       "                <p><b>SparkSession - in-memory</b></p>\n",
       "                \n",
       "        <div>\n",
       "            <p><b>SparkContext</b></p>\n",
       "\n",
       "            <p><a href=\"http://10.0.0.164:4040\">Spark UI</a></p>\n",
       "\n",
       "            <dl>\n",
       "              <dt>Version</dt>\n",
       "                <dd><code>v3.2.1</code></dd>\n",
       "              <dt>Master</dt>\n",
       "                <dd><code>spark://10.0.0.164:7077</code></dd>\n",
       "              <dt>AppName</dt>\n",
       "                <dd><code>ClusterConfig</code></dd>\n",
       "            </dl>\n",
       "        </div>\n",
       "        \n",
       "            </div>\n",
       "        "
      ],
      "text/plain": [
       "<pyspark.sql.session.SparkSession at 0x7fd7154dde10>"
      ]
     },
     "execution_count": 3,
     "metadata": {},
     "output_type": "execute_result"
    }
   ],
   "source": [
    "spark"
   ]
  },
  {
   "cell_type": "code",
   "execution_count": null,
   "metadata": {},
   "outputs": [],
   "source": []
  }
 ],
 "metadata": {
  "kernelspec": {
   "display_name": "Python 3 (ipykernel)",
   "language": "python",
   "name": "python3"
  },
  "language_info": {
   "codemirror_mode": {
    "name": "ipython",
    "version": 3
   },
   "file_extension": ".py",
   "mimetype": "text/x-python",
   "name": "python",
   "nbconvert_exporter": "python",
   "pygments_lexer": "ipython3",
   "version": "3.7.4"
  }
 },
 "nbformat": 4,
 "nbformat_minor": 4
}
