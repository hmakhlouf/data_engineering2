{
 "cells": [
  {
   "cell_type": "code",
   "execution_count": 1,
   "id": "5319ef69-184e-4563-b91d-305fe080c1b0",
   "metadata": {},
   "outputs": [],
   "source": [
    "import findspark\n",
    "findspark.init()"
   ]
  },
  {
   "cell_type": "code",
   "execution_count": 2,
   "id": "fef51cb8-a1c6-49c2-9408-6057df1ac422",
   "metadata": {},
   "outputs": [
    {
     "name": "stderr",
     "output_type": "stream",
     "text": [
      "22/05/06 00:49:37 WARN Utils: Your hostname, ubuntu-virtual-machine resolves to a loopback address: 127.0.1.1; using 192.168.174.129 instead (on interface ens33)\n",
      "22/05/06 00:49:37 WARN Utils: Set SPARK_LOCAL_IP if you need to bind to another address\n",
      "22/05/06 00:49:37 WARN NativeCodeLoader: Unable to load native-hadoop library for your platform... using builtin-java classes where applicable\n",
      "Using Spark's default log4j profile: org/apache/spark/log4j-defaults.properties\n",
      "Setting default log level to \"WARN\".\n",
      "To adjust logging level use sc.setLogLevel(newLevel). For SparkR, use setLogLevel(newLevel).\n",
      "22/05/06 00:49:39 WARN Utils: Service 'SparkUI' could not bind on port 4040. Attempting port 4041.\n",
      "22/05/06 00:49:39 WARN Utils: Service 'SparkUI' could not bind on port 4041. Attempting port 4042.\n"
     ]
    }
   ],
   "source": [
    "from pyspark import SparkContext\n",
    "sc = SparkContext(\"local\", \"Join\")"
   ]
  },
  {
   "cell_type": "code",
   "execution_count": 3,
   "id": "64ea77d9-04da-42ed-ab9f-301f025e53fc",
   "metadata": {},
   "outputs": [
    {
     "name": "stderr",
     "output_type": "stream",
     "text": [
      "                                                                                \r"
     ]
    },
    {
     "data": {
      "text/plain": [
       "[(0, ('AUTOMOTIVE', ('TSLA', 100))),\n",
       " (0, ('AUTOMOTIVE', ('GM', 40))),\n",
       " (4, ('MANUFACTURING', ('SYM2', 67))),\n",
       " (1, ('TEXTILE', ('SYM1', 45)))]"
      ]
     },
     "execution_count": 3,
     "metadata": {},
     "output_type": "execute_result"
    }
   ],
   "source": [
    "# joins ,\n",
    "\n",
    "sectors = [\n",
    "    # tuple, the key is used for join purpose\n",
    "    # sector id, sector name\n",
    "    (0, \"AUTOMOTIVE\"),\n",
    "    (1, \"TEXTILE\"),\n",
    "    (2, \"IT\"),\n",
    "    (4, \"MANUFACTURING\")\n",
    "]\n",
    "\n",
    "stocks = [\n",
    "    # key   is used for join purpose\n",
    "    \n",
    "    # key is 0, 1, 4 and value is  (\"TSLA\", 100), SYM1, SYM2\n",
    "    # sector id, symbol, price\n",
    "    (0, (\"TSLA\", 100) ),\n",
    "    (0, (\"GM\", 40 ) ),\n",
    "    (1, (\"SYM1\", 45) ),\n",
    "    (4, (\"SYM2\", 67) )\n",
    "]\n",
    "\n",
    "sectorRdd = sc.parallelize(sectors)\n",
    "stocksRdd = sc.parallelize(stocks)\n",
    "# join based on rdd keys it has to match sectorRdd sector id with stocksRdd sector id\n",
    "joinRdd = sectorRdd.join(stocksRdd)\n",
    "\n",
    "joinRdd.collect()"
   ]
  },
  {
   "cell_type": "code",
   "execution_count": null,
   "id": "563b4d0c-a5df-46a9-bebc-1f20104cedcd",
   "metadata": {},
   "outputs": [],
   "source": []
  }
 ],
 "metadata": {
  "kernelspec": {
   "display_name": "Python 3 (ipykernel)",
   "language": "python",
   "name": "python3"
  },
  "language_info": {
   "codemirror_mode": {
    "name": "ipython",
    "version": 3
   },
   "file_extension": ".py",
   "mimetype": "text/x-python",
   "name": "python",
   "nbconvert_exporter": "python",
   "pygments_lexer": "ipython3",
   "version": "3.8.12"
  }
 },
 "nbformat": 4,
 "nbformat_minor": 5
}
