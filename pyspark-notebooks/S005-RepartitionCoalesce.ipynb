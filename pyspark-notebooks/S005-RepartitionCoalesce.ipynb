{
 "cells": [
  {
   "cell_type": "code",
   "execution_count": 1,
   "id": "cb2ebba3-a55f-444e-b6fa-1f8ef42ae363",
   "metadata": {},
   "outputs": [],
   "source": [
    "import findspark\n",
    "findspark.init()"
   ]
  },
  {
   "cell_type": "code",
   "execution_count": 2,
   "id": "26f44bd9-b927-4777-bdf9-e0fc5e516c90",
   "metadata": {},
   "outputs": [
    {
     "name": "stderr",
     "output_type": "stream",
     "text": [
      "22/05/05 18:51:53 WARN Utils: Your hostname, ubuntu-virtual-machine resolves to a loopback address: 127.0.1.1; using 192.168.174.129 instead (on interface ens33)\n",
      "22/05/05 18:51:53 WARN Utils: Set SPARK_LOCAL_IP if you need to bind to another address\n",
      "22/05/05 18:51:54 WARN NativeCodeLoader: Unable to load native-hadoop library for your platform... using builtin-java classes where applicable\n",
      "Using Spark's default log4j profile: org/apache/spark/log4j-defaults.properties\n",
      "Setting default log level to \"WARN\".\n",
      "To adjust logging level use sc.setLogLevel(newLevel). For SparkR, use setLogLevel(newLevel).\n",
      "22/05/05 18:51:58 WARN Utils: Service 'SparkUI' could not bind on port 4040. Attempting port 4041.\n",
      "22/05/05 18:51:58 WARN Utils: Service 'SparkUI' could not bind on port 4041. Attempting port 4042.\n",
      "22/05/05 18:51:58 WARN Utils: Service 'SparkUI' could not bind on port 4042. Attempting port 4043.\n",
      "22/05/05 18:51:58 WARN Utils: Service 'SparkUI' could not bind on port 4043. Attempting port 4044.\n",
      "22/05/05 18:51:58 WARN Utils: Service 'SparkUI' could not bind on port 4044. Attempting port 4045.\n"
     ]
    }
   ],
   "source": [
    "from pyspark import SparkContext\n",
    "sc = SparkContext(\"local\", \"PartitionExample\")"
   ]
  },
  {
   "cell_type": "code",
   "execution_count": 19,
   "id": "c5e1758e-1f5c-4424-a8f6-2c7167c5d5f6",
   "metadata": {},
   "outputs": [],
   "source": [
    "data = range(1,10)\n",
    "#data = range(1, 50)  no empty partiton \n",
    "rdd = sc.parallelize(data, 2)"
   ]
  },
  {
   "cell_type": "code",
   "execution_count": 20,
   "id": "c129d4c0-466f-4b23-bb0b-15a3461ca95c",
   "metadata": {},
   "outputs": [
    {
     "data": {
      "text/plain": [
       "2"
      ]
     },
     "execution_count": 20,
     "metadata": {},
     "output_type": "execute_result"
    }
   ],
   "source": [
    "rdd.getNumPartitions()"
   ]
  },
  {
   "cell_type": "code",
   "execution_count": 21,
   "id": "f28100fc-b2e6-4dcd-b8ce-9bafb7fa8abd",
   "metadata": {},
   "outputs": [
    {
     "data": {
      "text/plain": [
       "[[1, 2, 3, 4], [5, 6, 7, 8, 9]]"
      ]
     },
     "execution_count": 21,
     "metadata": {},
     "output_type": "execute_result"
    }
   ],
   "source": [
    "rdd.glom().collect()"
   ]
  },
  {
   "cell_type": "code",
   "execution_count": 22,
   "id": "ca94cbee-3783-4ad0-98d1-5b91f017a2d6",
   "metadata": {},
   "outputs": [
    {
     "data": {
      "text/plain": [
       "4"
      ]
     },
     "execution_count": 22,
     "metadata": {},
     "output_type": "execute_result"
    }
   ],
   "source": [
    "# increase partitions to 4\n",
    "# shuffle data from original 2 partitions, data shall be moved to 4 partitions\n",
    "rdd2 = rdd.repartition(4) # 4 partitions\n",
    "\n",
    "rdd2.getNumPartitions() # 4"
   ]
  },
  {
   "cell_type": "code",
   "execution_count": 23,
   "id": "495257f6-9f90-440d-89ad-33a7997d73c4",
   "metadata": {},
   "outputs": [
    {
     "data": {
      "text/plain": [
       "[[], [5, 6, 7, 8, 9], [], [1, 2, 3, 4]]"
      ]
     },
     "execution_count": 23,
     "metadata": {},
     "output_type": "execute_result"
    }
   ],
   "source": [
    "# get the data from newly parttioned rdd\n",
    "# empty [] is partition with empty data, here no shuffling between partitions\n",
    "#task is created for empty partition \n",
    "rdd2.glom().collect()"
   ]
  },
  {
   "cell_type": "code",
   "execution_count": 24,
   "id": "912c8c82-3dd2-442f-a2eb-a8c0f408c98d",
   "metadata": {},
   "outputs": [
    {
     "data": {
      "text/plain": [
       "[[1, 2, 3, 4, 5, 6, 7, 8, 9, 10, 11, 12, 13, 14],\n",
       " [15, 16, 17, 18, 19, 20, 21, 22, 23, 24, 25, 26, 27, 28, 29]]"
      ]
     },
     "execution_count": 24,
     "metadata": {},
     "output_type": "execute_result"
    }
   ],
   "source": [
    "data = range(1, 30)\n",
    "rdd = sc.parallelize(data, 2)\n",
    "rdd.glom().collect()"
   ]
  },
  {
   "cell_type": "code",
   "execution_count": 25,
   "id": "3d893204-22cf-4905-bf76-fb5e858b3779",
   "metadata": {},
   "outputs": [
    {
     "data": {
      "text/plain": [
       "[[11, 12, 13, 14],\n",
       " [15, 16, 17, 18, 19, 20, 21, 22, 23, 24],\n",
       " [25, 26, 27, 28, 29],\n",
       " [1, 2, 3, 4, 5, 6, 7, 8, 9, 10]]"
      ]
     },
     "execution_count": 25,
     "metadata": {},
     "output_type": "execute_result"
    }
   ],
   "source": [
    "# data shuffled into different partitions\n",
    "# increase number of partitions\n",
    "rdd2 = rdd.repartition(4)\n",
    "rdd2.glom().collect()"
   ]
  },
  {
   "cell_type": "code",
   "execution_count": null,
   "id": "61be07b1-dee4-4408-b8da-7fb04331614e",
   "metadata": {},
   "outputs": [],
   "source": []
  },
  {
   "cell_type": "code",
   "execution_count": 26,
   "id": "179d4104-2e91-4a25-8bfb-85e52c45a89e",
   "metadata": {},
   "outputs": [
    {
     "data": {
      "text/plain": [
       "[[1, 2, 3],\n",
       " [4, 5, 6, 7],\n",
       " [8, 9, 10],\n",
       " [11, 12, 13, 14],\n",
       " [15, 16, 17, 18],\n",
       " [19, 20, 21],\n",
       " [22, 23, 24, 25],\n",
       " [26, 27, 28, 29]]"
      ]
     },
     "execution_count": 26,
     "metadata": {},
     "output_type": "execute_result"
    }
   ],
   "source": [
    "data = range(1,30)\n",
    "rdd = sc.parallelize(data, 8) # 8 partitions\n",
    "\n",
    "rdd.glom().collect()"
   ]
  },
  {
   "cell_type": "code",
   "execution_count": 28,
   "id": "4adf03a9-34d9-4324-88cf-8d6adce7dab6",
   "metadata": {},
   "outputs": [
    {
     "data": {
      "text/plain": [
       "[[1, 2, 3, 4, 5, 6, 7, 8, 9, 10, 11, 12, 13, 14],\n",
       " [15, 16, 17, 18, 19, 20, 21, 22, 23, 24, 25, 26, 27, 28, 29]]"
      ]
     },
     "execution_count": 28,
     "metadata": {},
     "output_type": "execute_result"
    }
   ],
   "source": [
    "# to reduce number of partitions\n",
    "# coalecse to reduce the partition\n",
    "# TECHNICALLY reparition also can be used, however use coalecse to reduce partitions\n",
    "# repatition vs coalecese -?? to be discussed later\n",
    "# coalsece try to reduce shuffling \n",
    "\n",
    "rdd2 = rdd.coalesce (2) # reduce to 2 partitions from 8 partitions\n",
    "rdd2.glom().collect()"
   ]
  },
  {
   "cell_type": "code",
   "execution_count": null,
   "id": "a81f24a4-81e6-4902-bc76-9a703ea44d5b",
   "metadata": {},
   "outputs": [],
   "source": []
  }
 ],
 "metadata": {
  "kernelspec": {
   "display_name": "Python 3 (ipykernel)",
   "language": "python",
   "name": "python3"
  },
  "language_info": {
   "codemirror_mode": {
    "name": "ipython",
    "version": 3
   },
   "file_extension": ".py",
   "mimetype": "text/x-python",
   "name": "python",
   "nbconvert_exporter": "python",
   "pygments_lexer": "ipython3",
   "version": "3.8.12"
  }
 },
 "nbformat": 4,
 "nbformat_minor": 5
}
