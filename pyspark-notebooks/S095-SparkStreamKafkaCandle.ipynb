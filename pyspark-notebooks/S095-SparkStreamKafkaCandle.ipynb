{
 "cells": [
  {
   "cell_type": "code",
   "execution_count": 2,
   "id": "dc51168e-370b-4ae5-b989-11aa9962d089",
   "metadata": {},
   "outputs": [],
   "source": [
    "import os\n",
    "# save using vs code\n",
    "SCALA_VERSION = '2.12'\n",
    "SPARK_VERSION = '3.1.3'\n",
    "# Download Kafka Jar file, this for readStream.format(\"kafka\"), \"kafka\" is a driver\n",
    "# kafka driver code is part of Maven Jar file\n",
    "# https://mvnrepository.com/artifact/org.apache.spark/spark-sql-kafka-0-10_2.12/3.1.3\n",
    "# pyspark-shell shall download the jar file behind..\n",
    "os.environ['PYSPARK_SUBMIT_ARGS'] = f'--packages org.apache.spark:spark-sql-kafka-0-10_{SCALA_VERSION}:{SPARK_VERSION} pyspark-shell'"
   ]
  },
  {
   "cell_type": "code",
   "execution_count": 3,
   "id": "be95e5eb-1f2f-4a58-bd2b-7f2b2dfa0020",
   "metadata": {},
   "outputs": [],
   "source": [
    "import findspark\n",
    "findspark.init()"
   ]
  },
  {
   "cell_type": "code",
   "execution_count": 4,
   "id": "732dd0f6-0da7-489c-9cb0-9921e6424968",
   "metadata": {},
   "outputs": [
    {
     "name": "stderr",
     "output_type": "stream",
     "text": [
      "22/05/25 01:43:59 WARN Utils: Your hostname, ubuntu-virtual-machine resolves to a loopback address: 127.0.1.1; using 192.168.174.129 instead (on interface ens33)\n",
      "22/05/25 01:43:59 WARN Utils: Set SPARK_LOCAL_IP if you need to bind to another address\n"
     ]
    },
    {
     "name": "stdout",
     "output_type": "stream",
     "text": [
      ":: loading settings :: url = jar:file:/opt/spark-3.1.3-bin-hadoop2.7/jars/ivy-2.4.0.jar!/org/apache/ivy/core/settings/ivysettings.xml\n"
     ]
    },
    {
     "name": "stderr",
     "output_type": "stream",
     "text": [
      "Ivy Default Cache set to: /home/ubuntu/.ivy2/cache\n",
      "The jars for the packages stored in: /home/ubuntu/.ivy2/jars\n",
      "org.apache.spark#spark-sql-kafka-0-10_2.12 added as a dependency\n",
      ":: resolving dependencies :: org.apache.spark#spark-submit-parent-d6bb808c-a8c3-4d72-8986-67985fb48f5d;1.0\n",
      "\tconfs: [default]\n",
      "\tfound org.apache.spark#spark-sql-kafka-0-10_2.12;3.1.3 in central\n",
      "\tfound org.apache.spark#spark-token-provider-kafka-0-10_2.12;3.1.3 in central\n",
      "\tfound org.apache.kafka#kafka-clients;2.6.0 in central\n",
      "\tfound com.github.luben#zstd-jni;1.4.8-1 in central\n",
      "\tfound org.lz4#lz4-java;1.7.1 in central\n",
      "\tfound org.xerial.snappy#snappy-java;1.1.8.2 in central\n",
      "\tfound org.slf4j#slf4j-api;1.7.30 in central\n",
      "\tfound org.spark-project.spark#unused;1.0.0 in central\n",
      "\tfound org.apache.commons#commons-pool2;2.6.2 in central\n",
      ":: resolution report :: resolve 551ms :: artifacts dl 10ms\n",
      "\t:: modules in use:\n",
      "\tcom.github.luben#zstd-jni;1.4.8-1 from central in [default]\n",
      "\torg.apache.commons#commons-pool2;2.6.2 from central in [default]\n",
      "\torg.apache.kafka#kafka-clients;2.6.0 from central in [default]\n",
      "\torg.apache.spark#spark-sql-kafka-0-10_2.12;3.1.3 from central in [default]\n",
      "\torg.apache.spark#spark-token-provider-kafka-0-10_2.12;3.1.3 from central in [default]\n",
      "\torg.lz4#lz4-java;1.7.1 from central in [default]\n",
      "\torg.slf4j#slf4j-api;1.7.30 from central in [default]\n",
      "\torg.spark-project.spark#unused;1.0.0 from central in [default]\n",
      "\torg.xerial.snappy#snappy-java;1.1.8.2 from central in [default]\n",
      "\t---------------------------------------------------------------------\n",
      "\t|                  |            modules            ||   artifacts   |\n",
      "\t|       conf       | number| search|dwnlded|evicted|| number|dwnlded|\n",
      "\t---------------------------------------------------------------------\n",
      "\t|      default     |   9   |   0   |   0   |   0   ||   9   |   0   |\n",
      "\t---------------------------------------------------------------------\n",
      ":: retrieving :: org.apache.spark#spark-submit-parent-d6bb808c-a8c3-4d72-8986-67985fb48f5d\n",
      "\tconfs: [default]\n",
      "\t0 artifacts copied, 9 already retrieved (0kB/11ms)\n",
      "22/05/25 01:44:01 WARN NativeCodeLoader: Unable to load native-hadoop library for your platform... using builtin-java classes where applicable\n",
      "Using Spark's default log4j profile: org/apache/spark/log4j-defaults.properties\n",
      "Setting default log level to \"WARN\".\n",
      "To adjust logging level use sc.setLogLevel(newLevel). For SparkR, use setLogLevel(newLevel).\n",
      "22/05/25 01:44:02 WARN Utils: Service 'SparkUI' could not bind on port 4040. Attempting port 4041.\n",
      "22/05/25 01:44:02 WARN Utils: Service 'SparkUI' could not bind on port 4041. Attempting port 4042.\n"
     ]
    }
   ],
   "source": [
    "import pyspark\n",
    "\n",
    "\n",
    "from pyspark.sql import SparkSession\n",
    "# spark groupBy has default setting for spark.sql.shuffle.partitions as 200\n",
    "# we set to  4, should NOT be done in production \n",
    "spark = SparkSession.builder.master(\"local[1]\")\\\n",
    "                            .config('spark.sql.shuffle.partitions', 4)\\\n",
    "                            .appName(\"SparkStreamingKafkaCandles\").getOrCreate()"
   ]
  },
  {
   "cell_type": "code",
   "execution_count": 5,
   "id": "30447c21-d3ee-481d-912d-87e3b22979eb",
   "metadata": {},
   "outputs": [],
   "source": [
    "# read from kafka, here spark is consumer for kafka topic called test\n",
    "# spark streaming works as dataframe/sql\n",
    "# group.id is consumer group id\n",
    "# subcribe is kafka topic\n",
    "# \"kafka\" driver is not available by default with spark, we need to download it, we did on cell 1\n",
    "\n",
    "kafkaDf = spark.readStream.format(\"kafka\")\\\n",
    "  .option(\"kafka.bootstrap.servers\", \"localhost:9092\")\\\n",
    "  .option(\"subscribe\", \"stock-ticks\")\\\n",
    "  .option(\"group.id\", \"stock-ticks-group\")\\\n",
    "  .load()"
   ]
  },
  {
   "cell_type": "code",
   "execution_count": 6,
   "id": "2d157440-feb0-45d5-9c3a-d3e329fdd867",
   "metadata": {},
   "outputs": [
    {
     "name": "stdout",
     "output_type": "stream",
     "text": [
      "root\n",
      " |-- key: binary (nullable = true)\n",
      " |-- value: binary (nullable = true)\n",
      " |-- topic: string (nullable = true)\n",
      " |-- partition: integer (nullable = true)\n",
      " |-- offset: long (nullable = true)\n",
      " |-- timestamp: timestamp (nullable = true)\n",
      " |-- timestampType: integer (nullable = true)\n",
      "\n"
     ]
    }
   ],
   "source": [
    "# key and value are binary type, we need to CAST To STRING type\n",
    "kafkaDf.printSchema()\n",
    "# timestampType values\n",
    "# CreateTime:  Timestamp relates to message creation time as set by a Kafka client/producer\n",
    "# LogAppendTime : Timestamp relates to the time a message was appended to a Kafka log.\n",
    "# UnknownType"
   ]
  },
  {
   "cell_type": "code",
   "execution_count": 7,
   "id": "4e556a32-cccc-46dd-a08e-7189ca105e2c",
   "metadata": {},
   "outputs": [
    {
     "name": "stdout",
     "output_type": "stream",
     "text": [
      "root\n",
      " |-- value: string (nullable = true)\n",
      " |-- timestamp: timestamp (nullable = true)\n",
      "\n"
     ]
    }
   ],
   "source": [
    "# Kafka value, key are in binary format\n",
    "# we need to type cast to STRING, \n",
    "# we pick only value, timestamp as we need for 10 minute window\n",
    "ticksDf = kafkaDf.selectExpr(\"CAST(value AS STRING)\", \"timestamp\")\n",
    "ticksDf.printSchema() # we get only value as string"
   ]
  },
  {
   "cell_type": "code",
   "execution_count": 8,
   "id": "000d73c1-27cc-4414-930b-2d758fe704dd",
   "metadata": {},
   "outputs": [],
   "source": [
    "# echoOnconsole = ticksDf\\\n",
    "#                 .writeStream\\\n",
    "#                 .outputMode(\"update\")\\\n",
    "#                 .format(\"console\")\\\n",
    "#                 .option(\"truncate\", False)\\\n",
    "#                 .start() # start the query. spark will subscribe for data"
   ]
  },
  {
   "cell_type": "code",
   "execution_count": 9,
   "id": "445cc59f-0e12-40b7-80aa-e9e212708a70",
   "metadata": {},
   "outputs": [],
   "source": [
    "import pyspark.sql.functions as F\n",
    "from pyspark.sql.types import StructField, StructType, DoubleType, StringType, LongType, TimestampType\n",
    "\n",
    "schema = StructType( [\n",
    "    StructField(\"symbol\", StringType(), True),\n",
    "    StructField(\"price\", DoubleType(), True),\n",
    "    StructField(\"volume\", LongType(), True),\n",
    "    StructField(\"timestamp\", LongType(),  True)\n",
    "])"
   ]
  },
  {
   "cell_type": "code",
   "execution_count": 10,
   "id": "5a453a61-42d9-4111-a920-892238c39362",
   "metadata": {},
   "outputs": [
    {
     "name": "stdout",
     "output_type": "stream",
     "text": [
      "root\n",
      " |-- value: struct (nullable = true)\n",
      " |    |-- symbol: string (nullable = true)\n",
      " |    |-- price: double (nullable = true)\n",
      " |    |-- volume: long (nullable = true)\n",
      " |    |-- timestamp: long (nullable = true)\n",
      " |-- timestamp: timestamp (nullable = true)\n",
      "\n"
     ]
    }
   ],
   "source": [
    "# we parse value which is JSON string to kafka struct, \n",
    "# this create a new column [replacing existing value which is string] with type\n",
    "jsonDf = ticksDf.withColumn(\"value\", F.from_json(\"value\", schema))\n",
    "jsonDf.printSchema()"
   ]
  },
  {
   "cell_type": "code",
   "execution_count": 11,
   "id": "824e346b-e6ed-41c3-bcc6-360616888e33",
   "metadata": {},
   "outputs": [
    {
     "name": "stdout",
     "output_type": "stream",
     "text": [
      "root\n",
      " |-- symbol: string (nullable = true)\n",
      " |-- price: double (nullable = true)\n",
      " |-- volume: long (nullable = true)\n",
      " |-- timestamp: long (nullable = true)\n",
      "\n"
     ]
    }
   ],
   "source": [
    "# now extract all the sub fields symbol, price, volume, timestamp into data frame\n",
    "# exisitng value, timestamp shall be removed. existing timestamp is value produced time, not a stock tick time\n",
    "# value.timestamp that comes from producer is basically a event time\n",
    "stockTickDf = jsonDf.select (F.col(\"value.*\")) # extract all sub fields as schema\n",
    "stockTickDf.printSchema()"
   ]
  },
  {
   "cell_type": "code",
   "execution_count": 12,
   "id": "e9783b29-c74b-41aa-8c0b-a6fc8cf6dede",
   "metadata": {},
   "outputs": [
    {
     "name": "stdout",
     "output_type": "stream",
     "text": [
      "root\n",
      " |-- symbol: string (nullable = true)\n",
      " |-- price: double (nullable = true)\n",
      " |-- volume: long (nullable = true)\n",
      " |-- timestamp: long (nullable = true)\n",
      " |-- traded_value: double (nullable = true)\n",
      "\n"
     ]
    }
   ],
   "source": [
    "stockTickDf = stockTickDf.withColumn(\"traded_value\", F.col(\"price\") * F.col(\"volume\"))\n",
    "stockTickDf.printSchema()"
   ]
  },
  {
   "cell_type": "code",
   "execution_count": 13,
   "id": "79866eab-fbcc-4438-804f-d6f192447072",
   "metadata": {},
   "outputs": [],
   "source": [
    "# we have data coming in stream, each record has timestamp\n",
    "# we have milli seconds 1647283268253, the actual seconds Mon Mar 14 2022 14:41:08\n",
    "# now we have to calculate 1 minute window, sum(volume) up to 1 minute\n",
    "# after conversions, we take timestamp which is truncatd to minute instead of milli seconds, drop temp columns\n",
    "stockTickDf = stockTickDf\\\n",
    "                .withColumn(\"timestampTemp\", (F.col(\"timestamp\") / 1000).cast(\"timestamp\"))\\\n",
    "                .withColumn(\"trade_time\", F.date_trunc(\"minute\", F.col(\"timestampTemp\")))\\\n",
    "                .drop(\"timestamp\")\\\n",
    "                .drop(\"timestampTemp\")\\\n",
    "                .withColumnRenamed(\"trade_time\", \"timestamp\")\n",
    "               \n",
    "\n",
    "# echoOnconsole = stockTickDf\\\n",
    "#                 .writeStream\\\n",
    "#                 .outputMode(\"update\")\\\n",
    "#                 .format(\"console\")\\\n",
    "#                 .option(\"truncate\", False)\\\n",
    "#                 .start() # start the query. spark will subscribe for data"
   ]
  },
  {
   "cell_type": "code",
   "execution_count": 15,
   "id": "617c276f-07c0-411d-8c5c-2b26c6a09c27",
   "metadata": {},
   "outputs": [
    {
     "name": "stdout",
     "output_type": "stream",
     "text": [
      "root\n",
      " |-- symbol: string (nullable = true)\n",
      " |-- window: struct (nullable = false)\n",
      " |    |-- start: timestamp (nullable = true)\n",
      " |    |-- end: timestamp (nullable = true)\n",
      " |-- volume: long (nullable = true)\n",
      " |-- traded_value: double (nullable = true)\n",
      " |-- high: double (nullable = true)\n",
      " |-- low: double (nullable = true)\n",
      " |-- first: double (nullable = true)\n",
      " |-- last: double (nullable = true)\n",
      "\n"
     ]
    },
    {
     "name": "stderr",
     "output_type": "stream",
     "text": [
      "22/05/25 02:05:00 WARN StreamingQueryManager: Temporary checkpoint location created which is deleted normally when the query didn't fail: /tmp/temporary-cd95347e-4c07-4db2-80b1-a037b3ce3f69. If it's required to delete it under any circumstances, please set spark.sql.streaming.forceDeleteTempCheckpointLocation to true. Important to know deleting temp checkpoint folder is best effort.\n",
      "22/05/25 02:05:00 WARN StreamingQueryManager: Stopping existing streaming query [id=a8ba6bc4-73eb-4276-97ed-e11d851f45f6, runId=21c507c3-388e-4056-8929-dcbf1ff3c972], as a new run is being started.\n",
      "22/05/25 02:05:00 WARN Shell: Interrupted while joining on: Thread[Thread-1924,5,main]\n",
      "java.lang.InterruptedException\n",
      "\tat java.lang.Object.wait(Native Method)\n",
      "\tat java.lang.Thread.join(Thread.java:1252)\n",
      "\tat java.lang.Thread.join(Thread.java:1326)\n",
      "\tat org.apache.hadoop.util.Shell.joinThread(Shell.java:629)\n",
      "\tat org.apache.hadoop.util.Shell.runCommand(Shell.java:580)\n",
      "\tat org.apache.hadoop.util.Shell.run(Shell.java:482)\n",
      "\tat org.apache.hadoop.util.Shell$ShellCommandExecutor.execute(Shell.java:776)\n",
      "\tat org.apache.hadoop.util.Shell.execCommand(Shell.java:869)\n",
      "\tat org.apache.hadoop.util.Shell.execCommand(Shell.java:852)\n",
      "\tat org.apache.hadoop.fs.FileUtil.readLink(FileUtil.java:160)\n",
      "\tat org.apache.hadoop.fs.RawLocalFileSystem.deprecatedGetFileLinkStatusInternal(RawLocalFileSystem.java:837)\n",
      "\tat org.apache.hadoop.fs.RawLocalFileSystem.getFileLinkStatusInternal(RawLocalFileSystem.java:826)\n",
      "\tat org.apache.hadoop.fs.RawLocalFileSystem.getFileLinkStatus(RawLocalFileSystem.java:797)\n",
      "\tat org.apache.hadoop.fs.FileSystem.rename(FileSystem.java:1269)\n",
      "\tat org.apache.hadoop.fs.DelegateToFileSystem.renameInternal(DelegateToFileSystem.java:204)\n",
      "\tat org.apache.hadoop.fs.AbstractFileSystem.renameInternal(AbstractFileSystem.java:760)\n",
      "\tat org.apache.hadoop.fs.FilterFs.renameInternal(FilterFs.java:240)\n",
      "\tat org.apache.hadoop.fs.AbstractFileSystem.rename(AbstractFileSystem.java:690)\n",
      "\tat org.apache.hadoop.fs.FileContext.rename(FileContext.java:958)\n",
      "\tat org.apache.spark.sql.execution.streaming.FileContextBasedCheckpointFileManager.renameTempFile(CheckpointFileManager.scala:335)\n",
      "\tat org.apache.spark.sql.execution.streaming.CheckpointFileManager$RenameBasedFSDataOutputStream.close(CheckpointFileManager.scala:147)\n",
      "\tat org.apache.spark.sql.execution.streaming.HDFSMetadataLog.$anonfun$addNewBatchByStream$2(HDFSMetadataLog.scala:176)\n",
      "\tat scala.runtime.java8.JFunction0$mcZ$sp.apply(JFunction0$mcZ$sp.java:23)\n",
      "\tat scala.Option.getOrElse(Option.scala:189)\n",
      "\tat org.apache.spark.sql.execution.streaming.HDFSMetadataLog.addNewBatchByStream(HDFSMetadataLog.scala:171)\n",
      "\tat org.apache.spark.sql.execution.streaming.HDFSMetadataLog.add(HDFSMetadataLog.scala:116)\n",
      "\tat org.apache.spark.sql.execution.streaming.MicroBatchExecution.$anonfun$constructNextBatch$12(MicroBatchExecution.scala:432)\n",
      "\tat scala.runtime.java8.JFunction0$mcV$sp.apply(JFunction0$mcV$sp.java:23)\n",
      "\tat org.apache.spark.sql.execution.streaming.ProgressReporter.reportTimeTaken(ProgressReporter.scala:357)\n",
      "\tat org.apache.spark.sql.execution.streaming.ProgressReporter.reportTimeTaken$(ProgressReporter.scala:355)\n",
      "\tat org.apache.spark.sql.execution.streaming.StreamExecution.reportTimeTaken(StreamExecution.scala:68)\n",
      "\tat org.apache.spark.sql.execution.streaming.MicroBatchExecution.$anonfun$constructNextBatch$1(MicroBatchExecution.scala:430)\n",
      "\tat scala.runtime.java8.JFunction0$mcZ$sp.apply(JFunction0$mcZ$sp.java:23)\n",
      "\tat org.apache.spark.sql.execution.streaming.MicroBatchExecution.withProgressLocked(MicroBatchExecution.scala:613)\n",
      "\tat org.apache.spark.sql.execution.streaming.MicroBatchExecution.constructNextBatch(MicroBatchExecution.scala:378)\n",
      "\tat org.apache.spark.sql.execution.streaming.MicroBatchExecution.$anonfun$runActivatedStream$2(MicroBatchExecution.scala:211)\n",
      "\tat scala.runtime.java8.JFunction0$mcV$sp.apply(JFunction0$mcV$sp.java:23)\n",
      "\tat org.apache.spark.sql.execution.streaming.ProgressReporter.reportTimeTaken(ProgressReporter.scala:357)\n",
      "\tat org.apache.spark.sql.execution.streaming.ProgressReporter.reportTimeTaken$(ProgressReporter.scala:355)\n",
      "\tat org.apache.spark.sql.execution.streaming.StreamExecution.reportTimeTaken(StreamExecution.scala:68)\n",
      "\tat org.apache.spark.sql.execution.streaming.MicroBatchExecution.$anonfun$runActivatedStream$1(MicroBatchExecution.scala:194)\n",
      "\tat org.apache.spark.sql.execution.streaming.ProcessingTimeExecutor.execute(TriggerExecutor.scala:57)\n",
      "\tat org.apache.spark.sql.execution.streaming.MicroBatchExecution.runActivatedStream(MicroBatchExecution.scala:188)\n",
      "\tat org.apache.spark.sql.execution.streaming.StreamExecution.$anonfun$runStream$1(StreamExecution.scala:334)\n",
      "\tat scala.runtime.java8.JFunction0$mcV$sp.apply(JFunction0$mcV$sp.java:23)\n",
      "\tat org.apache.spark.sql.SparkSession.withActive(SparkSession.scala:775)\n",
      "\tat org.apache.spark.sql.execution.streaming.StreamExecution.org$apache$spark$sql$execution$streaming$StreamExecution$$runStream(StreamExecution.scala:317)\n",
      "\tat org.apache.spark.sql.execution.streaming.StreamExecution$$anon$1.run(StreamExecution.scala:244)\n",
      "                                                                                \r"
     ]
    },
    {
     "data": {
      "text/plain": [
       "<pyspark.sql.streaming.StreamingQuery at 0x7fc55820a340>"
      ]
     },
     "execution_count": 15,
     "metadata": {},
     "output_type": "execute_result"
    },
    {
     "name": "stdout",
     "output_type": "stream",
     "text": [
      "-------------------------------------------\n",
      "Batch: 25\n",
      "-------------------------------------------\n",
      "+------+------------------------------------------+------+------------+----+---+-----+----+\n",
      "|symbol|window                                    |volume|traded_value|high|low|first|last|\n",
      "+------+------------------------------------------+------+------------+----+---+-----+----+\n",
      "|TSLA  |{2022-05-25 02:05:00, 2022-05-25 02:06:00}|40    |200.0       |5.0 |5.0|5.0  |5.0 |\n",
      "+------+------------------------------------------+------+------------+----+---+-----+----+\n",
      "\n",
      "-------------------------------------------\n",
      "Batch: 0\n",
      "-------------------------------------------\n",
      "+------+------+------+------------+----+---+-----+----+\n",
      "|symbol|window|volume|traded_value|high|low|first|last|\n",
      "+------+------+------+------------+----+---+-----+----+\n",
      "+------+------+------+------------+----+---+-----+----+\n",
      "\n",
      "-------------------------------------------\n",
      "Batch: 26\n",
      "-------------------------------------------\n",
      "+------+------+------+------------+----+---+-----+----+\n",
      "|symbol|window|volume|traded_value|high|low|first|last|\n",
      "+------+------+------+------------+----+---+-----+----+\n",
      "+------+------+------+------------+----+---+-----+----+\n",
      "\n"
     ]
    },
    {
     "name": "stderr",
     "output_type": "stream",
     "text": [
      "                                                                                \r"
     ]
    },
    {
     "name": "stdout",
     "output_type": "stream",
     "text": [
      "-------------------------------------------\n",
      "Batch: 1\n",
      "-------------------------------------------\n",
      "+------+------------------------------------------+------+------------+----+----+-----+----+\n",
      "|symbol|window                                    |volume|traded_value|high|low |first|last|\n",
      "+------+------------------------------------------+------+------------+----+----+-----+----+\n",
      "|RELAXO|{2022-05-25 02:05:00, 2022-05-25 02:06:00}|40    |1040.0      |26.0|26.0|26.0 |26.0|\n",
      "+------+------------------------------------------+------+------------+----+----+-----+----+\n",
      "\n",
      "-------------------------------------------\n",
      "Batch: 27\n",
      "-------------------------------------------\n",
      "+------+------------------------------------------+------+------------+----+----+-----+----+\n",
      "|symbol|window                                    |volume|traded_value|high|low |first|last|\n",
      "+------+------------------------------------------+------+------------+----+----+-----+----+\n",
      "|RELAXO|{2022-05-25 02:05:00, 2022-05-25 02:06:00}|40    |1040.0      |26.0|26.0|26.0 |26.0|\n",
      "+------+------------------------------------------+------+------------+----+----+-----+----+\n",
      "\n"
     ]
    },
    {
     "name": "stderr",
     "output_type": "stream",
     "text": [
      "22/05/25 02:05:12 WARN HDFSBackedStateStoreProvider: The state for version 25 doesn't exist in loadedMaps. Reading snapshot file and delta files if needed...Note that this is normal for the first batch of starting query.\n",
      "22/05/25 02:05:12 WARN HDFSBackedStateStoreProvider: The state for version 25 doesn't exist in loadedMaps. Reading snapshot file and delta files if needed...Note that this is normal for the first batch of starting query.\n",
      "22/05/25 02:05:12 WARN HDFSBackedStateStoreProvider: The state for version 25 doesn't exist in loadedMaps. Reading snapshot file and delta files if needed...Note that this is normal for the first batch of starting query.\n",
      "22/05/25 02:05:12 WARN HDFSBackedStateStoreProvider: The state for version 25 doesn't exist in loadedMaps. Reading snapshot file and delta files if needed...Note that this is normal for the first batch of starting query.\n",
      "                                                                                \r"
     ]
    },
    {
     "name": "stdout",
     "output_type": "stream",
     "text": [
      "-------------------------------------------\n",
      "Batch: 2\n",
      "-------------------------------------------\n",
      "+------+------+------+------------+----+---+-----+----+\n",
      "|symbol|window|volume|traded_value|high|low|first|last|\n",
      "+------+------+------+------------+----+---+-----+----+\n",
      "+------+------+------+------------+----+---+-----+----+\n",
      "\n"
     ]
    },
    {
     "name": "stderr",
     "output_type": "stream",
     "text": [
      "                                                                                \r"
     ]
    },
    {
     "name": "stdout",
     "output_type": "stream",
     "text": [
      "-------------------------------------------\n",
      "Batch: 28\n",
      "-------------------------------------------\n",
      "+------+------------------------------------------+------+------------+----+----+-----+----+\n",
      "|symbol|window                                    |volume|traded_value|high|low |first|last|\n",
      "+------+------------------------------------------+------+------------+----+----+-----+----+\n",
      "|RELAXO|{2022-05-25 02:05:00, 2022-05-25 02:06:00}|80    |2400.0      |34.0|26.0|26.0 |34.0|\n",
      "+------+------------------------------------------+------+------------+----+----+-----+----+\n",
      "\n",
      "-------------------------------------------\n",
      "Batch: 3\n",
      "-------------------------------------------\n",
      "+------+------------------------------------------+------+------------+----+----+-----+----+\n",
      "|symbol|window                                    |volume|traded_value|high|low |first|last|\n",
      "+------+------------------------------------------+------+------------+----+----+-----+----+\n",
      "|RELAXO|{2022-05-25 02:05:00, 2022-05-25 02:06:00}|80    |2400.0      |34.0|26.0|26.0 |34.0|\n",
      "+------+------------------------------------------+------+------------+----+----+-----+----+\n",
      "\n"
     ]
    },
    {
     "name": "stderr",
     "output_type": "stream",
     "text": [
      "                                                                                \r"
     ]
    },
    {
     "name": "stdout",
     "output_type": "stream",
     "text": [
      "-------------------------------------------\n",
      "Batch: 4\n",
      "-------------------------------------------\n",
      "+------+------------------------------------------+------+------------+----+----+-----+----+\n",
      "|symbol|window                                    |volume|traded_value|high|low |first|last|\n",
      "+------+------------------------------------------+------+------------+----+----+-----+----+\n",
      "|TSLA  |{2022-05-25 02:05:00, 2022-05-25 02:06:00}|30    |990.0       |33.0|33.0|33.0 |33.0|\n",
      "+------+------------------------------------------+------+------------+----+----+-----+----+\n",
      "\n",
      "-------------------------------------------\n",
      "Batch: 29\n",
      "-------------------------------------------\n",
      "+------+------------------------------------------+------+------------+----+---+-----+----+\n",
      "|symbol|window                                    |volume|traded_value|high|low|first|last|\n",
      "+------+------------------------------------------+------+------------+----+---+-----+----+\n",
      "|TSLA  |{2022-05-25 02:05:00, 2022-05-25 02:06:00}|70    |1190.0      |33.0|5.0|5.0  |33.0|\n",
      "+------+------------------------------------------+------+------------+----+---+-----+----+\n",
      "\n"
     ]
    },
    {
     "name": "stderr",
     "output_type": "stream",
     "text": [
      "                                                                                \r"
     ]
    },
    {
     "name": "stdout",
     "output_type": "stream",
     "text": [
      "-------------------------------------------\n",
      "Batch: 5\n",
      "-------------------------------------------\n",
      "+------+------------------------------------------+------+------------+----+----+-----+----+\n",
      "|symbol|window                                    |volume|traded_value|high|low |first|last|\n",
      "+------+------------------------------------------+------+------------+----+----+-----+----+\n",
      "|MARUTI|{2022-05-25 02:05:00, 2022-05-25 02:06:00}|30    |1110.0      |37.0|37.0|37.0 |37.0|\n",
      "+------+------------------------------------------+------+------------+----+----+-----+----+\n",
      "\n",
      "-------------------------------------------\n",
      "Batch: 30\n",
      "-------------------------------------------\n",
      "+------+------------------------------------------+------+------------+----+----+-----+----+\n",
      "|symbol|window                                    |volume|traded_value|high|low |first|last|\n",
      "+------+------------------------------------------+------+------------+----+----+-----+----+\n",
      "|MARUTI|{2022-05-25 02:05:00, 2022-05-25 02:06:00}|30    |1110.0      |37.0|37.0|37.0 |37.0|\n",
      "+------+------------------------------------------+------+------------+----+----+-----+----+\n",
      "\n"
     ]
    },
    {
     "name": "stderr",
     "output_type": "stream",
     "text": [
      "                                                                                \r"
     ]
    },
    {
     "name": "stdout",
     "output_type": "stream",
     "text": [
      "-------------------------------------------\n",
      "Batch: 6\n",
      "-------------------------------------------\n",
      "+------+------------------------------------------+------+------------+----+----+-----+----+\n",
      "|symbol|window                                    |volume|traded_value|high|low |first|last|\n",
      "+------+------------------------------------------+------+------------+----+----+-----+----+\n",
      "|MARUTI|{2022-05-25 02:05:00, 2022-05-25 02:06:00}|70    |1750.0      |37.0|16.0|37.0 |16.0|\n",
      "+------+------------------------------------------+------+------------+----+----+-----+----+\n",
      "\n",
      "-------------------------------------------\n",
      "Batch: 31\n",
      "-------------------------------------------\n",
      "+------+------------------------------------------+------+------------+----+----+-----+----+\n",
      "|symbol|window                                    |volume|traded_value|high|low |first|last|\n",
      "+------+------------------------------------------+------+------------+----+----+-----+----+\n",
      "|MARUTI|{2022-05-25 02:05:00, 2022-05-25 02:06:00}|70    |1750.0      |37.0|16.0|37.0 |16.0|\n",
      "+------+------------------------------------------+------+------------+----+----+-----+----+\n",
      "\n"
     ]
    },
    {
     "name": "stderr",
     "output_type": "stream",
     "text": [
      "                                                                                \r"
     ]
    },
    {
     "name": "stdout",
     "output_type": "stream",
     "text": [
      "-------------------------------------------\n",
      "Batch: 7\n",
      "-------------------------------------------\n",
      "+------+------------------------------------------+------+------------+----+----+-----+----+\n",
      "|symbol|window                                    |volume|traded_value|high|low |first|last|\n",
      "+------+------------------------------------------+------+------------+----+----+-----+----+\n",
      "|RELAXO|{2022-05-25 02:06:00, 2022-05-25 02:07:00}|40    |920.0       |23.0|23.0|23.0 |23.0|\n",
      "+------+------------------------------------------+------+------------+----+----+-----+----+\n",
      "\n",
      "-------------------------------------------\n",
      "Batch: 32\n",
      "-------------------------------------------\n",
      "+------+------------------------------------------+------+------------+----+----+-----+----+\n",
      "|symbol|window                                    |volume|traded_value|high|low |first|last|\n",
      "+------+------------------------------------------+------+------------+----+----+-----+----+\n",
      "|RELAXO|{2022-05-25 02:06:00, 2022-05-25 02:07:00}|40    |920.0       |23.0|23.0|23.0 |23.0|\n",
      "+------+------------------------------------------+------+------------+----+----+-----+----+\n",
      "\n",
      "-------------------------------------------\n",
      "Batch: 8\n",
      "-------------------------------------------\n",
      "+------+------+------+------------+----+---+-----+----+\n",
      "|symbol|window|volume|traded_value|high|low|first|last|\n",
      "+------+------+------+------------+----+---+-----+----+\n",
      "+------+------+------+------------+----+---+-----+----+\n",
      "\n",
      "-------------------------------------------\n",
      "Batch: 33\n",
      "-------------------------------------------\n",
      "+------+------+------+------------+----+---+-----+----+\n",
      "|symbol|window|volume|traded_value|high|low|first|last|\n",
      "+------+------+------+------------+----+---+-----+----+\n",
      "+------+------+------+------------+----+---+-----+----+\n",
      "\n"
     ]
    },
    {
     "name": "stderr",
     "output_type": "stream",
     "text": [
      "                                                                                \r"
     ]
    },
    {
     "name": "stdout",
     "output_type": "stream",
     "text": [
      "-------------------------------------------\n",
      "Batch: 34\n",
      "-------------------------------------------\n",
      "+------+------------------------------------------+------+------------+----+---+-----+----+\n",
      "|symbol|window                                    |volume|traded_value|high|low|first|last|\n",
      "+------+------------------------------------------+------+------------+----+---+-----+----+\n",
      "|TSLA  |{2022-05-25 02:06:00, 2022-05-25 02:07:00}|10    |50.0        |5.0 |5.0|5.0  |5.0 |\n",
      "+------+------------------------------------------+------+------------+----+---+-----+----+\n",
      "\n",
      "-------------------------------------------\n",
      "Batch: 9\n",
      "-------------------------------------------\n",
      "+------+------------------------------------------+------+------------+----+---+-----+----+\n",
      "|symbol|window                                    |volume|traded_value|high|low|first|last|\n",
      "+------+------------------------------------------+------+------------+----+---+-----+----+\n",
      "|TSLA  |{2022-05-25 02:06:00, 2022-05-25 02:07:00}|10    |50.0        |5.0 |5.0|5.0  |5.0 |\n",
      "+------+------------------------------------------+------+------------+----+---+-----+----+\n",
      "\n"
     ]
    },
    {
     "name": "stderr",
     "output_type": "stream",
     "text": [
      "                                                                                \r"
     ]
    },
    {
     "name": "stdout",
     "output_type": "stream",
     "text": [
      "-------------------------------------------\n",
      "Batch: 10\n",
      "-------------------------------------------\n",
      "+------+------------------------------------------+------+------------+----+----+-----+----+\n",
      "|symbol|window                                    |volume|traded_value|high|low |first|last|\n",
      "+------+------------------------------------------+------+------------+----+----+-----+----+\n",
      "|MARUTI|{2022-05-25 02:06:00, 2022-05-25 02:07:00}|50    |850.0       |17.0|17.0|17.0 |17.0|\n",
      "+------+------------------------------------------+------+------------+----+----+-----+----+\n",
      "\n",
      "-------------------------------------------\n",
      "Batch: 35\n",
      "-------------------------------------------\n",
      "+------+------------------------------------------+------+------------+----+----+-----+----+\n",
      "|symbol|window                                    |volume|traded_value|high|low |first|last|\n",
      "+------+------------------------------------------+------+------------+----+----+-----+----+\n",
      "|MARUTI|{2022-05-25 02:06:00, 2022-05-25 02:07:00}|50    |850.0       |17.0|17.0|17.0 |17.0|\n",
      "+------+------------------------------------------+------+------------+----+----+-----+----+\n",
      "\n"
     ]
    },
    {
     "name": "stderr",
     "output_type": "stream",
     "text": [
      "                                                                                \r"
     ]
    },
    {
     "name": "stdout",
     "output_type": "stream",
     "text": [
      "-------------------------------------------\n",
      "Batch: 11\n",
      "-------------------------------------------\n",
      "+------+------------------------------------------+------+------------+----+---+-----+----+\n",
      "|symbol|window                                    |volume|traded_value|high|low|first|last|\n",
      "+------+------------------------------------------+------+------------+----+---+-----+----+\n",
      "|TSLA  |{2022-05-25 02:06:00, 2022-05-25 02:07:00}|60    |2000.0      |39.0|5.0|5.0  |39.0|\n",
      "+------+------------------------------------------+------+------------+----+---+-----+----+\n",
      "\n",
      "-------------------------------------------\n",
      "Batch: 36\n",
      "-------------------------------------------\n",
      "+------+------------------------------------------+------+------------+----+---+-----+----+\n",
      "|symbol|window                                    |volume|traded_value|high|low|first|last|\n",
      "+------+------------------------------------------+------+------------+----+---+-----+----+\n",
      "|TSLA  |{2022-05-25 02:06:00, 2022-05-25 02:07:00}|60    |2000.0      |39.0|5.0|5.0  |39.0|\n",
      "+------+------------------------------------------+------+------------+----+---+-----+----+\n",
      "\n"
     ]
    },
    {
     "name": "stderr",
     "output_type": "stream",
     "text": [
      "                                                                                \r"
     ]
    },
    {
     "name": "stdout",
     "output_type": "stream",
     "text": [
      "-------------------------------------------\n",
      "Batch: 12\n",
      "-------------------------------------------\n",
      "+------+------------------------------------------+------+------------+----+----+-----+----+\n",
      "|symbol|window                                    |volume|traded_value|high|low |first|last|\n",
      "+------+------------------------------------------+------+------------+----+----+-----+----+\n",
      "|MARUTI|{2022-05-25 02:06:00, 2022-05-25 02:07:00}|60    |1160.0      |31.0|17.0|17.0 |31.0|\n",
      "+------+------------------------------------------+------+------------+----+----+-----+----+\n",
      "\n",
      "-------------------------------------------\n",
      "Batch: 37\n",
      "-------------------------------------------\n",
      "+------+------------------------------------------+------+------------+----+----+-----+----+\n",
      "|symbol|window                                    |volume|traded_value|high|low |first|last|\n",
      "+------+------------------------------------------+------+------------+----+----+-----+----+\n",
      "|MARUTI|{2022-05-25 02:06:00, 2022-05-25 02:07:00}|60    |1160.0      |31.0|17.0|17.0 |31.0|\n",
      "+------+------------------------------------------+------+------------+----+----+-----+----+\n",
      "\n"
     ]
    },
    {
     "name": "stderr",
     "output_type": "stream",
     "text": [
      "                                                                                \r"
     ]
    },
    {
     "name": "stdout",
     "output_type": "stream",
     "text": [
      "-------------------------------------------\n",
      "Batch: 13\n",
      "-------------------------------------------\n",
      "+------+------------------------------------------+------+------------+----+----+-----+----+\n",
      "|symbol|window                                    |volume|traded_value|high|low |first|last|\n",
      "+------+------------------------------------------+------+------------+----+----+-----+----+\n",
      "|RELAXO|{2022-05-25 02:06:00, 2022-05-25 02:07:00}|70    |1850.0      |31.0|23.0|23.0 |31.0|\n",
      "+------+------------------------------------------+------+------------+----+----+-----+----+\n",
      "\n",
      "-------------------------------------------\n",
      "Batch: 38\n",
      "-------------------------------------------\n",
      "+------+------------------------------------------+------+------------+----+----+-----+----+\n",
      "|symbol|window                                    |volume|traded_value|high|low |first|last|\n",
      "+------+------------------------------------------+------+------------+----+----+-----+----+\n",
      "|RELAXO|{2022-05-25 02:06:00, 2022-05-25 02:07:00}|70    |1850.0      |31.0|23.0|23.0 |31.0|\n",
      "+------+------------------------------------------+------+------------+----+----+-----+----+\n",
      "\n"
     ]
    },
    {
     "name": "stderr",
     "output_type": "stream",
     "text": [
      "                                                                                \r"
     ]
    },
    {
     "name": "stdout",
     "output_type": "stream",
     "text": [
      "-------------------------------------------\n",
      "Batch: 14\n",
      "-------------------------------------------\n",
      "+------+------------------------------------------+------+------------+----+----+-----+----+\n",
      "|symbol|window                                    |volume|traded_value|high|low |first|last|\n",
      "+------+------------------------------------------+------+------------+----+----+-----+----+\n",
      "|TSLA  |{2022-05-25 02:07:00, 2022-05-25 02:08:00}|50    |1800.0      |36.0|36.0|36.0 |36.0|\n",
      "+------+------------------------------------------+------+------------+----+----+-----+----+\n",
      "\n"
     ]
    },
    {
     "name": "stderr",
     "output_type": "stream",
     "text": [
      "                                                                                \r"
     ]
    },
    {
     "name": "stdout",
     "output_type": "stream",
     "text": [
      "-------------------------------------------\n",
      "Batch: 39\n",
      "-------------------------------------------\n",
      "+------+------------------------------------------+------+------------+----+----+-----+----+\n",
      "|symbol|window                                    |volume|traded_value|high|low |first|last|\n",
      "+------+------------------------------------------+------+------------+----+----+-----+----+\n",
      "|TSLA  |{2022-05-25 02:07:00, 2022-05-25 02:08:00}|50    |1800.0      |36.0|36.0|36.0 |36.0|\n",
      "+------+------------------------------------------+------+------------+----+----+-----+----+\n",
      "\n",
      "-------------------------------------------\n",
      "Batch: 15\n",
      "-------------------------------------------\n",
      "+------+------+------+------------+----+---+-----+----+\n",
      "|symbol|window|volume|traded_value|high|low|first|last|\n",
      "+------+------+------+------------+----+---+-----+----+\n",
      "+------+------+------+------------+----+---+-----+----+\n",
      "\n",
      "-------------------------------------------\n",
      "Batch: 40\n",
      "-------------------------------------------\n",
      "+------+------+------+------------+----+---+-----+----+\n",
      "|symbol|window|volume|traded_value|high|low|first|last|\n",
      "+------+------+------+------------+----+---+-----+----+\n",
      "+------+------+------+------------+----+---+-----+----+\n",
      "\n"
     ]
    },
    {
     "name": "stderr",
     "output_type": "stream",
     "text": [
      "                                                                                \r"
     ]
    },
    {
     "name": "stdout",
     "output_type": "stream",
     "text": [
      "-------------------------------------------\n",
      "Batch: 41\n",
      "-------------------------------------------\n",
      "+------+------------------------------------------+------+------------+----+----+-----+----+\n",
      "|symbol|window                                    |volume|traded_value|high|low |first|last|\n",
      "+------+------------------------------------------+------+------------+----+----+-----+----+\n",
      "|MSFT  |{2022-05-25 02:07:00, 2022-05-25 02:08:00}|30    |630.0       |21.0|21.0|21.0 |21.0|\n",
      "+------+------------------------------------------+------+------------+----+----+-----+----+\n",
      "\n",
      "-------------------------------------------\n",
      "Batch: 16\n",
      "-------------------------------------------\n",
      "+------+------------------------------------------+------+------------+----+----+-----+----+\n",
      "|symbol|window                                    |volume|traded_value|high|low |first|last|\n",
      "+------+------------------------------------------+------+------------+----+----+-----+----+\n",
      "|MSFT  |{2022-05-25 02:07:00, 2022-05-25 02:08:00}|30    |630.0       |21.0|21.0|21.0 |21.0|\n",
      "+------+------------------------------------------+------+------------+----+----+-----+----+\n",
      "\n"
     ]
    },
    {
     "name": "stderr",
     "output_type": "stream",
     "text": [
      "                                                                                \r"
     ]
    },
    {
     "name": "stdout",
     "output_type": "stream",
     "text": [
      "-------------------------------------------\n",
      "Batch: 42\n",
      "-------------------------------------------\n",
      "+------+------------------------------------------+------+------------+----+----+-----+----+\n",
      "|symbol|window                                    |volume|traded_value|high|low |first|last|\n",
      "+------+------------------------------------------+------+------------+----+----+-----+----+\n",
      "|RELAXO|{2022-05-25 02:07:00, 2022-05-25 02:08:00}|30    |720.0       |24.0|24.0|24.0 |24.0|\n",
      "+------+------------------------------------------+------+------------+----+----+-----+----+\n",
      "\n",
      "-------------------------------------------\n",
      "Batch: 17\n",
      "-------------------------------------------\n",
      "+------+------------------------------------------+------+------------+----+----+-----+----+\n",
      "|symbol|window                                    |volume|traded_value|high|low |first|last|\n",
      "+------+------------------------------------------+------+------------+----+----+-----+----+\n",
      "|RELAXO|{2022-05-25 02:07:00, 2022-05-25 02:08:00}|30    |720.0       |24.0|24.0|24.0 |24.0|\n",
      "+------+------------------------------------------+------+------------+----+----+-----+----+\n",
      "\n"
     ]
    },
    {
     "name": "stderr",
     "output_type": "stream",
     "text": [
      "                                                                                \r"
     ]
    },
    {
     "name": "stdout",
     "output_type": "stream",
     "text": [
      "-------------------------------------------\n",
      "Batch: 43\n",
      "-------------------------------------------\n",
      "+------+------------------------------------------+------+------------+----+----+-----+----+\n",
      "|symbol|window                                    |volume|traded_value|high|low |first|last|\n",
      "+------+------------------------------------------+------+------------+----+----+-----+----+\n",
      "|MARUTI|{2022-05-25 02:07:00, 2022-05-25 02:08:00}|40    |1160.0      |29.0|29.0|29.0 |29.0|\n",
      "+------+------------------------------------------+------+------------+----+----+-----+----+\n",
      "\n",
      "-------------------------------------------\n",
      "Batch: 18\n",
      "-------------------------------------------\n",
      "+------+------------------------------------------+------+------------+----+----+-----+----+\n",
      "|symbol|window                                    |volume|traded_value|high|low |first|last|\n",
      "+------+------------------------------------------+------+------------+----+----+-----+----+\n",
      "|MARUTI|{2022-05-25 02:07:00, 2022-05-25 02:08:00}|40    |1160.0      |29.0|29.0|29.0 |29.0|\n",
      "+------+------------------------------------------+------+------------+----+----+-----+----+\n",
      "\n"
     ]
    },
    {
     "name": "stderr",
     "output_type": "stream",
     "text": [
      "                                                                                \r"
     ]
    },
    {
     "name": "stdout",
     "output_type": "stream",
     "text": [
      "-------------------------------------------\n",
      "Batch: 19\n",
      "-------------------------------------------\n",
      "+------+------------------------------------------+------+------------+----+----+-----+----+\n",
      "|symbol|window                                    |volume|traded_value|high|low |first|last|\n",
      "+------+------------------------------------------+------+------------+----+----+-----+----+\n",
      "|MSFT  |{2022-05-25 02:07:00, 2022-05-25 02:08:00}|60    |1230.0      |21.0|20.0|21.0 |20.0|\n",
      "+------+------------------------------------------+------+------------+----+----+-----+----+\n",
      "\n",
      "-------------------------------------------\n",
      "Batch: 44\n",
      "-------------------------------------------\n",
      "+------+------------------------------------------+------+------------+----+----+-----+----+\n",
      "|symbol|window                                    |volume|traded_value|high|low |first|last|\n",
      "+------+------------------------------------------+------+------------+----+----+-----+----+\n",
      "|MSFT  |{2022-05-25 02:07:00, 2022-05-25 02:08:00}|60    |1230.0      |21.0|20.0|21.0 |20.0|\n",
      "+------+------------------------------------------+------+------------+----+----+-----+----+\n",
      "\n"
     ]
    },
    {
     "name": "stderr",
     "output_type": "stream",
     "text": [
      "                                                                                \r"
     ]
    },
    {
     "name": "stdout",
     "output_type": "stream",
     "text": [
      "-------------------------------------------\n",
      "Batch: 45\n",
      "-------------------------------------------\n",
      "+------+------------------------------------------+------+------------+----+----+-----+----+\n",
      "|symbol|window                                    |volume|traded_value|high|low |first|last|\n",
      "+------+------------------------------------------+------+------------+----+----+-----+----+\n",
      "|TSLA  |{2022-05-25 02:07:00, 2022-05-25 02:08:00}|60    |2060.0      |36.0|26.0|36.0 |26.0|\n",
      "+------+------------------------------------------+------+------------+----+----+-----+----+\n",
      "\n",
      "-------------------------------------------\n",
      "Batch: 20\n",
      "-------------------------------------------\n",
      "+------+------------------------------------------+------+------------+----+----+-----+----+\n",
      "|symbol|window                                    |volume|traded_value|high|low |first|last|\n",
      "+------+------------------------------------------+------+------------+----+----+-----+----+\n",
      "|TSLA  |{2022-05-25 02:07:00, 2022-05-25 02:08:00}|60    |2060.0      |36.0|26.0|36.0 |26.0|\n",
      "+------+------------------------------------------+------+------------+----+----+-----+----+\n",
      "\n"
     ]
    },
    {
     "name": "stderr",
     "output_type": "stream",
     "text": [
      "                                                                                \r"
     ]
    },
    {
     "name": "stdout",
     "output_type": "stream",
     "text": [
      "-------------------------------------------\n",
      "Batch: 21\n",
      "-------------------------------------------\n",
      "+------+------------------------------------------+------+------------+----+----+-----+----+\n",
      "|symbol|window                                    |volume|traded_value|high|low |first|last|\n",
      "+------+------------------------------------------+------+------------+----+----+-----+----+\n",
      "|MSFT  |{2022-05-25 02:08:00, 2022-05-25 02:09:00}|30    |840.0       |28.0|28.0|28.0 |28.0|\n",
      "+------+------------------------------------------+------+------------+----+----+-----+----+\n",
      "\n",
      "-------------------------------------------\n",
      "Batch: 46\n",
      "-------------------------------------------\n",
      "+------+------------------------------------------+------+------------+----+----+-----+----+\n",
      "|symbol|window                                    |volume|traded_value|high|low |first|last|\n",
      "+------+------------------------------------------+------+------------+----+----+-----+----+\n",
      "|MSFT  |{2022-05-25 02:08:00, 2022-05-25 02:09:00}|30    |840.0       |28.0|28.0|28.0 |28.0|\n",
      "+------+------------------------------------------+------+------------+----+----+-----+----+\n",
      "\n"
     ]
    },
    {
     "name": "stderr",
     "output_type": "stream",
     "text": [
      "                                                                                \r"
     ]
    },
    {
     "name": "stdout",
     "output_type": "stream",
     "text": [
      "-------------------------------------------\n",
      "Batch: 22\n",
      "-------------------------------------------\n",
      "+------+------+------+------------+----+---+-----+----+\n",
      "|symbol|window|volume|traded_value|high|low|first|last|\n",
      "+------+------+------+------------+----+---+-----+----+\n",
      "+------+------+------+------------+----+---+-----+----+\n",
      "\n",
      "-------------------------------------------\n",
      "Batch: 47\n",
      "-------------------------------------------\n",
      "+------+------+------+------------+----+---+-----+----+\n",
      "|symbol|window|volume|traded_value|high|low|first|last|\n",
      "+------+------+------+------------+----+---+-----+----+\n",
      "+------+------+------+------------+----+---+-----+----+\n",
      "\n"
     ]
    },
    {
     "name": "stderr",
     "output_type": "stream",
     "text": [
      "                                                                                \r"
     ]
    },
    {
     "name": "stdout",
     "output_type": "stream",
     "text": [
      "-------------------------------------------\n",
      "Batch: 48\n",
      "-------------------------------------------\n",
      "+------+------------------------------------------+------+------------+----+---+-----+----+\n",
      "|symbol|window                                    |volume|traded_value|high|low|first|last|\n",
      "+------+------------------------------------------+------+------------+----+---+-----+----+\n",
      "|MSFT  |{2022-05-25 02:08:00, 2022-05-25 02:09:00}|40    |890.0       |28.0|5.0|28.0 |5.0 |\n",
      "+------+------------------------------------------+------+------------+----+---+-----+----+\n",
      "\n",
      "-------------------------------------------\n",
      "Batch: 23\n",
      "-------------------------------------------\n",
      "+------+------------------------------------------+------+------------+----+---+-----+----+\n",
      "|symbol|window                                    |volume|traded_value|high|low|first|last|\n",
      "+------+------------------------------------------+------+------------+----+---+-----+----+\n",
      "|MSFT  |{2022-05-25 02:08:00, 2022-05-25 02:09:00}|40    |890.0       |28.0|5.0|28.0 |5.0 |\n",
      "+------+------------------------------------------+------+------------+----+---+-----+----+\n",
      "\n"
     ]
    },
    {
     "name": "stderr",
     "output_type": "stream",
     "text": [
      "                                                                                \r"
     ]
    },
    {
     "name": "stdout",
     "output_type": "stream",
     "text": [
      "-------------------------------------------\n",
      "Batch: 24\n",
      "-------------------------------------------\n",
      "+------+------------------------------------------+------+------------+----+----+-----+----+\n",
      "|symbol|window                                    |volume|traded_value|high|low |first|last|\n",
      "+------+------------------------------------------+------+------------+----+----+-----+----+\n",
      "|MARUTI|{2022-05-25 02:08:00, 2022-05-25 02:09:00}|50    |2000.0      |40.0|40.0|40.0 |40.0|\n",
      "+------+------------------------------------------+------+------------+----+----+-----+----+\n",
      "\n",
      "-------------------------------------------\n",
      "Batch: 49\n",
      "-------------------------------------------\n",
      "+------+------------------------------------------+------+------------+----+----+-----+----+\n",
      "|symbol|window                                    |volume|traded_value|high|low |first|last|\n",
      "+------+------------------------------------------+------+------------+----+----+-----+----+\n",
      "|MARUTI|{2022-05-25 02:08:00, 2022-05-25 02:09:00}|50    |2000.0      |40.0|40.0|40.0 |40.0|\n",
      "+------+------------------------------------------+------+------------+----+----+-----+----+\n",
      "\n"
     ]
    },
    {
     "name": "stderr",
     "output_type": "stream",
     "text": [
      "                                                                                \r"
     ]
    },
    {
     "name": "stdout",
     "output_type": "stream",
     "text": [
      "-------------------------------------------\n",
      "Batch: 50\n",
      "-------------------------------------------\n",
      "+------+------------------------------------------+------+------------+----+----+-----+----+\n",
      "|symbol|window                                    |volume|traded_value|high|low |first|last|\n",
      "+------+------------------------------------------+------+------------+----+----+-----+----+\n",
      "|MARUTI|{2022-05-25 02:08:00, 2022-05-25 02:09:00}|60    |2390.0      |40.0|39.0|40.0 |39.0|\n",
      "+------+------------------------------------------+------+------------+----+----+-----+----+\n",
      "\n",
      "-------------------------------------------\n",
      "Batch: 25\n",
      "-------------------------------------------\n",
      "+------+------------------------------------------+------+------------+----+----+-----+----+\n",
      "|symbol|window                                    |volume|traded_value|high|low |first|last|\n",
      "+------+------------------------------------------+------+------------+----+----+-----+----+\n",
      "|MARUTI|{2022-05-25 02:08:00, 2022-05-25 02:09:00}|60    |2390.0      |40.0|39.0|40.0 |39.0|\n",
      "+------+------------------------------------------+------+------------+----+----+-----+----+\n",
      "\n"
     ]
    },
    {
     "name": "stderr",
     "output_type": "stream",
     "text": [
      "                                                                                \r"
     ]
    },
    {
     "name": "stdout",
     "output_type": "stream",
     "text": [
      "-------------------------------------------\n",
      "Batch: 51\n",
      "-------------------------------------------\n",
      "+------+------------------------------------------+------+------------+----+----+-----+----+\n",
      "|symbol|window                                    |volume|traded_value|high|low |first|last|\n",
      "+------+------------------------------------------+------+------------+----+----+-----+----+\n",
      "|RELAXO|{2022-05-25 02:08:00, 2022-05-25 02:09:00}|30    |420.0       |14.0|14.0|14.0 |14.0|\n",
      "+------+------------------------------------------+------+------------+----+----+-----+----+\n",
      "\n",
      "-------------------------------------------\n",
      "Batch: 26\n",
      "-------------------------------------------\n",
      "+------+------------------------------------------+------+------------+----+----+-----+----+\n",
      "|symbol|window                                    |volume|traded_value|high|low |first|last|\n",
      "+------+------------------------------------------+------+------------+----+----+-----+----+\n",
      "|RELAXO|{2022-05-25 02:08:00, 2022-05-25 02:09:00}|30    |420.0       |14.0|14.0|14.0 |14.0|\n",
      "+------+------------------------------------------+------+------------+----+----+-----+----+\n",
      "\n"
     ]
    },
    {
     "name": "stderr",
     "output_type": "stream",
     "text": [
      "                                                                                \r"
     ]
    },
    {
     "name": "stdout",
     "output_type": "stream",
     "text": [
      "-------------------------------------------\n",
      "Batch: 52\n",
      "-------------------------------------------\n",
      "+------+------------------------------------------+------+------------+----+----+-----+----+\n",
      "|symbol|window                                    |volume|traded_value|high|low |first|last|\n",
      "+------+------------------------------------------+------+------------+----+----+-----+----+\n",
      "|MARUTI|{2022-05-25 02:08:00, 2022-05-25 02:09:00}|180   |5630.0      |40.0|27.0|40.0 |27.0|\n",
      "+------+------------------------------------------+------+------------+----+----+-----+----+\n",
      "\n",
      "-------------------------------------------\n",
      "Batch: 27\n",
      "-------------------------------------------\n",
      "+------+------------------------------------------+------+------------+----+----+-----+----+\n",
      "|symbol|window                                    |volume|traded_value|high|low |first|last|\n",
      "+------+------------------------------------------+------+------------+----+----+-----+----+\n",
      "|MARUTI|{2022-05-25 02:08:00, 2022-05-25 02:09:00}|180   |5630.0      |40.0|27.0|40.0 |27.0|\n",
      "+------+------------------------------------------+------+------------+----+----+-----+----+\n",
      "\n"
     ]
    },
    {
     "name": "stderr",
     "output_type": "stream",
     "text": [
      "                                                                                \r"
     ]
    },
    {
     "name": "stdout",
     "output_type": "stream",
     "text": [
      "-------------------------------------------\n",
      "Batch: 28\n",
      "-------------------------------------------\n",
      "+------+------------------------------------------+------+------------+----+----+-----+----+\n",
      "|symbol|window                                    |volume|traded_value|high|low |first|last|\n",
      "+------+------------------------------------------+------+------------+----+----+-----+----+\n",
      "|MSFT  |{2022-05-25 02:09:00, 2022-05-25 02:10:00}|50    |1650.0      |33.0|33.0|33.0 |33.0|\n",
      "+------+------------------------------------------+------+------------+----+----+-----+----+\n",
      "\n"
     ]
    },
    {
     "name": "stderr",
     "output_type": "stream",
     "text": [
      "                                                                                \r"
     ]
    },
    {
     "name": "stdout",
     "output_type": "stream",
     "text": [
      "-------------------------------------------\n",
      "Batch: 53\n",
      "-------------------------------------------\n",
      "+------+------------------------------------------+------+------------+----+----+-----+----+\n",
      "|symbol|window                                    |volume|traded_value|high|low |first|last|\n",
      "+------+------------------------------------------+------+------------+----+----+-----+----+\n",
      "|MSFT  |{2022-05-25 02:09:00, 2022-05-25 02:10:00}|50    |1650.0      |33.0|33.0|33.0 |33.0|\n",
      "+------+------------------------------------------+------+------------+----+----+-----+----+\n",
      "\n",
      "-------------------------------------------\n",
      "Batch: 29\n",
      "-------------------------------------------\n",
      "+------+------+------+------------+----+---+-----+----+\n",
      "|symbol|window|volume|traded_value|high|low|first|last|\n",
      "+------+------+------+------------+----+---+-----+----+\n",
      "+------+------+------+------------+----+---+-----+----+\n",
      "\n",
      "-------------------------------------------\n",
      "Batch: 54\n",
      "-------------------------------------------\n",
      "+------+------+------+------------+----+---+-----+----+\n",
      "|symbol|window|volume|traded_value|high|low|first|last|\n",
      "+------+------+------+------------+----+---+-----+----+\n",
      "+------+------+------+------------+----+---+-----+----+\n",
      "\n"
     ]
    },
    {
     "name": "stderr",
     "output_type": "stream",
     "text": [
      "                                                                                \r"
     ]
    },
    {
     "name": "stdout",
     "output_type": "stream",
     "text": [
      "-------------------------------------------\n",
      "Batch: 30\n",
      "-------------------------------------------\n",
      "+------+------------------------------------------+------+------------+----+----+-----+----+\n",
      "|symbol|window                                    |volume|traded_value|high|low |first|last|\n",
      "+------+------------------------------------------+------+------------+----+----+-----+----+\n",
      "|MSFT  |{2022-05-25 02:09:00, 2022-05-25 02:10:00}|100   |3350.0      |34.0|33.0|33.0 |34.0|\n",
      "+------+------------------------------------------+------+------------+----+----+-----+----+\n",
      "\n",
      "-------------------------------------------\n",
      "Batch: 55\n",
      "-------------------------------------------\n",
      "+------+------------------------------------------+------+------------+----+----+-----+----+\n",
      "|symbol|window                                    |volume|traded_value|high|low |first|last|\n",
      "+------+------------------------------------------+------+------------+----+----+-----+----+\n",
      "|MSFT  |{2022-05-25 02:09:00, 2022-05-25 02:10:00}|100   |3350.0      |34.0|33.0|33.0 |34.0|\n",
      "+------+------------------------------------------+------+------------+----+----+-----+----+\n",
      "\n"
     ]
    },
    {
     "name": "stderr",
     "output_type": "stream",
     "text": [
      "                                                                                \r"
     ]
    },
    {
     "name": "stdout",
     "output_type": "stream",
     "text": [
      "-------------------------------------------\n",
      "Batch: 56\n",
      "-------------------------------------------\n",
      "+------+------------------------------------------+------+------------+----+----+-----+----+\n",
      "|symbol|window                                    |volume|traded_value|high|low |first|last|\n",
      "+------+------------------------------------------+------+------------+----+----+-----+----+\n",
      "|RELAXO|{2022-05-25 02:09:00, 2022-05-25 02:10:00}|100   |4300.0      |43.0|43.0|43.0 |43.0|\n",
      "+------+------------------------------------------+------+------------+----+----+-----+----+\n",
      "\n",
      "-------------------------------------------\n",
      "Batch: 31\n",
      "-------------------------------------------\n",
      "+------+------------------------------------------+------+------------+----+----+-----+----+\n",
      "|symbol|window                                    |volume|traded_value|high|low |first|last|\n",
      "+------+------------------------------------------+------+------------+----+----+-----+----+\n",
      "|RELAXO|{2022-05-25 02:09:00, 2022-05-25 02:10:00}|100   |4300.0      |43.0|43.0|43.0 |43.0|\n",
      "+------+------------------------------------------+------+------------+----+----+-----+----+\n",
      "\n"
     ]
    },
    {
     "name": "stderr",
     "output_type": "stream",
     "text": [
      "                                                                                \r"
     ]
    },
    {
     "name": "stdout",
     "output_type": "stream",
     "text": [
      "-------------------------------------------\n",
      "Batch: 57\n",
      "-------------------------------------------\n",
      "+------+------------------------------------------+------+------------+----+----+-----+----+\n",
      "|symbol|window                                    |volume|traded_value|high|low |first|last|\n",
      "+------+------------------------------------------+------+------------+----+----+-----+----+\n",
      "|MSFT  |{2022-05-25 02:09:00, 2022-05-25 02:10:00}|140   |3910.0      |34.0|14.0|33.0 |14.0|\n",
      "+------+------------------------------------------+------+------------+----+----+-----+----+\n",
      "\n",
      "-------------------------------------------\n",
      "Batch: 32\n",
      "-------------------------------------------\n",
      "+------+------------------------------------------+------+------------+----+----+-----+----+\n",
      "|symbol|window                                    |volume|traded_value|high|low |first|last|\n",
      "+------+------------------------------------------+------+------------+----+----+-----+----+\n",
      "|MSFT  |{2022-05-25 02:09:00, 2022-05-25 02:10:00}|140   |3910.0      |34.0|14.0|33.0 |14.0|\n",
      "+------+------------------------------------------+------+------------+----+----+-----+----+\n",
      "\n"
     ]
    },
    {
     "name": "stderr",
     "output_type": "stream",
     "text": [
      "                                                                                \r"
     ]
    },
    {
     "name": "stdout",
     "output_type": "stream",
     "text": [
      "-------------------------------------------\n",
      "Batch: 58\n",
      "-------------------------------------------\n",
      "+------+------------------------------------------+------+------------+----+----+-----+----+\n",
      "|symbol|window                                    |volume|traded_value|high|low |first|last|\n",
      "+------+------------------------------------------+------+------------+----+----+-----+----+\n",
      "|MSFT  |{2022-05-25 02:09:00, 2022-05-25 02:10:00}|150   |4300.0      |39.0|14.0|33.0 |39.0|\n",
      "+------+------------------------------------------+------+------------+----+----+-----+----+\n",
      "\n",
      "-------------------------------------------\n",
      "Batch: 33\n",
      "-------------------------------------------\n",
      "+------+------------------------------------------+------+------------+----+----+-----+----+\n",
      "|symbol|window                                    |volume|traded_value|high|low |first|last|\n",
      "+------+------------------------------------------+------+------------+----+----+-----+----+\n",
      "|MSFT  |{2022-05-25 02:09:00, 2022-05-25 02:10:00}|150   |4300.0      |39.0|14.0|33.0 |39.0|\n",
      "+------+------------------------------------------+------+------------+----+----+-----+----+\n",
      "\n"
     ]
    },
    {
     "name": "stderr",
     "output_type": "stream",
     "text": [
      "                                                                                \r"
     ]
    },
    {
     "name": "stdout",
     "output_type": "stream",
     "text": [
      "-------------------------------------------\n",
      "Batch: 59\n",
      "-------------------------------------------\n",
      "+------+------------------------------------------+------+------------+----+----+-----+----+\n",
      "|symbol|window                                    |volume|traded_value|high|low |first|last|\n",
      "+------+------------------------------------------+------+------------+----+----+-----+----+\n",
      "|TSLA  |{2022-05-25 02:09:00, 2022-05-25 02:10:00}|30    |1050.0      |35.0|35.0|35.0 |35.0|\n",
      "+------+------------------------------------------+------+------------+----+----+-----+----+\n",
      "\n",
      "-------------------------------------------\n",
      "Batch: 34\n",
      "-------------------------------------------\n",
      "+------+------------------------------------------+------+------------+----+----+-----+----+\n",
      "|symbol|window                                    |volume|traded_value|high|low |first|last|\n",
      "+------+------------------------------------------+------+------------+----+----+-----+----+\n",
      "|TSLA  |{2022-05-25 02:09:00, 2022-05-25 02:10:00}|30    |1050.0      |35.0|35.0|35.0 |35.0|\n",
      "+------+------------------------------------------+------+------------+----+----+-----+----+\n",
      "\n"
     ]
    },
    {
     "name": "stderr",
     "output_type": "stream",
     "text": [
      "                                                                                \r"
     ]
    },
    {
     "name": "stdout",
     "output_type": "stream",
     "text": [
      "-------------------------------------------\n",
      "Batch: 60\n",
      "-------------------------------------------\n",
      "+------+------------------------------------------+------+------------+----+---+-----+----+\n",
      "|symbol|window                                    |volume|traded_value|high|low|first|last|\n",
      "+------+------------------------------------------+------+------------+----+---+-----+----+\n",
      "|MSFT  |{2022-05-25 02:10:00, 2022-05-25 02:11:00}|40    |240.0       |6.0 |6.0|6.0  |6.0 |\n",
      "+------+------------------------------------------+------+------------+----+---+-----+----+\n",
      "\n"
     ]
    },
    {
     "name": "stderr",
     "output_type": "stream",
     "text": [
      "                                                                                \r"
     ]
    },
    {
     "name": "stdout",
     "output_type": "stream",
     "text": [
      "-------------------------------------------\n",
      "Batch: 35\n",
      "-------------------------------------------\n",
      "+------+------------------------------------------+------+------------+----+---+-----+----+\n",
      "|symbol|window                                    |volume|traded_value|high|low|first|last|\n",
      "+------+------------------------------------------+------+------------+----+---+-----+----+\n",
      "|MSFT  |{2022-05-25 02:10:00, 2022-05-25 02:11:00}|40    |240.0       |6.0 |6.0|6.0  |6.0 |\n",
      "+------+------------------------------------------+------+------------+----+---+-----+----+\n",
      "\n",
      "-------------------------------------------\n",
      "Batch: 61\n",
      "-------------------------------------------\n",
      "+------+------+------+------------+----+---+-----+----+\n",
      "|symbol|window|volume|traded_value|high|low|first|last|\n",
      "+------+------+------+------------+----+---+-----+----+\n",
      "+------+------+------+------------+----+---+-----+----+\n",
      "\n",
      "-------------------------------------------\n",
      "Batch: 36\n",
      "-------------------------------------------\n",
      "+------+------+------+------------+----+---+-----+----+\n",
      "|symbol|window|volume|traded_value|high|low|first|last|\n",
      "+------+------+------+------------+----+---+-----+----+\n",
      "+------+------+------+------------+----+---+-----+----+\n",
      "\n"
     ]
    },
    {
     "name": "stderr",
     "output_type": "stream",
     "text": [
      "                                                                                \r"
     ]
    },
    {
     "name": "stdout",
     "output_type": "stream",
     "text": [
      "-------------------------------------------\n",
      "Batch: 62\n",
      "-------------------------------------------\n",
      "+------+------------------------------------------+------+------------+----+----+-----+----+\n",
      "|symbol|window                                    |volume|traded_value|high|low |first|last|\n",
      "+------+------------------------------------------+------+------------+----+----+-----+----+\n",
      "|RELAXO|{2022-05-25 02:10:00, 2022-05-25 02:11:00}|30    |570.0       |19.0|19.0|19.0 |19.0|\n",
      "+------+------------------------------------------+------+------------+----+----+-----+----+\n",
      "\n",
      "-------------------------------------------\n",
      "Batch: 37\n",
      "-------------------------------------------\n",
      "+------+------------------------------------------+------+------------+----+----+-----+----+\n",
      "|symbol|window                                    |volume|traded_value|high|low |first|last|\n",
      "+------+------------------------------------------+------+------------+----+----+-----+----+\n",
      "|RELAXO|{2022-05-25 02:10:00, 2022-05-25 02:11:00}|30    |570.0       |19.0|19.0|19.0 |19.0|\n",
      "+------+------------------------------------------+------+------------+----+----+-----+----+\n",
      "\n"
     ]
    },
    {
     "name": "stderr",
     "output_type": "stream",
     "text": [
      "                                                                                \r"
     ]
    },
    {
     "name": "stdout",
     "output_type": "stream",
     "text": [
      "-------------------------------------------\n",
      "Batch: 38\n",
      "-------------------------------------------\n",
      "+------+------------------------------------------+------+------------+----+----+-----+----+\n",
      "|symbol|window                                    |volume|traded_value|high|low |first|last|\n",
      "+------+------------------------------------------+------+------------+----+----+-----+----+\n",
      "|RELAXO|{2022-05-25 02:10:00, 2022-05-25 02:11:00}|150   |3570.0      |25.0|19.0|19.0 |25.0|\n",
      "+------+------------------------------------------+------+------------+----+----+-----+----+\n",
      "\n",
      "-------------------------------------------\n",
      "Batch: 63\n",
      "-------------------------------------------\n",
      "+------+------------------------------------------+------+------------+----+----+-----+----+\n",
      "|symbol|window                                    |volume|traded_value|high|low |first|last|\n",
      "+------+------------------------------------------+------+------------+----+----+-----+----+\n",
      "|RELAXO|{2022-05-25 02:10:00, 2022-05-25 02:11:00}|150   |3570.0      |25.0|19.0|19.0 |25.0|\n",
      "+------+------------------------------------------+------+------------+----+----+-----+----+\n",
      "\n"
     ]
    },
    {
     "name": "stderr",
     "output_type": "stream",
     "text": [
      "                                                                                \r"
     ]
    },
    {
     "name": "stdout",
     "output_type": "stream",
     "text": [
      "-------------------------------------------\n",
      "Batch: 39\n",
      "-------------------------------------------\n",
      "+------+------------------------------------------+------+------------+----+----+-----+----+\n",
      "|symbol|window                                    |volume|traded_value|high|low |first|last|\n",
      "+------+------------------------------------------+------+------------+----+----+-----+----+\n",
      "|RELAXO|{2022-05-25 02:10:00, 2022-05-25 02:11:00}|160   |3900.0      |33.0|19.0|19.0 |33.0|\n",
      "+------+------------------------------------------+------+------------+----+----+-----+----+\n",
      "\n",
      "-------------------------------------------\n",
      "Batch: 64\n",
      "-------------------------------------------\n",
      "+------+------------------------------------------+------+------------+----+----+-----+----+\n",
      "|symbol|window                                    |volume|traded_value|high|low |first|last|\n",
      "+------+------------------------------------------+------+------------+----+----+-----+----+\n",
      "|RELAXO|{2022-05-25 02:10:00, 2022-05-25 02:11:00}|160   |3900.0      |33.0|19.0|19.0 |33.0|\n",
      "+------+------------------------------------------+------+------------+----+----+-----+----+\n",
      "\n"
     ]
    },
    {
     "name": "stderr",
     "output_type": "stream",
     "text": [
      "                                                                                \r"
     ]
    },
    {
     "name": "stdout",
     "output_type": "stream",
     "text": [
      "-------------------------------------------\n",
      "Batch: 40\n",
      "-------------------------------------------\n",
      "+------+------------------------------------------+------+------------+----+---+-----+----+\n",
      "|symbol|window                                    |volume|traded_value|high|low|first|last|\n",
      "+------+------------------------------------------+------+------------+----+---+-----+----+\n",
      "|MSFT  |{2022-05-25 02:10:00, 2022-05-25 02:11:00}|90    |1640.0      |28.0|6.0|6.0  |28.0|\n",
      "+------+------------------------------------------+------+------------+----+---+-----+----+\n",
      "\n",
      "-------------------------------------------\n",
      "Batch: 65\n",
      "-------------------------------------------\n",
      "+------+------------------------------------------+------+------------+----+---+-----+----+\n",
      "|symbol|window                                    |volume|traded_value|high|low|first|last|\n",
      "+------+------------------------------------------+------+------------+----+---+-----+----+\n",
      "|MSFT  |{2022-05-25 02:10:00, 2022-05-25 02:11:00}|90    |1640.0      |28.0|6.0|6.0  |28.0|\n",
      "+------+------------------------------------------+------+------------+----+---+-----+----+\n",
      "\n"
     ]
    },
    {
     "name": "stderr",
     "output_type": "stream",
     "text": [
      "                                                                                \r"
     ]
    },
    {
     "name": "stdout",
     "output_type": "stream",
     "text": [
      "-------------------------------------------\n",
      "Batch: 66\n",
      "-------------------------------------------\n",
      "+------+------------------------------------------+------+------------+----+----+-----+----+\n",
      "|symbol|window                                    |volume|traded_value|high|low |first|last|\n",
      "+------+------------------------------------------+------+------------+----+----+-----+----+\n",
      "|RELAXO|{2022-05-25 02:10:00, 2022-05-25 02:11:00}|170   |4010.0      |33.0|11.0|19.0 |11.0|\n",
      "+------+------------------------------------------+------+------------+----+----+-----+----+\n",
      "\n",
      "-------------------------------------------\n",
      "Batch: 41\n",
      "-------------------------------------------\n",
      "+------+------------------------------------------+------+------------+----+----+-----+----+\n",
      "|symbol|window                                    |volume|traded_value|high|low |first|last|\n",
      "+------+------------------------------------------+------+------------+----+----+-----+----+\n",
      "|RELAXO|{2022-05-25 02:10:00, 2022-05-25 02:11:00}|170   |4010.0      |33.0|11.0|19.0 |11.0|\n",
      "+------+------------------------------------------+------+------------+----+----+-----+----+\n",
      "\n"
     ]
    },
    {
     "name": "stderr",
     "output_type": "stream",
     "text": [
      "                                                                                \r"
     ]
    },
    {
     "name": "stdout",
     "output_type": "stream",
     "text": [
      "-------------------------------------------\n",
      "Batch: 42\n",
      "-------------------------------------------\n",
      "+------+------------------------------------------+------+------------+----+----+-----+----+\n",
      "|symbol|window                                    |volume|traded_value|high|low |first|last|\n",
      "+------+------------------------------------------+------+------------+----+----+-----+----+\n",
      "|MARUTI|{2022-05-25 02:11:00, 2022-05-25 02:12:00}|10    |170.0       |17.0|17.0|17.0 |17.0|\n",
      "+------+------------------------------------------+------+------------+----+----+-----+----+\n",
      "\n",
      "-------------------------------------------\n",
      "Batch: 67\n",
      "-------------------------------------------\n",
      "+------+------------------------------------------+------+------------+----+----+-----+----+\n",
      "|symbol|window                                    |volume|traded_value|high|low |first|last|\n",
      "+------+------------------------------------------+------+------------+----+----+-----+----+\n",
      "|MARUTI|{2022-05-25 02:11:00, 2022-05-25 02:12:00}|10    |170.0       |17.0|17.0|17.0 |17.0|\n",
      "+------+------------------------------------------+------+------------+----+----+-----+----+\n",
      "\n"
     ]
    },
    {
     "name": "stderr",
     "output_type": "stream",
     "text": [
      "                                                                                \r"
     ]
    },
    {
     "name": "stdout",
     "output_type": "stream",
     "text": [
      "-------------------------------------------\n",
      "Batch: 43\n",
      "-------------------------------------------\n",
      "+------+------+------+------------+----+---+-----+----+\n",
      "|symbol|window|volume|traded_value|high|low|first|last|\n",
      "+------+------+------+------------+----+---+-----+----+\n",
      "+------+------+------+------------+----+---+-----+----+\n",
      "\n",
      "-------------------------------------------\n",
      "Batch: 68\n",
      "-------------------------------------------\n",
      "+------+------+------+------------+----+---+-----+----+\n",
      "|symbol|window|volume|traded_value|high|low|first|last|\n",
      "+------+------+------+------------+----+---+-----+----+\n",
      "+------+------+------+------------+----+---+-----+----+\n",
      "\n"
     ]
    },
    {
     "name": "stderr",
     "output_type": "stream",
     "text": [
      "                                                                                \r"
     ]
    },
    {
     "name": "stdout",
     "output_type": "stream",
     "text": [
      "-------------------------------------------\n",
      "Batch: 44\n",
      "-------------------------------------------\n",
      "+------+------------------------------------------+------+------------+----+---+-----+----+\n",
      "|symbol|window                                    |volume|traded_value|high|low|first|last|\n",
      "+------+------------------------------------------+------+------------+----+---+-----+----+\n",
      "|MSFT  |{2022-05-25 02:11:00, 2022-05-25 02:12:00}|120   |960.0       |8.0 |8.0|8.0  |8.0 |\n",
      "+------+------------------------------------------+------+------------+----+---+-----+----+\n",
      "\n",
      "-------------------------------------------\n",
      "Batch: 69\n",
      "-------------------------------------------\n",
      "+------+------------------------------------------+------+------------+----+---+-----+----+\n",
      "|symbol|window                                    |volume|traded_value|high|low|first|last|\n",
      "+------+------------------------------------------+------+------------+----+---+-----+----+\n",
      "|MSFT  |{2022-05-25 02:11:00, 2022-05-25 02:12:00}|120   |960.0       |8.0 |8.0|8.0  |8.0 |\n",
      "+------+------------------------------------------+------+------------+----+---+-----+----+\n",
      "\n"
     ]
    },
    {
     "name": "stderr",
     "output_type": "stream",
     "text": [
      "                                                                                \r"
     ]
    },
    {
     "name": "stdout",
     "output_type": "stream",
     "text": [
      "-------------------------------------------\n",
      "Batch: 70\n",
      "-------------------------------------------\n",
      "+------+------------------------------------------+------+------------+----+----+-----+----+\n",
      "|symbol|window                                    |volume|traded_value|high|low |first|last|\n",
      "+------+------------------------------------------+------+------------+----+----+-----+----+\n",
      "|MARUTI|{2022-05-25 02:11:00, 2022-05-25 02:12:00}|20    |280.0       |17.0|11.0|17.0 |11.0|\n",
      "+------+------------------------------------------+------+------------+----+----+-----+----+\n",
      "\n",
      "-------------------------------------------\n",
      "Batch: 45\n",
      "-------------------------------------------\n",
      "+------+------------------------------------------+------+------------+----+----+-----+----+\n",
      "|symbol|window                                    |volume|traded_value|high|low |first|last|\n",
      "+------+------------------------------------------+------+------------+----+----+-----+----+\n",
      "|MARUTI|{2022-05-25 02:11:00, 2022-05-25 02:12:00}|20    |280.0       |17.0|11.0|17.0 |11.0|\n",
      "+------+------------------------------------------+------+------------+----+----+-----+----+\n",
      "\n"
     ]
    },
    {
     "name": "stderr",
     "output_type": "stream",
     "text": [
      "                                                                                \r"
     ]
    },
    {
     "name": "stdout",
     "output_type": "stream",
     "text": [
      "-------------------------------------------\n",
      "Batch: 46\n",
      "-------------------------------------------\n",
      "+------+------------------------------------------+------+------------+----+----+-----+----+\n",
      "|symbol|window                                    |volume|traded_value|high|low |first|last|\n",
      "+------+------------------------------------------+------+------------+----+----+-----+----+\n",
      "|MARUTI|{2022-05-25 02:11:00, 2022-05-25 02:12:00}|120   |3380.0      |31.0|11.0|17.0 |31.0|\n",
      "+------+------------------------------------------+------+------------+----+----+-----+----+\n",
      "\n"
     ]
    },
    {
     "name": "stderr",
     "output_type": "stream",
     "text": [
      "                                                                                \r"
     ]
    },
    {
     "name": "stdout",
     "output_type": "stream",
     "text": [
      "-------------------------------------------\n",
      "Batch: 71\n",
      "-------------------------------------------\n",
      "+------+------------------------------------------+------+------------+----+----+-----+----+\n",
      "|symbol|window                                    |volume|traded_value|high|low |first|last|\n",
      "+------+------------------------------------------+------+------------+----+----+-----+----+\n",
      "|MARUTI|{2022-05-25 02:11:00, 2022-05-25 02:12:00}|120   |3380.0      |31.0|11.0|17.0 |31.0|\n",
      "+------+------------------------------------------+------+------------+----+----+-----+----+\n",
      "\n"
     ]
    },
    {
     "name": "stderr",
     "output_type": "stream",
     "text": [
      "                                                                                \r"
     ]
    },
    {
     "name": "stdout",
     "output_type": "stream",
     "text": [
      "-------------------------------------------\n",
      "Batch: 47\n",
      "-------------------------------------------\n",
      "+------+------------------------------------------+------+------------+----+---+-----+----+\n",
      "|symbol|window                                    |volume|traded_value|high|low|first|last|\n",
      "+------+------------------------------------------+------+------------+----+---+-----+----+\n",
      "|MARUTI|{2022-05-25 02:11:00, 2022-05-25 02:12:00}|150   |3530.0      |31.0|5.0|17.0 |5.0 |\n",
      "+------+------------------------------------------+------+------------+----+---+-----+----+\n",
      "\n",
      "-------------------------------------------\n",
      "Batch: 72\n",
      "-------------------------------------------\n",
      "+------+------------------------------------------+------+------------+----+---+-----+----+\n",
      "|symbol|window                                    |volume|traded_value|high|low|first|last|\n",
      "+------+------------------------------------------+------+------------+----+---+-----+----+\n",
      "|MARUTI|{2022-05-25 02:11:00, 2022-05-25 02:12:00}|150   |3530.0      |31.0|5.0|17.0 |5.0 |\n",
      "+------+------------------------------------------+------+------------+----+---+-----+----+\n",
      "\n"
     ]
    },
    {
     "name": "stderr",
     "output_type": "stream",
     "text": [
      "                                                                                \r"
     ]
    },
    {
     "name": "stdout",
     "output_type": "stream",
     "text": [
      "-------------------------------------------\n",
      "Batch: 48\n",
      "-------------------------------------------\n",
      "+------+------------------------------------------+------+------------+----+---+-----+----+\n",
      "|symbol|window                                    |volume|traded_value|high|low|first|last|\n",
      "+------+------------------------------------------+------+------------+----+---+-----+----+\n",
      "|MARUTI|{2022-05-25 02:11:00, 2022-05-25 02:12:00}|180   |4520.0      |33.0|5.0|17.0 |33.0|\n",
      "+------+------------------------------------------+------+------------+----+---+-----+----+\n",
      "\n"
     ]
    },
    {
     "name": "stderr",
     "output_type": "stream",
     "text": [
      "                                                                                \r"
     ]
    },
    {
     "name": "stdout",
     "output_type": "stream",
     "text": [
      "-------------------------------------------\n",
      "Batch: 73\n",
      "-------------------------------------------\n",
      "+------+------------------------------------------+------+------------+----+---+-----+----+\n",
      "|symbol|window                                    |volume|traded_value|high|low|first|last|\n",
      "+------+------------------------------------------+------+------------+----+---+-----+----+\n",
      "|MARUTI|{2022-05-25 02:11:00, 2022-05-25 02:12:00}|180   |4520.0      |33.0|5.0|17.0 |33.0|\n",
      "+------+------------------------------------------+------+------------+----+---+-----+----+\n",
      "\n"
     ]
    },
    {
     "name": "stderr",
     "output_type": "stream",
     "text": [
      "                                                                                \r"
     ]
    },
    {
     "name": "stdout",
     "output_type": "stream",
     "text": [
      "-------------------------------------------\n",
      "Batch: 49\n",
      "-------------------------------------------\n",
      "+------+------------------------------------------+------+------------+----+----+-----+----+\n",
      "|symbol|window                                    |volume|traded_value|high|low |first|last|\n",
      "+------+------------------------------------------+------+------------+----+----+-----+----+\n",
      "|MSFT  |{2022-05-25 02:12:00, 2022-05-25 02:13:00}|10    |150.0       |15.0|15.0|15.0 |15.0|\n",
      "+------+------------------------------------------+------+------------+----+----+-----+----+\n",
      "\n",
      "-------------------------------------------\n",
      "Batch: 74\n",
      "-------------------------------------------\n",
      "+------+------------------------------------------+------+------------+----+----+-----+----+\n",
      "|symbol|window                                    |volume|traded_value|high|low |first|last|\n",
      "+------+------------------------------------------+------+------------+----+----+-----+----+\n",
      "|MSFT  |{2022-05-25 02:12:00, 2022-05-25 02:13:00}|10    |150.0       |15.0|15.0|15.0 |15.0|\n",
      "+------+------------------------------------------+------+------------+----+----+-----+----+\n",
      "\n",
      "-------------------------------------------\n",
      "Batch: 50\n",
      "-------------------------------------------\n",
      "+------+------+------+------------+----+---+-----+----+\n",
      "|symbol|window|volume|traded_value|high|low|first|last|\n",
      "+------+------+------+------------+----+---+-----+----+\n",
      "+------+------+------+------------+----+---+-----+----+\n",
      "\n",
      "-------------------------------------------\n",
      "Batch: 75\n",
      "-------------------------------------------\n",
      "+------+------+------+------------+----+---+-----+----+\n",
      "|symbol|window|volume|traded_value|high|low|first|last|\n",
      "+------+------+------+------------+----+---+-----+----+\n",
      "+------+------+------+------------+----+---+-----+----+\n",
      "\n"
     ]
    },
    {
     "name": "stderr",
     "output_type": "stream",
     "text": [
      "                                                                                \r"
     ]
    },
    {
     "name": "stdout",
     "output_type": "stream",
     "text": [
      "-------------------------------------------\n",
      "Batch: 51\n",
      "-------------------------------------------\n",
      "+------+------------------------------------------+------+------------+----+----+-----+----+\n",
      "|symbol|window                                    |volume|traded_value|high|low |first|last|\n",
      "+------+------------------------------------------+------+------------+----+----+-----+----+\n",
      "|MSFT  |{2022-05-25 02:12:00, 2022-05-25 02:13:00}|130   |4590.0      |37.0|15.0|15.0 |37.0|\n",
      "+------+------------------------------------------+------+------------+----+----+-----+----+\n",
      "\n",
      "-------------------------------------------\n",
      "Batch: 76\n",
      "-------------------------------------------\n",
      "+------+------------------------------------------+------+------------+----+----+-----+----+\n",
      "|symbol|window                                    |volume|traded_value|high|low |first|last|\n",
      "+------+------------------------------------------+------+------------+----+----+-----+----+\n",
      "|MSFT  |{2022-05-25 02:12:00, 2022-05-25 02:13:00}|130   |4590.0      |37.0|15.0|15.0 |37.0|\n",
      "+------+------------------------------------------+------+------------+----+----+-----+----+\n",
      "\n"
     ]
    },
    {
     "name": "stderr",
     "output_type": "stream",
     "text": [
      "                                                                                \r"
     ]
    },
    {
     "name": "stdout",
     "output_type": "stream",
     "text": [
      "-------------------------------------------\n",
      "Batch: 77\n",
      "-------------------------------------------\n",
      "+------+------------------------------------------+------+------------+----+----+-----+----+\n",
      "|symbol|window                                    |volume|traded_value|high|low |first|last|\n",
      "+------+------------------------------------------+------+------------+----+----+-----+----+\n",
      "|MARUTI|{2022-05-25 02:12:00, 2022-05-25 02:13:00}|10    |400.0       |40.0|40.0|40.0 |40.0|\n",
      "+------+------------------------------------------+------+------------+----+----+-----+----+\n",
      "\n",
      "-------------------------------------------\n",
      "Batch: 52\n",
      "-------------------------------------------\n",
      "+------+------------------------------------------+------+------------+----+----+-----+----+\n",
      "|symbol|window                                    |volume|traded_value|high|low |first|last|\n",
      "+------+------------------------------------------+------+------------+----+----+-----+----+\n",
      "|MARUTI|{2022-05-25 02:12:00, 2022-05-25 02:13:00}|10    |400.0       |40.0|40.0|40.0 |40.0|\n",
      "+------+------------------------------------------+------+------------+----+----+-----+----+\n",
      "\n"
     ]
    },
    {
     "name": "stderr",
     "output_type": "stream",
     "text": [
      "                                                                                \r"
     ]
    },
    {
     "name": "stdout",
     "output_type": "stream",
     "text": [
      "-------------------------------------------\n",
      "Batch: 53\n",
      "-------------------------------------------\n",
      "+------+------------------------------------------+------+------------+----+----+-----+----+\n",
      "|symbol|window                                    |volume|traded_value|high|low |first|last|\n",
      "+------+------------------------------------------+------+------------+----+----+-----+----+\n",
      "|MARUTI|{2022-05-25 02:12:00, 2022-05-25 02:13:00}|60    |2550.0      |43.0|40.0|40.0 |43.0|\n",
      "+------+------------------------------------------+------+------------+----+----+-----+----+\n",
      "\n",
      "-------------------------------------------\n",
      "Batch: 78\n",
      "-------------------------------------------\n",
      "+------+------------------------------------------+------+------------+----+----+-----+----+\n",
      "|symbol|window                                    |volume|traded_value|high|low |first|last|\n",
      "+------+------------------------------------------+------+------------+----+----+-----+----+\n",
      "|MARUTI|{2022-05-25 02:12:00, 2022-05-25 02:13:00}|60    |2550.0      |43.0|40.0|40.0 |43.0|\n",
      "+------+------------------------------------------+------+------------+----+----+-----+----+\n",
      "\n"
     ]
    },
    {
     "name": "stderr",
     "output_type": "stream",
     "text": [
      "                                                                                \r"
     ]
    },
    {
     "name": "stdout",
     "output_type": "stream",
     "text": [
      "-------------------------------------------\n",
      "Batch: 79\n",
      "-------------------------------------------\n",
      "+------+------------------------------------------+------+------------+----+----+-----+----+\n",
      "|symbol|window                                    |volume|traded_value|high|low |first|last|\n",
      "+------+------------------------------------------+------+------------+----+----+-----+----+\n",
      "|TSLA  |{2022-05-25 02:12:00, 2022-05-25 02:13:00}|30    |330.0       |11.0|11.0|11.0 |11.0|\n",
      "+------+------------------------------------------+------+------------+----+----+-----+----+\n",
      "\n",
      "-------------------------------------------\n",
      "Batch: 54\n",
      "-------------------------------------------\n",
      "+------+------------------------------------------+------+------------+----+----+-----+----+\n",
      "|symbol|window                                    |volume|traded_value|high|low |first|last|\n",
      "+------+------------------------------------------+------+------------+----+----+-----+----+\n",
      "|TSLA  |{2022-05-25 02:12:00, 2022-05-25 02:13:00}|30    |330.0       |11.0|11.0|11.0 |11.0|\n",
      "+------+------------------------------------------+------+------------+----+----+-----+----+\n",
      "\n"
     ]
    },
    {
     "name": "stderr",
     "output_type": "stream",
     "text": [
      "                                                                                \r"
     ]
    },
    {
     "name": "stdout",
     "output_type": "stream",
     "text": [
      "-------------------------------------------\n",
      "Batch: 80\n",
      "-------------------------------------------\n",
      "+------+------------------------------------------+------+------------+----+----+-----+----+\n",
      "|symbol|window                                    |volume|traded_value|high|low |first|last|\n",
      "+------+------------------------------------------+------+------------+----+----+-----+----+\n",
      "|MARUTI|{2022-05-25 02:12:00, 2022-05-25 02:13:00}|70    |2960.0      |43.0|40.0|40.0 |41.0|\n",
      "+------+------------------------------------------+------+------------+----+----+-----+----+\n",
      "\n",
      "-------------------------------------------\n",
      "Batch: 55\n",
      "-------------------------------------------\n",
      "+------+------------------------------------------+------+------------+----+----+-----+----+\n",
      "|symbol|window                                    |volume|traded_value|high|low |first|last|\n",
      "+------+------------------------------------------+------+------------+----+----+-----+----+\n",
      "|MARUTI|{2022-05-25 02:12:00, 2022-05-25 02:13:00}|70    |2960.0      |43.0|40.0|40.0 |41.0|\n",
      "+------+------------------------------------------+------+------------+----+----+-----+----+\n",
      "\n"
     ]
    },
    {
     "name": "stderr",
     "output_type": "stream",
     "text": [
      "                                                                                \r"
     ]
    },
    {
     "name": "stdout",
     "output_type": "stream",
     "text": [
      "-------------------------------------------\n",
      "Batch: 56\n",
      "-------------------------------------------\n",
      "+------+------------------------------------------+------+------------+----+----+-----+----+\n",
      "|symbol|window                                    |volume|traded_value|high|low |first|last|\n",
      "+------+------------------------------------------+------+------------+----+----+-----+----+\n",
      "|MSFT  |{2022-05-25 02:13:00, 2022-05-25 02:14:00}|10    |390.0       |39.0|39.0|39.0 |39.0|\n",
      "+------+------------------------------------------+------+------------+----+----+-----+----+\n",
      "\n",
      "-------------------------------------------\n",
      "Batch: 81\n",
      "-------------------------------------------\n",
      "+------+------------------------------------------+------+------------+----+----+-----+----+\n",
      "|symbol|window                                    |volume|traded_value|high|low |first|last|\n",
      "+------+------------------------------------------+------+------------+----+----+-----+----+\n",
      "|MSFT  |{2022-05-25 02:13:00, 2022-05-25 02:14:00}|10    |390.0       |39.0|39.0|39.0 |39.0|\n",
      "+------+------------------------------------------+------+------------+----+----+-----+----+\n",
      "\n"
     ]
    },
    {
     "name": "stderr",
     "output_type": "stream",
     "text": [
      "                                                                                \r"
     ]
    },
    {
     "name": "stdout",
     "output_type": "stream",
     "text": [
      "-------------------------------------------\n",
      "Batch: 57\n",
      "-------------------------------------------\n",
      "+------+------+------+------------+----+---+-----+----+\n",
      "|symbol|window|volume|traded_value|high|low|first|last|\n",
      "+------+------+------+------------+----+---+-----+----+\n",
      "+------+------+------+------------+----+---+-----+----+\n",
      "\n",
      "-------------------------------------------\n",
      "Batch: 82\n",
      "-------------------------------------------\n",
      "+------+------+------+------------+----+---+-----+----+\n",
      "|symbol|window|volume|traded_value|high|low|first|last|\n",
      "+------+------+------+------------+----+---+-----+----+\n",
      "+------+------+------+------------+----+---+-----+----+\n",
      "\n"
     ]
    },
    {
     "name": "stderr",
     "output_type": "stream",
     "text": [
      "                                                                                \r"
     ]
    },
    {
     "name": "stdout",
     "output_type": "stream",
     "text": [
      "-------------------------------------------\n",
      "Batch: 83\n",
      "-------------------------------------------\n",
      "+------+------------------------------------------+------+------------+----+----+-----+----+\n",
      "|symbol|window                                    |volume|traded_value|high|low |first|last|\n",
      "+------+------------------------------------------+------+------------+----+----+-----+----+\n",
      "|MSFT  |{2022-05-25 02:13:00, 2022-05-25 02:14:00}|60    |1640.0      |39.0|25.0|39.0 |25.0|\n",
      "+------+------------------------------------------+------+------------+----+----+-----+----+\n",
      "\n",
      "-------------------------------------------\n",
      "Batch: 58\n",
      "-------------------------------------------\n",
      "+------+------------------------------------------+------+------------+----+----+-----+----+\n",
      "|symbol|window                                    |volume|traded_value|high|low |first|last|\n",
      "+------+------------------------------------------+------+------------+----+----+-----+----+\n",
      "|MSFT  |{2022-05-25 02:13:00, 2022-05-25 02:14:00}|60    |1640.0      |39.0|25.0|39.0 |25.0|\n",
      "+------+------------------------------------------+------+------------+----+----+-----+----+\n",
      "\n"
     ]
    },
    {
     "name": "stderr",
     "output_type": "stream",
     "text": [
      "                                                                                \r"
     ]
    },
    {
     "name": "stdout",
     "output_type": "stream",
     "text": [
      "-------------------------------------------\n",
      "Batch: 84\n",
      "-------------------------------------------\n",
      "+------+------------------------------------------+------+------------+----+----+-----+----+\n",
      "|symbol|window                                    |volume|traded_value|high|low |first|last|\n",
      "+------+------------------------------------------+------+------------+----+----+-----+----+\n",
      "|MSFT  |{2022-05-25 02:13:00, 2022-05-25 02:14:00}|100   |2720.0      |39.0|25.0|39.0 |27.0|\n",
      "+------+------------------------------------------+------+------------+----+----+-----+----+\n",
      "\n",
      "-------------------------------------------\n",
      "Batch: 59\n",
      "-------------------------------------------\n",
      "+------+------------------------------------------+------+------------+----+----+-----+----+\n",
      "|symbol|window                                    |volume|traded_value|high|low |first|last|\n",
      "+------+------------------------------------------+------+------------+----+----+-----+----+\n",
      "|MSFT  |{2022-05-25 02:13:00, 2022-05-25 02:14:00}|100   |2720.0      |39.0|25.0|39.0 |27.0|\n",
      "+------+------------------------------------------+------+------------+----+----+-----+----+\n",
      "\n"
     ]
    },
    {
     "name": "stderr",
     "output_type": "stream",
     "text": [
      "                                                                                \r"
     ]
    },
    {
     "name": "stdout",
     "output_type": "stream",
     "text": [
      "-------------------------------------------\n",
      "Batch: 60\n",
      "-------------------------------------------\n",
      "+------+------------------------------------------+------+------------+----+----+-----+----+\n",
      "|symbol|window                                    |volume|traded_value|high|low |first|last|\n",
      "+------+------------------------------------------+------+------------+----+----+-----+----+\n",
      "|MARUTI|{2022-05-25 02:13:00, 2022-05-25 02:14:00}|40    |1680.0      |42.0|42.0|42.0 |42.0|\n",
      "+------+------------------------------------------+------+------------+----+----+-----+----+\n",
      "\n",
      "-------------------------------------------\n",
      "Batch: 85\n",
      "-------------------------------------------\n",
      "+------+------------------------------------------+------+------------+----+----+-----+----+\n",
      "|symbol|window                                    |volume|traded_value|high|low |first|last|\n",
      "+------+------------------------------------------+------+------------+----+----+-----+----+\n",
      "|MARUTI|{2022-05-25 02:13:00, 2022-05-25 02:14:00}|40    |1680.0      |42.0|42.0|42.0 |42.0|\n",
      "+------+------------------------------------------+------+------------+----+----+-----+----+\n",
      "\n"
     ]
    },
    {
     "name": "stderr",
     "output_type": "stream",
     "text": [
      "                                                                                \r"
     ]
    },
    {
     "name": "stdout",
     "output_type": "stream",
     "text": [
      "-------------------------------------------\n",
      "Batch: 61\n",
      "-------------------------------------------\n",
      "+------+------------------------------------------+------+------------+----+----+-----+----+\n",
      "|symbol|window                                    |volume|traded_value|high|low |first|last|\n",
      "+------+------------------------------------------+------+------------+----+----+-----+----+\n",
      "|MSFT  |{2022-05-25 02:13:00, 2022-05-25 02:14:00}|200   |4220.0      |39.0|15.0|39.0 |15.0|\n",
      "+------+------------------------------------------+------+------------+----+----+-----+----+\n",
      "\n",
      "-------------------------------------------\n",
      "Batch: 86\n",
      "-------------------------------------------\n",
      "+------+------------------------------------------+------+------------+----+----+-----+----+\n",
      "|symbol|window                                    |volume|traded_value|high|low |first|last|\n",
      "+------+------------------------------------------+------+------------+----+----+-----+----+\n",
      "|MSFT  |{2022-05-25 02:13:00, 2022-05-25 02:14:00}|200   |4220.0      |39.0|15.0|39.0 |15.0|\n",
      "+------+------------------------------------------+------+------------+----+----+-----+----+\n",
      "\n"
     ]
    },
    {
     "name": "stderr",
     "output_type": "stream",
     "text": [
      "                                                                                \r"
     ]
    },
    {
     "name": "stdout",
     "output_type": "stream",
     "text": [
      "-------------------------------------------\n",
      "Batch: 87\n",
      "-------------------------------------------\n",
      "+------+------------------------------------------+------+------------+----+---+-----+----+\n",
      "|symbol|window                                    |volume|traded_value|high|low|first|last|\n",
      "+------+------------------------------------------+------+------------+----+---+-----+----+\n",
      "|MSFT  |{2022-05-25 02:13:00, 2022-05-25 02:14:00}|300   |4920.0      |39.0|7.0|39.0 |7.0 |\n",
      "+------+------------------------------------------+------+------------+----+---+-----+----+\n",
      "\n",
      "-------------------------------------------\n",
      "Batch: 62\n",
      "-------------------------------------------\n",
      "+------+------------------------------------------+------+------------+----+---+-----+----+\n",
      "|symbol|window                                    |volume|traded_value|high|low|first|last|\n",
      "+------+------------------------------------------+------+------------+----+---+-----+----+\n",
      "|MSFT  |{2022-05-25 02:13:00, 2022-05-25 02:14:00}|300   |4920.0      |39.0|7.0|39.0 |7.0 |\n",
      "+------+------------------------------------------+------+------------+----+---+-----+----+\n",
      "\n"
     ]
    },
    {
     "name": "stderr",
     "output_type": "stream",
     "text": [
      "                                                                                \r"
     ]
    },
    {
     "name": "stdout",
     "output_type": "stream",
     "text": [
      "-------------------------------------------\n",
      "Batch: 88\n",
      "-------------------------------------------\n",
      "+------+------------------------------------------+------+------------+----+----+-----+----+\n",
      "|symbol|window                                    |volume|traded_value|high|low |first|last|\n",
      "+------+------------------------------------------+------+------------+----+----+-----+----+\n",
      "|TSLA  |{2022-05-25 02:14:00, 2022-05-25 02:15:00}|10    |230.0       |23.0|23.0|23.0 |23.0|\n",
      "+------+------------------------------------------+------+------------+----+----+-----+----+\n",
      "\n"
     ]
    },
    {
     "name": "stderr",
     "output_type": "stream",
     "text": [
      "                                                                                \r"
     ]
    },
    {
     "name": "stdout",
     "output_type": "stream",
     "text": [
      "-------------------------------------------\n",
      "Batch: 63\n",
      "-------------------------------------------\n",
      "+------+------------------------------------------+------+------------+----+----+-----+----+\n",
      "|symbol|window                                    |volume|traded_value|high|low |first|last|\n",
      "+------+------------------------------------------+------+------------+----+----+-----+----+\n",
      "|TSLA  |{2022-05-25 02:14:00, 2022-05-25 02:15:00}|10    |230.0       |23.0|23.0|23.0 |23.0|\n",
      "+------+------------------------------------------+------+------------+----+----+-----+----+\n",
      "\n",
      "-------------------------------------------\n",
      "Batch: 89\n",
      "-------------------------------------------\n",
      "+------+------+------+------------+----+---+-----+----+\n",
      "|symbol|window|volume|traded_value|high|low|first|last|\n",
      "+------+------+------+------------+----+---+-----+----+\n",
      "+------+------+------+------------+----+---+-----+----+\n",
      "\n",
      "-------------------------------------------\n",
      "Batch: 64\n",
      "-------------------------------------------\n",
      "+------+------+------+------------+----+---+-----+----+\n",
      "|symbol|window|volume|traded_value|high|low|first|last|\n",
      "+------+------+------+------------+----+---+-----+----+\n",
      "+------+------+------+------------+----+---+-----+----+\n",
      "\n"
     ]
    },
    {
     "name": "stderr",
     "output_type": "stream",
     "text": [
      "                                                                                \r"
     ]
    },
    {
     "name": "stdout",
     "output_type": "stream",
     "text": [
      "-------------------------------------------\n",
      "Batch: 90\n",
      "-------------------------------------------\n",
      "+------+------------------------------------------+------+------------+----+----+-----+----+\n",
      "|symbol|window                                    |volume|traded_value|high|low |first|last|\n",
      "+------+------------------------------------------+------+------------+----+----+-----+----+\n",
      "|TSLA  |{2022-05-25 02:14:00, 2022-05-25 02:15:00}|130   |1670.0      |23.0|12.0|23.0 |12.0|\n",
      "+------+------------------------------------------+------+------------+----+----+-----+----+\n",
      "\n",
      "-------------------------------------------\n",
      "Batch: 65\n",
      "-------------------------------------------\n",
      "+------+------------------------------------------+------+------------+----+----+-----+----+\n",
      "|symbol|window                                    |volume|traded_value|high|low |first|last|\n",
      "+------+------------------------------------------+------+------------+----+----+-----+----+\n",
      "|TSLA  |{2022-05-25 02:14:00, 2022-05-25 02:15:00}|130   |1670.0      |23.0|12.0|23.0 |12.0|\n",
      "+------+------------------------------------------+------+------------+----+----+-----+----+\n",
      "\n"
     ]
    },
    {
     "name": "stderr",
     "output_type": "stream",
     "text": [
      "                                                                                \r"
     ]
    },
    {
     "name": "stdout",
     "output_type": "stream",
     "text": [
      "-------------------------------------------\n",
      "Batch: 91\n",
      "-------------------------------------------\n",
      "+------+------------------------------------------+------+------------+----+----+-----+----+\n",
      "|symbol|window                                    |volume|traded_value|high|low |first|last|\n",
      "+------+------------------------------------------+------+------------+----+----+-----+----+\n",
      "|TSLA  |{2022-05-25 02:14:00, 2022-05-25 02:15:00}|230   |3770.0      |23.0|12.0|23.0 |21.0|\n",
      "+------+------------------------------------------+------+------------+----+----+-----+----+\n",
      "\n",
      "-------------------------------------------\n",
      "Batch: 66\n",
      "-------------------------------------------\n",
      "+------+------------------------------------------+------+------------+----+----+-----+----+\n",
      "|symbol|window                                    |volume|traded_value|high|low |first|last|\n",
      "+------+------------------------------------------+------+------------+----+----+-----+----+\n",
      "|TSLA  |{2022-05-25 02:14:00, 2022-05-25 02:15:00}|230   |3770.0      |23.0|12.0|23.0 |21.0|\n",
      "+------+------------------------------------------+------+------------+----+----+-----+----+\n",
      "\n"
     ]
    },
    {
     "name": "stderr",
     "output_type": "stream",
     "text": [
      "                                                                                \r"
     ]
    },
    {
     "name": "stdout",
     "output_type": "stream",
     "text": [
      "-------------------------------------------\n",
      "Batch: 67\n",
      "-------------------------------------------\n",
      "+------+------------------------------------------+------+------------+----+----+-----+----+\n",
      "|symbol|window                                    |volume|traded_value|high|low |first|last|\n",
      "+------+------------------------------------------+------+------------+----+----+-----+----+\n",
      "|TSLA  |{2022-05-25 02:14:00, 2022-05-25 02:15:00}|260   |5150.0      |46.0|12.0|23.0 |46.0|\n",
      "+------+------------------------------------------+------+------------+----+----+-----+----+\n",
      "\n",
      "-------------------------------------------\n",
      "Batch: 92\n",
      "-------------------------------------------\n",
      "+------+------------------------------------------+------+------------+----+----+-----+----+\n",
      "|symbol|window                                    |volume|traded_value|high|low |first|last|\n",
      "+------+------------------------------------------+------+------------+----+----+-----+----+\n",
      "|TSLA  |{2022-05-25 02:14:00, 2022-05-25 02:15:00}|260   |5150.0      |46.0|12.0|23.0 |46.0|\n",
      "+------+------------------------------------------+------+------------+----+----+-----+----+\n",
      "\n"
     ]
    },
    {
     "name": "stderr",
     "output_type": "stream",
     "text": [
      "                                                                                \r"
     ]
    },
    {
     "name": "stdout",
     "output_type": "stream",
     "text": [
      "-------------------------------------------\n",
      "Batch: 93\n",
      "-------------------------------------------\n",
      "+------+------------------------------------------+------+------------+----+----+-----+----+\n",
      "|symbol|window                                    |volume|traded_value|high|low |first|last|\n",
      "+------+------------------------------------------+------+------------+----+----+-----+----+\n",
      "|RELAXO|{2022-05-25 02:14:00, 2022-05-25 02:15:00}|30    |1050.0      |35.0|35.0|35.0 |35.0|\n",
      "+------+------------------------------------------+------+------------+----+----+-----+----+\n",
      "\n",
      "-------------------------------------------\n",
      "Batch: 68\n",
      "-------------------------------------------\n",
      "+------+------------------------------------------+------+------------+----+----+-----+----+\n",
      "|symbol|window                                    |volume|traded_value|high|low |first|last|\n",
      "+------+------------------------------------------+------+------------+----+----+-----+----+\n",
      "|RELAXO|{2022-05-25 02:14:00, 2022-05-25 02:15:00}|30    |1050.0      |35.0|35.0|35.0 |35.0|\n",
      "+------+------------------------------------------+------+------------+----+----+-----+----+\n",
      "\n"
     ]
    },
    {
     "name": "stderr",
     "output_type": "stream",
     "text": [
      "                                                                                \r"
     ]
    },
    {
     "name": "stdout",
     "output_type": "stream",
     "text": [
      "-------------------------------------------\n",
      "Batch: 69\n",
      "-------------------------------------------\n",
      "+------+------------------------------------------+------+------------+----+----+-----+----+\n",
      "|symbol|window                                    |volume|traded_value|high|low |first|last|\n",
      "+------+------------------------------------------+------+------------+----+----+-----+----+\n",
      "|TSLA  |{2022-05-25 02:14:00, 2022-05-25 02:15:00}|380   |6950.0      |46.0|12.0|23.0 |15.0|\n",
      "+------+------------------------------------------+------+------------+----+----+-----+----+\n",
      "\n",
      "-------------------------------------------\n",
      "Batch: 94\n",
      "-------------------------------------------\n",
      "+------+------------------------------------------+------+------------+----+----+-----+----+\n",
      "|symbol|window                                    |volume|traded_value|high|low |first|last|\n",
      "+------+------------------------------------------+------+------------+----+----+-----+----+\n",
      "|TSLA  |{2022-05-25 02:14:00, 2022-05-25 02:15:00}|380   |6950.0      |46.0|12.0|23.0 |15.0|\n",
      "+------+------------------------------------------+------+------------+----+----+-----+----+\n",
      "\n"
     ]
    },
    {
     "name": "stderr",
     "output_type": "stream",
     "text": [
      "                                                                                \r"
     ]
    },
    {
     "name": "stdout",
     "output_type": "stream",
     "text": [
      "-------------------------------------------\n",
      "Batch: 70\n",
      "-------------------------------------------\n",
      "+------+------------------------------------------+------+------------+----+----+-----+----+\n",
      "|symbol|window                                    |volume|traded_value|high|low |first|last|\n",
      "+------+------------------------------------------+------+------------+----+----+-----+----+\n",
      "|MARUTI|{2022-05-25 02:15:00, 2022-05-25 02:16:00}|100   |2000.0      |20.0|20.0|20.0 |20.0|\n",
      "+------+------------------------------------------+------+------------+----+----+-----+----+\n",
      "\n",
      "-------------------------------------------\n",
      "Batch: 95\n",
      "-------------------------------------------\n",
      "+------+------------------------------------------+------+------------+----+----+-----+----+\n",
      "|symbol|window                                    |volume|traded_value|high|low |first|last|\n",
      "+------+------------------------------------------+------+------------+----+----+-----+----+\n",
      "|MARUTI|{2022-05-25 02:15:00, 2022-05-25 02:16:00}|100   |2000.0      |20.0|20.0|20.0 |20.0|\n",
      "+------+------------------------------------------+------+------------+----+----+-----+----+\n",
      "\n"
     ]
    },
    {
     "name": "stderr",
     "output_type": "stream",
     "text": [
      "                                                                                \r"
     ]
    },
    {
     "name": "stdout",
     "output_type": "stream",
     "text": [
      "-------------------------------------------\n",
      "Batch: 71\n",
      "-------------------------------------------\n",
      "+------+------+------+------------+----+---+-----+----+\n",
      "|symbol|window|volume|traded_value|high|low|first|last|\n",
      "+------+------+------+------------+----+---+-----+----+\n",
      "+------+------+------+------------+----+---+-----+----+\n",
      "\n",
      "-------------------------------------------\n",
      "Batch: 96\n",
      "-------------------------------------------\n",
      "+------+------+------+------------+----+---+-----+----+\n",
      "|symbol|window|volume|traded_value|high|low|first|last|\n",
      "+------+------+------+------------+----+---+-----+----+\n",
      "+------+------+------+------------+----+---+-----+----+\n",
      "\n"
     ]
    },
    {
     "name": "stderr",
     "output_type": "stream",
     "text": [
      "                                                                                \r"
     ]
    },
    {
     "name": "stdout",
     "output_type": "stream",
     "text": [
      "-------------------------------------------\n",
      "Batch: 97\n",
      "-------------------------------------------\n",
      "+------+------------------------------------------+------+------------+----+----+-----+----+\n",
      "|symbol|window                                    |volume|traded_value|high|low |first|last|\n",
      "+------+------------------------------------------+------+------------+----+----+-----+----+\n",
      "|MARUTI|{2022-05-25 02:15:00, 2022-05-25 02:16:00}|220   |7640.0      |47.0|20.0|20.0 |47.0|\n",
      "+------+------------------------------------------+------+------------+----+----+-----+----+\n",
      "\n",
      "-------------------------------------------\n",
      "Batch: 72\n",
      "-------------------------------------------\n",
      "+------+------------------------------------------+------+------------+----+----+-----+----+\n",
      "|symbol|window                                    |volume|traded_value|high|low |first|last|\n",
      "+------+------------------------------------------+------+------------+----+----+-----+----+\n",
      "|MARUTI|{2022-05-25 02:15:00, 2022-05-25 02:16:00}|220   |7640.0      |47.0|20.0|20.0 |47.0|\n",
      "+------+------------------------------------------+------+------------+----+----+-----+----+\n",
      "\n"
     ]
    },
    {
     "name": "stderr",
     "output_type": "stream",
     "text": [
      "                                                                                \r"
     ]
    },
    {
     "name": "stdout",
     "output_type": "stream",
     "text": [
      "-------------------------------------------\n",
      "Batch: 98\n",
      "-------------------------------------------\n",
      "+------+------------------------------------------+------+------------+----+----+-----+----+\n",
      "|symbol|window                                    |volume|traded_value|high|low |first|last|\n",
      "+------+------------------------------------------+------+------------+----+----+-----+----+\n",
      "|MSFT  |{2022-05-25 02:15:00, 2022-05-25 02:16:00}|120   |1560.0      |13.0|13.0|13.0 |13.0|\n",
      "+------+------------------------------------------+------+------------+----+----+-----+----+\n",
      "\n",
      "-------------------------------------------\n",
      "Batch: 73\n",
      "-------------------------------------------\n",
      "+------+------------------------------------------+------+------------+----+----+-----+----+\n",
      "|symbol|window                                    |volume|traded_value|high|low |first|last|\n",
      "+------+------------------------------------------+------+------------+----+----+-----+----+\n",
      "|MSFT  |{2022-05-25 02:15:00, 2022-05-25 02:16:00}|120   |1560.0      |13.0|13.0|13.0 |13.0|\n",
      "+------+------------------------------------------+------+------------+----+----+-----+----+\n",
      "\n"
     ]
    },
    {
     "name": "stderr",
     "output_type": "stream",
     "text": [
      "                                                                                \r"
     ]
    },
    {
     "name": "stdout",
     "output_type": "stream",
     "text": [
      "-------------------------------------------\n",
      "Batch: 74\n",
      "-------------------------------------------\n",
      "+------+------------------------------------------+------+------------+----+----+-----+----+\n",
      "|symbol|window                                    |volume|traded_value|high|low |first|last|\n",
      "+------+------------------------------------------+------+------------+----+----+-----+----+\n",
      "|MARUTI|{2022-05-25 02:15:00, 2022-05-25 02:16:00}|270   |9940.0      |47.0|20.0|20.0 |46.0|\n",
      "+------+------------------------------------------+------+------------+----+----+-----+----+\n",
      "\n",
      "-------------------------------------------\n",
      "Batch: 99\n",
      "-------------------------------------------\n",
      "+------+------------------------------------------+------+------------+----+----+-----+----+\n",
      "|symbol|window                                    |volume|traded_value|high|low |first|last|\n",
      "+------+------------------------------------------+------+------------+----+----+-----+----+\n",
      "|MARUTI|{2022-05-25 02:15:00, 2022-05-25 02:16:00}|270   |9940.0      |47.0|20.0|20.0 |46.0|\n",
      "+------+------------------------------------------+------+------------+----+----+-----+----+\n",
      "\n"
     ]
    },
    {
     "name": "stderr",
     "output_type": "stream",
     "text": [
      "                                                                                \r"
     ]
    },
    {
     "name": "stdout",
     "output_type": "stream",
     "text": [
      "-------------------------------------------\n",
      "Batch: 100\n",
      "-------------------------------------------\n",
      "+------+------------------------------------------+------+------------+----+----+-----+----+\n",
      "|symbol|window                                    |volume|traded_value|high|low |first|last|\n",
      "+------+------------------------------------------+------+------------+----+----+-----+----+\n",
      "|MARUTI|{2022-05-25 02:15:00, 2022-05-25 02:16:00}|320   |11990.0     |47.0|20.0|20.0 |41.0|\n",
      "+------+------------------------------------------+------+------------+----+----+-----+----+\n",
      "\n",
      "-------------------------------------------\n",
      "Batch: 75\n",
      "-------------------------------------------\n",
      "+------+------------------------------------------+------+------------+----+----+-----+----+\n",
      "|symbol|window                                    |volume|traded_value|high|low |first|last|\n",
      "+------+------------------------------------------+------+------------+----+----+-----+----+\n",
      "|MARUTI|{2022-05-25 02:15:00, 2022-05-25 02:16:00}|320   |11990.0     |47.0|20.0|20.0 |41.0|\n",
      "+------+------------------------------------------+------+------------+----+----+-----+----+\n",
      "\n"
     ]
    },
    {
     "name": "stderr",
     "output_type": "stream",
     "text": [
      "                                                                                \r"
     ]
    },
    {
     "name": "stdout",
     "output_type": "stream",
     "text": [
      "-------------------------------------------\n",
      "Batch: 76\n",
      "-------------------------------------------\n",
      "+------+------------------------------------------+------+------------+----+----+-----+----+\n",
      "|symbol|window                                    |volume|traded_value|high|low |first|last|\n",
      "+------+------------------------------------------+------+------------+----+----+-----+----+\n",
      "|MARUTI|{2022-05-25 02:15:00, 2022-05-25 02:16:00}|370   |12840.0     |47.0|17.0|20.0 |17.0|\n",
      "+------+------------------------------------------+------+------------+----+----+-----+----+\n",
      "\n",
      "-------------------------------------------\n",
      "Batch: 101\n",
      "-------------------------------------------\n",
      "+------+------------------------------------------+------+------------+----+----+-----+----+\n",
      "|symbol|window                                    |volume|traded_value|high|low |first|last|\n",
      "+------+------------------------------------------+------+------------+----+----+-----+----+\n",
      "|MARUTI|{2022-05-25 02:15:00, 2022-05-25 02:16:00}|370   |12840.0     |47.0|17.0|20.0 |17.0|\n",
      "+------+------------------------------------------+------+------------+----+----+-----+----+\n",
      "\n"
     ]
    },
    {
     "name": "stderr",
     "output_type": "stream",
     "text": [
      "                                                                                \r"
     ]
    },
    {
     "name": "stdout",
     "output_type": "stream",
     "text": [
      "-------------------------------------------\n",
      "Batch: 102\n",
      "-------------------------------------------\n",
      "+------+------------------------------------------+------+------------+----+----+-----+----+\n",
      "|symbol|window                                    |volume|traded_value|high|low |first|last|\n",
      "+------+------------------------------------------+------+------------+----+----+-----+----+\n",
      "|MARUTI|{2022-05-25 02:16:00, 2022-05-25 02:17:00}|120   |2040.0      |17.0|17.0|17.0 |17.0|\n",
      "+------+------------------------------------------+------+------------+----+----+-----+----+\n",
      "\n"
     ]
    },
    {
     "name": "stderr",
     "output_type": "stream",
     "text": [
      "                                                                                \r"
     ]
    },
    {
     "name": "stdout",
     "output_type": "stream",
     "text": [
      "-------------------------------------------\n",
      "Batch: 77\n",
      "-------------------------------------------\n",
      "+------+------------------------------------------+------+------------+----+----+-----+----+\n",
      "|symbol|window                                    |volume|traded_value|high|low |first|last|\n",
      "+------+------------------------------------------+------+------------+----+----+-----+----+\n",
      "|MARUTI|{2022-05-25 02:16:00, 2022-05-25 02:17:00}|120   |2040.0      |17.0|17.0|17.0 |17.0|\n",
      "+------+------------------------------------------+------+------------+----+----+-----+----+\n",
      "\n",
      "-------------------------------------------\n",
      "Batch: 103\n",
      "-------------------------------------------\n",
      "+------+------+------+------------+----+---+-----+----+\n",
      "|symbol|window|volume|traded_value|high|low|first|last|\n",
      "+------+------+------+------------+----+---+-----+----+\n",
      "+------+------+------+------------+----+---+-----+----+\n",
      "\n",
      "-------------------------------------------\n",
      "Batch: 78\n",
      "-------------------------------------------\n",
      "+------+------+------+------------+----+---+-----+----+\n",
      "|symbol|window|volume|traded_value|high|low|first|last|\n",
      "+------+------+------+------------+----+---+-----+----+\n",
      "+------+------+------+------------+----+---+-----+----+\n",
      "\n"
     ]
    },
    {
     "name": "stderr",
     "output_type": "stream",
     "text": [
      "                                                                                \r"
     ]
    },
    {
     "name": "stdout",
     "output_type": "stream",
     "text": [
      "-------------------------------------------\n",
      "Batch: 79\n",
      "-------------------------------------------\n",
      "+------+------------------------------------------+------+------------+----+----+-----+----+\n",
      "|symbol|window                                    |volume|traded_value|high|low |first|last|\n",
      "+------+------------------------------------------+------+------------+----+----+-----+----+\n",
      "|MSFT  |{2022-05-25 02:16:00, 2022-05-25 02:17:00}|100   |1700.0      |17.0|17.0|17.0 |17.0|\n",
      "+------+------------------------------------------+------+------------+----+----+-----+----+\n",
      "\n",
      "-------------------------------------------\n",
      "Batch: 104\n",
      "-------------------------------------------\n",
      "+------+------------------------------------------+------+------------+----+----+-----+----+\n",
      "|symbol|window                                    |volume|traded_value|high|low |first|last|\n",
      "+------+------------------------------------------+------+------------+----+----+-----+----+\n",
      "|MSFT  |{2022-05-25 02:16:00, 2022-05-25 02:17:00}|100   |1700.0      |17.0|17.0|17.0 |17.0|\n",
      "+------+------------------------------------------+------+------------+----+----+-----+----+\n",
      "\n"
     ]
    },
    {
     "name": "stderr",
     "output_type": "stream",
     "text": [
      "                                                                                \r"
     ]
    },
    {
     "name": "stdout",
     "output_type": "stream",
     "text": [
      "-------------------------------------------\n",
      "Batch: 80\n",
      "-------------------------------------------\n",
      "+------+------------------------------------------+------+------------+----+----+-----+----+\n",
      "|symbol|window                                    |volume|traded_value|high|low |first|last|\n",
      "+------+------------------------------------------+------+------------+----+----+-----+----+\n",
      "|RELAXO|{2022-05-25 02:16:00, 2022-05-25 02:17:00}|10    |380.0       |38.0|38.0|38.0 |38.0|\n",
      "+------+------------------------------------------+------+------------+----+----+-----+----+\n",
      "\n",
      "-------------------------------------------\n",
      "Batch: 105\n",
      "-------------------------------------------\n",
      "+------+------------------------------------------+------+------------+----+----+-----+----+\n",
      "|symbol|window                                    |volume|traded_value|high|low |first|last|\n",
      "+------+------------------------------------------+------+------------+----+----+-----+----+\n",
      "|RELAXO|{2022-05-25 02:16:00, 2022-05-25 02:17:00}|10    |380.0       |38.0|38.0|38.0 |38.0|\n",
      "+------+------------------------------------------+------+------------+----+----+-----+----+\n",
      "\n"
     ]
    },
    {
     "name": "stderr",
     "output_type": "stream",
     "text": [
      "                                                                                \r"
     ]
    },
    {
     "name": "stdout",
     "output_type": "stream",
     "text": [
      "-------------------------------------------\n",
      "Batch: 106\n",
      "-------------------------------------------\n",
      "+------+------------------------------------------+------+------------+----+----+-----+----+\n",
      "|symbol|window                                    |volume|traded_value|high|low |first|last|\n",
      "+------+------------------------------------------+------+------------+----+----+-----+----+\n",
      "|MARUTI|{2022-05-25 02:16:00, 2022-05-25 02:17:00}|240   |6360.0      |36.0|17.0|17.0 |36.0|\n",
      "+------+------------------------------------------+------+------------+----+----+-----+----+\n",
      "\n",
      "-------------------------------------------\n",
      "Batch: 81\n",
      "-------------------------------------------\n",
      "+------+------------------------------------------+------+------------+----+----+-----+----+\n",
      "|symbol|window                                    |volume|traded_value|high|low |first|last|\n",
      "+------+------------------------------------------+------+------------+----+----+-----+----+\n",
      "|MARUTI|{2022-05-25 02:16:00, 2022-05-25 02:17:00}|240   |6360.0      |36.0|17.0|17.0 |36.0|\n",
      "+------+------------------------------------------+------+------------+----+----+-----+----+\n",
      "\n"
     ]
    },
    {
     "name": "stderr",
     "output_type": "stream",
     "text": [
      "                                                                                \r"
     ]
    },
    {
     "name": "stdout",
     "output_type": "stream",
     "text": [
      "-------------------------------------------\n",
      "Batch: 82\n",
      "-------------------------------------------\n",
      "+------+------------------------------------------+------+------------+----+----+-----+----+\n",
      "|symbol|window                                    |volume|traded_value|high|low |first|last|\n",
      "+------+------------------------------------------+------+------------+----+----+-----+----+\n",
      "|TSLA  |{2022-05-25 02:16:00, 2022-05-25 02:17:00}|50    |2250.0      |45.0|45.0|45.0 |45.0|\n",
      "+------+------------------------------------------+------+------------+----+----+-----+----+\n",
      "\n",
      "-------------------------------------------\n",
      "Batch: 107\n",
      "-------------------------------------------\n",
      "+------+------------------------------------------+------+------------+----+----+-----+----+\n",
      "|symbol|window                                    |volume|traded_value|high|low |first|last|\n",
      "+------+------------------------------------------+------+------------+----+----+-----+----+\n",
      "|TSLA  |{2022-05-25 02:16:00, 2022-05-25 02:17:00}|50    |2250.0      |45.0|45.0|45.0 |45.0|\n",
      "+------+------------------------------------------+------+------------+----+----+-----+----+\n",
      "\n"
     ]
    },
    {
     "name": "stderr",
     "output_type": "stream",
     "text": [
      "                                                                                \r"
     ]
    },
    {
     "name": "stdout",
     "output_type": "stream",
     "text": [
      "-------------------------------------------\n",
      "Batch: 83\n",
      "-------------------------------------------\n",
      "+------+------------------------------------------+------+------------+----+----+-----+----+\n",
      "|symbol|window                                    |volume|traded_value|high|low |first|last|\n",
      "+------+------------------------------------------+------+------------+----+----+-----+----+\n",
      "|TSLA  |{2022-05-25 02:16:00, 2022-05-25 02:17:00}|60    |2400.0      |45.0|15.0|45.0 |15.0|\n",
      "+------+------------------------------------------+------+------------+----+----+-----+----+\n",
      "\n",
      "-------------------------------------------\n",
      "Batch: 108\n",
      "-------------------------------------------\n",
      "+------+------------------------------------------+------+------------+----+----+-----+----+\n",
      "|symbol|window                                    |volume|traded_value|high|low |first|last|\n",
      "+------+------------------------------------------+------+------------+----+----+-----+----+\n",
      "|TSLA  |{2022-05-25 02:16:00, 2022-05-25 02:17:00}|60    |2400.0      |45.0|15.0|45.0 |15.0|\n",
      "+------+------------------------------------------+------+------------+----+----+-----+----+\n",
      "\n"
     ]
    },
    {
     "name": "stderr",
     "output_type": "stream",
     "text": [
      "                                                                                \r"
     ]
    },
    {
     "name": "stdout",
     "output_type": "stream",
     "text": [
      "-------------------------------------------\n",
      "Batch: 84\n",
      "-------------------------------------------\n",
      "+------+------------------------------------------+------+------------+----+----+-----+----+\n",
      "|symbol|window                                    |volume|traded_value|high|low |first|last|\n",
      "+------+------------------------------------------+------+------------+----+----+-----+----+\n",
      "|MARUTI|{2022-05-25 02:17:00, 2022-05-25 02:18:00}|100   |3100.0      |31.0|31.0|31.0 |31.0|\n",
      "+------+------------------------------------------+------+------------+----+----+-----+----+\n",
      "\n"
     ]
    },
    {
     "name": "stderr",
     "output_type": "stream",
     "text": [
      "                                                                                \r"
     ]
    },
    {
     "name": "stdout",
     "output_type": "stream",
     "text": [
      "-------------------------------------------\n",
      "Batch: 109\n",
      "-------------------------------------------\n",
      "+------+------------------------------------------+------+------------+----+----+-----+----+\n",
      "|symbol|window                                    |volume|traded_value|high|low |first|last|\n",
      "+------+------------------------------------------+------+------------+----+----+-----+----+\n",
      "|MARUTI|{2022-05-25 02:17:00, 2022-05-25 02:18:00}|100   |3100.0      |31.0|31.0|31.0 |31.0|\n",
      "+------+------------------------------------------+------+------------+----+----+-----+----+\n",
      "\n",
      "-------------------------------------------\n",
      "Batch: 85\n",
      "-------------------------------------------\n",
      "+------+------+------+------------+----+---+-----+----+\n",
      "|symbol|window|volume|traded_value|high|low|first|last|\n",
      "+------+------+------+------------+----+---+-----+----+\n",
      "+------+------+------+------------+----+---+-----+----+\n",
      "\n",
      "-------------------------------------------\n",
      "Batch: 110\n",
      "-------------------------------------------\n",
      "+------+------+------+------------+----+---+-----+----+\n",
      "|symbol|window|volume|traded_value|high|low|first|last|\n",
      "+------+------+------+------------+----+---+-----+----+\n",
      "+------+------+------+------------+----+---+-----+----+\n",
      "\n"
     ]
    },
    {
     "name": "stderr",
     "output_type": "stream",
     "text": [
      "                                                                                \r"
     ]
    },
    {
     "name": "stdout",
     "output_type": "stream",
     "text": [
      "-------------------------------------------\n",
      "Batch: 86\n",
      "-------------------------------------------\n",
      "+------+------------------------------------------+------+------------+----+----+-----+----+\n",
      "|symbol|window                                    |volume|traded_value|high|low |first|last|\n",
      "+------+------------------------------------------+------+------------+----+----+-----+----+\n",
      "|RELAXO|{2022-05-25 02:17:00, 2022-05-25 02:18:00}|50    |1150.0      |23.0|23.0|23.0 |23.0|\n",
      "+------+------------------------------------------+------+------------+----+----+-----+----+\n",
      "\n",
      "-------------------------------------------\n",
      "Batch: 111\n",
      "-------------------------------------------\n",
      "+------+------------------------------------------+------+------------+----+----+-----+----+\n",
      "|symbol|window                                    |volume|traded_value|high|low |first|last|\n",
      "+------+------------------------------------------+------+------------+----+----+-----+----+\n",
      "|RELAXO|{2022-05-25 02:17:00, 2022-05-25 02:18:00}|50    |1150.0      |23.0|23.0|23.0 |23.0|\n",
      "+------+------------------------------------------+------+------------+----+----+-----+----+\n",
      "\n"
     ]
    },
    {
     "name": "stderr",
     "output_type": "stream",
     "text": [
      "                                                                                \r"
     ]
    },
    {
     "name": "stdout",
     "output_type": "stream",
     "text": [
      "-------------------------------------------\n",
      "Batch: 87\n",
      "-------------------------------------------\n",
      "+------+------------------------------------------+------+------------+----+----+-----+----+\n",
      "|symbol|window                                    |volume|traded_value|high|low |first|last|\n",
      "+------+------------------------------------------+------+------------+----+----+-----+----+\n",
      "|MARUTI|{2022-05-25 02:17:00, 2022-05-25 02:18:00}|220   |6580.0      |31.0|29.0|31.0 |29.0|\n",
      "+------+------------------------------------------+------+------------+----+----+-----+----+\n",
      "\n",
      "-------------------------------------------\n",
      "Batch: 112\n",
      "-------------------------------------------\n",
      "+------+------------------------------------------+------+------------+----+----+-----+----+\n",
      "|symbol|window                                    |volume|traded_value|high|low |first|last|\n",
      "+------+------------------------------------------+------+------------+----+----+-----+----+\n",
      "|MARUTI|{2022-05-25 02:17:00, 2022-05-25 02:18:00}|220   |6580.0      |31.0|29.0|31.0 |29.0|\n",
      "+------+------------------------------------------+------+------------+----+----+-----+----+\n",
      "\n"
     ]
    },
    {
     "name": "stderr",
     "output_type": "stream",
     "text": [
      "                                                                                \r"
     ]
    },
    {
     "name": "stdout",
     "output_type": "stream",
     "text": [
      "-------------------------------------------\n",
      "Batch: 113\n",
      "-------------------------------------------\n",
      "+------+------------------------------------------+------+------------+----+----+-----+----+\n",
      "|symbol|window                                    |volume|traded_value|high|low |first|last|\n",
      "+------+------------------------------------------+------+------------+----+----+-----+----+\n",
      "|MSFT  |{2022-05-25 02:17:00, 2022-05-25 02:18:00}|40    |680.0       |17.0|17.0|17.0 |17.0|\n",
      "+------+------------------------------------------+------+------------+----+----+-----+----+\n",
      "\n",
      "-------------------------------------------\n",
      "Batch: 88\n",
      "-------------------------------------------\n",
      "+------+------------------------------------------+------+------------+----+----+-----+----+\n",
      "|symbol|window                                    |volume|traded_value|high|low |first|last|\n",
      "+------+------------------------------------------+------+------------+----+----+-----+----+\n",
      "|MSFT  |{2022-05-25 02:17:00, 2022-05-25 02:18:00}|40    |680.0       |17.0|17.0|17.0 |17.0|\n",
      "+------+------------------------------------------+------+------------+----+----+-----+----+\n",
      "\n"
     ]
    },
    {
     "name": "stderr",
     "output_type": "stream",
     "text": [
      "                                                                                \r"
     ]
    },
    {
     "name": "stdout",
     "output_type": "stream",
     "text": [
      "-------------------------------------------\n",
      "Batch: 89\n",
      "-------------------------------------------\n",
      "+------+------------------------------------------+------+------------+----+---+-----+----+\n",
      "|symbol|window                                    |volume|traded_value|high|low|first|last|\n",
      "+------+------------------------------------------+------+------------+----+---+-----+----+\n",
      "|TSLA  |{2022-05-25 02:17:00, 2022-05-25 02:18:00}|40    |200.0       |5.0 |5.0|5.0  |5.0 |\n",
      "+------+------------------------------------------+------+------------+----+---+-----+----+\n",
      "\n",
      "-------------------------------------------\n",
      "Batch: 114\n",
      "-------------------------------------------\n",
      "+------+------------------------------------------+------+------------+----+---+-----+----+\n",
      "|symbol|window                                    |volume|traded_value|high|low|first|last|\n",
      "+------+------------------------------------------+------+------------+----+---+-----+----+\n",
      "|TSLA  |{2022-05-25 02:17:00, 2022-05-25 02:18:00}|40    |200.0       |5.0 |5.0|5.0  |5.0 |\n",
      "+------+------------------------------------------+------+------------+----+---+-----+----+\n",
      "\n"
     ]
    },
    {
     "name": "stderr",
     "output_type": "stream",
     "text": [
      "[Stage 640:>                (0 + 1) / 1][Stage 642:>                (0 + 0) / 1]\r"
     ]
    },
    {
     "name": "stdout",
     "output_type": "stream",
     "text": [
      "-------------------------------------------\n",
      "Batch: 115\n",
      "-------------------------------------------\n",
      "+------+------------------------------------------+------+------------+----+----+-----+----+\n",
      "|symbol|window                                    |volume|traded_value|high|low |first|last|\n",
      "+------+------------------------------------------+------+------------+----+----+-----+----+\n",
      "|RELAXO|{2022-05-25 02:17:00, 2022-05-25 02:18:00}|90    |1830.0      |23.0|17.0|23.0 |17.0|\n",
      "+------+------------------------------------------+------+------------+----+----+-----+----+\n",
      "\n",
      "-------------------------------------------\n",
      "Batch: 90\n",
      "-------------------------------------------\n",
      "+------+------------------------------------------+------+------------+----+----+-----+----+\n",
      "|symbol|window                                    |volume|traded_value|high|low |first|last|\n",
      "+------+------------------------------------------+------+------------+----+----+-----+----+\n",
      "|RELAXO|{2022-05-25 02:17:00, 2022-05-25 02:18:00}|90    |1830.0      |23.0|17.0|23.0 |17.0|\n",
      "+------+------------------------------------------+------+------------+----+----+-----+----+\n",
      "\n"
     ]
    },
    {
     "name": "stderr",
     "output_type": "stream",
     "text": [
      "                                                                                \r"
     ]
    },
    {
     "name": "stdout",
     "output_type": "stream",
     "text": [
      "-------------------------------------------\n",
      "Batch: 91\n",
      "-------------------------------------------\n",
      "+------+------------------------------------------+------+------------+----+----+-----+----+\n",
      "|symbol|window                                    |volume|traded_value|high|low |first|last|\n",
      "+------+------------------------------------------+------+------------+----+----+-----+----+\n",
      "|MSFT  |{2022-05-25 02:18:00, 2022-05-25 02:19:00}|30    |660.0       |22.0|22.0|22.0 |22.0|\n",
      "+------+------------------------------------------+------+------------+----+----+-----+----+\n",
      "\n"
     ]
    },
    {
     "name": "stderr",
     "output_type": "stream",
     "text": [
      "                                                                                \r"
     ]
    },
    {
     "name": "stdout",
     "output_type": "stream",
     "text": [
      "-------------------------------------------\n",
      "Batch: 116\n",
      "-------------------------------------------\n",
      "+------+------------------------------------------+------+------------+----+----+-----+----+\n",
      "|symbol|window                                    |volume|traded_value|high|low |first|last|\n",
      "+------+------------------------------------------+------+------------+----+----+-----+----+\n",
      "|MSFT  |{2022-05-25 02:18:00, 2022-05-25 02:19:00}|30    |660.0       |22.0|22.0|22.0 |22.0|\n",
      "+------+------------------------------------------+------+------------+----+----+-----+----+\n",
      "\n",
      "-------------------------------------------\n",
      "Batch: 92\n",
      "-------------------------------------------\n",
      "+------+------+------+------------+----+---+-----+----+\n",
      "|symbol|window|volume|traded_value|high|low|first|last|\n",
      "+------+------+------+------------+----+---+-----+----+\n",
      "+------+------+------+------------+----+---+-----+----+\n",
      "\n",
      "-------------------------------------------\n",
      "Batch: 117\n",
      "-------------------------------------------\n",
      "+------+------+------+------------+----+---+-----+----+\n",
      "|symbol|window|volume|traded_value|high|low|first|last|\n",
      "+------+------+------+------------+----+---+-----+----+\n",
      "+------+------+------+------------+----+---+-----+----+\n",
      "\n"
     ]
    },
    {
     "name": "stderr",
     "output_type": "stream",
     "text": [
      "                                                                                \r"
     ]
    },
    {
     "name": "stdout",
     "output_type": "stream",
     "text": [
      "-------------------------------------------\n",
      "Batch: 118\n",
      "-------------------------------------------\n",
      "+------+------------------------------------------+------+------------+----+----+-----+----+\n",
      "|symbol|window                                    |volume|traded_value|high|low |first|last|\n",
      "+------+------------------------------------------+------+------------+----+----+-----+----+\n",
      "|TSLA  |{2022-05-25 02:18:00, 2022-05-25 02:19:00}|40    |400.0       |10.0|10.0|10.0 |10.0|\n",
      "+------+------------------------------------------+------+------------+----+----+-----+----+\n",
      "\n",
      "-------------------------------------------\n",
      "Batch: 93\n",
      "-------------------------------------------\n",
      "+------+------------------------------------------+------+------------+----+----+-----+----+\n",
      "|symbol|window                                    |volume|traded_value|high|low |first|last|\n",
      "+------+------------------------------------------+------+------------+----+----+-----+----+\n",
      "|TSLA  |{2022-05-25 02:18:00, 2022-05-25 02:19:00}|40    |400.0       |10.0|10.0|10.0 |10.0|\n",
      "+------+------------------------------------------+------+------------+----+----+-----+----+\n",
      "\n"
     ]
    },
    {
     "name": "stderr",
     "output_type": "stream",
     "text": [
      "                                                                                \r"
     ]
    },
    {
     "name": "stdout",
     "output_type": "stream",
     "text": [
      "-------------------------------------------\n",
      "Batch: 119\n",
      "-------------------------------------------\n",
      "+------+------------------------------------------+------+------------+----+----+-----+----+\n",
      "|symbol|window                                    |volume|traded_value|high|low |first|last|\n",
      "+------+------------------------------------------+------+------------+----+----+-----+----+\n",
      "|MSFT  |{2022-05-25 02:18:00, 2022-05-25 02:19:00}|40    |950.0       |29.0|22.0|22.0 |29.0|\n",
      "+------+------------------------------------------+------+------------+----+----+-----+----+\n",
      "\n",
      "-------------------------------------------\n",
      "Batch: 94\n",
      "-------------------------------------------\n",
      "+------+------------------------------------------+------+------------+----+----+-----+----+\n",
      "|symbol|window                                    |volume|traded_value|high|low |first|last|\n",
      "+------+------------------------------------------+------+------------+----+----+-----+----+\n",
      "|MSFT  |{2022-05-25 02:18:00, 2022-05-25 02:19:00}|40    |950.0       |29.0|22.0|22.0 |29.0|\n",
      "+------+------------------------------------------+------+------------+----+----+-----+----+\n",
      "\n"
     ]
    },
    {
     "name": "stderr",
     "output_type": "stream",
     "text": [
      "                                                                                \r"
     ]
    },
    {
     "name": "stdout",
     "output_type": "stream",
     "text": [
      "-------------------------------------------\n",
      "Batch: 95\n",
      "-------------------------------------------\n",
      "+------+------------------------------------------+------+------------+----+----+-----+----+\n",
      "|symbol|window                                    |volume|traded_value|high|low |first|last|\n",
      "+------+------------------------------------------+------+------------+----+----+-----+----+\n",
      "|RELAXO|{2022-05-25 02:18:00, 2022-05-25 02:19:00}|120   |4080.0      |34.0|34.0|34.0 |34.0|\n",
      "+------+------------------------------------------+------+------------+----+----+-----+----+\n",
      "\n",
      "-------------------------------------------\n",
      "Batch: 120\n",
      "-------------------------------------------\n",
      "+------+------------------------------------------+------+------------+----+----+-----+----+\n",
      "|symbol|window                                    |volume|traded_value|high|low |first|last|\n",
      "+------+------------------------------------------+------+------------+----+----+-----+----+\n",
      "|RELAXO|{2022-05-25 02:18:00, 2022-05-25 02:19:00}|120   |4080.0      |34.0|34.0|34.0 |34.0|\n",
      "+------+------------------------------------------+------+------------+----+----+-----+----+\n",
      "\n"
     ]
    },
    {
     "name": "stderr",
     "output_type": "stream",
     "text": [
      "                                                                                \r"
     ]
    },
    {
     "name": "stdout",
     "output_type": "stream",
     "text": [
      "-------------------------------------------\n",
      "Batch: 96\n",
      "-------------------------------------------\n",
      "+------+------------------------------------------+------+------------+----+----+-----+----+\n",
      "|symbol|window                                    |volume|traded_value|high|low |first|last|\n",
      "+------+------------------------------------------+------+------------+----+----+-----+----+\n",
      "|TSLA  |{2022-05-25 02:18:00, 2022-05-25 02:19:00}|90    |2900.0      |50.0|10.0|10.0 |50.0|\n",
      "+------+------------------------------------------+------+------------+----+----+-----+----+\n",
      "\n",
      "-------------------------------------------\n",
      "Batch: 121\n",
      "-------------------------------------------\n",
      "+------+------------------------------------------+------+------------+----+----+-----+----+\n",
      "|symbol|window                                    |volume|traded_value|high|low |first|last|\n",
      "+------+------------------------------------------+------+------------+----+----+-----+----+\n",
      "|TSLA  |{2022-05-25 02:18:00, 2022-05-25 02:19:00}|90    |2900.0      |50.0|10.0|10.0 |50.0|\n",
      "+------+------------------------------------------+------+------------+----+----+-----+----+\n",
      "\n"
     ]
    },
    {
     "name": "stderr",
     "output_type": "stream",
     "text": [
      "                                                                                \r"
     ]
    },
    {
     "name": "stdout",
     "output_type": "stream",
     "text": [
      "-------------------------------------------\n",
      "Batch: 122\n",
      "-------------------------------------------\n",
      "+------+------------------------------------------+------+------------+----+----+-----+----+\n",
      "|symbol|window                                    |volume|traded_value|high|low |first|last|\n",
      "+------+------------------------------------------+------+------------+----+----+-----+----+\n",
      "|RELAXO|{2022-05-25 02:18:00, 2022-05-25 02:19:00}|220   |5280.0      |34.0|12.0|34.0 |12.0|\n",
      "+------+------------------------------------------+------+------------+----+----+-----+----+\n",
      "\n",
      "-------------------------------------------\n",
      "Batch: 97\n",
      "-------------------------------------------\n",
      "+------+------------------------------------------+------+------------+----+----+-----+----+\n",
      "|symbol|window                                    |volume|traded_value|high|low |first|last|\n",
      "+------+------------------------------------------+------+------------+----+----+-----+----+\n",
      "|RELAXO|{2022-05-25 02:18:00, 2022-05-25 02:19:00}|220   |5280.0      |34.0|12.0|34.0 |12.0|\n",
      "+------+------------------------------------------+------+------------+----+----+-----+----+\n",
      "\n"
     ]
    },
    {
     "name": "stderr",
     "output_type": "stream",
     "text": [
      "                                                                                \r"
     ]
    },
    {
     "name": "stdout",
     "output_type": "stream",
     "text": [
      "-------------------------------------------\n",
      "Batch: 123\n",
      "-------------------------------------------\n",
      "+------+------------------------------------------+------+------------+----+----+-----+----+\n",
      "|symbol|window                                    |volume|traded_value|high|low |first|last|\n",
      "+------+------------------------------------------+------+------------+----+----+-----+----+\n",
      "|MSFT  |{2022-05-25 02:19:00, 2022-05-25 02:20:00}|120   |5040.0      |42.0|42.0|42.0 |42.0|\n",
      "+------+------------------------------------------+------+------------+----+----+-----+----+\n",
      "\n"
     ]
    },
    {
     "name": "stderr",
     "output_type": "stream",
     "text": [
      "                                                                                \r"
     ]
    },
    {
     "name": "stdout",
     "output_type": "stream",
     "text": [
      "-------------------------------------------\n",
      "Batch: 98\n",
      "-------------------------------------------\n",
      "+------+------------------------------------------+------+------------+----+----+-----+----+\n",
      "|symbol|window                                    |volume|traded_value|high|low |first|last|\n",
      "+------+------------------------------------------+------+------------+----+----+-----+----+\n",
      "|MSFT  |{2022-05-25 02:19:00, 2022-05-25 02:20:00}|120   |5040.0      |42.0|42.0|42.0 |42.0|\n",
      "+------+------------------------------------------+------+------------+----+----+-----+----+\n",
      "\n",
      "-------------------------------------------\n",
      "Batch: 124\n",
      "-------------------------------------------\n",
      "+------+------+------+------------+----+---+-----+----+\n",
      "|symbol|window|volume|traded_value|high|low|first|last|\n",
      "+------+------+------+------------+----+---+-----+----+\n",
      "+------+------+------+------------+----+---+-----+----+\n",
      "\n",
      "-------------------------------------------\n",
      "Batch: 99\n",
      "-------------------------------------------\n",
      "+------+------+------+------------+----+---+-----+----+\n",
      "|symbol|window|volume|traded_value|high|low|first|last|\n",
      "+------+------+------+------------+----+---+-----+----+\n",
      "+------+------+------+------------+----+---+-----+----+\n",
      "\n"
     ]
    },
    {
     "name": "stderr",
     "output_type": "stream",
     "text": [
      "                                                                                \r"
     ]
    },
    {
     "name": "stdout",
     "output_type": "stream",
     "text": [
      "-------------------------------------------\n",
      "Batch: 100\n",
      "-------------------------------------------\n",
      "+------+------------------------------------------+------+------------+----+----+-----+----+\n",
      "|symbol|window                                    |volume|traded_value|high|low |first|last|\n",
      "+------+------------------------------------------+------+------------+----+----+-----+----+\n",
      "|MSFT  |{2022-05-25 02:19:00, 2022-05-25 02:20:00}|240   |8760.0      |42.0|31.0|42.0 |31.0|\n",
      "+------+------------------------------------------+------+------------+----+----+-----+----+\n",
      "\n",
      "-------------------------------------------\n",
      "Batch: 125\n",
      "-------------------------------------------\n",
      "+------+------------------------------------------+------+------------+----+----+-----+----+\n",
      "|symbol|window                                    |volume|traded_value|high|low |first|last|\n",
      "+------+------------------------------------------+------+------------+----+----+-----+----+\n",
      "|MSFT  |{2022-05-25 02:19:00, 2022-05-25 02:20:00}|240   |8760.0      |42.0|31.0|42.0 |31.0|\n",
      "+------+------------------------------------------+------+------------+----+----+-----+----+\n",
      "\n"
     ]
    },
    {
     "name": "stderr",
     "output_type": "stream",
     "text": [
      "[Stage 706:>                (0 + 1) / 1][Stage 708:>                (0 + 0) / 1]\r"
     ]
    },
    {
     "name": "stdout",
     "output_type": "stream",
     "text": [
      "-------------------------------------------\n",
      "Batch: 101\n",
      "-------------------------------------------\n",
      "+------+------------------------------------------+------+------------+----+----+-----+----+\n",
      "|symbol|window                                    |volume|traded_value|high|low |first|last|\n",
      "+------+------------------------------------------+------+------------+----+----+-----+----+\n",
      "|MSFT  |{2022-05-25 02:19:00, 2022-05-25 02:20:00}|280   |9600.0      |42.0|21.0|42.0 |21.0|\n",
      "+------+------------------------------------------+------+------------+----+----+-----+----+\n",
      "\n"
     ]
    },
    {
     "name": "stderr",
     "output_type": "stream",
     "text": [
      "                                                                                \r"
     ]
    },
    {
     "name": "stdout",
     "output_type": "stream",
     "text": [
      "-------------------------------------------\n",
      "Batch: 126\n",
      "-------------------------------------------\n",
      "+------+------------------------------------------+------+------------+----+----+-----+----+\n",
      "|symbol|window                                    |volume|traded_value|high|low |first|last|\n",
      "+------+------------------------------------------+------+------------+----+----+-----+----+\n",
      "|MSFT  |{2022-05-25 02:19:00, 2022-05-25 02:20:00}|280   |9600.0      |42.0|21.0|42.0 |21.0|\n",
      "+------+------------------------------------------+------+------------+----+----+-----+----+\n",
      "\n"
     ]
    },
    {
     "name": "stderr",
     "output_type": "stream",
     "text": [
      "                                                                                \r"
     ]
    },
    {
     "name": "stdout",
     "output_type": "stream",
     "text": [
      "-------------------------------------------\n",
      "Batch: 102\n",
      "-------------------------------------------\n",
      "+------+------------------------------------------+------+------------+----+----+-----+----+\n",
      "|symbol|window                                    |volume|traded_value|high|low |first|last|\n",
      "+------+------------------------------------------+------+------------+----+----+-----+----+\n",
      "|TSLA  |{2022-05-25 02:19:00, 2022-05-25 02:20:00}|50    |1650.0      |33.0|33.0|33.0 |33.0|\n",
      "+------+------------------------------------------+------+------------+----+----+-----+----+\n",
      "\n",
      "-------------------------------------------\n",
      "Batch: 127\n",
      "-------------------------------------------\n",
      "+------+------------------------------------------+------+------------+----+----+-----+----+\n",
      "|symbol|window                                    |volume|traded_value|high|low |first|last|\n",
      "+------+------------------------------------------+------+------------+----+----+-----+----+\n",
      "|TSLA  |{2022-05-25 02:19:00, 2022-05-25 02:20:00}|50    |1650.0      |33.0|33.0|33.0 |33.0|\n",
      "+------+------------------------------------------+------+------------+----+----+-----+----+\n",
      "\n"
     ]
    },
    {
     "name": "stderr",
     "output_type": "stream",
     "text": [
      "                                                                                \r"
     ]
    },
    {
     "name": "stdout",
     "output_type": "stream",
     "text": [
      "-------------------------------------------\n",
      "Batch: 103\n",
      "-------------------------------------------\n",
      "+------+------------------------------------------+------+------------+----+----+-----+----+\n",
      "|symbol|window                                    |volume|traded_value|high|low |first|last|\n",
      "+------+------------------------------------------+------+------------+----+----+-----+----+\n",
      "|MARUTI|{2022-05-25 02:19:00, 2022-05-25 02:20:00}|30    |690.0       |23.0|23.0|23.0 |23.0|\n",
      "+------+------------------------------------------+------+------------+----+----+-----+----+\n",
      "\n",
      "-------------------------------------------\n",
      "Batch: 128\n",
      "-------------------------------------------\n",
      "+------+------------------------------------------+------+------------+----+----+-----+----+\n",
      "|symbol|window                                    |volume|traded_value|high|low |first|last|\n",
      "+------+------------------------------------------+------+------------+----+----+-----+----+\n",
      "|MARUTI|{2022-05-25 02:19:00, 2022-05-25 02:20:00}|30    |690.0       |23.0|23.0|23.0 |23.0|\n",
      "+------+------------------------------------------+------+------------+----+----+-----+----+\n",
      "\n"
     ]
    },
    {
     "name": "stderr",
     "output_type": "stream",
     "text": [
      "                                                                                \r"
     ]
    },
    {
     "name": "stdout",
     "output_type": "stream",
     "text": [
      "-------------------------------------------\n",
      "Batch: 104\n",
      "-------------------------------------------\n",
      "+------+------------------------------------------+------+------------+----+----+-----+----+\n",
      "|symbol|window                                    |volume|traded_value|high|low |first|last|\n",
      "+------+------------------------------------------+------+------------+----+----+-----+----+\n",
      "|TSLA  |{2022-05-25 02:19:00, 2022-05-25 02:20:00}|60    |1780.0      |33.0|13.0|33.0 |13.0|\n",
      "+------+------------------------------------------+------+------------+----+----+-----+----+\n",
      "\n",
      "-------------------------------------------\n",
      "Batch: 129\n",
      "-------------------------------------------\n",
      "+------+------------------------------------------+------+------------+----+----+-----+----+\n",
      "|symbol|window                                    |volume|traded_value|high|low |first|last|\n",
      "+------+------------------------------------------+------+------------+----+----+-----+----+\n",
      "|TSLA  |{2022-05-25 02:19:00, 2022-05-25 02:20:00}|60    |1780.0      |33.0|13.0|33.0 |13.0|\n",
      "+------+------------------------------------------+------+------------+----+----+-----+----+\n",
      "\n"
     ]
    },
    {
     "name": "stderr",
     "output_type": "stream",
     "text": [
      "                                                                                \r"
     ]
    },
    {
     "name": "stdout",
     "output_type": "stream",
     "text": [
      "-------------------------------------------\n",
      "Batch: 105\n",
      "-------------------------------------------\n",
      "+------+------------------------------------------+------+------------+----+----+-----+----+\n",
      "|symbol|window                                    |volume|traded_value|high|low |first|last|\n",
      "+------+------------------------------------------+------+------------+----+----+-----+----+\n",
      "|TSLA  |{2022-05-25 02:20:00, 2022-05-25 02:21:00}|120   |1440.0      |12.0|12.0|12.0 |12.0|\n",
      "+------+------------------------------------------+------+------------+----+----+-----+----+\n",
      "\n",
      "-------------------------------------------\n",
      "Batch: 130\n",
      "-------------------------------------------\n",
      "+------+------------------------------------------+------+------------+----+----+-----+----+\n",
      "|symbol|window                                    |volume|traded_value|high|low |first|last|\n",
      "+------+------------------------------------------+------+------------+----+----+-----+----+\n",
      "|TSLA  |{2022-05-25 02:20:00, 2022-05-25 02:21:00}|120   |1440.0      |12.0|12.0|12.0 |12.0|\n",
      "+------+------------------------------------------+------+------------+----+----+-----+----+\n",
      "\n"
     ]
    },
    {
     "name": "stderr",
     "output_type": "stream",
     "text": [
      "                                                                                \r"
     ]
    },
    {
     "name": "stdout",
     "output_type": "stream",
     "text": [
      "-------------------------------------------\n",
      "Batch: 106\n",
      "-------------------------------------------\n",
      "+------+------+------+------------+----+---+-----+----+\n",
      "|symbol|window|volume|traded_value|high|low|first|last|\n",
      "+------+------+------+------------+----+---+-----+----+\n",
      "+------+------+------+------------+----+---+-----+----+\n",
      "\n",
      "-------------------------------------------\n",
      "Batch: 131\n",
      "-------------------------------------------\n",
      "+------+------+------+------------+----+---+-----+----+\n",
      "|symbol|window|volume|traded_value|high|low|first|last|\n",
      "+------+------+------+------------+----+---+-----+----+\n",
      "+------+------+------+------------+----+---+-----+----+\n",
      "\n"
     ]
    },
    {
     "name": "stderr",
     "output_type": "stream",
     "text": [
      "                                                                                \r"
     ]
    },
    {
     "name": "stdout",
     "output_type": "stream",
     "text": [
      "-------------------------------------------\n",
      "Batch: 132\n",
      "-------------------------------------------\n",
      "+------+------------------------------------------+------+------------+----+----+-----+----+\n",
      "|symbol|window                                    |volume|traded_value|high|low |first|last|\n",
      "+------+------------------------------------------+------+------------+----+----+-----+----+\n",
      "|TSLA  |{2022-05-25 02:20:00, 2022-05-25 02:21:00}|220   |5440.0      |40.0|12.0|12.0 |40.0|\n",
      "+------+------------------------------------------+------+------------+----+----+-----+----+\n",
      "\n",
      "-------------------------------------------\n",
      "Batch: 107\n",
      "-------------------------------------------\n",
      "+------+------------------------------------------+------+------------+----+----+-----+----+\n",
      "|symbol|window                                    |volume|traded_value|high|low |first|last|\n",
      "+------+------------------------------------------+------+------------+----+----+-----+----+\n",
      "|TSLA  |{2022-05-25 02:20:00, 2022-05-25 02:21:00}|220   |5440.0      |40.0|12.0|12.0 |40.0|\n",
      "+------+------------------------------------------+------+------------+----+----+-----+----+\n",
      "\n"
     ]
    },
    {
     "name": "stderr",
     "output_type": "stream",
     "text": [
      "                                                                                \r"
     ]
    },
    {
     "name": "stdout",
     "output_type": "stream",
     "text": [
      "-------------------------------------------\n",
      "Batch: 133\n",
      "-------------------------------------------\n",
      "+------+------------------------------------------+------+------------+----+----+-----+----+\n",
      "|symbol|window                                    |volume|traded_value|high|low |first|last|\n",
      "+------+------------------------------------------+------+------------+----+----+-----+----+\n",
      "|MARUTI|{2022-05-25 02:20:00, 2022-05-25 02:21:00}|40    |1040.0      |26.0|26.0|26.0 |26.0|\n",
      "+------+------------------------------------------+------+------------+----+----+-----+----+\n",
      "\n",
      "-------------------------------------------\n",
      "Batch: 108\n",
      "-------------------------------------------\n",
      "+------+------------------------------------------+------+------------+----+----+-----+----+\n",
      "|symbol|window                                    |volume|traded_value|high|low |first|last|\n",
      "+------+------------------------------------------+------+------------+----+----+-----+----+\n",
      "|MARUTI|{2022-05-25 02:20:00, 2022-05-25 02:21:00}|40    |1040.0      |26.0|26.0|26.0 |26.0|\n",
      "+------+------------------------------------------+------+------------+----+----+-----+----+\n",
      "\n"
     ]
    },
    {
     "name": "stderr",
     "output_type": "stream",
     "text": [
      "                                                                                \r"
     ]
    },
    {
     "name": "stdout",
     "output_type": "stream",
     "text": [
      "-------------------------------------------\n",
      "Batch: 134\n",
      "-------------------------------------------\n",
      "+------+------------------------------------------+------+------------+----+----+-----+----+\n",
      "|symbol|window                                    |volume|traded_value|high|low |first|last|\n",
      "+------+------------------------------------------+------+------------+----+----+-----+----+\n",
      "|MARUTI|{2022-05-25 02:20:00, 2022-05-25 02:21:00}|80    |2720.0      |42.0|26.0|26.0 |42.0|\n",
      "+------+------------------------------------------+------+------------+----+----+-----+----+\n",
      "\n"
     ]
    },
    {
     "name": "stderr",
     "output_type": "stream",
     "text": [
      "                                                                                \r"
     ]
    },
    {
     "name": "stdout",
     "output_type": "stream",
     "text": [
      "-------------------------------------------\n",
      "Batch: 109\n",
      "-------------------------------------------\n",
      "+------+------------------------------------------+------+------------+----+----+-----+----+\n",
      "|symbol|window                                    |volume|traded_value|high|low |first|last|\n",
      "+------+------------------------------------------+------+------------+----+----+-----+----+\n",
      "|MARUTI|{2022-05-25 02:20:00, 2022-05-25 02:21:00}|80    |2720.0      |42.0|26.0|26.0 |42.0|\n",
      "+------+------------------------------------------+------+------------+----+----+-----+----+\n",
      "\n"
     ]
    },
    {
     "name": "stderr",
     "output_type": "stream",
     "text": [
      "                                                                                \r"
     ]
    },
    {
     "name": "stdout",
     "output_type": "stream",
     "text": [
      "-------------------------------------------\n",
      "Batch: 135\n",
      "-------------------------------------------\n",
      "+------+------------------------------------------+------+------------+----+---+-----+----+\n",
      "|symbol|window                                    |volume|traded_value|high|low|first|last|\n",
      "+------+------------------------------------------+------+------------+----+---+-----+----+\n",
      "|MARUTI|{2022-05-25 02:20:00, 2022-05-25 02:21:00}|180   |3620.0      |42.0|9.0|26.0 |9.0 |\n",
      "+------+------------------------------------------+------+------------+----+---+-----+----+\n",
      "\n"
     ]
    },
    {
     "name": "stderr",
     "output_type": "stream",
     "text": [
      "                                                                                \r"
     ]
    },
    {
     "name": "stdout",
     "output_type": "stream",
     "text": [
      "-------------------------------------------\n",
      "Batch: 110\n",
      "-------------------------------------------\n",
      "+------+------------------------------------------+------+------------+----+---+-----+----+\n",
      "|symbol|window                                    |volume|traded_value|high|low|first|last|\n",
      "+------+------------------------------------------+------+------------+----+---+-----+----+\n",
      "|MARUTI|{2022-05-25 02:20:00, 2022-05-25 02:21:00}|180   |3620.0      |42.0|9.0|26.0 |9.0 |\n",
      "+------+------------------------------------------+------+------------+----+---+-----+----+\n",
      "\n"
     ]
    },
    {
     "name": "stderr",
     "output_type": "stream",
     "text": [
      "                                                                                \r"
     ]
    },
    {
     "name": "stdout",
     "output_type": "stream",
     "text": [
      "-------------------------------------------\n",
      "Batch: 136\n",
      "-------------------------------------------\n",
      "+------+------------------------------------------+------+------------+----+----+-----+----+\n",
      "|symbol|window                                    |volume|traded_value|high|low |first|last|\n",
      "+------+------------------------------------------+------+------------+----+----+-----+----+\n",
      "|TSLA  |{2022-05-25 02:20:00, 2022-05-25 02:21:00}|260   |7360.0      |48.0|12.0|12.0 |48.0|\n",
      "+------+------------------------------------------+------+------------+----+----+-----+----+\n",
      "\n",
      "-------------------------------------------\n",
      "Batch: 111\n",
      "-------------------------------------------\n",
      "+------+------------------------------------------+------+------------+----+----+-----+----+\n",
      "|symbol|window                                    |volume|traded_value|high|low |first|last|\n",
      "+------+------------------------------------------+------+------------+----+----+-----+----+\n",
      "|TSLA  |{2022-05-25 02:20:00, 2022-05-25 02:21:00}|260   |7360.0      |48.0|12.0|12.0 |48.0|\n",
      "+------+------------------------------------------+------+------------+----+----+-----+----+\n",
      "\n"
     ]
    },
    {
     "name": "stderr",
     "output_type": "stream",
     "text": [
      "                                                                                \r"
     ]
    },
    {
     "name": "stdout",
     "output_type": "stream",
     "text": [
      "-------------------------------------------\n",
      "Batch: 137\n",
      "-------------------------------------------\n",
      "+------+------------------------------------------+------+------------+----+---+-----+----+\n",
      "|symbol|window                                    |volume|traded_value|high|low|first|last|\n",
      "+------+------------------------------------------+------+------------+----+---+-----+----+\n",
      "|TSLA  |{2022-05-25 02:21:00, 2022-05-25 02:22:00}|40    |200.0       |5.0 |5.0|5.0  |5.0 |\n",
      "+------+------------------------------------------+------+------------+----+---+-----+----+\n",
      "\n",
      "-------------------------------------------\n",
      "Batch: 112\n",
      "-------------------------------------------\n",
      "+------+------------------------------------------+------+------------+----+---+-----+----+\n",
      "|symbol|window                                    |volume|traded_value|high|low|first|last|\n",
      "+------+------------------------------------------+------+------------+----+---+-----+----+\n",
      "|TSLA  |{2022-05-25 02:21:00, 2022-05-25 02:22:00}|40    |200.0       |5.0 |5.0|5.0  |5.0 |\n",
      "+------+------------------------------------------+------+------------+----+---+-----+----+\n",
      "\n"
     ]
    },
    {
     "name": "stderr",
     "output_type": "stream",
     "text": [
      "                                                                                \r"
     ]
    },
    {
     "name": "stdout",
     "output_type": "stream",
     "text": [
      "-------------------------------------------\n",
      "Batch: 138\n",
      "-------------------------------------------\n",
      "+------+------+------+------------+----+---+-----+----+\n",
      "|symbol|window|volume|traded_value|high|low|first|last|\n",
      "+------+------+------+------------+----+---+-----+----+\n",
      "+------+------+------+------------+----+---+-----+----+\n",
      "\n",
      "-------------------------------------------\n",
      "Batch: 113\n",
      "-------------------------------------------\n",
      "+------+------+------+------------+----+---+-----+----+\n",
      "|symbol|window|volume|traded_value|high|low|first|last|\n",
      "+------+------+------+------------+----+---+-----+----+\n",
      "+------+------+------+------------+----+---+-----+----+\n",
      "\n"
     ]
    },
    {
     "name": "stderr",
     "output_type": "stream",
     "text": [
      "                                                                                \r"
     ]
    },
    {
     "name": "stdout",
     "output_type": "stream",
     "text": [
      "-------------------------------------------\n",
      "Batch: 114\n",
      "-------------------------------------------\n",
      "+------+------------------------------------------+------+------------+----+----+-----+----+\n",
      "|symbol|window                                    |volume|traded_value|high|low |first|last|\n",
      "+------+------------------------------------------+------+------------+----+----+-----+----+\n",
      "|MARUTI|{2022-05-25 02:21:00, 2022-05-25 02:22:00}|100   |4800.0      |48.0|48.0|48.0 |48.0|\n",
      "+------+------------------------------------------+------+------------+----+----+-----+----+\n",
      "\n",
      "-------------------------------------------\n",
      "Batch: 139\n",
      "-------------------------------------------\n",
      "+------+------------------------------------------+------+------------+----+----+-----+----+\n",
      "|symbol|window                                    |volume|traded_value|high|low |first|last|\n",
      "+------+------------------------------------------+------+------------+----+----+-----+----+\n",
      "|MARUTI|{2022-05-25 02:21:00, 2022-05-25 02:22:00}|100   |4800.0      |48.0|48.0|48.0 |48.0|\n",
      "+------+------------------------------------------+------+------------+----+----+-----+----+\n",
      "\n"
     ]
    },
    {
     "name": "stderr",
     "output_type": "stream",
     "text": [
      "                                                                                \r"
     ]
    },
    {
     "name": "stdout",
     "output_type": "stream",
     "text": [
      "-------------------------------------------\n",
      "Batch: 115\n",
      "-------------------------------------------\n",
      "+------+------------------------------------------+------+------------+----+----+-----+----+\n",
      "|symbol|window                                    |volume|traded_value|high|low |first|last|\n",
      "+------+------------------------------------------+------+------------+----+----+-----+----+\n",
      "|MSFT  |{2022-05-25 02:21:00, 2022-05-25 02:22:00}|10    |420.0       |42.0|42.0|42.0 |42.0|\n",
      "+------+------------------------------------------+------+------------+----+----+-----+----+\n",
      "\n",
      "-------------------------------------------\n",
      "Batch: 140\n",
      "-------------------------------------------\n",
      "+------+------------------------------------------+------+------------+----+----+-----+----+\n",
      "|symbol|window                                    |volume|traded_value|high|low |first|last|\n",
      "+------+------------------------------------------+------+------------+----+----+-----+----+\n",
      "|MSFT  |{2022-05-25 02:21:00, 2022-05-25 02:22:00}|10    |420.0       |42.0|42.0|42.0 |42.0|\n",
      "+------+------------------------------------------+------+------------+----+----+-----+----+\n",
      "\n"
     ]
    },
    {
     "name": "stderr",
     "output_type": "stream",
     "text": [
      "                                                                                \r"
     ]
    },
    {
     "name": "stdout",
     "output_type": "stream",
     "text": [
      "-------------------------------------------\n",
      "Batch: 116\n",
      "-------------------------------------------\n",
      "+------+------------------------------------------+------+------------+----+----+-----+----+\n",
      "|symbol|window                                    |volume|traded_value|high|low |first|last|\n",
      "+------+------------------------------------------+------+------------+----+----+-----+----+\n",
      "|RELAXO|{2022-05-25 02:21:00, 2022-05-25 02:22:00}|100   |1900.0      |19.0|19.0|19.0 |19.0|\n",
      "+------+------------------------------------------+------+------------+----+----+-----+----+\n",
      "\n",
      "-------------------------------------------\n",
      "Batch: 141\n",
      "-------------------------------------------\n",
      "+------+------------------------------------------+------+------------+----+----+-----+----+\n",
      "|symbol|window                                    |volume|traded_value|high|low |first|last|\n",
      "+------+------------------------------------------+------+------------+----+----+-----+----+\n",
      "|RELAXO|{2022-05-25 02:21:00, 2022-05-25 02:22:00}|100   |1900.0      |19.0|19.0|19.0 |19.0|\n",
      "+------+------------------------------------------+------+------------+----+----+-----+----+\n",
      "\n"
     ]
    },
    {
     "name": "stderr",
     "output_type": "stream",
     "text": [
      "                                                                                \r"
     ]
    },
    {
     "name": "stdout",
     "output_type": "stream",
     "text": [
      "-------------------------------------------\n",
      "Batch: 117\n",
      "-------------------------------------------\n",
      "+------+------------------------------------------+------+------------+----+----+-----+----+\n",
      "|symbol|window                                    |volume|traded_value|high|low |first|last|\n",
      "+------+------------------------------------------+------+------------+----+----+-----+----+\n",
      "|RELAXO|{2022-05-25 02:21:00, 2022-05-25 02:22:00}|140   |3740.0      |46.0|19.0|19.0 |46.0|\n",
      "+------+------------------------------------------+------+------------+----+----+-----+----+\n",
      "\n"
     ]
    },
    {
     "name": "stderr",
     "output_type": "stream",
     "text": [
      "                                                                                \r"
     ]
    },
    {
     "name": "stdout",
     "output_type": "stream",
     "text": [
      "-------------------------------------------\n",
      "Batch: 142\n",
      "-------------------------------------------\n",
      "+------+------------------------------------------+------+------------+----+----+-----+----+\n",
      "|symbol|window                                    |volume|traded_value|high|low |first|last|\n",
      "+------+------------------------------------------+------+------------+----+----+-----+----+\n",
      "|RELAXO|{2022-05-25 02:21:00, 2022-05-25 02:22:00}|140   |3740.0      |46.0|19.0|19.0 |46.0|\n",
      "+------+------------------------------------------+------+------------+----+----+-----+----+\n",
      "\n"
     ]
    },
    {
     "name": "stderr",
     "output_type": "stream",
     "text": [
      "                                                                                \r"
     ]
    },
    {
     "name": "stdout",
     "output_type": "stream",
     "text": [
      "-------------------------------------------\n",
      "Batch: 118\n",
      "-------------------------------------------\n",
      "+------+------------------------------------------+------+------------+----+----+-----+----+\n",
      "|symbol|window                                    |volume|traded_value|high|low |first|last|\n",
      "+------+------------------------------------------+------+------------+----+----+-----+----+\n",
      "|MSFT  |{2022-05-25 02:21:00, 2022-05-25 02:22:00}|20    |710.0       |42.0|29.0|42.0 |29.0|\n",
      "+------+------------------------------------------+------+------------+----+----+-----+----+\n",
      "\n"
     ]
    },
    {
     "name": "stderr",
     "output_type": "stream",
     "text": [
      "                                                                                \r"
     ]
    },
    {
     "name": "stdout",
     "output_type": "stream",
     "text": [
      "-------------------------------------------\n",
      "Batch: 143\n",
      "-------------------------------------------\n",
      "+------+------------------------------------------+------+------------+----+----+-----+----+\n",
      "|symbol|window                                    |volume|traded_value|high|low |first|last|\n",
      "+------+------------------------------------------+------+------------+----+----+-----+----+\n",
      "|MSFT  |{2022-05-25 02:21:00, 2022-05-25 02:22:00}|20    |710.0       |42.0|29.0|42.0 |29.0|\n",
      "+------+------------------------------------------+------+------------+----+----+-----+----+\n",
      "\n"
     ]
    },
    {
     "name": "stderr",
     "output_type": "stream",
     "text": [
      "                                                                                \r"
     ]
    },
    {
     "name": "stdout",
     "output_type": "stream",
     "text": [
      "-------------------------------------------\n",
      "Batch: 144\n",
      "-------------------------------------------\n",
      "+------+------------------------------------------+------+------------+----+----+-----+----+\n",
      "|symbol|window                                    |volume|traded_value|high|low |first|last|\n",
      "+------+------------------------------------------+------+------------+----+----+-----+----+\n",
      "|TSLA  |{2022-05-25 02:22:00, 2022-05-25 02:23:00}|50    |1500.0      |30.0|30.0|30.0 |30.0|\n",
      "+------+------------------------------------------+------+------------+----+----+-----+----+\n",
      "\n",
      "-------------------------------------------\n",
      "Batch: 119\n",
      "-------------------------------------------\n",
      "+------+------------------------------------------+------+------------+----+----+-----+----+\n",
      "|symbol|window                                    |volume|traded_value|high|low |first|last|\n",
      "+------+------------------------------------------+------+------------+----+----+-----+----+\n",
      "|TSLA  |{2022-05-25 02:22:00, 2022-05-25 02:23:00}|50    |1500.0      |30.0|30.0|30.0 |30.0|\n",
      "+------+------------------------------------------+------+------------+----+----+-----+----+\n",
      "\n"
     ]
    },
    {
     "name": "stderr",
     "output_type": "stream",
     "text": [
      "                                                                                \r"
     ]
    },
    {
     "name": "stdout",
     "output_type": "stream",
     "text": [
      "-------------------------------------------\n",
      "Batch: 145\n",
      "-------------------------------------------\n",
      "+------+------+------+------------+----+---+-----+----+\n",
      "|symbol|window|volume|traded_value|high|low|first|last|\n",
      "+------+------+------+------------+----+---+-----+----+\n",
      "+------+------+------+------------+----+---+-----+----+\n",
      "\n",
      "-------------------------------------------\n",
      "Batch: 120\n",
      "-------------------------------------------\n",
      "+------+------+------+------------+----+---+-----+----+\n",
      "|symbol|window|volume|traded_value|high|low|first|last|\n",
      "+------+------+------+------------+----+---+-----+----+\n",
      "+------+------+------+------------+----+---+-----+----+\n",
      "\n"
     ]
    },
    {
     "name": "stderr",
     "output_type": "stream",
     "text": [
      "                                                                                \r"
     ]
    },
    {
     "name": "stdout",
     "output_type": "stream",
     "text": [
      "-------------------------------------------\n",
      "Batch: 121\n",
      "-------------------------------------------\n",
      "+------+------------------------------------------+------+------------+----+----+-----+----+\n",
      "|symbol|window                                    |volume|traded_value|high|low |first|last|\n",
      "+------+------------------------------------------+------+------------+----+----+-----+----+\n",
      "|MARUTI|{2022-05-25 02:22:00, 2022-05-25 02:23:00}|100   |4500.0      |45.0|45.0|45.0 |45.0|\n",
      "+------+------------------------------------------+------+------------+----+----+-----+----+\n",
      "\n",
      "-------------------------------------------\n",
      "Batch: 146\n",
      "-------------------------------------------\n",
      "+------+------------------------------------------+------+------------+----+----+-----+----+\n",
      "|symbol|window                                    |volume|traded_value|high|low |first|last|\n",
      "+------+------------------------------------------+------+------------+----+----+-----+----+\n",
      "|MARUTI|{2022-05-25 02:22:00, 2022-05-25 02:23:00}|100   |4500.0      |45.0|45.0|45.0 |45.0|\n",
      "+------+------------------------------------------+------+------------+----+----+-----+----+\n",
      "\n"
     ]
    },
    {
     "name": "stderr",
     "output_type": "stream",
     "text": [
      "                                                                                \r"
     ]
    },
    {
     "name": "stdout",
     "output_type": "stream",
     "text": [
      "-------------------------------------------\n",
      "Batch: 147\n",
      "-------------------------------------------\n",
      "+------+------------------------------------------+------+------------+----+----+-----+----+\n",
      "|symbol|window                                    |volume|traded_value|high|low |first|last|\n",
      "+------+------------------------------------------+------+------------+----+----+-----+----+\n",
      "|RELAXO|{2022-05-25 02:22:00, 2022-05-25 02:23:00}|120   |4560.0      |38.0|38.0|38.0 |38.0|\n",
      "+------+------------------------------------------+------+------------+----+----+-----+----+\n",
      "\n",
      "-------------------------------------------\n",
      "Batch: 122\n",
      "-------------------------------------------\n",
      "+------+------------------------------------------+------+------------+----+----+-----+----+\n",
      "|symbol|window                                    |volume|traded_value|high|low |first|last|\n",
      "+------+------------------------------------------+------+------------+----+----+-----+----+\n",
      "|RELAXO|{2022-05-25 02:22:00, 2022-05-25 02:23:00}|120   |4560.0      |38.0|38.0|38.0 |38.0|\n",
      "+------+------------------------------------------+------+------------+----+----+-----+----+\n",
      "\n"
     ]
    },
    {
     "name": "stderr",
     "output_type": "stream",
     "text": [
      "                                                                                \r"
     ]
    },
    {
     "name": "stdout",
     "output_type": "stream",
     "text": [
      "-------------------------------------------\n",
      "Batch: 123\n",
      "-------------------------------------------\n",
      "+------+------------------------------------------+------+------------+----+----+-----+----+\n",
      "|symbol|window                                    |volume|traded_value|high|low |first|last|\n",
      "+------+------------------------------------------+------+------------+----+----+-----+----+\n",
      "|MARUTI|{2022-05-25 02:22:00, 2022-05-25 02:23:00}|130   |5220.0      |45.0|24.0|45.0 |24.0|\n",
      "+------+------------------------------------------+------+------------+----+----+-----+----+\n",
      "\n",
      "-------------------------------------------\n",
      "Batch: 148\n",
      "-------------------------------------------\n",
      "+------+------------------------------------------+------+------------+----+----+-----+----+\n",
      "|symbol|window                                    |volume|traded_value|high|low |first|last|\n",
      "+------+------------------------------------------+------+------------+----+----+-----+----+\n",
      "|MARUTI|{2022-05-25 02:22:00, 2022-05-25 02:23:00}|130   |5220.0      |45.0|24.0|45.0 |24.0|\n",
      "+------+------------------------------------------+------+------------+----+----+-----+----+\n",
      "\n"
     ]
    },
    {
     "name": "stderr",
     "output_type": "stream",
     "text": [
      "                                                                                \r"
     ]
    },
    {
     "name": "stdout",
     "output_type": "stream",
     "text": [
      "-------------------------------------------\n",
      "Batch: 124\n",
      "-------------------------------------------\n",
      "+------+------------------------------------------+------+------------+----+----+-----+----+\n",
      "|symbol|window                                    |volume|traded_value|high|low |first|last|\n",
      "+------+------------------------------------------+------+------------+----+----+-----+----+\n",
      "|MSFT  |{2022-05-25 02:22:00, 2022-05-25 02:23:00}|40    |1560.0      |39.0|39.0|39.0 |39.0|\n",
      "+------+------------------------------------------+------+------------+----+----+-----+----+\n",
      "\n",
      "-------------------------------------------\n",
      "Batch: 149\n",
      "-------------------------------------------\n",
      "+------+------------------------------------------+------+------------+----+----+-----+----+\n",
      "|symbol|window                                    |volume|traded_value|high|low |first|last|\n",
      "+------+------------------------------------------+------+------------+----+----+-----+----+\n",
      "|MSFT  |{2022-05-25 02:22:00, 2022-05-25 02:23:00}|40    |1560.0      |39.0|39.0|39.0 |39.0|\n",
      "+------+------------------------------------------+------+------------+----+----+-----+----+\n",
      "\n"
     ]
    },
    {
     "name": "stderr",
     "output_type": "stream",
     "text": [
      "                                                                                \r"
     ]
    },
    {
     "name": "stdout",
     "output_type": "stream",
     "text": [
      "-------------------------------------------\n",
      "Batch: 125\n",
      "-------------------------------------------\n",
      "+------+------------------------------------------+------+------------+----+----+-----+----+\n",
      "|symbol|window                                    |volume|traded_value|high|low |first|last|\n",
      "+------+------------------------------------------+------+------------+----+----+-----+----+\n",
      "|TSLA  |{2022-05-25 02:22:00, 2022-05-25 02:23:00}|100   |2400.0      |30.0|18.0|30.0 |18.0|\n",
      "+------+------------------------------------------+------+------------+----+----+-----+----+\n",
      "\n",
      "-------------------------------------------\n",
      "Batch: 150\n",
      "-------------------------------------------\n",
      "+------+------------------------------------------+------+------------+----+----+-----+----+\n",
      "|symbol|window                                    |volume|traded_value|high|low |first|last|\n",
      "+------+------------------------------------------+------+------------+----+----+-----+----+\n",
      "|TSLA  |{2022-05-25 02:22:00, 2022-05-25 02:23:00}|100   |2400.0      |30.0|18.0|30.0 |18.0|\n",
      "+------+------------------------------------------+------+------------+----+----+-----+----+\n",
      "\n"
     ]
    },
    {
     "name": "stderr",
     "output_type": "stream",
     "text": [
      "                                                                                \r"
     ]
    },
    {
     "name": "stdout",
     "output_type": "stream",
     "text": [
      "-------------------------------------------\n",
      "Batch: 151\n",
      "-------------------------------------------\n",
      "+------+------------------------------------------+------+------------+----+----+-----+----+\n",
      "|symbol|window                                    |volume|traded_value|high|low |first|last|\n",
      "+------+------------------------------------------+------+------------+----+----+-----+----+\n",
      "|MSFT  |{2022-05-25 02:23:00, 2022-05-25 02:24:00}|30    |810.0       |27.0|27.0|27.0 |27.0|\n",
      "+------+------------------------------------------+------+------------+----+----+-----+----+\n",
      "\n",
      "-------------------------------------------\n",
      "Batch: 126\n",
      "-------------------------------------------\n",
      "+------+------------------------------------------+------+------------+----+----+-----+----+\n",
      "|symbol|window                                    |volume|traded_value|high|low |first|last|\n",
      "+------+------------------------------------------+------+------------+----+----+-----+----+\n",
      "|MSFT  |{2022-05-25 02:23:00, 2022-05-25 02:24:00}|30    |810.0       |27.0|27.0|27.0 |27.0|\n",
      "+------+------------------------------------------+------+------------+----+----+-----+----+\n",
      "\n",
      "-------------------------------------------\n",
      "Batch: 152\n",
      "-------------------------------------------\n",
      "+------+------+------+------------+----+---+-----+----+\n",
      "|symbol|window|volume|traded_value|high|low|first|last|\n",
      "+------+------+------+------------+----+---+-----+----+\n",
      "+------+------+------+------------+----+---+-----+----+\n",
      "\n",
      "-------------------------------------------\n",
      "Batch: 127\n",
      "-------------------------------------------\n",
      "+------+------+------+------------+----+---+-----+----+\n",
      "|symbol|window|volume|traded_value|high|low|first|last|\n",
      "+------+------+------+------------+----+---+-----+----+\n",
      "+------+------+------+------------+----+---+-----+----+\n",
      "\n"
     ]
    },
    {
     "name": "stderr",
     "output_type": "stream",
     "text": [
      "                                                                                \r"
     ]
    },
    {
     "name": "stdout",
     "output_type": "stream",
     "text": [
      "-------------------------------------------\n",
      "Batch: 153\n",
      "-------------------------------------------\n",
      "+------+------------------------------------------+------+------------+----+----+-----+----+\n",
      "|symbol|window                                    |volume|traded_value|high|low |first|last|\n",
      "+------+------------------------------------------+------+------------+----+----+-----+----+\n",
      "|TSLA  |{2022-05-25 02:23:00, 2022-05-25 02:24:00}|100   |2700.0      |27.0|27.0|27.0 |27.0|\n",
      "+------+------------------------------------------+------+------------+----+----+-----+----+\n",
      "\n",
      "-------------------------------------------\n",
      "Batch: 128\n",
      "-------------------------------------------\n",
      "+------+------------------------------------------+------+------------+----+----+-----+----+\n",
      "|symbol|window                                    |volume|traded_value|high|low |first|last|\n",
      "+------+------------------------------------------+------+------------+----+----+-----+----+\n",
      "|TSLA  |{2022-05-25 02:23:00, 2022-05-25 02:24:00}|100   |2700.0      |27.0|27.0|27.0 |27.0|\n",
      "+------+------------------------------------------+------+------------+----+----+-----+----+\n",
      "\n"
     ]
    },
    {
     "name": "stderr",
     "output_type": "stream",
     "text": [
      "                                                                                \r"
     ]
    },
    {
     "name": "stdout",
     "output_type": "stream",
     "text": [
      "-------------------------------------------\n",
      "Batch: 154\n",
      "-------------------------------------------\n",
      "+------+------------------------------------------+------+------------+----+----+-----+----+\n",
      "|symbol|window                                    |volume|traded_value|high|low |first|last|\n",
      "+------+------------------------------------------+------+------------+----+----+-----+----+\n",
      "|MARUTI|{2022-05-25 02:23:00, 2022-05-25 02:24:00}|50    |700.0       |14.0|14.0|14.0 |14.0|\n",
      "+------+------------------------------------------+------+------------+----+----+-----+----+\n",
      "\n",
      "-------------------------------------------\n",
      "Batch: 129\n",
      "-------------------------------------------\n",
      "+------+------------------------------------------+------+------------+----+----+-----+----+\n",
      "|symbol|window                                    |volume|traded_value|high|low |first|last|\n",
      "+------+------------------------------------------+------+------------+----+----+-----+----+\n",
      "|MARUTI|{2022-05-25 02:23:00, 2022-05-25 02:24:00}|50    |700.0       |14.0|14.0|14.0 |14.0|\n",
      "+------+------------------------------------------+------+------------+----+----+-----+----+\n",
      "\n"
     ]
    },
    {
     "name": "stderr",
     "output_type": "stream",
     "text": [
      "                                                                                \r"
     ]
    },
    {
     "name": "stdout",
     "output_type": "stream",
     "text": [
      "-------------------------------------------\n",
      "Batch: 130\n",
      "-------------------------------------------\n",
      "+------+------------------------------------------+------+------------+----+----+-----+----+\n",
      "|symbol|window                                    |volume|traded_value|high|low |first|last|\n",
      "+------+------------------------------------------+------+------------+----+----+-----+----+\n",
      "|TSLA  |{2022-05-25 02:23:00, 2022-05-25 02:24:00}|220   |4140.0      |27.0|12.0|27.0 |12.0|\n",
      "+------+------------------------------------------+------+------------+----+----+-----+----+\n",
      "\n",
      "-------------------------------------------\n",
      "Batch: 155\n",
      "-------------------------------------------\n",
      "+------+------------------------------------------+------+------------+----+----+-----+----+\n",
      "|symbol|window                                    |volume|traded_value|high|low |first|last|\n",
      "+------+------------------------------------------+------+------------+----+----+-----+----+\n",
      "|TSLA  |{2022-05-25 02:23:00, 2022-05-25 02:24:00}|220   |4140.0      |27.0|12.0|27.0 |12.0|\n",
      "+------+------------------------------------------+------+------------+----+----+-----+----+\n",
      "\n"
     ]
    },
    {
     "name": "stderr",
     "output_type": "stream",
     "text": [
      "                                                                                \r"
     ]
    },
    {
     "name": "stdout",
     "output_type": "stream",
     "text": [
      "-------------------------------------------\n",
      "Batch: 131\n",
      "-------------------------------------------\n",
      "+------+------------------------------------------+------+------------+----+----+-----+----+\n",
      "|symbol|window                                    |volume|traded_value|high|low |first|last|\n",
      "+------+------------------------------------------+------+------------+----+----+-----+----+\n",
      "|MSFT  |{2022-05-25 02:23:00, 2022-05-25 02:24:00}|80    |3210.0      |48.0|27.0|27.0 |48.0|\n",
      "+------+------------------------------------------+------+------------+----+----+-----+----+\n",
      "\n",
      "-------------------------------------------\n",
      "Batch: 156\n",
      "-------------------------------------------\n",
      "+------+------------------------------------------+------+------------+----+----+-----+----+\n",
      "|symbol|window                                    |volume|traded_value|high|low |first|last|\n",
      "+------+------------------------------------------+------+------------+----+----+-----+----+\n",
      "|MSFT  |{2022-05-25 02:23:00, 2022-05-25 02:24:00}|80    |3210.0      |48.0|27.0|27.0 |48.0|\n",
      "+------+------------------------------------------+------+------------+----+----+-----+----+\n",
      "\n"
     ]
    },
    {
     "name": "stderr",
     "output_type": "stream",
     "text": [
      "                                                                                \r"
     ]
    },
    {
     "name": "stdout",
     "output_type": "stream",
     "text": [
      "-------------------------------------------\n",
      "Batch: 157\n",
      "-------------------------------------------\n",
      "+------+------------------------------------------+------+------------+----+----+-----+----+\n",
      "|symbol|window                                    |volume|traded_value|high|low |first|last|\n",
      "+------+------------------------------------------+------+------------+----+----+-----+----+\n",
      "|RELAXO|{2022-05-25 02:23:00, 2022-05-25 02:24:00}|40    |720.0       |18.0|18.0|18.0 |18.0|\n",
      "+------+------------------------------------------+------+------------+----+----+-----+----+\n",
      "\n",
      "-------------------------------------------\n",
      "Batch: 132\n",
      "-------------------------------------------\n",
      "+------+------------------------------------------+------+------------+----+----+-----+----+\n",
      "|symbol|window                                    |volume|traded_value|high|low |first|last|\n",
      "+------+------------------------------------------+------+------------+----+----+-----+----+\n",
      "|RELAXO|{2022-05-25 02:23:00, 2022-05-25 02:24:00}|40    |720.0       |18.0|18.0|18.0 |18.0|\n",
      "+------+------------------------------------------+------+------------+----+----+-----+----+\n",
      "\n"
     ]
    },
    {
     "name": "stderr",
     "output_type": "stream",
     "text": [
      "                                                                                \r"
     ]
    },
    {
     "name": "stdout",
     "output_type": "stream",
     "text": [
      "-------------------------------------------\n",
      "Batch: 133\n",
      "-------------------------------------------\n",
      "+------+------------------------------------------+------+------------+----+----+-----+----+\n",
      "|symbol|window                                    |volume|traded_value|high|low |first|last|\n",
      "+------+------------------------------------------+------+------------+----+----+-----+----+\n",
      "|MSFT  |{2022-05-25 02:24:00, 2022-05-25 02:25:00}|30    |750.0       |25.0|25.0|25.0 |25.0|\n",
      "+------+------------------------------------------+------+------------+----+----+-----+----+\n",
      "\n"
     ]
    },
    {
     "name": "stderr",
     "output_type": "stream",
     "text": [
      "                                                                                \r"
     ]
    },
    {
     "name": "stdout",
     "output_type": "stream",
     "text": [
      "-------------------------------------------\n",
      "Batch: 158\n",
      "-------------------------------------------\n",
      "+------+------------------------------------------+------+------------+----+----+-----+----+\n",
      "|symbol|window                                    |volume|traded_value|high|low |first|last|\n",
      "+------+------------------------------------------+------+------------+----+----+-----+----+\n",
      "|MSFT  |{2022-05-25 02:24:00, 2022-05-25 02:25:00}|30    |750.0       |25.0|25.0|25.0 |25.0|\n",
      "+------+------------------------------------------+------+------------+----+----+-----+----+\n",
      "\n",
      "-------------------------------------------\n",
      "Batch: 134\n",
      "-------------------------------------------\n",
      "+------+------+------+------------+----+---+-----+----+\n",
      "|symbol|window|volume|traded_value|high|low|first|last|\n",
      "+------+------+------+------------+----+---+-----+----+\n",
      "+------+------+------+------------+----+---+-----+----+\n",
      "\n",
      "-------------------------------------------\n",
      "Batch: 159\n",
      "-------------------------------------------\n",
      "+------+------+------+------------+----+---+-----+----+\n",
      "|symbol|window|volume|traded_value|high|low|first|last|\n",
      "+------+------+------+------------+----+---+-----+----+\n",
      "+------+------+------+------------+----+---+-----+----+\n",
      "\n"
     ]
    },
    {
     "name": "stderr",
     "output_type": "stream",
     "text": [
      "                                                                                \r"
     ]
    },
    {
     "name": "stdout",
     "output_type": "stream",
     "text": [
      "-------------------------------------------\n",
      "Batch: 160\n",
      "-------------------------------------------\n",
      "+------+------------------------------------------+------+------------+----+----+-----+----+\n",
      "|symbol|window                                    |volume|traded_value|high|low |first|last|\n",
      "+------+------------------------------------------+------+------------+----+----+-----+----+\n",
      "|MSFT  |{2022-05-25 02:24:00, 2022-05-25 02:25:00}|40    |1230.0      |48.0|25.0|25.0 |48.0|\n",
      "+------+------------------------------------------+------+------------+----+----+-----+----+\n",
      "\n"
     ]
    },
    {
     "name": "stderr",
     "output_type": "stream",
     "text": [
      "                                                                                \r"
     ]
    },
    {
     "name": "stdout",
     "output_type": "stream",
     "text": [
      "-------------------------------------------\n",
      "Batch: 135\n",
      "-------------------------------------------\n",
      "+------+------------------------------------------+------+------------+----+----+-----+----+\n",
      "|symbol|window                                    |volume|traded_value|high|low |first|last|\n",
      "+------+------------------------------------------+------+------------+----+----+-----+----+\n",
      "|MSFT  |{2022-05-25 02:24:00, 2022-05-25 02:25:00}|40    |1230.0      |48.0|25.0|25.0 |48.0|\n",
      "+------+------------------------------------------+------+------------+----+----+-----+----+\n",
      "\n"
     ]
    },
    {
     "name": "stderr",
     "output_type": "stream",
     "text": [
      "                                                                                \r"
     ]
    },
    {
     "name": "stdout",
     "output_type": "stream",
     "text": [
      "-------------------------------------------\n",
      "Batch: 136\n",
      "-------------------------------------------\n",
      "+------+------------------------------------------+------+------------+----+----+-----+----+\n",
      "|symbol|window                                    |volume|traded_value|high|low |first|last|\n",
      "+------+------------------------------------------+------+------------+----+----+-----+----+\n",
      "|RELAXO|{2022-05-25 02:24:00, 2022-05-25 02:25:00}|30    |1230.0      |41.0|41.0|41.0 |41.0|\n",
      "+------+------------------------------------------+------+------------+----+----+-----+----+\n",
      "\n"
     ]
    },
    {
     "name": "stderr",
     "output_type": "stream",
     "text": [
      "                                                                                \r"
     ]
    },
    {
     "name": "stdout",
     "output_type": "stream",
     "text": [
      "-------------------------------------------\n",
      "Batch: 161\n",
      "-------------------------------------------\n",
      "+------+------------------------------------------+------+------------+----+----+-----+----+\n",
      "|symbol|window                                    |volume|traded_value|high|low |first|last|\n",
      "+------+------------------------------------------+------+------------+----+----+-----+----+\n",
      "|RELAXO|{2022-05-25 02:24:00, 2022-05-25 02:25:00}|30    |1230.0      |41.0|41.0|41.0 |41.0|\n",
      "+------+------------------------------------------+------+------------+----+----+-----+----+\n",
      "\n"
     ]
    },
    {
     "name": "stderr",
     "output_type": "stream",
     "text": [
      "                                                                                \r"
     ]
    },
    {
     "name": "stdout",
     "output_type": "stream",
     "text": [
      "-------------------------------------------\n",
      "Batch: 162\n",
      "-------------------------------------------\n",
      "+------+------------------------------------------+------+------------+----+---+-----+----+\n",
      "|symbol|window                                    |volume|traded_value|high|low|first|last|\n",
      "+------+------------------------------------------+------+------------+----+---+-----+----+\n",
      "|MSFT  |{2022-05-25 02:24:00, 2022-05-25 02:25:00}|140   |1930.0      |48.0|7.0|25.0 |7.0 |\n",
      "+------+------------------------------------------+------+------------+----+---+-----+----+\n",
      "\n",
      "-------------------------------------------\n",
      "Batch: 137\n",
      "-------------------------------------------\n",
      "+------+------------------------------------------+------+------------+----+---+-----+----+\n",
      "|symbol|window                                    |volume|traded_value|high|low|first|last|\n",
      "+------+------------------------------------------+------+------------+----+---+-----+----+\n",
      "|MSFT  |{2022-05-25 02:24:00, 2022-05-25 02:25:00}|140   |1930.0      |48.0|7.0|25.0 |7.0 |\n",
      "+------+------------------------------------------+------+------------+----+---+-----+----+\n",
      "\n"
     ]
    },
    {
     "name": "stderr",
     "output_type": "stream",
     "text": [
      "                                                                                \r"
     ]
    },
    {
     "name": "stdout",
     "output_type": "stream",
     "text": [
      "-------------------------------------------\n",
      "Batch: 138\n",
      "-------------------------------------------\n",
      "+------+------------------------------------------+------+------------+----+----+-----+----+\n",
      "|symbol|window                                    |volume|traded_value|high|low |first|last|\n",
      "+------+------------------------------------------+------+------------+----+----+-----+----+\n",
      "|RELAXO|{2022-05-25 02:24:00, 2022-05-25 02:25:00}|80    |1980.0      |41.0|15.0|41.0 |15.0|\n",
      "+------+------------------------------------------+------+------------+----+----+-----+----+\n",
      "\n",
      "-------------------------------------------\n",
      "Batch: 163\n",
      "-------------------------------------------\n",
      "+------+------------------------------------------+------+------------+----+----+-----+----+\n",
      "|symbol|window                                    |volume|traded_value|high|low |first|last|\n",
      "+------+------------------------------------------+------+------------+----+----+-----+----+\n",
      "|RELAXO|{2022-05-25 02:24:00, 2022-05-25 02:25:00}|80    |1980.0      |41.0|15.0|41.0 |15.0|\n",
      "+------+------------------------------------------+------+------------+----+----+-----+----+\n",
      "\n"
     ]
    },
    {
     "name": "stderr",
     "output_type": "stream",
     "text": [
      "                                                                                \r"
     ]
    },
    {
     "name": "stdout",
     "output_type": "stream",
     "text": [
      "-------------------------------------------\n",
      "Batch: 139\n",
      "-------------------------------------------\n",
      "+------+------------------------------------------+------+------------+----+----+-----+----+\n",
      "|symbol|window                                    |volume|traded_value|high|low |first|last|\n",
      "+------+------------------------------------------+------+------------+----+----+-----+----+\n",
      "|RELAXO|{2022-05-25 02:24:00, 2022-05-25 02:25:00}|90    |2150.0      |41.0|15.0|41.0 |17.0|\n",
      "+------+------------------------------------------+------+------------+----+----+-----+----+\n",
      "\n",
      "-------------------------------------------\n",
      "Batch: 164\n",
      "-------------------------------------------\n",
      "+------+------------------------------------------+------+------------+----+----+-----+----+\n",
      "|symbol|window                                    |volume|traded_value|high|low |first|last|\n",
      "+------+------------------------------------------+------+------------+----+----+-----+----+\n",
      "|RELAXO|{2022-05-25 02:24:00, 2022-05-25 02:25:00}|90    |2150.0      |41.0|15.0|41.0 |17.0|\n",
      "+------+------------------------------------------+------+------------+----+----+-----+----+\n",
      "\n"
     ]
    },
    {
     "name": "stderr",
     "output_type": "stream",
     "text": [
      "                                                                                \r"
     ]
    },
    {
     "name": "stdout",
     "output_type": "stream",
     "text": [
      "-------------------------------------------\n",
      "Batch: 140\n",
      "-------------------------------------------\n",
      "+------+------------------------------------------+------+------------+----+----+-----+----+\n",
      "|symbol|window                                    |volume|traded_value|high|low |first|last|\n",
      "+------+------------------------------------------+------+------------+----+----+-----+----+\n",
      "|TSLA  |{2022-05-25 02:25:00, 2022-05-25 02:26:00}|50    |1950.0      |39.0|39.0|39.0 |39.0|\n",
      "+------+------------------------------------------+------+------------+----+----+-----+----+\n",
      "\n",
      "-------------------------------------------\n",
      "Batch: 165\n",
      "-------------------------------------------\n",
      "+------+------------------------------------------+------+------------+----+----+-----+----+\n",
      "|symbol|window                                    |volume|traded_value|high|low |first|last|\n",
      "+------+------------------------------------------+------+------------+----+----+-----+----+\n",
      "|TSLA  |{2022-05-25 02:25:00, 2022-05-25 02:26:00}|50    |1950.0      |39.0|39.0|39.0 |39.0|\n",
      "+------+------------------------------------------+------+------------+----+----+-----+----+\n",
      "\n"
     ]
    },
    {
     "name": "stderr",
     "output_type": "stream",
     "text": [
      "                                                                                \r"
     ]
    },
    {
     "name": "stdout",
     "output_type": "stream",
     "text": [
      "-------------------------------------------\n",
      "Batch: 141\n",
      "-------------------------------------------\n",
      "+------+------+------+------------+----+---+-----+----+\n",
      "|symbol|window|volume|traded_value|high|low|first|last|\n",
      "+------+------+------+------------+----+---+-----+----+\n",
      "+------+------+------+------------+----+---+-----+----+\n",
      "\n",
      "-------------------------------------------\n",
      "Batch: 166\n",
      "-------------------------------------------\n",
      "+------+------+------+------------+----+---+-----+----+\n",
      "|symbol|window|volume|traded_value|high|low|first|last|\n",
      "+------+------+------+------------+----+---+-----+----+\n",
      "+------+------+------+------------+----+---+-----+----+\n",
      "\n"
     ]
    },
    {
     "name": "stderr",
     "output_type": "stream",
     "text": [
      "                                                                                \r"
     ]
    },
    {
     "name": "stdout",
     "output_type": "stream",
     "text": [
      "-------------------------------------------\n",
      "Batch: 167\n",
      "-------------------------------------------\n",
      "+------+------------------------------------------+------+------------+----+----+-----+----+\n",
      "|symbol|window                                    |volume|traded_value|high|low |first|last|\n",
      "+------+------------------------------------------+------+------------+----+----+-----+----+\n",
      "|MSFT  |{2022-05-25 02:25:00, 2022-05-25 02:26:00}|120   |6000.0      |50.0|50.0|50.0 |50.0|\n",
      "+------+------------------------------------------+------+------------+----+----+-----+----+\n",
      "\n",
      "-------------------------------------------\n",
      "Batch: 142\n",
      "-------------------------------------------\n",
      "+------+------------------------------------------+------+------------+----+----+-----+----+\n",
      "|symbol|window                                    |volume|traded_value|high|low |first|last|\n",
      "+------+------------------------------------------+------+------------+----+----+-----+----+\n",
      "|MSFT  |{2022-05-25 02:25:00, 2022-05-25 02:26:00}|120   |6000.0      |50.0|50.0|50.0 |50.0|\n",
      "+------+------------------------------------------+------+------------+----+----+-----+----+\n",
      "\n"
     ]
    },
    {
     "name": "stderr",
     "output_type": "stream",
     "text": [
      "                                                                                \r"
     ]
    },
    {
     "name": "stdout",
     "output_type": "stream",
     "text": [
      "-------------------------------------------\n",
      "Batch: 168\n",
      "-------------------------------------------\n",
      "+------+------------------------------------------+------+------------+----+----+-----+----+\n",
      "|symbol|window                                    |volume|traded_value|high|low |first|last|\n",
      "+------+------------------------------------------+------+------------+----+----+-----+----+\n",
      "|MARUTI|{2022-05-25 02:25:00, 2022-05-25 02:26:00}|30    |1110.0      |37.0|37.0|37.0 |37.0|\n",
      "+------+------------------------------------------+------+------------+----+----+-----+----+\n",
      "\n",
      "-------------------------------------------\n",
      "Batch: 143\n",
      "-------------------------------------------\n",
      "+------+------------------------------------------+------+------------+----+----+-----+----+\n",
      "|symbol|window                                    |volume|traded_value|high|low |first|last|\n",
      "+------+------------------------------------------+------+------------+----+----+-----+----+\n",
      "|MARUTI|{2022-05-25 02:25:00, 2022-05-25 02:26:00}|30    |1110.0      |37.0|37.0|37.0 |37.0|\n",
      "+------+------------------------------------------+------+------------+----+----+-----+----+\n",
      "\n"
     ]
    },
    {
     "name": "stderr",
     "output_type": "stream",
     "text": [
      "                                                                                \r"
     ]
    },
    {
     "name": "stdout",
     "output_type": "stream",
     "text": [
      "-------------------------------------------\n",
      "Batch: 144\n",
      "-------------------------------------------\n",
      "+------+------------------------------------------+------+------------+----+----+-----+----+\n",
      "|symbol|window                                    |volume|traded_value|high|low |first|last|\n",
      "+------+------------------------------------------+------+------------+----+----+-----+----+\n",
      "|MARUTI|{2022-05-25 02:25:00, 2022-05-25 02:26:00}|80    |2910.0      |37.0|36.0|37.0 |36.0|\n",
      "+------+------------------------------------------+------+------------+----+----+-----+----+\n",
      "\n",
      "-------------------------------------------\n",
      "Batch: 169\n",
      "-------------------------------------------\n",
      "+------+------------------------------------------+------+------------+----+----+-----+----+\n",
      "|symbol|window                                    |volume|traded_value|high|low |first|last|\n",
      "+------+------------------------------------------+------+------------+----+----+-----+----+\n",
      "|MARUTI|{2022-05-25 02:25:00, 2022-05-25 02:26:00}|80    |2910.0      |37.0|36.0|37.0 |36.0|\n",
      "+------+------------------------------------------+------+------------+----+----+-----+----+\n",
      "\n"
     ]
    },
    {
     "name": "stderr",
     "output_type": "stream",
     "text": [
      "                                                                                \r"
     ]
    },
    {
     "name": "stdout",
     "output_type": "stream",
     "text": [
      "-------------------------------------------\n",
      "Batch: 170\n",
      "-------------------------------------------\n",
      "+------+------------------------------------------+------+------------+----+----+-----+----+\n",
      "|symbol|window                                    |volume|traded_value|high|low |first|last|\n",
      "+------+------------------------------------------+------+------------+----+----+-----+----+\n",
      "|MSFT  |{2022-05-25 02:25:00, 2022-05-25 02:26:00}|150   |7440.0      |50.0|48.0|50.0 |48.0|\n",
      "+------+------------------------------------------+------+------------+----+----+-----+----+\n",
      "\n",
      "-------------------------------------------\n",
      "Batch: 145\n",
      "-------------------------------------------\n",
      "+------+------------------------------------------+------+------------+----+----+-----+----+\n",
      "|symbol|window                                    |volume|traded_value|high|low |first|last|\n",
      "+------+------------------------------------------+------+------------+----+----+-----+----+\n",
      "|MSFT  |{2022-05-25 02:25:00, 2022-05-25 02:26:00}|150   |7440.0      |50.0|48.0|50.0 |48.0|\n",
      "+------+------------------------------------------+------+------------+----+----+-----+----+\n",
      "\n"
     ]
    },
    {
     "name": "stderr",
     "output_type": "stream",
     "text": [
      "                                                                                \r"
     ]
    },
    {
     "name": "stdout",
     "output_type": "stream",
     "text": [
      "-------------------------------------------\n",
      "Batch: 171\n",
      "-------------------------------------------\n",
      "+------+------------------------------------------+------+------------+----+----+-----+----+\n",
      "|symbol|window                                    |volume|traded_value|high|low |first|last|\n",
      "+------+------------------------------------------+------+------------+----+----+-----+----+\n",
      "|TSLA  |{2022-05-25 02:25:00, 2022-05-25 02:26:00}|170   |3510.0      |39.0|13.0|39.0 |13.0|\n",
      "+------+------------------------------------------+------+------------+----+----+-----+----+\n",
      "\n",
      "-------------------------------------------\n",
      "Batch: 146\n",
      "-------------------------------------------\n",
      "+------+------------------------------------------+------+------------+----+----+-----+----+\n",
      "|symbol|window                                    |volume|traded_value|high|low |first|last|\n",
      "+------+------------------------------------------+------+------------+----+----+-----+----+\n",
      "|TSLA  |{2022-05-25 02:25:00, 2022-05-25 02:26:00}|170   |3510.0      |39.0|13.0|39.0 |13.0|\n",
      "+------+------------------------------------------+------+------------+----+----+-----+----+\n",
      "\n"
     ]
    },
    {
     "name": "stderr",
     "output_type": "stream",
     "text": [
      "                                                                                \r"
     ]
    },
    {
     "name": "stdout",
     "output_type": "stream",
     "text": [
      "-------------------------------------------\n",
      "Batch: 172\n",
      "-------------------------------------------\n",
      "+------+------------------------------------------+------+------------+----+----+-----+----+\n",
      "|symbol|window                                    |volume|traded_value|high|low |first|last|\n",
      "+------+------------------------------------------+------+------------+----+----+-----+----+\n",
      "|MARUTI|{2022-05-25 02:26:00, 2022-05-25 02:27:00}|30    |870.0       |29.0|29.0|29.0 |29.0|\n",
      "+------+------------------------------------------+------+------------+----+----+-----+----+\n",
      "\n"
     ]
    },
    {
     "name": "stderr",
     "output_type": "stream",
     "text": [
      "                                                                                \r"
     ]
    },
    {
     "name": "stdout",
     "output_type": "stream",
     "text": [
      "-------------------------------------------\n",
      "Batch: 147\n",
      "-------------------------------------------\n",
      "+------+------------------------------------------+------+------------+----+----+-----+----+\n",
      "|symbol|window                                    |volume|traded_value|high|low |first|last|\n",
      "+------+------------------------------------------+------+------------+----+----+-----+----+\n",
      "|MARUTI|{2022-05-25 02:26:00, 2022-05-25 02:27:00}|30    |870.0       |29.0|29.0|29.0 |29.0|\n",
      "+------+------------------------------------------+------+------------+----+----+-----+----+\n",
      "\n",
      "-------------------------------------------\n",
      "Batch: 173\n",
      "-------------------------------------------\n",
      "+------+------+------+------------+----+---+-----+----+\n",
      "|symbol|window|volume|traded_value|high|low|first|last|\n",
      "+------+------+------+------------+----+---+-----+----+\n",
      "+------+------+------+------------+----+---+-----+----+\n",
      "\n",
      "-------------------------------------------\n",
      "Batch: 148\n",
      "-------------------------------------------\n",
      "+------+------+------+------------+----+---+-----+----+\n",
      "|symbol|window|volume|traded_value|high|low|first|last|\n",
      "+------+------+------+------------+----+---+-----+----+\n",
      "+------+------+------+------------+----+---+-----+----+\n",
      "\n"
     ]
    },
    {
     "name": "stderr",
     "output_type": "stream",
     "text": [
      "                                                                                \r"
     ]
    },
    {
     "name": "stdout",
     "output_type": "stream",
     "text": [
      "-------------------------------------------\n",
      "Batch: 174\n",
      "-------------------------------------------\n",
      "+------+------------------------------------------+------+------------+----+----+-----+----+\n",
      "|symbol|window                                    |volume|traded_value|high|low |first|last|\n",
      "+------+------------------------------------------+------+------------+----+----+-----+----+\n",
      "|RELAXO|{2022-05-25 02:26:00, 2022-05-25 02:27:00}|100   |1600.0      |16.0|16.0|16.0 |16.0|\n",
      "+------+------------------------------------------+------+------------+----+----+-----+----+\n",
      "\n",
      "-------------------------------------------\n",
      "Batch: 149\n",
      "-------------------------------------------\n",
      "+------+------------------------------------------+------+------------+----+----+-----+----+\n",
      "|symbol|window                                    |volume|traded_value|high|low |first|last|\n",
      "+------+------------------------------------------+------+------------+----+----+-----+----+\n",
      "|RELAXO|{2022-05-25 02:26:00, 2022-05-25 02:27:00}|100   |1600.0      |16.0|16.0|16.0 |16.0|\n",
      "+------+------------------------------------------+------+------------+----+----+-----+----+\n",
      "\n"
     ]
    },
    {
     "name": "stderr",
     "output_type": "stream",
     "text": [
      "                                                                                \r"
     ]
    },
    {
     "name": "stdout",
     "output_type": "stream",
     "text": [
      "-------------------------------------------\n",
      "Batch: 175\n",
      "-------------------------------------------\n",
      "+------+------------------------------------------+------+------------+----+---+-----+----+\n",
      "|symbol|window                                    |volume|traded_value|high|low|first|last|\n",
      "+------+------------------------------------------+------+------------+----+---+-----+----+\n",
      "|RELAXO|{2022-05-25 02:26:00, 2022-05-25 02:27:00}|220   |2320.0      |16.0|6.0|16.0 |6.0 |\n",
      "+------+------------------------------------------+------+------------+----+---+-----+----+\n",
      "\n",
      "-------------------------------------------\n",
      "Batch: 150\n",
      "-------------------------------------------\n",
      "+------+------------------------------------------+------+------------+----+---+-----+----+\n",
      "|symbol|window                                    |volume|traded_value|high|low|first|last|\n",
      "+------+------------------------------------------+------+------------+----+---+-----+----+\n",
      "|RELAXO|{2022-05-25 02:26:00, 2022-05-25 02:27:00}|220   |2320.0      |16.0|6.0|16.0 |6.0 |\n",
      "+------+------------------------------------------+------+------------+----+---+-----+----+\n",
      "\n"
     ]
    },
    {
     "name": "stderr",
     "output_type": "stream",
     "text": [
      "                                                                                \r"
     ]
    },
    {
     "name": "stdout",
     "output_type": "stream",
     "text": [
      "-------------------------------------------\n",
      "Batch: 176\n",
      "-------------------------------------------\n",
      "+------+------------------------------------------+------+------------+----+----+-----+----+\n",
      "|symbol|window                                    |volume|traded_value|high|low |first|last|\n",
      "+------+------------------------------------------+------+------------+----+----+-----+----+\n",
      "|MSFT  |{2022-05-25 02:26:00, 2022-05-25 02:27:00}|50    |2200.0      |44.0|44.0|44.0 |44.0|\n",
      "+------+------------------------------------------+------+------------+----+----+-----+----+\n",
      "\n",
      "-------------------------------------------\n",
      "Batch: 151\n",
      "-------------------------------------------\n",
      "+------+------------------------------------------+------+------------+----+----+-----+----+\n",
      "|symbol|window                                    |volume|traded_value|high|low |first|last|\n",
      "+------+------------------------------------------+------+------------+----+----+-----+----+\n",
      "|MSFT  |{2022-05-25 02:26:00, 2022-05-25 02:27:00}|50    |2200.0      |44.0|44.0|44.0 |44.0|\n",
      "+------+------------------------------------------+------+------------+----+----+-----+----+\n",
      "\n"
     ]
    },
    {
     "name": "stderr",
     "output_type": "stream",
     "text": [
      "                                                                                \r"
     ]
    },
    {
     "name": "stdout",
     "output_type": "stream",
     "text": [
      "-------------------------------------------\n",
      "Batch: 152\n",
      "-------------------------------------------\n",
      "+------+------------------------------------------+------+------------+----+----+-----+----+\n",
      "|symbol|window                                    |volume|traded_value|high|low |first|last|\n",
      "+------+------------------------------------------+------+------------+----+----+-----+----+\n",
      "|MARUTI|{2022-05-25 02:26:00, 2022-05-25 02:27:00}|40    |1290.0      |42.0|29.0|29.0 |42.0|\n",
      "+------+------------------------------------------+------+------------+----+----+-----+----+\n",
      "\n"
     ]
    },
    {
     "name": "stderr",
     "output_type": "stream",
     "text": [
      "[Stage 1014:>                                                       (0 + 1) / 1]\r"
     ]
    },
    {
     "name": "stdout",
     "output_type": "stream",
     "text": [
      "-------------------------------------------\n",
      "Batch: 177\n",
      "-------------------------------------------\n",
      "+------+------------------------------------------+------+------------+----+----+-----+----+\n",
      "|symbol|window                                    |volume|traded_value|high|low |first|last|\n",
      "+------+------------------------------------------+------+------------+----+----+-----+----+\n",
      "|MARUTI|{2022-05-25 02:26:00, 2022-05-25 02:27:00}|40    |1290.0      |42.0|29.0|29.0 |42.0|\n",
      "+------+------------------------------------------+------+------------+----+----+-----+----+\n",
      "\n"
     ]
    },
    {
     "name": "stderr",
     "output_type": "stream",
     "text": [
      "                                                                                \r"
     ]
    },
    {
     "name": "stdout",
     "output_type": "stream",
     "text": [
      "-------------------------------------------\n",
      "Batch: 178\n",
      "-------------------------------------------\n",
      "+------+------------------------------------------+------+------------+----+----+-----+----+\n",
      "|symbol|window                                    |volume|traded_value|high|low |first|last|\n",
      "+------+------------------------------------------+------+------------+----+----+-----+----+\n",
      "|TSLA  |{2022-05-25 02:26:00, 2022-05-25 02:27:00}|50    |1950.0      |39.0|39.0|39.0 |39.0|\n",
      "+------+------------------------------------------+------+------------+----+----+-----+----+\n",
      "\n",
      "-------------------------------------------\n",
      "Batch: 153\n",
      "-------------------------------------------\n",
      "+------+------------------------------------------+------+------------+----+----+-----+----+\n",
      "|symbol|window                                    |volume|traded_value|high|low |first|last|\n",
      "+------+------------------------------------------+------+------------+----+----+-----+----+\n",
      "|TSLA  |{2022-05-25 02:26:00, 2022-05-25 02:27:00}|50    |1950.0      |39.0|39.0|39.0 |39.0|\n",
      "+------+------------------------------------------+------+------------+----+----+-----+----+\n",
      "\n"
     ]
    },
    {
     "name": "stderr",
     "output_type": "stream",
     "text": [
      "                                                                                \r"
     ]
    },
    {
     "name": "stdout",
     "output_type": "stream",
     "text": [
      "-------------------------------------------\n",
      "Batch: 154\n",
      "-------------------------------------------\n",
      "+------+------------------------------------------+------+------------+----+----+-----+----+\n",
      "|symbol|window                                    |volume|traded_value|high|low |first|last|\n",
      "+------+------------------------------------------+------+------------+----+----+-----+----+\n",
      "|MARUTI|{2022-05-25 02:27:00, 2022-05-25 02:28:00}|10    |200.0       |20.0|20.0|20.0 |20.0|\n",
      "+------+------------------------------------------+------+------------+----+----+-----+----+\n",
      "\n"
     ]
    },
    {
     "name": "stderr",
     "output_type": "stream",
     "text": [
      "                                                                                \r"
     ]
    },
    {
     "name": "stdout",
     "output_type": "stream",
     "text": [
      "-------------------------------------------\n",
      "Batch: 179\n",
      "-------------------------------------------\n",
      "+------+------------------------------------------+------+------------+----+----+-----+----+\n",
      "|symbol|window                                    |volume|traded_value|high|low |first|last|\n",
      "+------+------------------------------------------+------+------------+----+----+-----+----+\n",
      "|MARUTI|{2022-05-25 02:27:00, 2022-05-25 02:28:00}|10    |200.0       |20.0|20.0|20.0 |20.0|\n",
      "+------+------------------------------------------+------+------------+----+----+-----+----+\n",
      "\n",
      "-------------------------------------------\n",
      "Batch: 155\n",
      "-------------------------------------------\n",
      "+------+------+------+------------+----+---+-----+----+\n",
      "|symbol|window|volume|traded_value|high|low|first|last|\n",
      "+------+------+------+------------+----+---+-----+----+\n",
      "+------+------+------+------------+----+---+-----+----+\n",
      "\n",
      "-------------------------------------------\n",
      "Batch: 180\n",
      "-------------------------------------------\n",
      "+------+------+------+------------+----+---+-----+----+\n",
      "|symbol|window|volume|traded_value|high|low|first|last|\n",
      "+------+------+------+------------+----+---+-----+----+\n",
      "+------+------+------+------------+----+---+-----+----+\n",
      "\n"
     ]
    },
    {
     "name": "stderr",
     "output_type": "stream",
     "text": [
      "                                                                                \r"
     ]
    },
    {
     "name": "stdout",
     "output_type": "stream",
     "text": [
      "-------------------------------------------\n",
      "Batch: 181\n",
      "-------------------------------------------\n",
      "+------+------------------------------------------+------+------------+----+----+-----+----+\n",
      "|symbol|window                                    |volume|traded_value|high|low |first|last|\n",
      "+------+------------------------------------------+------+------------+----+----+-----+----+\n",
      "|MARUTI|{2022-05-25 02:27:00, 2022-05-25 02:28:00}|130   |2720.0      |21.0|20.0|20.0 |21.0|\n",
      "+------+------------------------------------------+------+------------+----+----+-----+----+\n",
      "\n",
      "-------------------------------------------\n",
      "Batch: 156\n",
      "-------------------------------------------\n",
      "+------+------------------------------------------+------+------------+----+----+-----+----+\n",
      "|symbol|window                                    |volume|traded_value|high|low |first|last|\n",
      "+------+------------------------------------------+------+------------+----+----+-----+----+\n",
      "|MARUTI|{2022-05-25 02:27:00, 2022-05-25 02:28:00}|130   |2720.0      |21.0|20.0|20.0 |21.0|\n",
      "+------+------------------------------------------+------+------------+----+----+-----+----+\n",
      "\n"
     ]
    },
    {
     "name": "stderr",
     "output_type": "stream",
     "text": [
      "                                                                                \r"
     ]
    },
    {
     "name": "stdout",
     "output_type": "stream",
     "text": [
      "-------------------------------------------\n",
      "Batch: 182\n",
      "-------------------------------------------\n",
      "+------+------------------------------------------+------+------------+----+----+-----+----+\n",
      "|symbol|window                                    |volume|traded_value|high|low |first|last|\n",
      "+------+------------------------------------------+------+------------+----+----+-----+----+\n",
      "|MSFT  |{2022-05-25 02:27:00, 2022-05-25 02:28:00}|120   |4320.0      |36.0|36.0|36.0 |36.0|\n",
      "+------+------------------------------------------+------+------------+----+----+-----+----+\n",
      "\n",
      "-------------------------------------------\n",
      "Batch: 157\n",
      "-------------------------------------------\n",
      "+------+------------------------------------------+------+------------+----+----+-----+----+\n",
      "|symbol|window                                    |volume|traded_value|high|low |first|last|\n",
      "+------+------------------------------------------+------+------------+----+----+-----+----+\n",
      "|MSFT  |{2022-05-25 02:27:00, 2022-05-25 02:28:00}|120   |4320.0      |36.0|36.0|36.0 |36.0|\n",
      "+------+------------------------------------------+------+------------+----+----+-----+----+\n",
      "\n"
     ]
    },
    {
     "name": "stderr",
     "output_type": "stream",
     "text": [
      "                                                                                \r"
     ]
    },
    {
     "name": "stdout",
     "output_type": "stream",
     "text": [
      "-------------------------------------------\n",
      "Batch: 183\n",
      "-------------------------------------------\n",
      "+------+------------------------------------------+------+------------+----+----+-----+----+\n",
      "|symbol|window                                    |volume|traded_value|high|low |first|last|\n",
      "+------+------------------------------------------+------+------------+----+----+-----+----+\n",
      "|MSFT  |{2022-05-25 02:27:00, 2022-05-25 02:28:00}|130   |4470.0      |36.0|15.0|36.0 |15.0|\n",
      "+------+------------------------------------------+------+------------+----+----+-----+----+\n",
      "\n",
      "-------------------------------------------\n",
      "Batch: 158\n",
      "-------------------------------------------\n",
      "+------+------------------------------------------+------+------------+----+----+-----+----+\n",
      "|symbol|window                                    |volume|traded_value|high|low |first|last|\n",
      "+------+------------------------------------------+------+------------+----+----+-----+----+\n",
      "|MSFT  |{2022-05-25 02:27:00, 2022-05-25 02:28:00}|130   |4470.0      |36.0|15.0|36.0 |15.0|\n",
      "+------+------------------------------------------+------+------------+----+----+-----+----+\n",
      "\n"
     ]
    },
    {
     "name": "stderr",
     "output_type": "stream",
     "text": [
      "                                                                                \r"
     ]
    },
    {
     "name": "stdout",
     "output_type": "stream",
     "text": [
      "-------------------------------------------\n",
      "Batch: 184\n",
      "-------------------------------------------\n",
      "+------+------------------------------------------+------+------------+----+----+-----+----+\n",
      "|symbol|window                                    |volume|traded_value|high|low |first|last|\n",
      "+------+------------------------------------------+------+------------+----+----+-----+----+\n",
      "|MSFT  |{2022-05-25 02:27:00, 2022-05-25 02:28:00}|160   |5310.0      |36.0|15.0|36.0 |28.0|\n",
      "+------+------------------------------------------+------+------------+----+----+-----+----+\n",
      "\n",
      "-------------------------------------------\n",
      "Batch: 159\n",
      "-------------------------------------------\n",
      "+------+------------------------------------------+------+------------+----+----+-----+----+\n",
      "|symbol|window                                    |volume|traded_value|high|low |first|last|\n",
      "+------+------------------------------------------+------+------------+----+----+-----+----+\n",
      "|MSFT  |{2022-05-25 02:27:00, 2022-05-25 02:28:00}|160   |5310.0      |36.0|15.0|36.0 |28.0|\n",
      "+------+------------------------------------------+------+------------+----+----+-----+----+\n",
      "\n"
     ]
    },
    {
     "name": "stderr",
     "output_type": "stream",
     "text": [
      "                                                                                \r"
     ]
    },
    {
     "name": "stdout",
     "output_type": "stream",
     "text": [
      "-------------------------------------------\n",
      "Batch: 160\n",
      "-------------------------------------------\n",
      "+------+------------------------------------------+------+------------+----+----+-----+----+\n",
      "|symbol|window                                    |volume|traded_value|high|low |first|last|\n",
      "+------+------------------------------------------+------+------------+----+----+-----+----+\n",
      "|MSFT  |{2022-05-25 02:27:00, 2022-05-25 02:28:00}|210   |7410.0      |42.0|15.0|36.0 |42.0|\n",
      "+------+------------------------------------------+------+------------+----+----+-----+----+\n",
      "\n",
      "-------------------------------------------\n",
      "Batch: 185\n",
      "-------------------------------------------\n",
      "+------+------------------------------------------+------+------------+----+----+-----+----+\n",
      "|symbol|window                                    |volume|traded_value|high|low |first|last|\n",
      "+------+------------------------------------------+------+------------+----+----+-----+----+\n",
      "|MSFT  |{2022-05-25 02:27:00, 2022-05-25 02:28:00}|210   |7410.0      |42.0|15.0|36.0 |42.0|\n",
      "+------+------------------------------------------+------+------------+----+----+-----+----+\n",
      "\n"
     ]
    },
    {
     "name": "stderr",
     "output_type": "stream",
     "text": [
      "                                                                                \r"
     ]
    },
    {
     "name": "stdout",
     "output_type": "stream",
     "text": [
      "-------------------------------------------\n",
      "Batch: 186\n",
      "-------------------------------------------\n",
      "+------+------------------------------------------+------+------------+----+----+-----+----+\n",
      "|symbol|window                                    |volume|traded_value|high|low |first|last|\n",
      "+------+------------------------------------------+------+------------+----+----+-----+----+\n",
      "|TSLA  |{2022-05-25 02:28:00, 2022-05-25 02:29:00}|30    |330.0       |11.0|11.0|11.0 |11.0|\n",
      "+------+------------------------------------------+------+------------+----+----+-----+----+\n",
      "\n",
      "-------------------------------------------\n",
      "Batch: 161\n",
      "-------------------------------------------\n",
      "+------+------------------------------------------+------+------------+----+----+-----+----+\n",
      "|symbol|window                                    |volume|traded_value|high|low |first|last|\n",
      "+------+------------------------------------------+------+------------+----+----+-----+----+\n",
      "|TSLA  |{2022-05-25 02:28:00, 2022-05-25 02:29:00}|30    |330.0       |11.0|11.0|11.0 |11.0|\n",
      "+------+------------------------------------------+------+------------+----+----+-----+----+\n",
      "\n",
      "-------------------------------------------\n",
      "Batch: 187\n",
      "-------------------------------------------\n",
      "+------+------+------+------------+----+---+-----+----+\n",
      "|symbol|window|volume|traded_value|high|low|first|last|\n",
      "+------+------+------+------------+----+---+-----+----+\n",
      "+------+------+------+------------+----+---+-----+----+\n",
      "\n",
      "-------------------------------------------\n",
      "Batch: 162\n",
      "-------------------------------------------\n",
      "+------+------+------+------------+----+---+-----+----+\n",
      "|symbol|window|volume|traded_value|high|low|first|last|\n",
      "+------+------+------+------------+----+---+-----+----+\n",
      "+------+------+------+------------+----+---+-----+----+\n",
      "\n"
     ]
    },
    {
     "name": "stderr",
     "output_type": "stream",
     "text": [
      "                                                                                \r"
     ]
    },
    {
     "name": "stdout",
     "output_type": "stream",
     "text": [
      "-------------------------------------------\n",
      "Batch: 188\n",
      "-------------------------------------------\n",
      "+------+------------------------------------------+------+------------+----+----+-----+----+\n",
      "|symbol|window                                    |volume|traded_value|high|low |first|last|\n",
      "+------+------------------------------------------+------+------------+----+----+-----+----+\n",
      "|RELAXO|{2022-05-25 02:28:00, 2022-05-25 02:29:00}|100   |2000.0      |20.0|20.0|20.0 |20.0|\n",
      "+------+------------------------------------------+------+------------+----+----+-----+----+\n",
      "\n",
      "-------------------------------------------\n",
      "Batch: 163\n",
      "-------------------------------------------\n",
      "+------+------------------------------------------+------+------------+----+----+-----+----+\n",
      "|symbol|window                                    |volume|traded_value|high|low |first|last|\n",
      "+------+------------------------------------------+------+------------+----+----+-----+----+\n",
      "|RELAXO|{2022-05-25 02:28:00, 2022-05-25 02:29:00}|100   |2000.0      |20.0|20.0|20.0 |20.0|\n",
      "+------+------------------------------------------+------+------------+----+----+-----+----+\n",
      "\n"
     ]
    },
    {
     "name": "stderr",
     "output_type": "stream",
     "text": [
      "                                                                                \r"
     ]
    },
    {
     "name": "stdout",
     "output_type": "stream",
     "text": [
      "-------------------------------------------\n",
      "Batch: 164\n",
      "-------------------------------------------\n",
      "+------+------------------------------------------+------+------------+----+----+-----+----+\n",
      "|symbol|window                                    |volume|traded_value|high|low |first|last|\n",
      "+------+------------------------------------------+------+------------+----+----+-----+----+\n",
      "|TSLA  |{2022-05-25 02:28:00, 2022-05-25 02:29:00}|80    |2630.0      |46.0|11.0|11.0 |46.0|\n",
      "+------+------------------------------------------+------+------------+----+----+-----+----+\n",
      "\n",
      "-------------------------------------------\n",
      "Batch: 189\n",
      "-------------------------------------------\n",
      "+------+------------------------------------------+------+------------+----+----+-----+----+\n",
      "|symbol|window                                    |volume|traded_value|high|low |first|last|\n",
      "+------+------------------------------------------+------+------------+----+----+-----+----+\n",
      "|TSLA  |{2022-05-25 02:28:00, 2022-05-25 02:29:00}|80    |2630.0      |46.0|11.0|11.0 |46.0|\n",
      "+------+------------------------------------------+------+------------+----+----+-----+----+\n",
      "\n"
     ]
    },
    {
     "name": "stderr",
     "output_type": "stream",
     "text": [
      "                                                                                \r"
     ]
    },
    {
     "name": "stdout",
     "output_type": "stream",
     "text": [
      "-------------------------------------------\n",
      "Batch: 190\n",
      "-------------------------------------------\n",
      "+------+------------------------------------------+------+------------+----+----+-----+----+\n",
      "|symbol|window                                    |volume|traded_value|high|low |first|last|\n",
      "+------+------------------------------------------+------+------------+----+----+-----+----+\n",
      "|MARUTI|{2022-05-25 02:28:00, 2022-05-25 02:29:00}|100   |3500.0      |35.0|35.0|35.0 |35.0|\n",
      "+------+------------------------------------------+------+------------+----+----+-----+----+\n",
      "\n",
      "-------------------------------------------\n",
      "Batch: 165\n",
      "-------------------------------------------\n",
      "+------+------------------------------------------+------+------------+----+----+-----+----+\n",
      "|symbol|window                                    |volume|traded_value|high|low |first|last|\n",
      "+------+------------------------------------------+------+------------+----+----+-----+----+\n",
      "|MARUTI|{2022-05-25 02:28:00, 2022-05-25 02:29:00}|100   |3500.0      |35.0|35.0|35.0 |35.0|\n",
      "+------+------------------------------------------+------+------------+----+----+-----+----+\n",
      "\n"
     ]
    },
    {
     "name": "stderr",
     "output_type": "stream",
     "text": [
      "                                                                                \r"
     ]
    },
    {
     "name": "stdout",
     "output_type": "stream",
     "text": [
      "-------------------------------------------\n",
      "Batch: 166\n",
      "-------------------------------------------\n",
      "+------+------------------------------------------+------+------------+----+----+-----+----+\n",
      "|symbol|window                                    |volume|traded_value|high|low |first|last|\n",
      "+------+------------------------------------------+------+------------+----+----+-----+----+\n",
      "|MSFT  |{2022-05-25 02:28:00, 2022-05-25 02:29:00}|50    |950.0       |19.0|19.0|19.0 |19.0|\n",
      "+------+------------------------------------------+------+------------+----+----+-----+----+\n",
      "\n",
      "-------------------------------------------\n",
      "Batch: 191\n",
      "-------------------------------------------\n",
      "+------+------------------------------------------+------+------------+----+----+-----+----+\n",
      "|symbol|window                                    |volume|traded_value|high|low |first|last|\n",
      "+------+------------------------------------------+------+------------+----+----+-----+----+\n",
      "|MSFT  |{2022-05-25 02:28:00, 2022-05-25 02:29:00}|50    |950.0       |19.0|19.0|19.0 |19.0|\n",
      "+------+------------------------------------------+------+------------+----+----+-----+----+\n",
      "\n"
     ]
    },
    {
     "name": "stderr",
     "output_type": "stream",
     "text": [
      "                                                                                \r"
     ]
    },
    {
     "name": "stdout",
     "output_type": "stream",
     "text": [
      "-------------------------------------------\n",
      "Batch: 167\n",
      "-------------------------------------------\n",
      "+------+------------------------------------------+------+------------+----+----+-----+----+\n",
      "|symbol|window                                    |volume|traded_value|high|low |first|last|\n",
      "+------+------------------------------------------+------+------------+----+----+-----+----+\n",
      "|MARUTI|{2022-05-25 02:28:00, 2022-05-25 02:29:00}|220   |7100.0      |35.0|30.0|35.0 |30.0|\n",
      "+------+------------------------------------------+------+------------+----+----+-----+----+\n",
      "\n",
      "-------------------------------------------\n",
      "Batch: 192\n",
      "-------------------------------------------\n",
      "+------+------------------------------------------+------+------------+----+----+-----+----+\n",
      "|symbol|window                                    |volume|traded_value|high|low |first|last|\n",
      "+------+------------------------------------------+------+------------+----+----+-----+----+\n",
      "|MARUTI|{2022-05-25 02:28:00, 2022-05-25 02:29:00}|220   |7100.0      |35.0|30.0|35.0 |30.0|\n",
      "+------+------------------------------------------+------+------------+----+----+-----+----+\n",
      "\n"
     ]
    },
    {
     "name": "stderr",
     "output_type": "stream",
     "text": [
      "                                                                                \r"
     ]
    },
    {
     "name": "stdout",
     "output_type": "stream",
     "text": [
      "-------------------------------------------\n",
      "Batch: 193\n",
      "-------------------------------------------\n",
      "+------+------------------------------------------+------+------------+----+----+-----+----+\n",
      "|symbol|window                                    |volume|traded_value|high|low |first|last|\n",
      "+------+------------------------------------------+------+------------+----+----+-----+----+\n",
      "|MARUTI|{2022-05-25 02:29:00, 2022-05-25 02:30:00}|30    |1050.0      |35.0|35.0|35.0 |35.0|\n",
      "+------+------------------------------------------+------+------------+----+----+-----+----+\n",
      "\n"
     ]
    },
    {
     "name": "stderr",
     "output_type": "stream",
     "text": [
      "                                                                                \r"
     ]
    },
    {
     "name": "stdout",
     "output_type": "stream",
     "text": [
      "-------------------------------------------\n",
      "Batch: 168\n",
      "-------------------------------------------\n",
      "+------+------------------------------------------+------+------------+----+----+-----+----+\n",
      "|symbol|window                                    |volume|traded_value|high|low |first|last|\n",
      "+------+------------------------------------------+------+------------+----+----+-----+----+\n",
      "|MARUTI|{2022-05-25 02:29:00, 2022-05-25 02:30:00}|30    |1050.0      |35.0|35.0|35.0 |35.0|\n",
      "+------+------------------------------------------+------+------------+----+----+-----+----+\n",
      "\n",
      "-------------------------------------------\n",
      "Batch: 194\n",
      "-------------------------------------------\n",
      "+------+------+------+------------+----+---+-----+----+\n",
      "|symbol|window|volume|traded_value|high|low|first|last|\n",
      "+------+------+------+------------+----+---+-----+----+\n",
      "+------+------+------+------------+----+---+-----+----+\n",
      "\n",
      "-------------------------------------------\n",
      "Batch: 169\n",
      "-------------------------------------------\n",
      "+------+------+------+------------+----+---+-----+----+\n",
      "|symbol|window|volume|traded_value|high|low|first|last|\n",
      "+------+------+------+------------+----+---+-----+----+\n",
      "+------+------+------+------------+----+---+-----+----+\n",
      "\n"
     ]
    },
    {
     "name": "stderr",
     "output_type": "stream",
     "text": [
      "                                                                                \r"
     ]
    },
    {
     "name": "stdout",
     "output_type": "stream",
     "text": [
      "-------------------------------------------\n",
      "Batch: 170\n",
      "-------------------------------------------\n",
      "+------+------------------------------------------+------+------------+----+----+-----+----+\n",
      "|symbol|window                                    |volume|traded_value|high|low |first|last|\n",
      "+------+------------------------------------------+------+------------+----+----+-----+----+\n",
      "|TSLA  |{2022-05-25 02:29:00, 2022-05-25 02:30:00}|120   |3600.0      |30.0|30.0|30.0 |30.0|\n",
      "+------+------------------------------------------+------+------------+----+----+-----+----+\n",
      "\n",
      "-------------------------------------------\n",
      "Batch: 195\n",
      "-------------------------------------------\n",
      "+------+------------------------------------------+------+------------+----+----+-----+----+\n",
      "|symbol|window                                    |volume|traded_value|high|low |first|last|\n",
      "+------+------------------------------------------+------+------------+----+----+-----+----+\n",
      "|TSLA  |{2022-05-25 02:29:00, 2022-05-25 02:30:00}|120   |3600.0      |30.0|30.0|30.0 |30.0|\n",
      "+------+------------------------------------------+------+------------+----+----+-----+----+\n",
      "\n"
     ]
    },
    {
     "name": "stderr",
     "output_type": "stream",
     "text": [
      "                                                                                \r"
     ]
    },
    {
     "name": "stdout",
     "output_type": "stream",
     "text": [
      "-------------------------------------------\n",
      "Batch: 196\n",
      "-------------------------------------------\n",
      "+------+------------------------------------------+------+------------+----+----+-----+----+\n",
      "|symbol|window                                    |volume|traded_value|high|low |first|last|\n",
      "+------+------------------------------------------+------+------------+----+----+-----+----+\n",
      "|RELAXO|{2022-05-25 02:29:00, 2022-05-25 02:30:00}|100   |1200.0      |12.0|12.0|12.0 |12.0|\n",
      "+------+------------------------------------------+------+------------+----+----+-----+----+\n",
      "\n"
     ]
    },
    {
     "name": "stderr",
     "output_type": "stream",
     "text": [
      "                                                                                \r"
     ]
    },
    {
     "name": "stdout",
     "output_type": "stream",
     "text": [
      "-------------------------------------------\n",
      "Batch: 171\n",
      "-------------------------------------------\n",
      "+------+------------------------------------------+------+------------+----+----+-----+----+\n",
      "|symbol|window                                    |volume|traded_value|high|low |first|last|\n",
      "+------+------------------------------------------+------+------------+----+----+-----+----+\n",
      "|RELAXO|{2022-05-25 02:29:00, 2022-05-25 02:30:00}|100   |1200.0      |12.0|12.0|12.0 |12.0|\n",
      "+------+------------------------------------------+------+------------+----+----+-----+----+\n",
      "\n"
     ]
    },
    {
     "name": "stderr",
     "output_type": "stream",
     "text": [
      "                                                                                \r"
     ]
    },
    {
     "name": "stdout",
     "output_type": "stream",
     "text": [
      "-------------------------------------------\n",
      "Batch: 197\n",
      "-------------------------------------------\n",
      "+------+------------------------------------------+------+------------+----+---+-----+----+\n",
      "|symbol|window                                    |volume|traded_value|high|low|first|last|\n",
      "+------+------------------------------------------+------+------------+----+---+-----+----+\n",
      "|RELAXO|{2022-05-25 02:29:00, 2022-05-25 02:30:00}|150   |1450.0      |12.0|5.0|12.0 |5.0 |\n",
      "+------+------------------------------------------+------+------------+----+---+-----+----+\n",
      "\n",
      "-------------------------------------------\n",
      "Batch: 172\n",
      "-------------------------------------------\n",
      "+------+------------------------------------------+------+------------+----+---+-----+----+\n",
      "|symbol|window                                    |volume|traded_value|high|low|first|last|\n",
      "+------+------------------------------------------+------+------------+----+---+-----+----+\n",
      "|RELAXO|{2022-05-25 02:29:00, 2022-05-25 02:30:00}|150   |1450.0      |12.0|5.0|12.0 |5.0 |\n",
      "+------+------------------------------------------+------+------------+----+---+-----+----+\n",
      "\n"
     ]
    },
    {
     "name": "stderr",
     "output_type": "stream",
     "text": [
      "                                                                                \r"
     ]
    },
    {
     "name": "stdout",
     "output_type": "stream",
     "text": [
      "-------------------------------------------\n",
      "Batch: 198\n",
      "-------------------------------------------\n",
      "+------+------------------------------------------+------+------------+----+---+-----+----+\n",
      "|symbol|window                                    |volume|traded_value|high|low|first|last|\n",
      "+------+------------------------------------------+------+------------+----+---+-----+----+\n",
      "|RELAXO|{2022-05-25 02:29:00, 2022-05-25 02:30:00}|160   |1820.0      |37.0|5.0|12.0 |37.0|\n",
      "+------+------------------------------------------+------+------------+----+---+-----+----+\n",
      "\n",
      "-------------------------------------------\n",
      "Batch: 173\n",
      "-------------------------------------------\n",
      "+------+------------------------------------------+------+------------+----+---+-----+----+\n",
      "|symbol|window                                    |volume|traded_value|high|low|first|last|\n",
      "+------+------------------------------------------+------+------------+----+---+-----+----+\n",
      "|RELAXO|{2022-05-25 02:29:00, 2022-05-25 02:30:00}|160   |1820.0      |37.0|5.0|12.0 |37.0|\n",
      "+------+------------------------------------------+------+------------+----+---+-----+----+\n",
      "\n"
     ]
    },
    {
     "name": "stderr",
     "output_type": "stream",
     "text": [
      "                                                                                \r"
     ]
    },
    {
     "name": "stdout",
     "output_type": "stream",
     "text": [
      "-------------------------------------------\n",
      "Batch: 199\n",
      "-------------------------------------------\n",
      "+------+------------------------------------------+------+------------+----+----+-----+----+\n",
      "|symbol|window                                    |volume|traded_value|high|low |first|last|\n",
      "+------+------------------------------------------+------+------------+----+----+-----+----+\n",
      "|MSFT  |{2022-05-25 02:29:00, 2022-05-25 02:30:00}|100   |3800.0      |38.0|38.0|38.0 |38.0|\n",
      "+------+------------------------------------------+------+------------+----+----+-----+----+\n",
      "\n",
      "-------------------------------------------\n",
      "Batch: 174\n",
      "-------------------------------------------\n",
      "+------+------------------------------------------+------+------------+----+----+-----+----+\n",
      "|symbol|window                                    |volume|traded_value|high|low |first|last|\n",
      "+------+------------------------------------------+------+------------+----+----+-----+----+\n",
      "|MSFT  |{2022-05-25 02:29:00, 2022-05-25 02:30:00}|100   |3800.0      |38.0|38.0|38.0 |38.0|\n",
      "+------+------------------------------------------+------+------------+----+----+-----+----+\n",
      "\n"
     ]
    },
    {
     "name": "stderr",
     "output_type": "stream",
     "text": [
      "                                                                                \r"
     ]
    },
    {
     "name": "stdout",
     "output_type": "stream",
     "text": [
      "-------------------------------------------\n",
      "Batch: 175\n",
      "-------------------------------------------\n",
      "+------+------------------------------------------+------+------------+----+----+-----+----+\n",
      "|symbol|window                                    |volume|traded_value|high|low |first|last|\n",
      "+------+------------------------------------------+------+------------+----+----+-----+----+\n",
      "|TSLA  |{2022-05-25 02:30:00, 2022-05-25 02:31:00}|30    |720.0       |24.0|24.0|24.0 |24.0|\n",
      "+------+------------------------------------------+------+------------+----+----+-----+----+\n",
      "\n"
     ]
    },
    {
     "name": "stderr",
     "output_type": "stream",
     "text": [
      "                                                                                \r"
     ]
    },
    {
     "name": "stdout",
     "output_type": "stream",
     "text": [
      "-------------------------------------------\n",
      "Batch: 200\n",
      "-------------------------------------------\n",
      "+------+------------------------------------------+------+------------+----+----+-----+----+\n",
      "|symbol|window                                    |volume|traded_value|high|low |first|last|\n",
      "+------+------------------------------------------+------+------------+----+----+-----+----+\n",
      "|TSLA  |{2022-05-25 02:30:00, 2022-05-25 02:31:00}|30    |720.0       |24.0|24.0|24.0 |24.0|\n",
      "+------+------------------------------------------+------+------------+----+----+-----+----+\n",
      "\n",
      "-------------------------------------------\n",
      "Batch: 176\n",
      "-------------------------------------------\n",
      "+------+------+------+------------+----+---+-----+----+\n",
      "|symbol|window|volume|traded_value|high|low|first|last|\n",
      "+------+------+------+------------+----+---+-----+----+\n",
      "+------+------+------+------------+----+---+-----+----+\n",
      "\n",
      "-------------------------------------------\n",
      "Batch: 201\n",
      "-------------------------------------------\n",
      "+------+------+------+------------+----+---+-----+----+\n",
      "|symbol|window|volume|traded_value|high|low|first|last|\n",
      "+------+------+------+------------+----+---+-----+----+\n",
      "+------+------+------+------------+----+---+-----+----+\n",
      "\n"
     ]
    },
    {
     "name": "stderr",
     "output_type": "stream",
     "text": [
      "[Stage 1162:>               (0 + 1) / 1][Stage 1164:>               (0 + 0) / 1]\r"
     ]
    },
    {
     "name": "stdout",
     "output_type": "stream",
     "text": [
      "-------------------------------------------\n",
      "Batch: 202\n",
      "-------------------------------------------\n",
      "+------+------------------------------------------+------+------------+----+----+-----+----+\n",
      "|symbol|window                                    |volume|traded_value|high|low |first|last|\n",
      "+------+------------------------------------------+------+------------+----+----+-----+----+\n",
      "|RELAXO|{2022-05-25 02:30:00, 2022-05-25 02:31:00}|40    |1680.0      |42.0|42.0|42.0 |42.0|\n",
      "+------+------------------------------------------+------+------------+----+----+-----+----+\n",
      "\n",
      "-------------------------------------------\n",
      "Batch: 177\n",
      "-------------------------------------------\n",
      "+------+------------------------------------------+------+------------+----+----+-----+----+\n",
      "|symbol|window                                    |volume|traded_value|high|low |first|last|\n",
      "+------+------------------------------------------+------+------------+----+----+-----+----+\n",
      "|RELAXO|{2022-05-25 02:30:00, 2022-05-25 02:31:00}|40    |1680.0      |42.0|42.0|42.0 |42.0|\n",
      "+------+------------------------------------------+------+------------+----+----+-----+----+\n",
      "\n"
     ]
    },
    {
     "name": "stderr",
     "output_type": "stream",
     "text": [
      "                                                                                \r"
     ]
    },
    {
     "name": "stdout",
     "output_type": "stream",
     "text": [
      "-------------------------------------------\n",
      "Batch: 178\n",
      "-------------------------------------------\n",
      "+------+------------------------------------------+------+------------+----+----+-----+----+\n",
      "|symbol|window                                    |volume|traded_value|high|low |first|last|\n",
      "+------+------------------------------------------+------+------------+----+----+-----+----+\n",
      "|MSFT  |{2022-05-25 02:30:00, 2022-05-25 02:31:00}|50    |700.0       |14.0|14.0|14.0 |14.0|\n",
      "+------+------------------------------------------+------+------------+----+----+-----+----+\n",
      "\n",
      "-------------------------------------------\n",
      "Batch: 203\n",
      "-------------------------------------------\n",
      "+------+------------------------------------------+------+------------+----+----+-----+----+\n",
      "|symbol|window                                    |volume|traded_value|high|low |first|last|\n",
      "+------+------------------------------------------+------+------------+----+----+-----+----+\n",
      "|MSFT  |{2022-05-25 02:30:00, 2022-05-25 02:31:00}|50    |700.0       |14.0|14.0|14.0 |14.0|\n",
      "+------+------------------------------------------+------+------------+----+----+-----+----+\n",
      "\n"
     ]
    },
    {
     "name": "stderr",
     "output_type": "stream",
     "text": [
      "[Stage 1174:>               (0 + 1) / 1][Stage 1176:>               (0 + 0) / 1]\r"
     ]
    },
    {
     "name": "stdout",
     "output_type": "stream",
     "text": [
      "-------------------------------------------\n",
      "Batch: 179\n",
      "-------------------------------------------\n",
      "+------+------------------------------------------+------+------------+----+----+-----+----+\n",
      "|symbol|window                                    |volume|traded_value|high|low |first|last|\n",
      "+------+------------------------------------------+------+------------+----+----+-----+----+\n",
      "|MARUTI|{2022-05-25 02:30:00, 2022-05-25 02:31:00}|40    |1000.0      |25.0|25.0|25.0 |25.0|\n",
      "+------+------------------------------------------+------+------------+----+----+-----+----+\n",
      "\n"
     ]
    },
    {
     "name": "stderr",
     "output_type": "stream",
     "text": [
      "                                                                                \r"
     ]
    },
    {
     "name": "stdout",
     "output_type": "stream",
     "text": [
      "-------------------------------------------\n",
      "Batch: 204\n",
      "-------------------------------------------\n",
      "+------+------------------------------------------+------+------------+----+----+-----+----+\n",
      "|symbol|window                                    |volume|traded_value|high|low |first|last|\n",
      "+------+------------------------------------------+------+------------+----+----+-----+----+\n",
      "|MARUTI|{2022-05-25 02:30:00, 2022-05-25 02:31:00}|40    |1000.0      |25.0|25.0|25.0 |25.0|\n",
      "+------+------------------------------------------+------+------------+----+----+-----+----+\n",
      "\n"
     ]
    },
    {
     "name": "stderr",
     "output_type": "stream",
     "text": [
      "                                                                                \r"
     ]
    },
    {
     "name": "stdout",
     "output_type": "stream",
     "text": [
      "-------------------------------------------\n",
      "Batch: 180\n",
      "-------------------------------------------\n",
      "+------+------------------------------------------+------+------------+----+----+-----+----+\n",
      "|symbol|window                                    |volume|traded_value|high|low |first|last|\n",
      "+------+------------------------------------------+------+------------+----+----+-----+----+\n",
      "|RELAXO|{2022-05-25 02:30:00, 2022-05-25 02:31:00}|70    |2310.0      |42.0|21.0|42.0 |21.0|\n",
      "+------+------------------------------------------+------+------------+----+----+-----+----+\n",
      "\n",
      "-------------------------------------------\n",
      "Batch: 205\n",
      "-------------------------------------------\n",
      "+------+------------------------------------------+------+------------+----+----+-----+----+\n",
      "|symbol|window                                    |volume|traded_value|high|low |first|last|\n",
      "+------+------------------------------------------+------+------------+----+----+-----+----+\n",
      "|RELAXO|{2022-05-25 02:30:00, 2022-05-25 02:31:00}|70    |2310.0      |42.0|21.0|42.0 |21.0|\n",
      "+------+------------------------------------------+------+------------+----+----+-----+----+\n",
      "\n"
     ]
    },
    {
     "name": "stderr",
     "output_type": "stream",
     "text": [
      "                                                                                \r"
     ]
    },
    {
     "name": "stdout",
     "output_type": "stream",
     "text": [
      "-------------------------------------------\n",
      "Batch: 181\n",
      "-------------------------------------------\n",
      "+------+------------------------------------------+------+------------+----+----+-----+----+\n",
      "|symbol|window                                    |volume|traded_value|high|low |first|last|\n",
      "+------+------------------------------------------+------+------------+----+----+-----+----+\n",
      "|MSFT  |{2022-05-25 02:30:00, 2022-05-25 02:31:00}|80    |1090.0      |14.0|13.0|14.0 |13.0|\n",
      "+------+------------------------------------------+------+------------+----+----+-----+----+\n",
      "\n",
      "-------------------------------------------\n",
      "Batch: 206\n",
      "-------------------------------------------\n",
      "+------+------------------------------------------+------+------------+----+----+-----+----+\n",
      "|symbol|window                                    |volume|traded_value|high|low |first|last|\n",
      "+------+------------------------------------------+------+------------+----+----+-----+----+\n",
      "|MSFT  |{2022-05-25 02:30:00, 2022-05-25 02:31:00}|80    |1090.0      |14.0|13.0|14.0 |13.0|\n",
      "+------+------------------------------------------+------+------------+----+----+-----+----+\n",
      "\n"
     ]
    },
    {
     "name": "stderr",
     "output_type": "stream",
     "text": [
      "                                                                                \r"
     ]
    },
    {
     "name": "stdout",
     "output_type": "stream",
     "text": [
      "-------------------------------------------\n",
      "Batch: 207\n",
      "-------------------------------------------\n",
      "+------+------------------------------------------+------+------------+----+----+-----+----+\n",
      "|symbol|window                                    |volume|traded_value|high|low |first|last|\n",
      "+------+------------------------------------------+------+------------+----+----+-----+----+\n",
      "|TSLA  |{2022-05-25 02:31:00, 2022-05-25 02:32:00}|40    |480.0       |12.0|12.0|12.0 |12.0|\n",
      "+------+------------------------------------------+------+------------+----+----+-----+----+\n",
      "\n",
      "-------------------------------------------\n",
      "Batch: 182\n",
      "-------------------------------------------\n",
      "+------+------------------------------------------+------+------------+----+----+-----+----+\n",
      "|symbol|window                                    |volume|traded_value|high|low |first|last|\n",
      "+------+------------------------------------------+------+------------+----+----+-----+----+\n",
      "|TSLA  |{2022-05-25 02:31:00, 2022-05-25 02:32:00}|40    |480.0       |12.0|12.0|12.0 |12.0|\n",
      "+------+------------------------------------------+------+------------+----+----+-----+----+\n",
      "\n"
     ]
    },
    {
     "name": "stderr",
     "output_type": "stream",
     "text": [
      "                                                                                \r"
     ]
    },
    {
     "name": "stdout",
     "output_type": "stream",
     "text": [
      "-------------------------------------------\n",
      "Batch: 208\n",
      "-------------------------------------------\n",
      "+------+------+------+------------+----+---+-----+----+\n",
      "|symbol|window|volume|traded_value|high|low|first|last|\n",
      "+------+------+------+------------+----+---+-----+----+\n",
      "+------+------+------+------------+----+---+-----+----+\n",
      "\n",
      "-------------------------------------------\n",
      "Batch: 183\n",
      "-------------------------------------------\n",
      "+------+------+------+------------+----+---+-----+----+\n",
      "|symbol|window|volume|traded_value|high|low|first|last|\n",
      "+------+------+------+------------+----+---+-----+----+\n",
      "+------+------+------+------------+----+---+-----+----+\n",
      "\n"
     ]
    },
    {
     "name": "stderr",
     "output_type": "stream",
     "text": [
      "                                                                                \r"
     ]
    },
    {
     "name": "stdout",
     "output_type": "stream",
     "text": [
      "-------------------------------------------\n",
      "Batch: 209\n",
      "-------------------------------------------\n",
      "+------+------------------------------------------+------+------------+----+----+-----+----+\n",
      "|symbol|window                                    |volume|traded_value|high|low |first|last|\n",
      "+------+------------------------------------------+------+------------+----+----+-----+----+\n",
      "|MARUTI|{2022-05-25 02:31:00, 2022-05-25 02:32:00}|40    |1480.0      |37.0|37.0|37.0 |37.0|\n",
      "+------+------------------------------------------+------+------------+----+----+-----+----+\n",
      "\n",
      "-------------------------------------------\n",
      "Batch: 184\n",
      "-------------------------------------------\n",
      "+------+------------------------------------------+------+------------+----+----+-----+----+\n",
      "|symbol|window                                    |volume|traded_value|high|low |first|last|\n",
      "+------+------------------------------------------+------+------------+----+----+-----+----+\n",
      "|MARUTI|{2022-05-25 02:31:00, 2022-05-25 02:32:00}|40    |1480.0      |37.0|37.0|37.0 |37.0|\n",
      "+------+------------------------------------------+------+------------+----+----+-----+----+\n",
      "\n"
     ]
    },
    {
     "name": "stderr",
     "output_type": "stream",
     "text": [
      "                                                                                \r"
     ]
    },
    {
     "name": "stdout",
     "output_type": "stream",
     "text": [
      "-------------------------------------------\n",
      "Batch: 210\n",
      "-------------------------------------------\n",
      "+------+------------------------------------------+------+------------+----+----+-----+----+\n",
      "|symbol|window                                    |volume|traded_value|high|low |first|last|\n",
      "+------+------------------------------------------+------+------------+----+----+-----+----+\n",
      "|RELAXO|{2022-05-25 02:31:00, 2022-05-25 02:32:00}|30    |480.0       |16.0|16.0|16.0 |16.0|\n",
      "+------+------------------------------------------+------+------------+----+----+-----+----+\n",
      "\n",
      "-------------------------------------------\n",
      "Batch: 185\n",
      "-------------------------------------------\n",
      "+------+------------------------------------------+------+------------+----+----+-----+----+\n",
      "|symbol|window                                    |volume|traded_value|high|low |first|last|\n",
      "+------+------------------------------------------+------+------------+----+----+-----+----+\n",
      "|RELAXO|{2022-05-25 02:31:00, 2022-05-25 02:32:00}|30    |480.0       |16.0|16.0|16.0 |16.0|\n",
      "+------+------------------------------------------+------+------------+----+----+-----+----+\n",
      "\n"
     ]
    }
   ],
   "source": [
    "# aggregate\n",
    "# sum (volume), sum(traded_value), candles open, high, low, close [OHLC]\n",
    "# groupBy by symbol, timestamp\n",
    "\n",
    "# now add delayed record processing with waterMark\n",
    "stockTickDf1Min = stockTickDf\\\n",
    "                            .withWatermark(\"timestamp\", \"1 seconds\")\\\n",
    "                            .groupBy(\"symbol\", F.window(\"timestamp\", \"60 seconds\"))\\\n",
    "                          .agg( F.sum(\"volume\").alias(\"volume\"),\\\n",
    "                                F.sum(\"traded_value\").alias(\"traded_value\"),\\\n",
    "                                F.max(\"price\").alias(\"high\"),\\\n",
    "                                F.min(\"price\").alias(\"low\"),\\\n",
    "                                F.first(\"price\").alias(\"first\"),\\\n",
    "                                F.last(\"price\").alias(\"last\")\\\n",
    "                              )\n",
    "stockTickDf1Min.printSchema()\n",
    "echoOnconsole = stockTickDf1Min\\\n",
    "                .writeStream\\\n",
    "                .outputMode(\"update\")\\\n",
    "                .format(\"console\")\\\n",
    "                .option(\"truncate\", False)\\\n",
    "                .start() # start the query. spark will subscribe for data\n",
    "\n",
    "# write result to kafka\n",
    "# we need to publish all the field together as value\n",
    "# we take all columns, convert to json string\n",
    "# publish json as value to kafka\n",
    "\n",
    "stockTickDf1MinKafka = stockTickDf1Min\\\n",
    "                            .selectExpr(\"to_json(struct(*)) AS value\")\n",
    "\n",
    "stockTickDf1MinKafka\\\n",
    "            .writeStream\\\n",
    "             .format(\"kafka\")\\\n",
    "            .outputMode(\"update\")\\\n",
    "             .option(\"kafka.bootstrap.servers\", \"localhost:9092\")\\\n",
    "            .option(\"topic\", \"candles-1min\")\\\n",
    "            .option(\"checkpointLocation\", \"file:///tmp/spark3\")\\\n",
    "            .start()\n",
    "            \n",
    "# use kafka console consumer to subscrbe candles-1min, command is given in 2 nd cell"
   ]
  },
  {
   "cell_type": "code",
   "execution_count": null,
   "id": "e4583621-66b0-4c90-bbee-1bbcdd40e23c",
   "metadata": {},
   "outputs": [],
   "source": []
  }
 ],
 "metadata": {
  "kernelspec": {
   "display_name": "Python 3 (ipykernel)",
   "language": "python",
   "name": "python3"
  },
  "language_info": {
   "codemirror_mode": {
    "name": "ipython",
    "version": 3
   },
   "file_extension": ".py",
   "mimetype": "text/x-python",
   "name": "python",
   "nbconvert_exporter": "python",
   "pygments_lexer": "ipython3",
   "version": "3.8.12"
  }
 },
 "nbformat": 4,
 "nbformat_minor": 5
}
