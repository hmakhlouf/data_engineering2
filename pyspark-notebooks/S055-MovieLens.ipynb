{
 "cells": [
  {
   "cell_type": "code",
   "execution_count": 1,
   "id": "6b16dd21-cbd2-49e1-903b-d6a47e8863bb",
   "metadata": {},
   "outputs": [],
   "source": [
    "import findspark\n",
    "findspark.init()"
   ]
  },
  {
   "cell_type": "code",
   "execution_count": 2,
   "id": "1eda4b4a-cbc6-4195-a073-e70235296ba9",
   "metadata": {},
   "outputs": [
    {
     "name": "stderr",
     "output_type": "stream",
     "text": [
      "22/05/10 02:00:22 WARN Utils: Your hostname, ubuntu-virtual-machine resolves to a loopback address: 127.0.1.1; using 192.168.174.129 instead (on interface ens33)\n",
      "22/05/10 02:00:22 WARN Utils: Set SPARK_LOCAL_IP if you need to bind to another address\n",
      "22/05/10 02:00:23 WARN NativeCodeLoader: Unable to load native-hadoop library for your platform... using builtin-java classes where applicable\n",
      "Using Spark's default log4j profile: org/apache/spark/log4j-defaults.properties\n",
      "Setting default log level to \"WARN\".\n",
      "To adjust logging level use sc.setLogLevel(newLevel). For SparkR, use setLogLevel(newLevel).\n",
      "22/05/10 02:00:27 WARN Utils: Service 'SparkUI' could not bind on port 4040. Attempting port 4041.\n",
      "22/05/10 02:00:27 WARN Utils: Service 'SparkUI' could not bind on port 4041. Attempting port 4042.\n",
      "22/05/10 02:00:27 WARN Utils: Service 'SparkUI' could not bind on port 4042. Attempting port 4043.\n",
      "22/05/10 02:00:27 WARN Utils: Service 'SparkUI' could not bind on port 4043. Attempting port 4044.\n",
      "22/05/10 02:00:27 WARN Utils: Service 'SparkUI' could not bind on port 4044. Attempting port 4045.\n",
      "22/05/10 02:00:27 WARN Utils: Service 'SparkUI' could not bind on port 4045. Attempting port 4046.\n",
      "22/05/10 02:00:27 WARN Utils: Service 'SparkUI' could not bind on port 4046. Attempting port 4047.\n",
      "22/05/10 02:00:27 WARN Utils: Service 'SparkUI' could not bind on port 4047. Attempting port 4048.\n",
      "22/05/10 02:00:27 WARN Utils: Service 'SparkUI' could not bind on port 4048. Attempting port 4049.\n",
      "22/05/10 02:00:27 WARN Utils: Service 'SparkUI' could not bind on port 4049. Attempting port 4050.\n",
      "22/05/10 02:00:27 WARN Utils: Service 'SparkUI' could not bind on port 4050. Attempting port 4051.\n",
      "22/05/10 02:00:27 WARN Utils: Service 'SparkUI' could not bind on port 4051. Attempting port 4052.\n",
      "22/05/10 02:00:27 WARN Utils: Service 'SparkUI' could not bind on port 4052. Attempting port 4053.\n",
      "22/05/10 02:00:27 WARN Utils: Service 'SparkUI' could not bind on port 4053. Attempting port 4054.\n",
      "22/05/10 02:00:27 WARN Utils: Service 'SparkUI' could not bind on port 4054. Attempting port 4055.\n"
     ]
    }
   ],
   "source": [
    "from pyspark.conf import SparkConf\n",
    "config = SparkConf()\n",
    "# config.set(\"property\", \"value\")\n",
    "config.setMaster(\"local\").setAppName(\"MovieLens\")\n",
    "\n",
    "from pyspark.sql import SparkSession\n",
    "# spark Session, entry point for Spark SQL, DataFrame\n",
    "spark = SparkSession.builder\\\n",
    "                    .config(conf=config)\\\n",
    "                    .getOrCreate()\n",
    "\n",
    "sc = spark.sparkContext"
   ]
  },
  {
   "cell_type": "code",
   "execution_count": 3,
   "id": "2aa010e1-495b-466e-9d4c-05e13f656578",
   "metadata": {},
   "outputs": [],
   "source": [
    "# how to create schema programatically instead of using inferSchema\n",
    "from pyspark.sql.types import StructType, LongType, StringType, IntegerType, DoubleType\n",
    "# True is nullable, False is non nullable\n",
    "movieSchema = StructType()\\\n",
    "                .add(\"movieId\", IntegerType(), True)\\\n",
    "                .add(\"title\", StringType(), True)\\\n",
    "                .add(\"genres\", StringType(), True)\n",
    "\n",
    "ratingSchema = StructType()\\\n",
    "                .add(\"userId\", IntegerType(), True)\\\n",
    "                .add(\"movieId\", IntegerType(), True)\\\n",
    "                .add(\"rating\", DoubleType(), True)\\\n",
    "                .add(\"timestamp\", LongType(), True)"
   ]
  },
  {
   "cell_type": "code",
   "execution_count": null,
   "id": "28127026-baf0-4ad9-aa93-c3322bf09699",
   "metadata": {},
   "outputs": [],
   "source": []
  }
 ],
 "metadata": {
  "kernelspec": {
   "display_name": "Python 3 (ipykernel)",
   "language": "python",
   "name": "python3"
  },
  "language_info": {
   "codemirror_mode": {
    "name": "ipython",
    "version": 3
   },
   "file_extension": ".py",
   "mimetype": "text/x-python",
   "name": "python",
   "nbconvert_exporter": "python",
   "pygments_lexer": "ipython3",
   "version": "3.8.12"
  }
 },
 "nbformat": 4,
 "nbformat_minor": 5
}
