{
 "cells": [
  {
   "cell_type": "code",
   "execution_count": 11,
   "id": "8100f0f3-bd23-4e20-8d70-ba4dd95bbfe8",
   "metadata": {},
   "outputs": [],
   "source": [
    "import os\n",
    "# save using vs code\n",
    "SCALA_VERSION = '2.12'\n",
    "SPARK_VERSION = '3.1.3'\n",
    "# Download Kafka Jar file, this for readStream.format(\"kafka\"), \"kafka\" is a driver\n",
    "# kafka driver code is part of Maven Jar file\n",
    "# https://mvnrepository.com/artifact/org.apache.spark/spark-sql-kafka-0-10_2.12/3.1.3\n",
    "# pyspark-shell shall download the jar file behind..\n",
    "os.environ['PYSPARK_SUBMIT_ARGS'] = f'--packages org.apache.spark:spark-sql-kafka-0-10_{SCALA_VERSION}:{SPARK_VERSION} pyspark-shell'"
   ]
  },
  {
   "cell_type": "code",
   "execution_count": 12,
   "id": "99aa6ca5-4bf5-4247-8cd0-3a79194dee86",
   "metadata": {},
   "outputs": [],
   "source": [
    "import findspark\n",
    "findspark.init()"
   ]
  },
  {
   "cell_type": "code",
   "execution_count": 13,
   "id": "7e201c11-1b20-47b7-b0d2-1535ec82e82d",
   "metadata": {},
   "outputs": [],
   "source": [
    "import pyspark\n",
    "\n",
    "\n",
    "from pyspark.sql import SparkSession\n",
    "# spark groupBy has default setting for spark.sql.shuffle.partitions as 200\n",
    "# we set to  4, should NOT be done in production \n",
    "spark = SparkSession.builder.master(\"local[1]\")\\\n",
    "                            .config('spark.sql.shuffle.partitions', 4)\\\n",
    "                            .appName(\"SparkStreamingKafkaBasic\").getOrCreate()"
   ]
  },
  {
   "cell_type": "code",
   "execution_count": 14,
   "id": "ea8c5a0c-50ef-46ed-bc30-b278a7bc10e5",
   "metadata": {},
   "outputs": [],
   "source": [
    "# read from kafka, here spark is consumer for kafka topic called words\n",
    "# spark streaming works as dataframe/sql\n",
    "# group.id is consumer group id\n",
    "# subcribe is kafka topic\n",
    "# \"kafka\" driver is not available by default with spark, we need to download it, we did on cell 1\n",
    "\n",
    "kafkaDf = spark.readStream.format(\"kafka\")\\\n",
    "  .option(\"kafka.bootstrap.servers\", \"localhost:9092\")\\\n",
    "  .option(\"subscribe\", \"words\")\\\n",
    "  .option(\"group.id\", \"wordcount-group\")\\\n",
    "  .load()"
   ]
  },
  {
   "cell_type": "code",
   "execution_count": 15,
   "id": "04e67d7e-6647-4f1a-b131-439393e1be42",
   "metadata": {},
   "outputs": [
    {
     "name": "stdout",
     "output_type": "stream",
     "text": [
      "root\n",
      " |-- key: binary (nullable = true)\n",
      " |-- value: binary (nullable = true)\n",
      " |-- topic: string (nullable = true)\n",
      " |-- partition: integer (nullable = true)\n",
      " |-- offset: long (nullable = true)\n",
      " |-- timestamp: timestamp (nullable = true)\n",
      " |-- timestampType: integer (nullable = true)\n",
      "\n"
     ]
    }
   ],
   "source": [
    "# key and value are binary type, we need to CAST To STRING type\n",
    "kafkaDf.printSchema()\n",
    "# timestampType values\n",
    "# CreateTime:  Timestamp relates to message creation time as set by a Kafka client/producer\n",
    "# LogAppendTime : Timestamp relates to the time a message was appended to a Kafka log.\n",
    "# UnknownType"
   ]
  },
  {
   "cell_type": "code",
   "execution_count": 16,
   "id": "dc245af6-3f52-47f0-9281-6cbb60ae72e0",
   "metadata": {},
   "outputs": [
    {
     "name": "stdout",
     "output_type": "stream",
     "text": [
      "root\n",
      " |-- value: string (nullable = true)\n",
      "\n"
     ]
    }
   ],
   "source": [
    "# Kafka value, key are in binary format\n",
    "# we need to type cast to STRING, \n",
    "# we pick only value, ignore other column\n",
    "linesDf = kafkaDf.selectExpr(\"CAST(value AS STRING)\")\n",
    "linesDf.printSchema() # we get only value as string"
   ]
  },
  {
   "cell_type": "code",
   "execution_count": 17,
   "id": "576d1a6c-eeca-4629-adbc-36588f732b9b",
   "metadata": {},
   "outputs": [
    {
     "name": "stdout",
     "output_type": "stream",
     "text": [
      "root\n",
      " |-- word: string (nullable = true)\n",
      " |-- count: long (nullable = false)\n",
      "\n"
     ]
    }
   ],
   "source": [
    "import pyspark.sql.functions as F\n",
    "# split line into word list\n",
    "# flatten word list into individual element as output, similar to flatMap\n",
    "\n",
    "wordsDf = linesDf.select(F.explode(F.split(linesDf.value,\" \")).alias(\"word\") )\n",
    "\n",
    "wordCountsDf = wordsDf.groupBy(\"word\").count()\n",
    "wordCountsDf.printSchema()"
   ]
  },
  {
   "cell_type": "code",
   "execution_count": 18,
   "id": "48fa20c2-5f64-4128-9ca8-d37329235fc8",
   "metadata": {},
   "outputs": [
    {
     "name": "stderr",
     "output_type": "stream",
     "text": [
      "22/05/25 00:25:06 WARN StreamingQueryManager: Stopping existing streaming query [id=6d00eadb-9766-44a4-acb1-9ac0d09e9c55, runId=d34821fb-9f39-4c59-997d-fd0849b8557a], as a new run is being started.\n",
      "22/05/25 01:01:08 WARN HDFSBackedStateStoreProvider: The state for version 10 doesn't exist in loadedMaps. Reading snapshot file and delta files if needed...Note that this is normal for the first batch of starting query.\n",
      "22/05/25 01:01:08 WARN HDFSBackedStateStoreProvider: The state for version 10 doesn't exist in loadedMaps. Reading snapshot file and delta files if needed...Note that this is normal for the first batch of starting query.\n",
      "22/05/25 01:01:08 WARN HDFSBackedStateStoreProvider: The state for version 10 doesn't exist in loadedMaps. Reading snapshot file and delta files if needed...Note that this is normal for the first batch of starting query.\n",
      "22/05/25 01:01:08 WARN HDFSBackedStateStoreProvider: The state for version 10 doesn't exist in loadedMaps. Reading snapshot file and delta files if needed...Note that this is normal for the first batch of starting query.\n",
      "                                                                                \r"
     ]
    },
    {
     "name": "stdout",
     "output_type": "stream",
     "text": [
      "-------------------------------------------\n",
      "Batch: 10\n",
      "-------------------------------------------\n",
      "+--------------------+-----+\n",
      "|                word|count|\n",
      "+--------------------+-----+\n",
      "|               spark|    2|\n",
      "|spaaaaarrrrrrrrrr...|    1|\n",
      "|             algeria|    2|\n",
      "|              dz2022|    1|\n",
      "|               kafka|    3|\n",
      "|kaaa\u001b[C\u001b[C\u001b[C\u001b[C\u001b...|    1|\n",
      "|              DZ2022|    1|\n",
      "+--------------------+-----+\n",
      "\n",
      "-------------------------------------------\n",
      "Batch: 11\n",
      "-------------------------------------------\n",
      "+--------------------+-----+\n",
      "|                word|count|\n",
      "+--------------------+-----+\n",
      "|               spark|    3|\n",
      "|spaaaaarrrrrrrrrr...|    1|\n",
      "|             algeria|    2|\n",
      "|              dz2022|    1|\n",
      "|               kafka|    4|\n",
      "|              apache|    1|\n",
      "|kaaa\u001b[C\u001b[C\u001b[C\u001b[C\u001b...|    1|\n",
      "|              DZ2022|    1|\n",
      "+--------------------+-----+\n",
      "\n",
      "-------------------------------------------\n",
      "Batch: 12\n",
      "-------------------------------------------\n",
      "+--------------------+-----+\n",
      "|                word|count|\n",
      "+--------------------+-----+\n",
      "|               spark|    4|\n",
      "|spaaaaarrrrrrrrrr...|    1|\n",
      "|             algeria|    2|\n",
      "|              dz2022|    1|\n",
      "|               kafka|    5|\n",
      "|              apache|    2|\n",
      "|kaaa\u001b[C\u001b[C\u001b[C\u001b[C\u001b...|    1|\n",
      "|              DZ2022|    1|\n",
      "+--------------------+-----+\n",
      "\n",
      "-------------------------------------------\n",
      "Batch: 13\n",
      "-------------------------------------------\n",
      "+--------------------+-----+\n",
      "|                word|count|\n",
      "+--------------------+-----+\n",
      "|               spark|    5|\n",
      "|spaaaaarrrrrrrrrr...|    1|\n",
      "|             algeria|    2|\n",
      "|              dz2022|    1|\n",
      "|               kafka|    6|\n",
      "|              apache|    3|\n",
      "|kaaa\u001b[C\u001b[C\u001b[C\u001b[C\u001b...|    1|\n",
      "|              DZ2022|    1|\n",
      "+--------------------+-----+\n",
      "\n"
     ]
    }
   ],
   "source": [
    "echoOnconsole = wordCountsDf\\\n",
    "                .writeStream\\\n",
    "                .outputMode(\"complete\")\\\n",
    "                .option(\"checkpointLocation\", \"file:///tmp/spark\")\\\n",
    "                .format(\"console\")\\\n",
    "                .start() # start the query. spark will subscribe for data"
   ]
  },
  {
   "cell_type": "code",
   "execution_count": 9,
   "id": "9ceadf67-7d8b-453b-ad1a-71dc1e0c1746",
   "metadata": {},
   "outputs": [
    {
     "name": "stdout",
     "output_type": "stream",
     "text": [
      "root\n",
      " |-- value: string (nullable = true)\n",
      "\n"
     ]
    }
   ],
   "source": [
    "# now publish the word count result (word, count columns) to kafka topic \"word-counts\", publish as json format\n",
    "# {\"word\": \"kafka\", \"count\": 8}\n",
    "\n",
    "# F is alias for all functions, we can access col by F.col \n",
    "import pyspark.sql.functions as F\n",
    "\n",
    "# convert all the columns into json\n",
    "# * represent all columns ie word, count, \n",
    "# struct create a structure around word, count columns\n",
    "# to json convert structure to column\n",
    "# value is Kafka value part of message\n",
    "wordCountsToKafkaDf = wordCountsDf\\\n",
    "                    .selectExpr(\"to_json(struct(*)) as value\")\n",
    "\n",
    "wordCountsToKafkaDf.printSchema()"
   ]
  },
  {
   "cell_type": "code",
   "execution_count": 10,
   "id": "c24ed7e8-ca67-4594-9092-3480c90d1728",
   "metadata": {},
   "outputs": [
    {
     "name": "stderr",
     "output_type": "stream",
     "text": [
      "22/05/25 00:23:32 WARN StreamingQueryManager: Stopping existing streaming query [id=6d00eadb-9766-44a4-acb1-9ac0d09e9c55, runId=8082e56c-ce5a-4469-b80c-a4e73fdcc785], as a new run is being started.\n"
     ]
    },
    {
     "data": {
      "text/plain": [
       "<pyspark.sql.streaming.StreamingQuery at 0x7f2d04586400>"
      ]
     },
     "execution_count": 10,
     "metadata": {},
     "output_type": "execute_result"
    },
    {
     "name": "stderr",
     "output_type": "stream",
     "text": [
      "22/05/25 00:24:19 WARN HDFSBackedStateStoreProvider: The state for version 6 doesn't exist in loadedMaps. Reading snapshot file and delta files if needed...Note that this is normal for the first batch of starting query.\n",
      "22/05/25 00:24:20 WARN HDFSBackedStateStoreProvider: The state for version 6 doesn't exist in loadedMaps. Reading snapshot file and delta files if needed...Note that this is normal for the first batch of starting query.\n",
      "22/05/25 00:24:20 WARN HDFSBackedStateStoreProvider: The state for version 6 doesn't exist in loadedMaps. Reading snapshot file and delta files if needed...Note that this is normal for the first batch of starting query.\n",
      "22/05/25 00:24:20 WARN HDFSBackedStateStoreProvider: The state for version 6 doesn't exist in loadedMaps. Reading snapshot file and delta files if needed...Note that this is normal for the first batch of starting query.\n",
      "                                                                                \r"
     ]
    }
   ],
   "source": [
    "# checkpointLocation is for storing local state, for system restart, system failure in between\n",
    "# ensure to run kafka console consumer for topic word-count, commands are present in top of file\n",
    "wordCountsToKafkaDf.writeStream.format(\"kafka\")\\\n",
    "                    .outputMode(\"complete\")\\\n",
    "                     .option(\"kafka.bootstrap.servers\", \"localhost:9092\")\\\n",
    "                    .option(\"topic\", \"word-counts\")\\\n",
    "                    .option(\"checkpointLocation\", \"file:///tmp/spark\")\\\n",
    "                    .start()"
   ]
  },
  {
   "cell_type": "code",
   "execution_count": null,
   "id": "8aebdce7-4d89-4b0c-9f5f-6b5d0b889234",
   "metadata": {},
   "outputs": [],
   "source": []
  }
 ],
 "metadata": {
  "kernelspec": {
   "display_name": "Python 3 (ipykernel)",
   "language": "python",
   "name": "python3"
  },
  "language_info": {
   "codemirror_mode": {
    "name": "ipython",
    "version": 3
   },
   "file_extension": ".py",
   "mimetype": "text/x-python",
   "name": "python",
   "nbconvert_exporter": "python",
   "pygments_lexer": "ipython3",
   "version": "3.8.12"
  }
 },
 "nbformat": 4,
 "nbformat_minor": 5
}
