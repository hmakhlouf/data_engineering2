{
 "cells": [
  {
   "cell_type": "code",
   "execution_count": 1,
   "id": "d394f100-4fd7-489c-8697-4034c002fc60",
   "metadata": {},
   "outputs": [],
   "source": [
    "import findspark\n",
    "findspark.init()"
   ]
  },
  {
   "cell_type": "code",
   "execution_count": 2,
   "id": "69dc8574-686a-44ae-ba20-7874f49c9b4a",
   "metadata": {},
   "outputs": [
    {
     "name": "stderr",
     "output_type": "stream",
     "text": [
      "22/05/24 21:00:32 WARN Utils: Your hostname, ubuntu-virtual-machine resolves to a loopback address: 127.0.1.1; using 192.168.174.129 instead (on interface ens33)\n",
      "22/05/24 21:00:32 WARN Utils: Set SPARK_LOCAL_IP if you need to bind to another address\n",
      "22/05/24 21:00:33 WARN NativeCodeLoader: Unable to load native-hadoop library for your platform... using builtin-java classes where applicable\n",
      "Using Spark's default log4j profile: org/apache/spark/log4j-defaults.properties\n",
      "Setting default log level to \"WARN\".\n",
      "To adjust logging level use sc.setLogLevel(newLevel). For SparkR, use setLogLevel(newLevel).\n"
     ]
    }
   ],
   "source": [
    "from pyspark.conf import SparkConf\n",
    "config = SparkConf()\n",
    "# config.set(\"property\", \"value\")\n",
    "config.setMaster(\"local\").setAppName(\"SparkHelloWorldStream\")\n",
    "\n",
    "from pyspark.sql import SparkSession\n",
    "# spark Session, entry point for Spark SQL, DataFrame\n",
    "spark = SparkSession.builder\\\n",
    "                    .config(conf=config)\\\n",
    "                    .getOrCreate()\n",
    "\n",
    "sc = spark.sparkContext"
   ]
  },
  {
   "cell_type": "code",
   "execution_count": 3,
   "id": "f36c44c1-b6cb-4ba6-8efc-4240e6988702",
   "metadata": {},
   "outputs": [
    {
     "name": "stderr",
     "output_type": "stream",
     "text": [
      "22/05/24 21:01:01 WARN TextSocketSourceProvider: The socket source should not be used for production applications! It does not support recovery.\n"
     ]
    }
   ],
   "source": [
    "# Structured Streaming \n",
    "# based on Data Frame/ internally there is RDD\n",
    "# Micro Batch, trigger is default one, as soon as possible when data arrives\n",
    "# trigger time approx 100 ms to 1 sec\n",
    "# spark batch programming, we use spark.read\n",
    "# in streaming, we use readStream\n",
    "# socket is predefined word, represent data comes from TCP/IP socket\n",
    "# spark is client\n",
    "lineStreamDf = spark\\\n",
    "                .readStream\\\n",
    "                .format(\"socket\")\\\n",
    "                .option(\"host\", \"localhost\")\\\n",
    "                .option(\"port\", 9999)\\\n",
    "                .load()\n",
    "\n",
    "# now spark shall connect the server running on port 9999\n",
    "# then it will wait the input from server\n",
    "# user/developer can write something on server console and Press Enter key\n",
    "# to send to spark / client"
   ]
  },
  {
   "cell_type": "code",
   "execution_count": 4,
   "id": "8847d1f8-a890-481d-a110-41f714ba1aeb",
   "metadata": {},
   "outputs": [
    {
     "name": "stdout",
     "output_type": "stream",
     "text": [
      "root\n",
      " |-- value: string (nullable = true)\n",
      "\n"
     ]
    }
   ],
   "source": [
    "# printSchema vary based on driver we use. for socket, we have only value\n",
    "lineStreamDf.printSchema()\n",
    "# show will not work for stream, it will cause error\n",
    "#lineStreamDf.show() # good for batchs, not for stream"
   ]
  },
  {
   "cell_type": "code",
   "execution_count": 5,
   "id": "bc22b29e-beed-454b-b71e-d3e972dfdbdc",
   "metadata": {},
   "outputs": [
    {
     "name": "stderr",
     "output_type": "stream",
     "text": [
      "22/05/24 21:06:43 WARN StreamingQueryManager: Temporary checkpoint location created which is deleted normally when the query didn't fail: /tmp/temporary-fe5da434-14d4-486a-8fc7-ace0b474cb0b. If it's required to delete it under any circumstances, please set spark.sql.streaming.forceDeleteTempCheckpointLocation to true. Important to know deleting temp checkpoint folder is best effort.\n",
      "                                                                                \r"
     ]
    },
    {
     "name": "stdout",
     "output_type": "stream",
     "text": [
      "-------------------------------------------\n",
      "Batch: 0\n",
      "-------------------------------------------\n",
      "+-----+\n",
      "|value|\n",
      "+-----+\n",
      "+-----+\n",
      "\n",
      "-------------------------------------------\n",
      "Batch: 1\n",
      "-------------------------------------------\n",
      "+-------+\n",
      "|  value|\n",
      "+-------+\n",
      "|  hello|\n",
      "|welcome|\n",
      "+-------+\n",
      "\n"
     ]
    }
   ],
   "source": [
    "# print data on console \n",
    "# for stream write, we should use writeStream\n",
    "# for batch use write\n",
    "# append is mode\n",
    "# console is keyword, present console output\n",
    "# writeStream is an action, which runs the whole show,\n",
    "# reading data, trigger window etc by writeStream\n",
    "# in general 1 sec trigger used if not mentioned, default\n",
    "echoOnconsole = lineStreamDf\\\n",
    "                .writeStream\\\n",
    "                .outputMode(\"append\")\\\n",
    "                .format(\"console\")\\\n",
    "                .start()\n",
    "\n",
    "# start basically start the streaming, listen for input\n",
    "# as input arrives, it starts processing\n",
    "# listen for jupyter console for the output"
   ]
  },
  {
   "cell_type": "code",
   "execution_count": null,
   "id": "0a4c0ac9-6c35-4c50-82b5-3495d2ace288",
   "metadata": {},
   "outputs": [],
   "source": []
  }
 ],
 "metadata": {
  "kernelspec": {
   "display_name": "Python 3 (ipykernel)",
   "language": "python",
   "name": "python3"
  },
  "language_info": {
   "codemirror_mode": {
    "name": "ipython",
    "version": 3
   },
   "file_extension": ".py",
   "mimetype": "text/x-python",
   "name": "python",
   "nbconvert_exporter": "python",
   "pygments_lexer": "ipython3",
   "version": "3.8.12"
  }
 },
 "nbformat": 4,
 "nbformat_minor": 5
}
