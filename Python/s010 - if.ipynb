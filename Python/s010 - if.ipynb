{
 "cells": [
  {
   "cell_type": "code",
   "execution_count": 1,
   "id": "85f5be93-453e-454d-a3b2-681aa1d3d1a0",
   "metadata": {},
   "outputs": [
    {
     "name": "stdout",
     "output_type": "stream",
     "text": [
      "Odd Number\n"
     ]
    }
   ],
   "source": [
    "# conditional statement which can evaluate to True/False\n",
    "\n",
    "n = 11\n",
    "\n",
    "if n % 2 == 0:\n",
    "    # true part\n",
    "    print(\"Even Number\")\n",
    "else:\n",
    "    # else part, False\n",
    "    print (\"Odd Number\")"
   ]
  },
  {
   "cell_type": "code",
   "execution_count": 2,
   "id": "3750e9e6-55f1-4b30-87c4-6ad369286677",
   "metadata": {},
   "outputs": [
    {
     "name": "stdout",
     "output_type": "stream",
     "text": [
      "a is greater\n"
     ]
    }
   ],
   "source": [
    "# if else is statement, statement doesn't return any result\n",
    "# else if statement\n",
    "a = 50\n",
    "b = 40\n",
    "c = 30\n",
    "# greatest amoung\n",
    "\n",
    "if a > b and a  > c:\n",
    "    print (\"a is greater\")\n",
    "elif b > c:\n",
    "    print(\"b is greater\")\n",
    "else:\n",
    "    print(\"c is greater\")"
   ]
  },
  {
   "cell_type": "code",
   "execution_count": 3,
   "id": "b2bafe11-53bd-46cd-8206-c42110fb73b5",
   "metadata": {},
   "outputs": [
    {
     "name": "stdout",
     "output_type": "stream",
     "text": [
      "Odd\n"
     ]
    }
   ],
   "source": [
    "# if   expression or similar to ternary operator\n",
    "# if used as expression that return \"Even\" or \"Odd\"\n",
    "# if expression returns output\n",
    "result = \"Even\" if 11 % 2 == 0 else \"Odd\"\n",
    "\n",
    "print(result)"
   ]
  },
  {
   "cell_type": "code",
   "execution_count": 7,
   "id": "d8b72c9a-87b4-4fdd-85fa-b4cfa5ef3471",
   "metadata": {},
   "outputs": [
    {
     "name": "stdin",
     "output_type": "stream",
     "text": [
      "enter n 20\n"
     ]
    },
    {
     "name": "stdout",
     "output_type": "stream",
     "text": [
      "even\n"
     ]
    }
   ],
   "source": [
    "n=input(\"enter n\")\n",
    "result=\"even\" if int(n) % 2 == 0 else \"false\"\n",
    "print(result)"
   ]
  },
  {
   "cell_type": "code",
   "execution_count": null,
   "id": "944d5a42-2ad7-4202-8d67-ddc8186e9efe",
   "metadata": {},
   "outputs": [],
   "source": []
  }
 ],
 "metadata": {
  "kernelspec": {
   "display_name": "Python 3 (ipykernel)",
   "language": "python",
   "name": "python3"
  },
  "language_info": {
   "codemirror_mode": {
    "name": "ipython",
    "version": 3
   },
   "file_extension": ".py",
   "mimetype": "text/x-python",
   "name": "python",
   "nbconvert_exporter": "python",
   "pygments_lexer": "ipython3",
   "version": "3.8.12"
  }
 },
 "nbformat": 4,
 "nbformat_minor": 5
}
