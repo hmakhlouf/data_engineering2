{
 "cells": [
  {
   "cell_type": "code",
   "execution_count": 1,
   "id": "8b1ba8d2-e5c1-4000-9d0e-8d21ee0a60fa",
   "metadata": {},
   "outputs": [],
   "source": [
    "# list is data structure, \n",
    "# hold collection of items\n",
    "# [] to represent list\n",
    "\n",
    "# List items are mutable, insert/update/delete items any time\n",
    "stocks = ['INFY', 'APPL', 'TSLA']\n"
   ]
  },
  {
   "cell_type": "code",
   "execution_count": 2,
   "id": "c46296b8-38d7-4193-a848-a90317e7c2e2",
   "metadata": {},
   "outputs": [
    {
     "name": "stdout",
     "output_type": "stream",
     "text": [
      "3\n"
     ]
    }
   ],
   "source": [
    "# to get length \n",
    "\n",
    "print (len(stocks))"
   ]
  },
  {
   "cell_type": "code",
   "execution_count": 4,
   "id": "11ad20a1-9103-469a-88e9-79aefe6082d0",
   "metadata": {},
   "outputs": [],
   "source": [
    "# append new element at end of the list\n",
    "stocks.append(\"MSFT\")"
   ]
  },
  {
   "cell_type": "code",
   "execution_count": 5,
   "id": "9ceb1115-06a7-47de-a1d2-674b56019fae",
   "metadata": {},
   "outputs": [
    {
     "name": "stdout",
     "output_type": "stream",
     "text": [
      "['INFY', 'APPL', 'TSLA', 'MSFT']\n"
     ]
    }
   ],
   "source": [
    "print(stocks)"
   ]
  },
  {
   "cell_type": "code",
   "execution_count": 6,
   "id": "0c67e98e-aa0b-4f74-ad46-9fbfddfb3ea1",
   "metadata": {},
   "outputs": [],
   "source": [
    "# insert element between, element index starting from 0\n",
    "stocks.insert(1, 'CTS')"
   ]
  },
  {
   "cell_type": "code",
   "execution_count": 7,
   "id": "2a3492ac-ca3b-448e-aa8f-f12319b97550",
   "metadata": {},
   "outputs": [
    {
     "name": "stdout",
     "output_type": "stream",
     "text": [
      "['INFY', 'CTS', 'APPL', 'TSLA', 'MSFT']\n"
     ]
    }
   ],
   "source": [
    "print(stocks)"
   ]
  },
  {
   "cell_type": "code",
   "execution_count": 8,
   "id": "0de2ece1-dc40-4f07-8e9c-eb14b4fd0037",
   "metadata": {},
   "outputs": [
    {
     "name": "stdout",
     "output_type": "stream",
     "text": [
      "['INFY', 'CTS', 'TSLA', 'MSFT']\n"
     ]
    }
   ],
   "source": [
    "# remove elements\n",
    "\n",
    "stocks.remove('APPL')\n",
    "print(stocks)"
   ]
  },
  {
   "cell_type": "code",
   "execution_count": 9,
   "id": "7337eb18-d4de-4da8-b82d-f0c242bfcf8a",
   "metadata": {},
   "outputs": [
    {
     "name": "stdout",
     "output_type": "stream",
     "text": [
      "INFY\n",
      "MSFT\n",
      "MSFT\n",
      "TSLA\n"
     ]
    }
   ],
   "source": [
    "# access list element, use index position starting from 0 upto len - 1\n",
    "# positive index , from left to right\n",
    "print(stocks[0])\n",
    "print(stocks[3]) \n",
    "# negative index, from right to left\n",
    "print(stocks[-1]) # -1 represent last element\n",
    "print (stocks[-2]) # TSLA last but one"
   ]
  },
  {
   "cell_type": "code",
   "execution_count": 10,
   "id": "ae1daa4f-1219-4f41-9116-654e7c7a425a",
   "metadata": {},
   "outputs": [
    {
     "name": "stdout",
     "output_type": "stream",
     "text": [
      "['INFY', 'CTS', 'TSLA', 'MSFT']\n",
      "['TSLA', 'MSFT']\n",
      "['INFY', 'CTS']\n",
      "['INFY', 'CTS', 'TSLA']\n",
      "['CTS', 'TSLA']\n"
     ]
    }
   ],
   "source": [
    "# access list elements in range, : opeartor\n",
    "\n",
    "# upper bound is not given\n",
    "print (stocks[0:]) # picks element 0 to last element\n",
    "print (stocks[2:]) # picks 2 nd element onwards until last elemnet\n",
    "\n",
    "# lower bound is not given\n",
    "print(stocks[:2]) # picks element 0 to 2 - 1 (upper bound - 1)\n",
    "print(stocks[:-1]) # picks 0 to   upper bound -1 \n",
    "\n",
    "# 1 from left, -1 from right\n",
    "print(stocks[1:-1]) "
   ]
  },
  {
   "cell_type": "code",
   "execution_count": null,
   "id": "1a90be55-0933-4efb-baaf-e5116eff3a09",
   "metadata": {},
   "outputs": [],
   "source": []
  }
 ],
 "metadata": {
  "kernelspec": {
   "display_name": "Python 3 (ipykernel)",
   "language": "python",
   "name": "python3"
  },
  "language_info": {
   "codemirror_mode": {
    "name": "ipython",
    "version": 3
   },
   "file_extension": ".py",
   "mimetype": "text/x-python",
   "name": "python",
   "nbconvert_exporter": "python",
   "pygments_lexer": "ipython3",
   "version": "3.8.12"
  }
 },
 "nbformat": 4,
 "nbformat_minor": 5
}
