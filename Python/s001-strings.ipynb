{
 "cells": [
  {
   "cell_type": "markdown",
   "id": "5dd43898-dbc8-4225-b706-2bc10ff578e3",
   "metadata": {},
   "source": [
    "# 1 - String "
   ]
  },
  {
   "cell_type": "code",
   "execution_count": 9,
   "id": "00d69906-adf1-4917-a0c7-16dec44bc12b",
   "metadata": {},
   "outputs": [],
   "source": [
    "name = \"python\"\n",
    "framework = \"spark\"\n",
    "course = \"\"\"\n",
    "we learn\n",
    "python \n",
    "spark\n",
    "\"\"\""
   ]
  },
  {
   "cell_type": "code",
   "execution_count": 10,
   "id": "0c0b98a2-c4a1-4dbf-a3d3-e3a8599f05ce",
   "metadata": {},
   "outputs": [
    {
     "name": "stdout",
     "output_type": "stream",
     "text": [
      "python\n",
      "spark\n",
      "\n",
      "we learn\n",
      "python \n",
      "spark\n",
      "\n"
     ]
    }
   ],
   "source": [
    "print(name)\n",
    "print(framwork)\n",
    "print(course)"
   ]
  },
  {
   "cell_type": "code",
   "execution_count": 15,
   "id": "d53e818f-9832-4292-9eae-be11157a01f5",
   "metadata": {},
   "outputs": [
    {
     "name": "stdout",
     "output_type": "stream",
     "text": [
      "  python  \n"
     ]
    }
   ],
   "source": [
    "# string with space\n",
    "s = \"  Python  \"\n",
    "print(s)"
   ]
  },
  {
   "cell_type": "code",
   "execution_count": 16,
   "id": "7c7b831d-b5ab-4593-9544-56ee236b2b33",
   "metadata": {},
   "outputs": [
    {
     "name": "stdout",
     "output_type": "stream",
     "text": [
      "  PYTHON  \n"
     ]
    }
   ],
   "source": [
    "#upper case\n",
    "u = s.upper()\n",
    "print(u)"
   ]
  },
  {
   "cell_type": "code",
   "execution_count": 17,
   "id": "ff28ad26-8000-4ed8-b43c-1b43a29f902e",
   "metadata": {},
   "outputs": [
    {
     "name": "stdout",
     "output_type": "stream",
     "text": [
      "  python  \n"
     ]
    }
   ],
   "source": [
    "#lower case\n",
    "l = s.lower()\n",
    "print(l)"
   ]
  },
  {
   "cell_type": "code",
   "execution_count": 18,
   "id": "0f771f6c-e787-4c7c-8f32-033e67fa068a",
   "metadata": {},
   "outputs": [
    {
     "name": "stdout",
     "output_type": "stream",
     "text": [
      "python\n"
     ]
    }
   ],
   "source": [
    "# remove space\n",
    "t = s.strip()\n",
    "print(t)"
   ]
  },
  {
   "cell_type": "code",
   "execution_count": null,
   "id": "8c6fbf7b-c9fd-4dbc-bcc4-bac197226048",
   "metadata": {},
   "outputs": [],
   "source": []
  }
 ],
 "metadata": {
  "kernelspec": {
   "display_name": "Python 3 (ipykernel)",
   "language": "python",
   "name": "python3"
  },
  "language_info": {
   "codemirror_mode": {
    "name": "ipython",
    "version": 3
   },
   "file_extension": ".py",
   "mimetype": "text/x-python",
   "name": "python",
   "nbconvert_exporter": "python",
   "pygments_lexer": "ipython3",
   "version": "3.8.12"
  }
 },
 "nbformat": 4,
 "nbformat_minor": 5
}
