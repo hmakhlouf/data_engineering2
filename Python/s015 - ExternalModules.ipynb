{
 "cells": [
  {
   "cell_type": "code",
   "execution_count": 1,
   "id": "f9ae1565-c3a0-4ab1-b712-63fd3c674c54",
   "metadata": {},
   "outputs": [],
   "source": [
    "#python has a lot of pachak=ges \n",
    "#located in PYPI index site\n",
    "#instalation ca be dome using pip install \n",
    "# pip install simplejson\n",
    "\n",
    "# simple json in a library for parsing json file/content \n",
    "\n",
    "# on linux terminal [ create new one ]\n",
    "# run below command \n",
    "# pip install siplejson "
   ]
  },
  {
   "cell_type": "code",
   "execution_count": 3,
   "id": "9afd34d2-33b8-4dbb-bbe3-ebe6cadc6536",
   "metadata": {},
   "outputs": [],
   "source": [
    "import simplejson as json"
   ]
  },
  {
   "cell_type": "code",
   "execution_count": null,
   "id": "0671887e-76ab-4f90-b910-2d6c8dddeac0",
   "metadata": {},
   "outputs": [],
   "source": []
  }
 ],
 "metadata": {
  "kernelspec": {
   "display_name": "Python 3 (ipykernel)",
   "language": "python",
   "name": "python3"
  },
  "language_info": {
   "codemirror_mode": {
    "name": "ipython",
    "version": 3
   },
   "file_extension": ".py",
   "mimetype": "text/x-python",
   "name": "python",
   "nbconvert_exporter": "python",
   "pygments_lexer": "ipython3",
   "version": "3.8.12"
  }
 },
 "nbformat": 4,
 "nbformat_minor": 5
}
