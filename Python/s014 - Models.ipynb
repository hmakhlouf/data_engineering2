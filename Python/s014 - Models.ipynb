{
 "cells": [
  {
   "cell_type": "code",
   "execution_count": 1,
   "id": "bac95d4f-b7d7-43f9-86e7-b904b11ab97e",
   "metadata": {},
   "outputs": [
    {
     "name": "stdout",
     "output_type": "stream",
     "text": [
      "models __init__ called\n"
     ]
    }
   ],
   "source": [
    "# in python, packages, /namespace are called models\n",
    "# each file is a modele\n",
    "# we can use import statement to import the module\n",
    "\n",
    "from models.product import Product"
   ]
  },
  {
   "cell_type": "code",
   "execution_count": 7,
   "id": "12ec53b5-5e1b-45d7-82c7-aac8f52147d2",
   "metadata": {},
   "outputs": [
    {
     "name": "stdout",
     "output_type": "stream",
     "text": [
      "Product created\n"
     ]
    }
   ],
   "source": [
    "p1 = Product()"
   ]
  },
  {
   "cell_type": "code",
   "execution_count": 2,
   "id": "5b283011-04da-4c1d-9a8a-ef776ff9f449",
   "metadata": {},
   "outputs": [
    {
     "ename": "ImportError",
     "evalue": "cannot import name 'Product' from 'models' (/home/ubuntu/workshop/Python/models/__init__.py)",
     "output_type": "error",
     "traceback": [
      "\u001b[0;31m---------------------------------------------------------------------------\u001b[0m",
      "\u001b[0;31mImportError\u001b[0m                               Traceback (most recent call last)",
      "Input \u001b[0;32mIn [2]\u001b[0m, in \u001b[0;36m<cell line: 1>\u001b[0;34m()\u001b[0m\n\u001b[0;32m----> 1\u001b[0m \u001b[38;5;28;01mfrom\u001b[39;00m \u001b[38;5;21;01mmodels\u001b[39;00m \u001b[38;5;28;01mimport\u001b[39;00m Product\n",
      "\u001b[0;31mImportError\u001b[0m: cannot import name 'Product' from 'models' (/home/ubuntu/workshop/Python/models/__init__.py)"
     ]
    }
   ],
   "source": [
    "from models import Product # fails "
   ]
  },
  {
   "cell_type": "code",
   "execution_count": 9,
   "id": "a8576cfc-1337-48d1-94b1-e4e02608687e",
   "metadata": {},
   "outputs": [],
   "source": [
    "# now within __init__.py "
   ]
  },
  {
   "cell_type": "code",
   "execution_count": 6,
   "id": "ef993608-cf3d-4e06-b097-450032f97135",
   "metadata": {},
   "outputs": [
    {
     "ename": "ImportError",
     "evalue": "cannot import name 'Product' from 'models' (/home/ubuntu/workshop/Python/models/__init__.py)",
     "output_type": "error",
     "traceback": [
      "\u001b[0;31m---------------------------------------------------------------------------\u001b[0m",
      "\u001b[0;31mImportError\u001b[0m                               Traceback (most recent call last)",
      "Input \u001b[0;32mIn [6]\u001b[0m, in \u001b[0;36m<cell line: 1>\u001b[0;34m()\u001b[0m\n\u001b[0;32m----> 1\u001b[0m \u001b[38;5;28;01mfrom\u001b[39;00m \u001b[38;5;21;01mmodels\u001b[39;00m \u001b[38;5;28;01mimport\u001b[39;00m Product\n",
      "\u001b[0;31mImportError\u001b[0m: cannot import name 'Product' from 'models' (/home/ubuntu/workshop/Python/models/__init__.py)"
     ]
    }
   ],
   "source": [
    "from models import Product"
   ]
  },
  {
   "cell_type": "code",
   "execution_count": null,
   "id": "2ade94bf-9776-4174-99dd-9441dcca4611",
   "metadata": {},
   "outputs": [],
   "source": []
  }
 ],
 "metadata": {
  "kernelspec": {
   "display_name": "Python 3 (ipykernel)",
   "language": "python",
   "name": "python3"
  },
  "language_info": {
   "codemirror_mode": {
    "name": "ipython",
    "version": 3
   },
   "file_extension": ".py",
   "mimetype": "text/x-python",
   "name": "python",
   "nbconvert_exporter": "python",
   "pygments_lexer": "ipython3",
   "version": "3.8.12"
  }
 },
 "nbformat": 4,
 "nbformat_minor": 5
}
