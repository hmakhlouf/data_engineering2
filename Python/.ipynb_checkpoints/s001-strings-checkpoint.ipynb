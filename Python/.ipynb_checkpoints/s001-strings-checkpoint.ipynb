{
 "cells": [
  {
   "cell_type": "code",
   "execution_count": 3,
   "id": "e91a4902-6d19-45fb-9693-086025c321ee",
   "metadata": {},
   "outputs": [],
   "source": [
    "# python comment \n",
    "# this area called cell \n",
    "\n",
    "#pyhton string\n",
    "\n",
    "name = \"python\" \n",
    "framwork = 'spark'\n",
    "\n",
    "#multiline \n",
    "\n",
    "course = \"\"\"\n",
    "we learn \n",
    "python \n",
    "spark\n",
    "\"\"\"\n",
    "\n",
    "# to run the cell press, shift + enter"
   ]
  },
  {
   "cell_type": "code",
   "execution_count": 4,
   "id": "0c0b98a2-c4a1-4dbf-a3d3-e3a8599f05ce",
   "metadata": {},
   "outputs": [
    {
     "name": "stdout",
     "output_type": "stream",
     "text": [
      "python\n",
      "spark\n",
      "\n",
      "we learn \n",
      "python \n",
      "spark\n",
      "\n"
     ]
    }
   ],
   "source": [
    "print(name)\n",
    "print(framwork)\n",
    "print(course)"
   ]
  },
  {
   "cell_type": "code",
   "execution_count": null,
   "id": "d53e818f-9832-4292-9eae-be11157a01f5",
   "metadata": {},
   "outputs": [],
   "source": []
  }
 ],
 "metadata": {
  "kernelspec": {
   "display_name": "Python 3 (ipykernel)",
   "language": "python",
   "name": "python3"
  },
  "language_info": {
   "codemirror_mode": {
    "name": "ipython",
    "version": 3
   },
   "file_extension": ".py",
   "mimetype": "text/x-python",
   "name": "python",
   "nbconvert_exporter": "python",
   "pygments_lexer": "ipython3",
   "version": "3.8.12"
  }
 },
 "nbformat": 4,
 "nbformat_minor": 5
}
