{
 "cells": [
  {
   "cell_type": "code",
   "execution_count": 1,
   "id": "f9ae1565-c3a0-4ab1-b712-63fd3c674c54",
   "metadata": {},
   "outputs": [],
   "source": [
    "#python has a lot of pachak=ges \n",
    "#located in PYPI index site\n",
    "#instalation ca be dome using pip install \n",
    "# pip install simplejson\n",
    "\n",
    "# simple json in a library for parsing json file/content \n",
    "\n",
    "# on linux terminal [ create new one ]\n",
    "# run below command \n",
    "# pip install siplejson "
   ]
  },
  {
   "cell_type": "code",
   "execution_count": 2,
   "id": "9afd34d2-33b8-4dbb-bbe3-ebe6cadc6536",
   "metadata": {},
   "outputs": [
    {
     "ename": "ModuleNotFoundError",
     "evalue": "No module named 'simplejson'",
     "output_type": "error",
     "traceback": [
      "\u001b[0;31m---------------------------------------------------------------------------\u001b[0m",
      "\u001b[0;31mModuleNotFoundError\u001b[0m                       Traceback (most recent call last)",
      "Input \u001b[0;32mIn [2]\u001b[0m, in \u001b[0;36m<cell line: 1>\u001b[0;34m()\u001b[0m\n\u001b[0;32m----> 1\u001b[0m \u001b[38;5;28;01mimport\u001b[39;00m \u001b[38;5;21;01msimplejson\u001b[39;00m \u001b[38;5;28;01mas\u001b[39;00m \u001b[38;5;21;01mjson\u001b[39;00m\n",
      "\u001b[0;31mModuleNotFoundError\u001b[0m: No module named 'simplejson'"
     ]
    }
   ],
   "source": [
    "import simplejson as json"
   ]
  },
  {
   "cell_type": "code",
   "execution_count": null,
   "id": "0671887e-76ab-4f90-b910-2d6c8dddeac0",
   "metadata": {},
   "outputs": [],
   "source": []
  }
 ],
 "metadata": {
  "kernelspec": {
   "display_name": "Python 3 (ipykernel)",
   "language": "python",
   "name": "python3"
  },
  "language_info": {
   "codemirror_mode": {
    "name": "ipython",
    "version": 3
   },
   "file_extension": ".py",
   "mimetype": "text/x-python",
   "name": "python",
   "nbconvert_exporter": "python",
   "pygments_lexer": "ipython3",
   "version": "3.8.12"
  }
 },
 "nbformat": 4,
 "nbformat_minor": 5
}
