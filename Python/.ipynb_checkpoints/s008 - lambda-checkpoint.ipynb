{
 "cells": [
  {
   "cell_type": "code",
   "execution_count": 3,
   "id": "e1ae1669-06f0-4de9-a95c-b3f729f55345",
   "metadata": {},
   "outputs": [
    {
     "name": "stdout",
     "output_type": "stream",
     "text": [
      " pow func name pow\n",
      "lambda func name <lambda>\n",
      "type of func <class 'function'>\n",
      "type of lambda <class 'function'>\n"
     ]
    }
   ],
   "source": [
    "# lambda is a function,\n",
    "# always one line function\n",
    "# lambda is an annonymous function \n",
    "# - no name to be given\n",
    "# before \n",
    "\n",
    "# n ^ 2 = n * n\n",
    "# n is parameter, \n",
    "# n * n is an expression or function body, return the result of n * n \n",
    "\n",
    "\n",
    "# function has name \n",
    "\n",
    "\n",
    "\n",
    "\n",
    "power = lambda n: n * n # lambda \n",
    "\n",
    "#x = pow (5) # 25\n",
    "#print(x)\n",
    "\n",
    "def pow(n):\n",
    "    return n * n \n",
    "\n",
    "#internally both def and lambda are functions only \n",
    "print (\" pow func name\", pow.__name__)\n",
    "print(\"lambda func name\", power.__name__)\n",
    "print(\"type of func\", type(pow))\n",
    "print(\"type of lambda\",  type(power))"
   ]
  },
  {
   "cell_type": "code",
   "execution_count": 4,
   "id": "84b048dd-71dd-4a9a-8ff1-416cb60a8da8",
   "metadata": {},
   "outputs": [
    {
     "name": "stdout",
     "output_type": "stream",
     "text": [
      "100\n",
      "100\n"
     ]
    }
   ],
   "source": [
    "print (power(10)) # calling lambda \n",
    "print(pow(10)) # calling function "
   ]
  },
  {
   "cell_type": "code",
   "execution_count": 5,
   "id": "01c1841c-d60c-4fdc-b0d8-5de48df61943",
   "metadata": {},
   "outputs": [
    {
     "name": "stdout",
     "output_type": "stream",
     "text": [
      "25\n",
      "125\n",
      "5.0\n"
     ]
    }
   ],
   "source": [
    "# write a function, that returns sum of square of numbers\n",
    "# write a function, that returns sum of cube of numbers\n",
    "# write a function that return sum of sq rt of numbers\n",
    "# write a function that return sum of factorial  of numbers\n",
    "# write a function that return sum of something/my custom logic  of numbers\n",
    "\n",
    "#  sum (square(numbers))\n",
    "# sum (cube(numbers))\n",
    "\n",
    "square = lambda n : n ** 2  # n ^ 2\n",
    "\n",
    "cube = lambda n : n ** 3   # n ^ 3\n",
    "\n",
    "import math\n",
    "\n",
    "sqrt = lambda n: math.sqrt(n) # sq rt of n , math is prebuilt module, sqrt is a function in python\n",
    "\n",
    "print(square(5)) # 25\n",
    "print (cube(5)) # 125\n",
    "print ( sqrt(25)) # 5.0"
   ]
  },
  {
   "cell_type": "code",
   "execution_count": 11,
   "id": "66723023-61a1-441e-9fa2-ab9e471e59c2",
   "metadata": {},
   "outputs": [
    {
     "name": "stdout",
     "output_type": "stream",
     "text": [
      "14\n"
     ]
    }
   ],
   "source": [
    "# highrt order function \n",
    "#functional patern \n",
    "# a function that acept another function as input called higher order function\n",
    "\n",
    "\n",
    "# sum of square/cube/sqrt of the numbers \n",
    "#sum is higher function, the first param is function\n",
    "# then we can apss as mamy numbers\n",
    "# sum func apply numbers into funcand sum the results \n",
    "# func can be square, cube, sqrt, ect\n",
    "\n",
    "def sum(func, *numbers):\n",
    "    s = 0\n",
    "    for n in numbers:\n",
    "        s += func(n)\n",
    "    return s \n",
    "\n",
    "\n",
    "# passing square to sum function\n",
    "#sum of square of numbers\n",
    "# result sould 1^2 + 2^2 + 3^2 = 14\n",
    "\n",
    "result = sum(square, 1, 2 ,3)\n",
    "print(result)\n",
    "\n",
    "#DIY,try cube, sqrt and get result and print \n"
   ]
  },
  {
   "cell_type": "code",
   "execution_count": 12,
   "id": "6fe72f1b-dcfc-45de-a037-589e4e05f9fb",
   "metadata": {},
   "outputs": [
    {
     "name": "stdout",
     "output_type": "stream",
     "text": [
      "14\n"
     ]
    }
   ],
   "source": [
    "# lamda can be in line \n",
    "\n",
    "results = sum(lambda n: n*n, 1,2,3)\n",
    "print(results)"
   ]
  },
  {
   "cell_type": "code",
   "execution_count": null,
   "id": "09f4a164-bb35-405c-9d90-95047c3cd02e",
   "metadata": {},
   "outputs": [],
   "source": []
  }
 ],
 "metadata": {
  "kernelspec": {
   "display_name": "Python 3 (ipykernel)",
   "language": "python",
   "name": "python3"
  },
  "language_info": {
   "codemirror_mode": {
    "name": "ipython",
    "version": 3
   },
   "file_extension": ".py",
   "mimetype": "text/x-python",
   "name": "python",
   "nbconvert_exporter": "python",
   "pygments_lexer": "ipython3",
   "version": "3.8.12"
  }
 },
 "nbformat": 4,
 "nbformat_minor": 5
}
