{
 "cells": [
  {
   "cell_type": "code",
   "execution_count": 1,
   "id": "fa15d83b-ea4c-4e0c-b306-dd8a39fc7026",
   "metadata": {},
   "outputs": [
    {
     "name": "stdout",
     "output_type": "stream",
     "text": [
      "[1, 2, 3, 4, 5, 6, 7, 8, 9]\n",
      "range(1, 10)\n"
     ]
    }
   ],
   "source": [
    "r1 = [1,2,3,4,5,6,7,8,9]\n",
    "r2 = range(1,10)\n",
    "\n",
    "\n",
    "print(r1)\n",
    "print(r2)"
   ]
  },
  {
   "cell_type": "code",
   "execution_count": 2,
   "id": "5e421099-638b-43cb-9e08-442e46059dc2",
   "metadata": {},
   "outputs": [
    {
     "name": "stdout",
     "output_type": "stream",
     "text": [
      "1\n",
      "2\n",
      "3\n",
      "4\n",
      "5\n",
      "6\n",
      "7\n",
      "8\n",
      "9\n"
     ]
    }
   ],
   "source": [
    "#colon is used for block statements\n",
    "# use indentation {white space/tab]\n",
    "\n",
    "for i in r1:\n",
    "    print(i)\n",
    "    "
   ]
  },
  {
   "cell_type": "code",
   "execution_count": 3,
   "id": "fc760668-a569-49fa-bbbf-63b647454d17",
   "metadata": {},
   "outputs": [
    {
     "name": "stdout",
     "output_type": "stream",
     "text": [
      "1\n",
      "2\n",
      "3\n",
      "4\n",
      "5\n",
      "6\n",
      "7\n",
      "8\n",
      "9\n"
     ]
    }
   ],
   "source": [
    "for i in r2:\n",
    "    print(i)"
   ]
  },
  {
   "cell_type": "code",
   "execution_count": 4,
   "id": "09bd8d66-0a7c-4036-bc4d-051b55e74b96",
   "metadata": {},
   "outputs": [
    {
     "name": "stdout",
     "output_type": "stream",
     "text": [
      "sum 45\n",
      "fact 362880\n"
     ]
    }
   ],
   "source": [
    "s = 0\n",
    "f = 1\n",
    "\n",
    "for i in r2:\n",
    "    s += i \n",
    "    f *= i \n",
    "    \n",
    "print(\"sum\", s)\n",
    "print(\"fact\", f)\n",
    "\n",
    "    "
   ]
  },
  {
   "cell_type": "code",
   "execution_count": 5,
   "id": "cf558888-5f8b-496b-9674-3474ba8a670c",
   "metadata": {},
   "outputs": [
    {
     "name": "stdout",
     "output_type": "stream",
     "text": [
      "1\n",
      "3\n",
      "5\n",
      "7\n",
      "9\n"
     ]
    }
   ],
   "source": [
    "#continue\n",
    "#print only odd numbers\n",
    "for i in r2:\n",
    "    if i % 2 == 0:\n",
    "        continue # continue the foor loop, won't execute below statements\n",
    "    print(i) # print only odd number \n"
   ]
  },
  {
   "cell_type": "code",
   "execution_count": 6,
   "id": "bbf529e7-191e-4ebd-83ea-31d76e49bc86",
   "metadata": {},
   "outputs": [],
   "source": [
    "# print only odd numbers \n"
   ]
  },
  {
   "cell_type": "code",
   "execution_count": 7,
   "id": "56ba259a-b5a6-4b86-8fba-2803b749d2ca",
   "metadata": {},
   "outputs": [
    {
     "name": "stdout",
     "output_type": "stream",
     "text": [
      "2\n",
      "4\n",
      "6\n",
      "8\n"
     ]
    }
   ],
   "source": [
    "#continue\n",
    "#print only odd numbers\n",
    "for i in r2:\n",
    "    if i % 2 == 1:\n",
    "        continue # continue the foor loop, won't execute below statements\n",
    "    print(i) # print only even number \n"
   ]
  },
  {
   "cell_type": "code",
   "execution_count": 8,
   "id": "e5f6256c-ff8c-4dae-95e7-fc3fc66d2b5a",
   "metadata": {},
   "outputs": [],
   "source": [
    "#break is to break the loop and exist \n",
    "\n",
    "#for i in r2:\n",
    "   # print(\n",
    "        \n",
    "       # break "
   ]
  },
  {
   "cell_type": "code",
   "execution_count": null,
   "id": "71579b88-e1df-4b00-b800-c9b9cb4b22a9",
   "metadata": {},
   "outputs": [],
   "source": [
    "i = 0 \n",
    "n = 5 \n",
    "f = 1\n",
    "s = 0 \n",
    "\n",
    "while i <= 5:\n",
    "    f *=i\n",
    "    s +=i\n",
    "print(\"fact\", f)\n",
    "print(\"sum\", s)\n"
   ]
  },
  {
   "cell_type": "code",
   "execution_count": null,
   "id": "4c9e89fd-6c81-4ba4-a065-45d0487e1562",
   "metadata": {},
   "outputs": [],
   "source": []
  }
 ],
 "metadata": {
  "kernelspec": {
   "display_name": "Python 3 (ipykernel)",
   "language": "python",
   "name": "python3"
  },
  "language_info": {
   "codemirror_mode": {
    "name": "ipython",
    "version": 3
   },
   "file_extension": ".py",
   "mimetype": "text/x-python",
   "name": "python",
   "nbconvert_exporter": "python",
   "pygments_lexer": "ipython3",
   "version": "3.8.12"
  }
 },
 "nbformat": 4,
 "nbformat_minor": 5
}
