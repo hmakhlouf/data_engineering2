{
 "cells": [
  {
   "cell_type": "code",
   "execution_count": 1,
   "id": "0e862baf-7909-4f79-a6c0-707c01adf996",
   "metadata": {},
   "outputs": [],
   "source": [
    "# Dict - Key and Value\n",
    "# Key should be unique, Value can be anything\n",
    "# {} to define dictionary or dict\n",
    "# mutable, we can add/remove/update items anytime\n",
    "# lookup\n",
    "countries = {\n",
    "    #key: value\n",
    "    \"IN\": \"India\",\n",
    "    \"USA\": \"United States of America\",\n",
    "    \"CA\": \"Canada\"\n",
    "}\n",
    "# Shift + Enter"
   ]
  },
  {
   "cell_type": "code",
   "execution_count": 2,
   "id": "9c9fa26e-e56d-447b-83c9-dd6d401095fe",
   "metadata": {},
   "outputs": [
    {
     "name": "stdout",
     "output_type": "stream",
     "text": [
      "United States of America\n"
     ]
    }
   ],
   "source": [
    "print(countries[\"USA\"])"
   ]
  },
  {
   "cell_type": "code",
   "execution_count": 3,
   "id": "833e5c29-b0ba-47eb-8e34-c7a8c305863c",
   "metadata": {},
   "outputs": [
    {
     "name": "stdout",
     "output_type": "stream",
     "text": [
      "India\n"
     ]
    }
   ],
   "source": [
    "code = countries[\"IN\"]\n",
    "print(code)"
   ]
  },
  {
   "cell_type": "code",
   "execution_count": 4,
   "id": "290641a3-f9d9-4de7-96e9-74c60e2d02b3",
   "metadata": {},
   "outputs": [
    {
     "name": "stdout",
     "output_type": "stream",
     "text": [
      "3\n"
     ]
    }
   ],
   "source": [
    "# length\n",
    "print (len(countries))"
   ]
  },
  {
   "cell_type": "code",
   "execution_count": 5,
   "id": "69715dc8-836d-4ec6-8464-83ab90626a8e",
   "metadata": {},
   "outputs": [
    {
     "name": "stdout",
     "output_type": "stream",
     "text": [
      "<class 'dict'>\n"
     ]
    }
   ],
   "source": [
    "# type\n",
    "print (type(countries))"
   ]
  },
  {
   "cell_type": "code",
   "execution_count": 6,
   "id": "0380f542-73d8-4a1c-bfb5-3f026b96db69",
   "metadata": {},
   "outputs": [
    {
     "name": "stdout",
     "output_type": "stream",
     "text": [
      "Canada\n"
     ]
    }
   ],
   "source": [
    "# get\n",
    "\n",
    "print (countries.get(\"CA\"))"
   ]
  },
  {
   "cell_type": "code",
   "execution_count": 7,
   "id": "6da5b70e-b05f-4d40-856c-582166c73d99",
   "metadata": {},
   "outputs": [
    {
     "data": {
      "text/plain": [
       "dict_keys(['IN', 'USA', 'CA'])"
      ]
     },
     "execution_count": 7,
     "metadata": {},
     "output_type": "execute_result"
    }
   ],
   "source": [
    "# to get all keys\n",
    "countries.keys()"
   ]
  },
  {
   "cell_type": "code",
   "execution_count": 8,
   "id": "8a48f567-6947-488b-ac52-09251e0f0d01",
   "metadata": {},
   "outputs": [
    {
     "data": {
      "text/plain": [
       "dict_items([('IN', 'India'), ('USA', 'United States of America'), ('CA', 'Canada')])"
      ]
     },
     "execution_count": 8,
     "metadata": {},
     "output_type": "execute_result"
    }
   ],
   "source": [
    "# items, get all items with key, value tuple\n",
    "countries.items()"
   ]
  },
  {
   "cell_type": "code",
   "execution_count": 9,
   "id": "9e2087ce-7b3b-49a0-ac0c-e238120a5bca",
   "metadata": {},
   "outputs": [
    {
     "name": "stdout",
     "output_type": "stream",
     "text": [
      "{'IN': 'India', 'USA': 'United States of America', 'CA': 'Canada', 'AU': 'Aus'}\n",
      "{'IN': 'India', 'USA': 'United States of America', 'CA': 'Canada', 'AU': 'Australia'}\n"
     ]
    }
   ],
   "source": [
    "# add new entry\n",
    "# modify existing data\n",
    "\n",
    "countries[\"AU\"] = \"Aus\" # add new entry\n",
    "print(countries)\n",
    "# modify the value\n",
    "countries[\"AU\"] = \"Australia\"\n",
    "print(countries)"
   ]
  },
  {
   "cell_type": "code",
   "execution_count": 10,
   "id": "79dfdde0-a8aa-4533-a975-78c0d9094ab0",
   "metadata": {},
   "outputs": [
    {
     "name": "stdout",
     "output_type": "stream",
     "text": [
      "dict_values(['India', 'United States of America', 'Canada', 'Australia'])\n"
     ]
    }
   ],
   "source": [
    "# get all values\n",
    "print(countries.values())"
   ]
  },
  {
   "cell_type": "code",
   "execution_count": 11,
   "id": "2d48ff72-3d03-48c6-85f2-3389d40e3f8c",
   "metadata": {},
   "outputs": [
    {
     "name": "stdout",
     "output_type": "stream",
     "text": [
      "{'IN': 'India', 'USA': 'United States of America', 'CA': 'Canada'}\n"
     ]
    }
   ],
   "source": [
    "# to remove item, popitem\n",
    "\n",
    "countries.pop(\"AU\")\n",
    "print(countries)"
   ]
  },
  {
   "cell_type": "code",
   "execution_count": 12,
   "id": "bf79011a-9ef7-478a-9b21-1f26203ca95f",
   "metadata": {},
   "outputs": [
    {
     "name": "stdout",
     "output_type": "stream",
     "text": [
      "{'IN': 'India', 'USA': 'United States of America'}\n"
     ]
    }
   ],
   "source": [
    "# to remove item using del keyword\n",
    "del countries['CA']\n",
    "\n",
    "print(countries)"
   ]
  },
  {
   "cell_type": "code",
   "execution_count": 13,
   "id": "467e7ce0-f1d2-4418-ad17-e09c06411f58",
   "metadata": {},
   "outputs": [
    {
     "name": "stdout",
     "output_type": "stream",
     "text": [
      "{}\n"
     ]
    }
   ],
   "source": [
    "# to remove all entries\n",
    "\n",
    "countries.clear()\n",
    "print(countries)"
   ]
  },
  {
   "cell_type": "code",
   "execution_count": null,
   "id": "94ca8455-9cc7-4729-a29d-1d79a238a300",
   "metadata": {},
   "outputs": [],
   "source": []
  }
 ],
 "metadata": {
  "kernelspec": {
   "display_name": "Python 3 (ipykernel)",
   "language": "python",
   "name": "python3"
  },
  "language_info": {
   "codemirror_mode": {
    "name": "ipython",
    "version": 3
   },
   "file_extension": ".py",
   "mimetype": "text/x-python",
   "name": "python",
   "nbconvert_exporter": "python",
   "pygments_lexer": "ipython3",
   "version": "3.8.12"
  }
 },
 "nbformat": 4,
 "nbformat_minor": 5
}
