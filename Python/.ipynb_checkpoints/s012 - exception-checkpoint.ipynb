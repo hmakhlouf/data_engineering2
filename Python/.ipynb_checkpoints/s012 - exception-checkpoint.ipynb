{
 "cells": [
  {
   "cell_type": "code",
   "execution_count": 1,
   "id": "a31b23bf-2601-4119-8b0a-fe2c887436e8",
   "metadata": {},
   "outputs": [
    {
     "ename": "ZeroDivisionError",
     "evalue": "division by zero",
     "output_type": "error",
     "traceback": [
      "\u001b[0;31m---------------------------------------------------------------------------\u001b[0m",
      "\u001b[0;31mZeroDivisionError\u001b[0m                         Traceback (most recent call last)",
      "Input \u001b[0;32mIn [1]\u001b[0m, in \u001b[0;36m<cell line: 6>\u001b[0;34m()\u001b[0m\n\u001b[1;32m      1\u001b[0m \u001b[38;5;66;03m# exception handling\u001b[39;00m\n\u001b[1;32m      2\u001b[0m \u001b[38;5;66;03m# exceptions are errors, that may cause your program to terminate abnormally\u001b[39;00m\n\u001b[1;32m      3\u001b[0m \n\u001b[1;32m      4\u001b[0m \u001b[38;5;66;03m# try, except, else and finally\u001b[39;00m\n\u001b[0;32m----> 6\u001b[0m \u001b[38;5;241;43m42\u001b[39;49m\u001b[43m \u001b[49m\u001b[38;5;241;43m/\u001b[39;49m\u001b[43m \u001b[49m\u001b[38;5;241;43m0\u001b[39;49m\n\u001b[1;32m      8\u001b[0m \u001b[38;5;28mprint\u001b[39m(\u001b[38;5;124m\"\u001b[39m\u001b[38;5;124mthis will not be shown\u001b[39m\u001b[38;5;124m\"\u001b[39m)\n",
      "\u001b[0;31mZeroDivisionError\u001b[0m: division by zero"
     ]
    }
   ],
   "source": [
    "# exception handling\n",
    "# exceptions are errors, that may cause your program to terminate abnormally\n",
    "\n",
    "# try, except, else and finally\n",
    "\n",
    "42 / 0\n",
    "\n",
    "print(\"this will not be shown\")"
   ]
  },
  {
   "cell_type": "code",
   "execution_count": 4,
   "id": "e968b079-4f6e-47a6-bb07-d00a80454b4a",
   "metadata": {},
   "outputs": [
    {
     "name": "stdout",
     "output_type": "stream",
     "text": [
      "There is exception, captured\n",
      "this will be shown\n"
     ]
    }
   ],
   "source": [
    "# exception handling, when error occured, we capture exception\n",
    "# either we handle it, supress it, rethrow it\n",
    "# except block capture exception\n",
    "\n",
    "try:\n",
    "    42 / 0\n",
    "    print(\"this will not be shown\")\n",
    "except:\n",
    "    print(\"There is exception, captured\")\n",
    "    \n",
    "print(\"this will be shown\")"
   ]
  },
  {
   "cell_type": "code",
   "execution_count": 11,
   "id": "8e174e9c-c7f6-4780-a237-abb025a99ec4",
   "metadata": {},
   "outputs": [
    {
     "name": "stdout",
     "output_type": "stream",
     "text": [
      "this will not be shown 21.0\n",
      "this will be shown\n"
     ]
    }
   ],
   "source": [
    "try:\n",
    "    n = 42 / 2\n",
    "    print(\"this will not be shown\", n) # no exception than exception woun't be called \n",
    "except:\n",
    "    print(\"There is exception, captured\")\n",
    "    \n",
    "print(\"this will be shown\")"
   ]
  },
  {
   "cell_type": "code",
   "execution_count": 13,
   "id": "47dde629-fa61-42a3-bbda-8eeafc481790",
   "metadata": {},
   "outputs": [
    {
     "name": "stdout",
     "output_type": "stream",
     "text": [
      "You cannot divide number by 0\n"
     ]
    }
   ],
   "source": [
    "# handle specific exception\n",
    "\n",
    "try:\n",
    "    #42 / x # raise NameError since x is not defined earlier\n",
    "    42 / 0 # raise ZeroDivisionError \n",
    "except ZeroDivisionError:\n",
    "    print(\"You cannot divide number by 0\")\n",
    "except NameError:\n",
    "    print (\"Looks like you haven't defined variable\")"
   ]
  },
  {
   "cell_type": "code",
   "execution_count": 14,
   "id": "62771d77-32e2-4ded-b6f2-bed784fbd8de",
   "metadata": {},
   "outputs": [
    {
     "ename": "ValueError",
     "evalue": "invalid literal for int() with base 10: 'enter a'",
     "output_type": "error",
     "traceback": [
      "\u001b[0;31m---------------------------------------------------------------------------\u001b[0m",
      "\u001b[0;31mValueError\u001b[0m                                Traceback (most recent call last)",
      "Input \u001b[0;32mIn [14]\u001b[0m, in \u001b[0;36m<cell line: 1>\u001b[0;34m()\u001b[0m\n\u001b[0;32m----> 1\u001b[0m a\u001b[38;5;241m=\u001b[39m\u001b[38;5;28minput\u001b[39m(\u001b[38;5;28;43mint\u001b[39;49m\u001b[43m(\u001b[49m\u001b[38;5;124;43m\"\u001b[39;49m\u001b[38;5;124;43menter a\u001b[39;49m\u001b[38;5;124;43m\"\u001b[39;49m\u001b[43m)\u001b[49m)\n\u001b[1;32m      2\u001b[0m b\u001b[38;5;241m=\u001b[39m\u001b[38;5;28minput\u001b[39m(\u001b[38;5;28mint\u001b[39m(\u001b[38;5;124m\"\u001b[39m\u001b[38;5;124menter b\u001b[39m\u001b[38;5;124m\"\u001b[39m))\n\u001b[1;32m      3\u001b[0m \u001b[38;5;28;01mtry\u001b[39;00m:\n",
      "\u001b[0;31mValueError\u001b[0m: invalid literal for int() with base 10: 'enter a'"
     ]
    }
   ],
   "source": [
    "# check this one \n",
    "\n",
    "a=input(int(\"enter a\"))\n",
    "b=input(int(\"enter b\"))\n",
    "try:\n",
    "    n=float(a / b)\n",
    "    print(\"n is\",n)\n",
    "    \n",
    "except ZeroDivisionError:\n",
    "    print(\"deno is zero\")\n",
    "    \n",
    "finally:\n",
    "    print(\"done\")\n"
   ]
  },
  {
   "cell_type": "code",
   "execution_count": 18,
   "id": "3f7d8b5f-88cb-4f1b-83c0-fb0adb3ae208",
   "metadata": {},
   "outputs": [
    {
     "name": "stdout",
     "output_type": "stream",
     "text": [
      "at finally , cleanup\n"
     ]
    }
   ],
   "source": [
    "# finally is a block will be called on error and  no error scenario\n",
    "# finally to close /release resources\n",
    "\n",
    "try:\n",
    "    #42 / 0 # except shall be called, finally will be called\n",
    "    42 / 2 # no exception, finally will be called\n",
    "except:\n",
    "    print('exception caused')\n",
    "finally:\n",
    "    print('at finally , cleanup')  # finally will always be called "
   ]
  },
  {
   "cell_type": "code",
   "execution_count": null,
   "id": "52a5127f-c157-44cb-a2de-8f75374e8767",
   "metadata": {},
   "outputs": [],
   "source": []
  }
 ],
 "metadata": {
  "kernelspec": {
   "display_name": "Python 3 (ipykernel)",
   "language": "python",
   "name": "python3"
  },
  "language_info": {
   "codemirror_mode": {
    "name": "ipython",
    "version": 3
   },
   "file_extension": ".py",
   "mimetype": "text/x-python",
   "name": "python",
   "nbconvert_exporter": "python",
   "pygments_lexer": "ipython3",
   "version": "3.8.12"
  }
 },
 "nbformat": 4,
 "nbformat_minor": 5
}
