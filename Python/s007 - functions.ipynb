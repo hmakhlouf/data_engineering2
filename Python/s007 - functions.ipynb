{
 "cells": [
  {
   "cell_type": "code",
   "execution_count": 2,
   "id": "469f489a-19d7-4971-b697-566eed63e101",
   "metadata": {},
   "outputs": [
    {
     "name": "stdout",
     "output_type": "stream",
     "text": [
      "good morning\n",
      "happy learning\n",
      "good morning\n",
      "happy learning\n"
     ]
    }
   ],
   "source": [
    "# function a reusable code\n",
    "\n",
    "def greetings():\n",
    "    #function body \n",
    "    print(\"good morning\")\n",
    "    print(\"happy learning\")\n",
    "\n",
    "# calling function, so functiom shall be executed \n",
    "greetings()\n",
    "\n",
    "# call the function second time \n",
    "greetings()\n"
   ]
  },
  {
   "cell_type": "code",
   "execution_count": 3,
   "id": "0262ebb1-baab-401c-80f6-c7c0ee1e5f3a",
   "metadata": {},
   "outputs": [
    {
     "name": "stdout",
     "output_type": "stream",
     "text": [
      "hello jane !!\n",
      "good morning jane\n",
      "hello joe !!\n",
      "good morning joe\n"
     ]
    }
   ],
   "source": [
    "# define a function, that accept 1 parameter \n",
    "\n",
    "def  greet(name):\n",
    "    print(\"hello\", name, \"!!\")\n",
    "    print (\"good morning\", name)\n",
    "\n",
    "greet(\"jane\")\n",
    "greet(\"joe\")\n"
   ]
  },
  {
   "cell_type": "code",
   "execution_count": 8,
   "id": "2bc2f130-7cb9-45dd-a59a-8cca873db292",
   "metadata": {},
   "outputs": [
    {
     "name": "stdout",
     "output_type": "stream",
     "text": [
      "30\n"
     ]
    }
   ],
   "source": [
    "#a function that accept 2 parameters, retun 1 result\n",
    "\n",
    "def add(a, b):\n",
    "    return a + b\n",
    "    \n",
    "result = add(10, 20)\n",
    "print(result)\n",
    "    "
   ]
  },
  {
   "cell_type": "code",
   "execution_count": 9,
   "id": "ae62c21a-e8d6-4b99-bf59-5eb2d5bc4fbf",
   "metadata": {},
   "outputs": [
    {
     "name": "stdout",
     "output_type": "stream",
     "text": [
      "type <class 'tuple'>\n",
      "numbers ()\n",
      "0\n",
      "type <class 'tuple'>\n",
      "numbers (10,)\n",
      "10\n",
      "type <class 'tuple'>\n",
      "numbers (10, 20, 30, 40, 50)\n",
      "150\n"
     ]
    }
   ],
   "source": [
    "# variable number of arguments \n",
    "## the parameters can 0, 1, or many\n",
    "# using *\n",
    "# sum of numbers\n",
    "\n",
    "\n",
    "def sum(*numbers):\n",
    "    print(\"type\", type(numbers))\n",
    "    print(\"numbers\", numbers)\n",
    "    s = 0\n",
    "    for n in numbers:\n",
    "        s +=n \n",
    "    return s \n",
    "    \n",
    "print(sum()) # no params, result 0\n",
    "print(sum(10)) #  1 param, result = 10\n",
    "print(sum(10,20,30,40,50))"
   ]
  },
  {
   "cell_type": "code",
   "execution_count": 12,
   "id": "18673af0-e4dd-4956-b24d-fe704b5be61e",
   "metadata": {},
   "outputs": [
    {
     "name": "stdout",
     "output_type": "stream",
     "text": [
      "symbol MSFT qty 100 price 150\n",
      "symbol FB qty 20 price 50\n",
      "symbol FB qty 50 price 200\n"
     ]
    }
   ],
   "source": [
    "# keyword based arguments \n",
    "\n",
    "def placeOrder(symbol, qty, price):\n",
    "    print(\"symbol\", symbol, \"qty\", qty, \"price\", price)\n",
    "    #typically arguments are passed from left to right\n",
    "    \n",
    "placeOrder(\"MSFT\", 100, 150)\n",
    "\n",
    "# keyword arguments, use parameter name\n",
    "placeOrder(price = 50, qty = 20, symbol = 'FB')\n",
    "\n",
    "placeOrder( symbol = \"FB\", qty = 50, price = 200)\n"
   ]
  },
  {
   "cell_type": "code",
   "execution_count": null,
   "id": "37d0eca7-b04a-4af2-b20a-6db397634006",
   "metadata": {},
   "outputs": [],
   "source": []
  },
  {
   "cell_type": "code",
   "execution_count": 15,
   "id": "cfd9d11e-f466-41e4-9ff5-2319a541068e",
   "metadata": {},
   "outputs": [
    {
     "name": "stdout",
     "output_type": "stream",
     "text": [
      "type <class 'dict'>\n",
      "arguments {'age': 5}\n",
      "type <class 'dict'>\n",
      "arguments {'age': 5, 'gender': 'female', 'state': 'co'}\n",
      "type <class 'dict'>\n",
      "arguments {}\n"
     ]
    }
   ],
   "source": [
    "# dynamic keyword based arguments \n",
    "# **\n",
    "\n",
    "def show(** arguments):\n",
    "    print(\"type\", type(arguments))\n",
    "    print(\"arguments\", arguments)\n",
    "    \n",
    "show(age=5)\n",
    "show(age=5, gender=\"female\", state=\"co\")\n",
    "show()"
   ]
  },
  {
   "cell_type": "code",
   "execution_count": 17,
   "id": "5601700e-f621-4ffc-8497-337fe0279014",
   "metadata": {},
   "outputs": [
    {
     "name": "stdout",
     "output_type": "stream",
     "text": [
      "a 0 b 0\n",
      "0\n",
      "a 10 b 0\n",
      "10\n",
      "a 10 b 20\n",
      "30\n",
      "a 10 b 20\n",
      "30\n"
     ]
    }
   ],
   "source": [
    "# default values for parameters \n",
    "def add(a = 0, b = 0):\n",
    "    print(\"a\", a, \"b\", b)\n",
    "    return a +b\n",
    "print(add()) # a = 0, b = 0 \n",
    "print( add(10)) # a = 10, b = 0 \n",
    "print(add(10,20)) # a = 10, b = 20\n",
    "\n",
    "print(add(b = 20, a = 10)) # a =10, b = 20"
   ]
  },
  {
   "cell_type": "code",
   "execution_count": null,
   "id": "d4429c82-6073-4a4f-9eae-6b3d07da5bbc",
   "metadata": {},
   "outputs": [],
   "source": []
  }
 ],
 "metadata": {
  "kernelspec": {
   "display_name": "Python 3 (ipykernel)",
   "language": "python",
   "name": "python3"
  },
  "language_info": {
   "codemirror_mode": {
    "name": "ipython",
    "version": 3
   },
   "file_extension": ".py",
   "mimetype": "text/x-python",
   "name": "python",
   "nbconvert_exporter": "python",
   "pygments_lexer": "ipython3",
   "version": "3.8.12"
  }
 },
 "nbformat": 4,
 "nbformat_minor": 5
}
