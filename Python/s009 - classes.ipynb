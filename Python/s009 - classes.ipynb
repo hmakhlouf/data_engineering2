{
 "cells": [
  {
   "cell_type": "code",
   "execution_count": 5,
   "id": "c72432e2-2ef3-448a-b4ac-e05afb683e6d",
   "metadata": {},
   "outputs": [],
   "source": [
    "# # what is class \n",
    "# class will have methods, attribues \n",
    "\n",
    "\n",
    "class Product:\n",
    "    #attributes\n",
    "    price = 100.0\n",
    "    discount = 0\n",
    "    grandTotal = 0\n",
    "    # self always first argument, represent instance of the class\n",
    "    # in c++/jva/c# self is known as \"this\"\n",
    "    #method\n",
    "    def applyDiscount(self, p):\n",
    "        self.discount = self.price * p / 100.0 \n",
    "        self.grandTotal = self.price - self.discount\n",
    "        \n",
    "        \n",
    "    "
   ]
  },
  {
   "cell_type": "code",
   "execution_count": 6,
   "id": "9e6858fa-c6d3-438b-a337-b940015fff23",
   "metadata": {},
   "outputs": [
    {
     "name": "stdout",
     "output_type": "stream",
     "text": [
      "before 100.0 0 0\n",
      "after 10% 100.0 10.0 90.0\n",
      "after 50 % 100.0 50.0 50.0\n"
     ]
    }
   ],
   "source": [
    "# create instance for product\n",
    "\n",
    "product1 = Product() # similar to c++/java/c# new Product()\n",
    "\n",
    "print(\"before\", product1.price, product1.discount, product1.grandTotal)\n",
    "# product1 is passed as self, the first arg \n",
    "\n",
    "product1.applyDiscount(10)\n",
    "print(\"after 10%\", product1.price, product1.discount, product1.grandTotal)\n",
    "\n",
    "product1.applyDiscount(50)\n",
    "print(\"after 50 %\", product1.price, product1.discount, product1.grandTotal)"
   ]
  },
  {
   "cell_type": "code",
   "execution_count": 12,
   "id": "2275609b-fcb8-46dd-979b-35aa57430281",
   "metadata": {},
   "outputs": [],
   "source": [
    "class Product:\n",
    "    #attributes\n",
    "    price = 0.0\n",
    "    discount = 0\n",
    "    grandTotal = 0\n",
    "    # self always first argument, represent instance of the class\n",
    "    # in c++/jva/c# self is known as \"this\"\n",
    "    #method\n",
    "    def  __init__(self, price, discount = 0 ):\n",
    "        print(\"init called\", price, discount)\n",
    "        self.prince = price\n",
    "        self.discount = discount \n",
    "\n",
    "    def applyDiscount(self, p):\n",
    "        self.dicount = self.price*p/100\n",
    "        self.grandTotal = self.price - self.discount\n",
    "        \n",
    "        \n",
    "        "
   ]
  },
  {
   "cell_type": "code",
   "execution_count": 14,
   "id": "c2378d22-c155-48bc-a73b-750d1216984f",
   "metadata": {},
   "outputs": [
    {
     "name": "stdout",
     "output_type": "stream",
     "text": [
      "init called 100 10\n",
      "0.0 10\n",
      "init called 200 20\n",
      "0.0 20\n",
      "<__main__.Product object at 0x7f1e782ede50>\n"
     ]
    }
   ],
   "source": [
    "# let us initialize the value while creating product\n",
    "\n",
    "product1 = Product(100, 10) # this calls __init__ fucntion\n",
    "print(product1.price, product1.discount)\n",
    "\n",
    "\n",
    "product2 = Product(200,20)\n",
    "print(product2.price, product2.discount)\n",
    "\n",
    "print(product1) # print momory address\n"
   ]
  },
  {
   "cell_type": "code",
   "execution_count": null,
   "id": "4e245000-44ee-4564-8072-65440a831b05",
   "metadata": {},
   "outputs": [],
   "source": [
    "\n",
    "        "
   ]
  },
  {
   "cell_type": "code",
   "execution_count": 15,
   "id": "0b1267c8-da6d-4190-9338-0d52a496fc9a",
   "metadata": {},
   "outputs": [],
   "source": [
    "class Product:\n",
    "    #attributes\n",
    "    price = 0.0\n",
    "    discount = 0\n",
    "    grandTotal = 0\n",
    "    # self always first argument, represent instance of the class\n",
    "    # in c++/jva/c# self is known as \"this\"\n",
    "    #method\n",
    "    def  __init__(self, price, discount = 0 ):\n",
    "        print(\"init called\", price, discount)\n",
    "        self.prince = price\n",
    "        self.discount = discount \n",
    "    # called when printing object\n",
    "    #print shall call __str__\n",
    "    def __str__(self):\n",
    "        return\"product(\" + str(self.price) + \",\"+ str (self.discount) + \")\"\n",
    "\n",
    "    def applyDiscount(self, p):\n",
    "        self.dicount = self.price*p/100.0 \n",
    "        self.grandTotal = self.price - self.discount\n",
    "        \n",
    "        \n",
    "        "
   ]
  },
  {
   "cell_type": "code",
   "execution_count": 17,
   "id": "feb09894-8b2d-4637-ac19-9534469cf8f2",
   "metadata": {},
   "outputs": [
    {
     "name": "stdout",
     "output_type": "stream",
     "text": [
      "init called 100 10\n",
      "<__main__.Product object at 0x7f1e782ede50>\n"
     ]
    }
   ],
   "source": [
    "product = Product(100, 10)\n",
    "print(product1) # initially calls __str__ and print the return value"
   ]
  },
  {
   "cell_type": "code",
   "execution_count": 18,
   "id": "f8cf3d21-cce2-401a-99ba-3e1fc149a884",
   "metadata": {},
   "outputs": [],
   "source": [
    "\n",
    "# DIY\n",
    "\n",
    "# create a class called brand, which has two attributes, brand_id and brand_name\n",
    "\n",
    "# initialize them with __init__\n",
    "#implement __str__\n",
    "# print results\n",
    "# b1 = brnad(1, 'Apple\")\n",
    "# print (b1) to print brand (1,apple) "
   ]
  },
  {
   "cell_type": "code",
   "execution_count": null,
   "id": "bf43995e-9a67-478b-8b73-74a953938639",
   "metadata": {},
   "outputs": [],
   "source": [
    "class Brand:\n",
    "    def __init__(self, brand_id, brand_name):\n",
    "        print(\"__init__ called\")\n",
    "        self.brand_id"
   ]
  }
 ],
 "metadata": {
  "kernelspec": {
   "display_name": "Python 3 (ipykernel)",
   "language": "python",
   "name": "python3"
  },
  "language_info": {
   "codemirror_mode": {
    "name": "ipython",
    "version": 3
   },
   "file_extension": ".py",
   "mimetype": "text/x-python",
   "name": "python",
   "nbconvert_exporter": "python",
   "pygments_lexer": "ipython3",
   "version": "3.8.12"
  }
 },
 "nbformat": 4,
 "nbformat_minor": 5
}
