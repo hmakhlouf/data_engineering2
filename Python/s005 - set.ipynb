{
 "cells": [
  {
   "cell_type": "code",
   "execution_count": 1,
   "id": "cf2835d3-b946-4068-a66a-a23c3fd46e9e",
   "metadata": {},
   "outputs": [
    {
     "name": "stdout",
     "output_type": "stream",
     "text": [
      "{'FB', 'TSLA', 'AAPL', 'MSFT'}\n"
     ]
    }
   ],
   "source": [
    "# set is a collection\n",
    "# unordered - doesn't preserve insert order\n",
    "# unindexed - we cann't access by index number like [0], 1 ,2..\n",
    "# { } to represent set\n",
    "# immutable, unchangable\n",
    "# duplicates not allowed\n",
    "stocks = {\"MSFT\", \"TSLA\", \"AAPL\", \"FB\", 'TSLA', 'FB'}\n",
    "\n",
    "print(stocks)"
   ]
  },
  {
   "cell_type": "code",
   "execution_count": 2,
   "id": "a8975a0c-fb3d-44a3-b645-b0700a860d1c",
   "metadata": {},
   "outputs": [
    {
     "name": "stdout",
     "output_type": "stream",
     "text": [
      "4\n"
     ]
    }
   ],
   "source": [
    "print(len(stocks))"
   ]
  },
  {
   "cell_type": "code",
   "execution_count": 3,
   "id": "58e888c0-90c9-4d12-ad71-06fc2f06230f",
   "metadata": {},
   "outputs": [
    {
     "name": "stdout",
     "output_type": "stream",
     "text": [
      "True\n"
     ]
    }
   ],
   "source": [
    "\n",
    "hasFB = 'FB' in stocks\n",
    "\n",
    "print(hasFB)"
   ]
  },
  {
   "cell_type": "code",
   "execution_count": 4,
   "id": "ea83d83e-3e51-494b-9a30-3f68ef0c3a70",
   "metadata": {},
   "outputs": [
    {
     "name": "stdout",
     "output_type": "stream",
     "text": [
      "False\n"
     ]
    }
   ],
   "source": [
    "print ( 'EMR' in stocks )"
   ]
  },
  {
   "cell_type": "code",
   "execution_count": null,
   "id": "5d8bc400-af0f-4a3f-90e0-56021a5e11d6",
   "metadata": {},
   "outputs": [],
   "source": []
  }
 ],
 "metadata": {
  "kernelspec": {
   "display_name": "Python 3 (ipykernel)",
   "language": "python",
   "name": "python3"
  },
  "language_info": {
   "codemirror_mode": {
    "name": "ipython",
    "version": 3
   },
   "file_extension": ".py",
   "mimetype": "text/x-python",
   "name": "python",
   "nbconvert_exporter": "python",
   "pygments_lexer": "ipython3",
   "version": "3.8.12"
  }
 },
 "nbformat": 4,
 "nbformat_minor": 5
}
