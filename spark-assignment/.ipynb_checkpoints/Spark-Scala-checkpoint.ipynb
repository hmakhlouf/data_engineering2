{
 "cells": [
  {
   "cell_type": "code",
   "execution_count": 1,
   "metadata": {},
   "outputs": [
    {
     "data": {
      "text/plain": [
       "Intitializing Scala interpreter ..."
      ]
     },
     "metadata": {},
     "output_type": "display_data"
    },
    {
     "data": {
      "text/plain": [
       "Spark Web UI available at http://10.0.0.164:4040\n",
       "SparkContext available as 'sc' (version = 3.2.1, master = local[*], app id = local-1652674308366)\n",
       "SparkSession available as 'spark'\n"
      ]
     },
     "metadata": {},
     "output_type": "display_data"
    },
    {
     "data": {
      "text/plain": [
       "<console>:24: warning: a pure expression does nothing in statement position; multiline expressions may require enclosing parentheses\n",
       "       spark // spark session\n",
       "       ^\n",
       "logs: org.apache.spark.rdd.RDD[String] = hdfs://localhost:9000/logs MapPartitionsRDD[1] at textFile at <console>:25\n"
      ]
     },
     "execution_count": 1,
     "metadata": {},
     "output_type": "execute_result"
    }
   ],
   "source": [
    "spark // spark session\n",
    "val logs = sc.textFile(\"hdfs://localhost:9000/logs\")\n"
   ]
  },
  {
   "cell_type": "code",
   "execution_count": 2,
   "metadata": {},
   "outputs": [
    {
     "data": {
      "text/plain": [
       "res0: Long = 10000\n"
      ]
     },
     "execution_count": 2,
     "metadata": {},
     "output_type": "execute_result"
    }
   ],
   "source": [
    "logs.count()"
   ]
  },
  {
   "cell_type": "code",
   "execution_count": 3,
   "metadata": {},
   "outputs": [
    {
     "data": {
      "text/plain": [
       "res1: Array[String] = Array(83.149.9.216 - - [17/May/2015:10:05:03 +0000] \"GET /presentations/logstash-monitorama-2013/images/kibana-search.png HTTP/1.1\" 200 203023 \"http://semicomplete.com/presentations/logstash-monitorama-2013/\" \"Mozilla/5.0 (Macintosh; Intel Mac OS X 10_9_1) AppleWebKit/537.36 (KHTML, like Gecko) Chrome/32.0.1700.77 Safari/537.36\", 83.149.9.216 - - [17/May/2015:10:05:43 +0000] \"GET /presentations/logstash-monitorama-2013/images/kibana-dashboard3.png HTTP/1.1\" 200 171717 \"http://semicomplete.com/presentations/logstash-monitorama-2013/\" \"Mozilla/5.0 (Macintosh; Intel Mac OS X 10_9_1) AppleWebKit/537.36 (KHTML, like Gecko) Chrome/32.0.1700.77 Safari/537.36\", 83.149.9.216 - - [17/May/2015:10:05:47 +0000] \"GET /presentations/logstash-monitorama-2013/plugin/highlight/highl...\n"
      ]
     },
     "execution_count": 3,
     "metadata": {},
     "output_type": "execute_result"
    }
   ],
   "source": [
    "logs.take(5)"
   ]
  },
  {
   "cell_type": "code",
   "execution_count": 4,
   "metadata": {},
   "outputs": [
    {
     "data": {
      "text/plain": [
       "log: org.apache.spark.rdd.RDD[String] = MapPartitionsRDD[2] at map at <console>:24\n",
       "logSplit: org.apache.spark.rdd.RDD[Array[String]] = MapPartitionsRDD[3] at map at <console>:26\n",
       "res2: Array[Array[String]] = Array(Array(83.149.9.216, -, -, [17/may/2015:10:05:03, +0000], \"get, /presentations/logstash-monitorama-2013/images/kibana-search.png, http/1.1\", 200, 203023, \"http://semicomplete.com/presentations/logstash-monitorama-2013/\", \"mozilla/5.0, (macintosh;, intel, mac, os, x, 10_9_1), applewebkit/537.36, (khtml,, like, gecko), chrome/32.0.1700.77, safari/537.36\"), Array(83.149.9.216, -, -, [17/may/2015:10:05:43, +0000], \"get, /presentations/logstash-monitorama-2013/images/kibana-dashboard3.png, http/1.1\", 200, 171717, \"http://semicomplete.com/presentations/logstash-monitorama-2013/\", \"moz...\n"
      ]
     },
     "execution_count": 4,
     "metadata": {},
     "output_type": "execute_result"
    }
   ],
   "source": [
    "val log = logs.map (line => line.trim().toLowerCase())\n",
    "\n",
    "val logSplit = log.map(line => line.split(\" \"))\n",
    "logSplit.take(20)"
   ]
  },
  {
   "cell_type": "code",
   "execution_count": 5,
   "metadata": {},
   "outputs": [
    {
     "data": {
      "text/plain": [
       "logRdd: org.apache.spark.rdd.RDD[String] = MapPartitionsRDD[4] at flatMap at <console>:24\n",
       "res3: Array[String] = Array(83.149.9.216, -, -, [17/may/2015:10:05:03, +0000], \"get, /presentations/logstash-monitorama-2013/images/kibana-search.png, http/1.1\", 200, 203023, \"http://semicomplete.com/presentations/logstash-monitorama-2013/\", \"mozilla/5.0, (macintosh;, intel, mac, os, x, 10_9_1), applewebkit/537.36, (khtml,, like, gecko), chrome/32.0.1700.77, safari/537.36\", 83.149.9.216, -, -, [17/may/2015:10:05:43, +0000], \"get, /presentations/logstash-monitorama-2013/images/kibana-dashboard3.png, http/1.1\", 200, 171717, \"http://semicomplete.com/presentations/logstash-monitorama-2013/\", \"mozilla/5.0, (macintosh;, intel, mac, os, x, 10_9_1), applewebkit/537.36, (khtml,, like, gecko), chrome/32.0.17...\n"
      ]
     },
     "execution_count": 5,
     "metadata": {},
     "output_type": "execute_result"
    }
   ],
   "source": [
    "val logRdd = logSplit .flatMap(arr => arr)\n",
    "logRdd.collect()"
   ]
  },
  {
   "cell_type": "code",
   "execution_count": null,
   "metadata": {},
   "outputs": [],
   "source": []
  },
  {
   "cell_type": "code",
   "execution_count": 7,
   "metadata": {},
   "outputs": [
    {
     "data": {
      "text/plain": [
       "countGet: org.apache.spark.rdd.RDD[String] = MapPartitionsRDD[5] at filter at <console>:25\n",
       "res5: Long = 9990\n"
      ]
     },
     "execution_count": 7,
     "metadata": {},
     "output_type": "execute_result"
    }
   ],
   "source": [
    "// count of get \n",
    "val countGet= logRdd.filter (line => line.contains (\"get\"))\n",
    "countGet.count()"
   ]
  },
  {
   "cell_type": "code",
   "execution_count": 8,
   "metadata": {},
   "outputs": [
    {
     "data": {
      "text/plain": [
       "countPost: org.apache.spark.rdd.RDD[String] = MapPartitionsRDD[6] at filter at <console>:26\n",
       "res6: Long = 79\n"
      ]
     },
     "execution_count": 8,
     "metadata": {},
     "output_type": "execute_result"
    }
   ],
   "source": [
    "// count of post\n",
    "\n",
    "val countPost= logRdd.filter (line => line.contains (\"post\"))\n",
    "\n",
    "countPost.count()"
   ]
  },
  {
   "cell_type": "code",
   "execution_count": 9,
   "metadata": {},
   "outputs": [
    {
     "data": {
      "text/plain": [
       "count404: org.apache.spark.rdd.RDD[String] = MapPartitionsRDD[7] at filter at <console>:26\n",
       "res7: Long = 216\n"
      ]
     },
     "execution_count": 9,
     "metadata": {},
     "output_type": "execute_result"
    }
   ],
   "source": [
    "// count of 404 error \n",
    "\n",
    "val count404 = logRdd.filter (line => line.contains (\"404\"))\n",
    "\n",
    "count404.count()"
   ]
  },
  {
   "cell_type": "code",
   "execution_count": 10,
   "metadata": {},
   "outputs": [
    {
     "data": {
      "text/plain": [
       "count200: org.apache.spark.rdd.RDD[String] = MapPartitionsRDD[8] at filter at <console>:26\n",
       "res8: Long = 10040\n"
      ]
     },
     "execution_count": 10,
     "metadata": {},
     "output_type": "execute_result"
    }
   ],
   "source": [
    "//count of 200 respose\n",
    "\n",
    "val count200 = logRdd.filter (line => line.contains (\"200\"))\n",
    "\n",
    "count200.count()"
   ]
  },
  {
   "cell_type": "code",
   "execution_count": null,
   "metadata": {},
   "outputs": [],
   "source": []
  },
  {
   "cell_type": "code",
   "execution_count": null,
   "metadata": {},
   "outputs": [],
   "source": []
  },
  {
   "cell_type": "code",
   "execution_count": null,
   "metadata": {},
   "outputs": [],
   "source": []
  }
 ],
 "metadata": {
  "kernelspec": {
   "display_name": "spylon-kernel",
   "language": "scala",
   "name": "spylon-kernel"
  },
  "language_info": {
   "codemirror_mode": "text/x-scala",
   "file_extension": ".scala",
   "help_links": [
    {
     "text": "MetaKernel Magics",
     "url": "https://metakernel.readthedocs.io/en/latest/source/README.html"
    }
   ],
   "mimetype": "text/x-scala",
   "name": "scala",
   "pygments_lexer": "scala",
   "version": "0.4.1"
  }
 },
 "nbformat": 4,
 "nbformat_minor": 5
}
