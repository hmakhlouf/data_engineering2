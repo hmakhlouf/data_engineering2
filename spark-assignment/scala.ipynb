{
 "cells": [
  {
   "cell_type": "code",
   "execution_count": null,
   "id": "3f84959f-5330-40c6-aa8f-43d2e618d438",
   "metadata": {},
   "outputs": [],
   "source": [
    "spark // spark session\n",
    "val logs = sc.textFile(\"hdfs://localhost:9000/spark_assignment/apache_logs\")\n",
    "logs.count()"
   ]
  },
  {
   "cell_type": "code",
   "execution_count": null,
   "id": "ad8910f6-89a1-46b8-af4e-e861bf9e06ed",
   "metadata": {},
   "outputs": [],
   "source": []
  },
  {
   "cell_type": "code",
   "execution_count": null,
   "id": "37e10424-3dce-4564-a69b-73d1ff048f95",
   "metadata": {},
   "outputs": [],
   "source": [
    "logs.take(5)"
   ]
  },
  {
   "cell_type": "code",
   "execution_count": null,
   "id": "a0b2487c-4be3-4766-ab51-509a6ae18e87",
   "metadata": {},
   "outputs": [],
   "source": [
    "// case class\n"
   ]
  }
 ],
 "metadata": {
  "kernelspec": {
   "display_name": "spylon-kernel",
   "language": "scala",
   "name": "spylon-kernel"
  },
  "language_info": {
   "codemirror_mode": "text/x-scala",
   "file_extension": ".scala",
   "help_links": [
    {
     "text": "MetaKernel Magics",
     "url": "https://metakernel.readthedocs.io/en/latest/source/README.html"
    }
   ],
   "mimetype": "text/x-scala",
   "name": "scala",
   "pygments_lexer": "scala",
   "version": "0.4.1"
  }
 },
 "nbformat": 4,
 "nbformat_minor": 5
}
